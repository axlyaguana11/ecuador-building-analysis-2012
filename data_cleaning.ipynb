{
 "cells": [
  {
   "cell_type": "markdown",
   "source": "# Data understanding and data cleaning",
   "metadata": {
    "tags": [],
    "is_collapsed": false,
    "cell_id": "00000-f7e60881-eee1-4347-8a2a-1604f3724648",
    "deepnote_cell_type": "text-cell-h1"
   }
  },
  {
   "cell_type": "markdown",
   "source": "In this section I'll focus on understanding the data and dropping non-relevant columns. The goal is to have a dataset as clean as possible to perform a better analysis later.",
   "metadata": {
    "tags": [],
    "cell_id": "00001-29c4abe3-ed1b-4f85-9ca0-c05e4af20fe0",
    "deepnote_cell_type": "markdown"
   }
  },
  {
   "cell_type": "markdown",
   "source": "## Data collection and data cleaning",
   "metadata": {
    "tags": [],
    "is_collapsed": false,
    "cell_id": "00003-cb1d3aee-8620-4f85-abcc-81830a946a5f",
    "deepnote_cell_type": "text-cell-h2"
   }
  },
  {
   "cell_type": "markdown",
   "source": "Data was collected from public data provided by the Ecuadorian Government.\n\n* Estadísticas de edificaciones: http://catalogo.datosabiertos.gob.ec/dataset/esta\n",
   "metadata": {
    "tags": [],
    "cell_id": "00004-25fbb9c3-4bcd-45ec-a748-2b74d1bd2366",
    "deepnote_cell_type": "markdown"
   }
  },
  {
   "cell_type": "code",
   "metadata": {
    "tags": [],
    "cell_id": "00005-fb488ac4-5e7b-4a6e-bf6f-257089e342eb",
    "deepnote_to_be_reexecuted": false,
    "source_hash": "bfc0ddb6",
    "execution_start": 1630466404767,
    "execution_millis": 23,
    "deepnote_cell_type": "code"
   },
   "source": "import pandas as pd\nimport seaborn as sns\nimport matplotlib.pyplot as plt",
   "execution_count": null,
   "outputs": [
    {
     "output_type": "error",
     "ename": "AttributeError",
     "evalue": "module 'matplotlib' has no attribute 'get_data_path'",
     "traceback": [
      "\u001b[0;31m---------------------------------------------------------------------------\u001b[0m",
      "\u001b[0;31mAttributeError\u001b[0m                            Traceback (most recent call last)",
      "\u001b[0;32m/tmp/ipykernel_73/3632437423.py\u001b[0m in \u001b[0;36m<module>\u001b[0;34m\u001b[0m\n\u001b[1;32m      1\u001b[0m \u001b[0;32mimport\u001b[0m \u001b[0mpandas\u001b[0m \u001b[0;32mas\u001b[0m \u001b[0mpd\u001b[0m\u001b[0;34m\u001b[0m\u001b[0;34m\u001b[0m\u001b[0m\n\u001b[0;32m----> 2\u001b[0;31m \u001b[0;32mimport\u001b[0m \u001b[0mseaborn\u001b[0m \u001b[0;32mas\u001b[0m \u001b[0msns\u001b[0m\u001b[0;34m\u001b[0m\u001b[0;34m\u001b[0m\u001b[0m\n\u001b[0m\u001b[1;32m      3\u001b[0m \u001b[0;32mimport\u001b[0m \u001b[0mmatplotlib\u001b[0m\u001b[0;34m.\u001b[0m\u001b[0mpyplot\u001b[0m \u001b[0;32mas\u001b[0m \u001b[0mplt\u001b[0m\u001b[0;34m\u001b[0m\u001b[0;34m\u001b[0m\u001b[0m\n",
      "\u001b[0;32m/shared-libs/python3.7/py/lib/python3.7/site-packages/seaborn/__init__.py\u001b[0m in \u001b[0;36m<module>\u001b[0;34m\u001b[0m\n\u001b[1;32m      1\u001b[0m \u001b[0;31m# Import seaborn objects\u001b[0m\u001b[0;34m\u001b[0m\u001b[0;34m\u001b[0m\u001b[0;34m\u001b[0m\u001b[0m\n\u001b[0;32m----> 2\u001b[0;31m \u001b[0;32mfrom\u001b[0m \u001b[0;34m.\u001b[0m\u001b[0mrcmod\u001b[0m \u001b[0;32mimport\u001b[0m \u001b[0;34m*\u001b[0m  \u001b[0;31m# noqa: F401,F403\u001b[0m\u001b[0;34m\u001b[0m\u001b[0;34m\u001b[0m\u001b[0m\n\u001b[0m\u001b[1;32m      3\u001b[0m \u001b[0;32mfrom\u001b[0m \u001b[0;34m.\u001b[0m\u001b[0mutils\u001b[0m \u001b[0;32mimport\u001b[0m \u001b[0;34m*\u001b[0m  \u001b[0;31m# noqa: F401,F403\u001b[0m\u001b[0;34m\u001b[0m\u001b[0;34m\u001b[0m\u001b[0m\n\u001b[1;32m      4\u001b[0m \u001b[0;32mfrom\u001b[0m \u001b[0;34m.\u001b[0m\u001b[0mpalettes\u001b[0m \u001b[0;32mimport\u001b[0m \u001b[0;34m*\u001b[0m  \u001b[0;31m# noqa: F401,F403\u001b[0m\u001b[0;34m\u001b[0m\u001b[0;34m\u001b[0m\u001b[0m\n\u001b[1;32m      5\u001b[0m \u001b[0;32mfrom\u001b[0m \u001b[0;34m.\u001b[0m\u001b[0mrelational\u001b[0m \u001b[0;32mimport\u001b[0m \u001b[0;34m*\u001b[0m  \u001b[0;31m# noqa: F401,F403\u001b[0m\u001b[0;34m\u001b[0m\u001b[0;34m\u001b[0m\u001b[0m\n",
      "\u001b[0;32m/shared-libs/python3.7/py/lib/python3.7/site-packages/seaborn/rcmod.py\u001b[0m in \u001b[0;36m<module>\u001b[0;34m\u001b[0m\n\u001b[1;32m      3\u001b[0m \u001b[0;32mimport\u001b[0m \u001b[0mfunctools\u001b[0m\u001b[0;34m\u001b[0m\u001b[0;34m\u001b[0m\u001b[0m\n\u001b[1;32m      4\u001b[0m \u001b[0;32mfrom\u001b[0m \u001b[0mdistutils\u001b[0m\u001b[0;34m.\u001b[0m\u001b[0mversion\u001b[0m \u001b[0;32mimport\u001b[0m \u001b[0mLooseVersion\u001b[0m\u001b[0;34m\u001b[0m\u001b[0;34m\u001b[0m\u001b[0m\n\u001b[0;32m----> 5\u001b[0;31m \u001b[0;32mimport\u001b[0m \u001b[0mmatplotlib\u001b[0m \u001b[0;32mas\u001b[0m \u001b[0mmpl\u001b[0m\u001b[0;34m\u001b[0m\u001b[0;34m\u001b[0m\u001b[0m\n\u001b[0m\u001b[1;32m      6\u001b[0m \u001b[0;32mfrom\u001b[0m \u001b[0mcycler\u001b[0m \u001b[0;32mimport\u001b[0m \u001b[0mcycler\u001b[0m\u001b[0;34m\u001b[0m\u001b[0;34m\u001b[0m\u001b[0m\n\u001b[1;32m      7\u001b[0m \u001b[0;32mfrom\u001b[0m \u001b[0;34m.\u001b[0m \u001b[0;32mimport\u001b[0m \u001b[0mpalettes\u001b[0m\u001b[0;34m\u001b[0m\u001b[0;34m\u001b[0m\u001b[0m\n",
      "\u001b[0;32m/shared-libs/python3.7/py/lib/python3.7/site-packages/matplotlib/__init__.py\u001b[0m in \u001b[0;36m<module>\u001b[0;34m\u001b[0m\n\u001b[1;32m    821\u001b[0m \u001b[0;31m# triggering resolution of _auto_backend_sentinel.\u001b[0m\u001b[0;34m\u001b[0m\u001b[0;34m\u001b[0m\u001b[0;34m\u001b[0m\u001b[0m\n\u001b[1;32m    822\u001b[0m rcParamsDefault = _rc_params_in_file(\n\u001b[0;32m--> 823\u001b[0;31m     \u001b[0mcbook\u001b[0m\u001b[0;34m.\u001b[0m\u001b[0m_get_data_path\u001b[0m\u001b[0;34m(\u001b[0m\u001b[0;34m\"matplotlibrc\"\u001b[0m\u001b[0;34m)\u001b[0m\u001b[0;34m,\u001b[0m\u001b[0;34m\u001b[0m\u001b[0;34m\u001b[0m\u001b[0m\n\u001b[0m\u001b[1;32m    824\u001b[0m     \u001b[0;31m# Strip leading comment.\u001b[0m\u001b[0;34m\u001b[0m\u001b[0;34m\u001b[0m\u001b[0;34m\u001b[0m\u001b[0m\n\u001b[1;32m    825\u001b[0m     \u001b[0mtransform\u001b[0m\u001b[0;34m=\u001b[0m\u001b[0;32mlambda\u001b[0m \u001b[0mline\u001b[0m\u001b[0;34m:\u001b[0m \u001b[0mline\u001b[0m\u001b[0;34m[\u001b[0m\u001b[0;36m1\u001b[0m\u001b[0;34m:\u001b[0m\u001b[0;34m]\u001b[0m \u001b[0;32mif\u001b[0m \u001b[0mline\u001b[0m\u001b[0;34m.\u001b[0m\u001b[0mstartswith\u001b[0m\u001b[0;34m(\u001b[0m\u001b[0;34m\"#\"\u001b[0m\u001b[0;34m)\u001b[0m \u001b[0;32melse\u001b[0m \u001b[0mline\u001b[0m\u001b[0;34m,\u001b[0m\u001b[0;34m\u001b[0m\u001b[0;34m\u001b[0m\u001b[0m\n",
      "\u001b[0;32m/shared-libs/python3.7/py/lib/python3.7/site-packages/matplotlib/cbook/__init__.py\u001b[0m in \u001b[0;36m_get_data_path\u001b[0;34m(*args)\u001b[0m\n\u001b[1;32m    532\u001b[0m     \u001b[0;31m`\u001b[0m\u001b[0;31m`\u001b[0m\u001b[0;34m*\u001b[0m\u001b[0margs\u001b[0m\u001b[0;31m`\u001b[0m\u001b[0;31m`\u001b[0m \u001b[0mspecify\u001b[0m \u001b[0ma\u001b[0m \u001b[0mpath\u001b[0m \u001b[0mrelative\u001b[0m \u001b[0mto\u001b[0m \u001b[0mthe\u001b[0m \u001b[0mbase\u001b[0m \u001b[0mdata\u001b[0m \u001b[0mpath\u001b[0m\u001b[0;34m.\u001b[0m\u001b[0;34m\u001b[0m\u001b[0;34m\u001b[0m\u001b[0m\n\u001b[1;32m    533\u001b[0m     \"\"\"\n\u001b[0;32m--> 534\u001b[0;31m     \u001b[0;32mreturn\u001b[0m \u001b[0mPath\u001b[0m\u001b[0;34m(\u001b[0m\u001b[0mmatplotlib\u001b[0m\u001b[0;34m.\u001b[0m\u001b[0mget_data_path\u001b[0m\u001b[0;34m(\u001b[0m\u001b[0;34m)\u001b[0m\u001b[0;34m,\u001b[0m \u001b[0;34m*\u001b[0m\u001b[0margs\u001b[0m\u001b[0;34m)\u001b[0m\u001b[0;34m\u001b[0m\u001b[0;34m\u001b[0m\u001b[0m\n\u001b[0m\u001b[1;32m    535\u001b[0m \u001b[0;34m\u001b[0m\u001b[0m\n\u001b[1;32m    536\u001b[0m \u001b[0;34m\u001b[0m\u001b[0m\n",
      "\u001b[0;31mAttributeError\u001b[0m: module 'matplotlib' has no attribute 'get_data_path'"
     ]
    }
   ]
  },
  {
   "cell_type": "code",
   "metadata": {
    "tags": [],
    "cell_id": "00006-1f8e1b04-af3c-4c45-bc2b-1ec081bf3ab6",
    "deepnote_to_be_reexecuted": false,
    "source_hash": "b3e098f7",
    "execution_start": 1630374598985,
    "execution_millis": 447,
    "deepnote_cell_type": "code"
   },
   "source": "df_construction_2012 = pd.read_csv('/work/data/bdd-edificaciones-2012.csv', sep=';', encoding='iso8859_15')",
   "execution_count": null,
   "outputs": []
  },
  {
   "cell_type": "code",
   "metadata": {
    "tags": [],
    "cell_id": "00007-329f9833-4a38-4e06-af0c-3df129d2a76e",
    "deepnote_to_be_reexecuted": false,
    "source_hash": "f24133",
    "execution_start": 1630096483792,
    "execution_millis": 154,
    "deepnote_cell_type": "code"
   },
   "source": "df_construction_2012.head()",
   "execution_count": null,
   "outputs": [
    {
     "output_type": "execute_result",
     "execution_count": 28,
     "data": {
      "application/vnd.deepnote.dataframe.v2+json": {
       "row_count": 5,
       "column_count": 96,
       "columns": [
        {
         "name": "provin",
         "dtype": "int64",
         "stats": {
          "unique_count": 4,
          "nan_count": 0,
          "min": "9",
          "max": "17",
          "histogram": [
           {
            "bin_start": 9,
            "bin_end": 9.8,
            "count": 2
           },
           {
            "bin_start": 9.8,
            "bin_end": 10.6,
            "count": 0
           },
           {
            "bin_start": 10.6,
            "bin_end": 11.4,
            "count": 0
           },
           {
            "bin_start": 11.4,
            "bin_end": 12.2,
            "count": 0
           },
           {
            "bin_start": 12.2,
            "bin_end": 13,
            "count": 0
           },
           {
            "bin_start": 13,
            "bin_end": 13.8,
            "count": 0
           },
           {
            "bin_start": 13.8,
            "bin_end": 14.600000000000001,
            "count": 1
           },
           {
            "bin_start": 14.600000000000001,
            "bin_end": 15.4,
            "count": 1
           },
           {
            "bin_start": 15.4,
            "bin_end": 16.2,
            "count": 0
           },
           {
            "bin_start": 16.2,
            "bin_end": 17,
            "count": 1
           }
          ]
         }
        },
        {
         "name": "desprovin",
         "dtype": "object",
         "stats": {
          "unique_count": 4,
          "nan_count": 0,
          "categories": [
           {
            "name": "GUAYAS",
            "count": 2
           },
           {
            "name": "MORONA SANTIAGO",
            "count": 1
           },
           {
            "name": "2 others",
            "count": 2
           }
          ]
         }
        },
        {
         "name": "canton",
         "dtype": "int64",
         "stats": {
          "unique_count": 2,
          "nan_count": 0,
          "min": "1",
          "max": "6",
          "histogram": [
           {
            "bin_start": 1,
            "bin_end": 1.5,
            "count": 3
           },
           {
            "bin_start": 1.5,
            "bin_end": 2,
            "count": 0
           },
           {
            "bin_start": 2,
            "bin_end": 2.5,
            "count": 0
           },
           {
            "bin_start": 2.5,
            "bin_end": 3,
            "count": 0
           },
           {
            "bin_start": 3,
            "bin_end": 3.5,
            "count": 0
           },
           {
            "bin_start": 3.5,
            "bin_end": 4,
            "count": 0
           },
           {
            "bin_start": 4,
            "bin_end": 4.5,
            "count": 0
           },
           {
            "bin_start": 4.5,
            "bin_end": 5,
            "count": 0
           },
           {
            "bin_start": 5,
            "bin_end": 5.5,
            "count": 0
           },
           {
            "bin_start": 5.5,
            "bin_end": 6,
            "count": 2
           }
          ]
         }
        },
        {
         "name": "descodcantf",
         "dtype": "object",
         "stats": {
          "unique_count": 4,
          "nan_count": 0,
          "categories": [
           {
            "name": "DAULE",
            "count": 2
           },
           {
            "name": "MORONA",
            "count": 1
           },
           {
            "name": "2 others",
            "count": 2
           }
          ]
         }
        },
        {
         "name": "mes",
         "dtype": "int64",
         "stats": {
          "unique_count": 5,
          "nan_count": 0,
          "min": "6",
          "max": "12",
          "histogram": [
           {
            "bin_start": 6,
            "bin_end": 6.6,
            "count": 1
           },
           {
            "bin_start": 6.6,
            "bin_end": 7.2,
            "count": 1
           },
           {
            "bin_start": 7.2,
            "bin_end": 7.8,
            "count": 0
           },
           {
            "bin_start": 7.8,
            "bin_end": 8.4,
            "count": 1
           },
           {
            "bin_start": 8.4,
            "bin_end": 9,
            "count": 0
           },
           {
            "bin_start": 9,
            "bin_end": 9.6,
            "count": 1
           },
           {
            "bin_start": 9.6,
            "bin_end": 10.2,
            "count": 0
           },
           {
            "bin_start": 10.2,
            "bin_end": 10.8,
            "count": 0
           },
           {
            "bin_start": 10.8,
            "bin_end": 11.399999999999999,
            "count": 0
           },
           {
            "bin_start": 11.399999999999999,
            "bin_end": 12,
            "count": 1
           }
          ]
         }
        },
        {
         "name": "desmes",
         "dtype": "object",
         "stats": {
          "unique_count": 5,
          "nan_count": 0,
          "categories": [
           {
            "name": "SEPTIEMBRE",
            "count": 1
           },
           {
            "name": "JUNIO",
            "count": 1
           },
           {
            "name": "3 others",
            "count": 3
           }
          ]
         }
        },
        {
         "name": "año",
         "dtype": "int64",
         "stats": {
          "unique_count": 1,
          "nan_count": 0,
          "min": "3",
          "max": "3",
          "histogram": [
           {
            "bin_start": 2.5,
            "bin_end": 2.6,
            "count": 0
           },
           {
            "bin_start": 2.6,
            "bin_end": 2.7,
            "count": 0
           },
           {
            "bin_start": 2.7,
            "bin_end": 2.8,
            "count": 0
           },
           {
            "bin_start": 2.8,
            "bin_end": 2.9,
            "count": 0
           },
           {
            "bin_start": 2.9,
            "bin_end": 3,
            "count": 0
           },
           {
            "bin_start": 3,
            "bin_end": 3.1,
            "count": 5
           },
           {
            "bin_start": 3.1,
            "bin_end": 3.2,
            "count": 0
           },
           {
            "bin_start": 3.2,
            "bin_end": 3.3,
            "count": 0
           },
           {
            "bin_start": 3.3,
            "bin_end": 3.4,
            "count": 0
           },
           {
            "bin_start": 3.4,
            "bin_end": 3.5,
            "count": 0
           }
          ]
         }
        },
        {
         "name": "desaño",
         "dtype": "int64",
         "stats": {
          "unique_count": 1,
          "nan_count": 0,
          "min": "2012",
          "max": "2012",
          "histogram": [
           {
            "bin_start": 2011.5,
            "bin_end": 2011.6,
            "count": 0
           },
           {
            "bin_start": 2011.6,
            "bin_end": 2011.7,
            "count": 0
           },
           {
            "bin_start": 2011.7,
            "bin_end": 2011.8,
            "count": 0
           },
           {
            "bin_start": 2011.8,
            "bin_end": 2011.9,
            "count": 0
           },
           {
            "bin_start": 2011.9,
            "bin_end": 2012,
            "count": 0
           },
           {
            "bin_start": 2012,
            "bin_end": 2012.1,
            "count": 5
           },
           {
            "bin_start": 2012.1,
            "bin_end": 2012.2,
            "count": 0
           },
           {
            "bin_start": 2012.2,
            "bin_end": 2012.3,
            "count": 0
           },
           {
            "bin_start": 2012.3,
            "bin_end": 2012.4,
            "count": 0
           },
           {
            "bin_start": 2012.4,
            "bin_end": 2012.5,
            "count": 0
           }
          ]
         }
        },
        {
         "name": "nubo",
         "dtype": "int64",
         "stats": {
          "unique_count": 5,
          "nan_count": 0,
          "min": "2",
          "max": "27",
          "histogram": [
           {
            "bin_start": 2,
            "bin_end": 4.5,
            "count": 1
           },
           {
            "bin_start": 4.5,
            "bin_end": 7,
            "count": 1
           },
           {
            "bin_start": 7,
            "bin_end": 9.5,
            "count": 1
           },
           {
            "bin_start": 9.5,
            "bin_end": 12,
            "count": 1
           },
           {
            "bin_start": 12,
            "bin_end": 14.5,
            "count": 0
           },
           {
            "bin_start": 14.5,
            "bin_end": 17,
            "count": 0
           },
           {
            "bin_start": 17,
            "bin_end": 19.5,
            "count": 0
           },
           {
            "bin_start": 19.5,
            "bin_end": 22,
            "count": 0
           },
           {
            "bin_start": 22,
            "bin_end": 24.5,
            "count": 0
           },
           {
            "bin_start": 24.5,
            "bin_end": 27,
            "count": 1
           }
          ]
         }
        },
        {
         "name": "fper",
         "dtype": "datetime64[ns]",
         "stats": {
          "unique_count": 5,
          "nan_count": 0,
          "min": "2012-06-08 00:00:00",
          "max": "2012-12-17 00:00:00",
          "histogram": [
           {
            "bin_start": 1339113600000000000,
            "bin_end": 1340772480000000000,
            "count": 1
           },
           {
            "bin_start": 1340772480000000000,
            "bin_end": 1342431360000000000,
            "count": 1
           },
           {
            "bin_start": 1342431360000000000,
            "bin_end": 1344090240000000000,
            "count": 0
           },
           {
            "bin_start": 1344090240000000000,
            "bin_end": 1345749120000000000,
            "count": 1
           },
           {
            "bin_start": 1345749120000000000,
            "bin_end": 1347408000000000000,
            "count": 0
           },
           {
            "bin_start": 1347408000000000000,
            "bin_end": 1349066880000000000,
            "count": 1
           },
           {
            "bin_start": 1349066880000000000,
            "bin_end": 1350725760000000000,
            "count": 0
           },
           {
            "bin_start": 1350725760000000000,
            "bin_end": 1352384640000000000,
            "count": 0
           },
           {
            "bin_start": 1352384640000000000,
            "bin_end": 1354043520000000000,
            "count": 0
           },
           {
            "bin_start": 1354043520000000000,
            "bin_end": 1355702400000000000,
            "count": 1
           }
          ]
         }
        },
        {
         "name": "propie",
         "dtype": "int64",
         "stats": {
          "unique_count": 2,
          "nan_count": 0,
          "min": "1",
          "max": "2",
          "histogram": [
           {
            "bin_start": 1,
            "bin_end": 1.1,
            "count": 4
           },
           {
            "bin_start": 1.1,
            "bin_end": 1.2,
            "count": 0
           },
           {
            "bin_start": 1.2,
            "bin_end": 1.3,
            "count": 0
           },
           {
            "bin_start": 1.3,
            "bin_end": 1.4,
            "count": 0
           },
           {
            "bin_start": 1.4,
            "bin_end": 1.5,
            "count": 0
           },
           {
            "bin_start": 1.5,
            "bin_end": 1.6,
            "count": 0
           },
           {
            "bin_start": 1.6,
            "bin_end": 1.7000000000000002,
            "count": 0
           },
           {
            "bin_start": 1.7000000000000002,
            "bin_end": 1.8,
            "count": 0
           },
           {
            "bin_start": 1.8,
            "bin_end": 1.9,
            "count": 0
           },
           {
            "bin_start": 1.9,
            "bin_end": 2,
            "count": 1
           }
          ]
         }
        },
        {
         "name": "despropie",
         "dtype": "object",
         "stats": {
          "unique_count": 2,
          "nan_count": 0,
          "categories": [
           {
            "name": "Privada",
            "count": 4
           },
           {
            "name": "Pública",
            "count": 1
           }
          ]
         }
        },
        {
         "name": "tipbr",
         "dtype": "int64",
         "stats": {
          "unique_count": 2,
          "nan_count": 0,
          "min": "100",
          "max": "101",
          "histogram": [
           {
            "bin_start": 100,
            "bin_end": 100.1,
            "count": 4
           },
           {
            "bin_start": 100.1,
            "bin_end": 100.2,
            "count": 0
           },
           {
            "bin_start": 100.2,
            "bin_end": 100.3,
            "count": 0
           },
           {
            "bin_start": 100.3,
            "bin_end": 100.4,
            "count": 0
           },
           {
            "bin_start": 100.4,
            "bin_end": 100.5,
            "count": 0
           },
           {
            "bin_start": 100.5,
            "bin_end": 100.6,
            "count": 0
           },
           {
            "bin_start": 100.6,
            "bin_end": 100.7,
            "count": 0
           },
           {
            "bin_start": 100.7,
            "bin_end": 100.8,
            "count": 0
           },
           {
            "bin_start": 100.8,
            "bin_end": 100.9,
            "count": 0
           },
           {
            "bin_start": 100.9,
            "bin_end": 101,
            "count": 1
           }
          ]
         }
        },
        {
         "name": "destipbr",
         "dtype": "object",
         "stats": {
          "unique_count": 2,
          "nan_count": 0,
          "categories": [
           {
            "name": "Nueva Construcción",
            "count": 4
           },
           {
            "name": "Ampliación hacia arriba",
            "count": 1
           }
          ]
         }
        },
        {
         "name": "sute",
         "dtype": "int64",
         "stats": {
          "unique_count": 4,
          "nan_count": 0,
          "min": "0",
          "max": "34739",
          "histogram": [
           {
            "bin_start": 0,
            "bin_end": 3473.9,
            "count": 1
           },
           {
            "bin_start": 3473.9,
            "bin_end": 6947.8,
            "count": 1
           },
           {
            "bin_start": 6947.8,
            "bin_end": 10421.7,
            "count": 2
           },
           {
            "bin_start": 10421.7,
            "bin_end": 13895.6,
            "count": 0
           },
           {
            "bin_start": 13895.6,
            "bin_end": 17369.5,
            "count": 0
           },
           {
            "bin_start": 17369.5,
            "bin_end": 20843.4,
            "count": 0
           },
           {
            "bin_start": 20843.4,
            "bin_end": 24317.3,
            "count": 0
           },
           {
            "bin_start": 24317.3,
            "bin_end": 27791.2,
            "count": 0
           },
           {
            "bin_start": 27791.2,
            "bin_end": 31265.100000000002,
            "count": 0
           },
           {
            "bin_start": 31265.100000000002,
            "bin_end": 34739,
            "count": 1
           }
          ]
         }
        },
        {
         "name": "arpb",
         "dtype": "int64",
         "stats": {
          "unique_count": 5,
          "nan_count": 0,
          "min": "0",
          "max": "3214",
          "histogram": [
           {
            "bin_start": 0,
            "bin_end": 321.4,
            "count": 3
           },
           {
            "bin_start": 321.4,
            "bin_end": 642.8,
            "count": 0
           },
           {
            "bin_start": 642.8,
            "bin_end": 964.1999999999999,
            "count": 0
           },
           {
            "bin_start": 964.1999999999999,
            "bin_end": 1285.6,
            "count": 0
           },
           {
            "bin_start": 1285.6,
            "bin_end": 1607,
            "count": 0
           },
           {
            "bin_start": 1607,
            "bin_end": 1928.3999999999999,
            "count": 0
           },
           {
            "bin_start": 1928.3999999999999,
            "bin_end": 2249.7999999999997,
            "count": 1
           },
           {
            "bin_start": 2249.7999999999997,
            "bin_end": 2571.2,
            "count": 0
           },
           {
            "bin_start": 2571.2,
            "bin_end": 2892.6,
            "count": 0
           },
           {
            "bin_start": 2892.6,
            "bin_end": 3214,
            "count": 1
           }
          ]
         }
        },
        {
         "name": "arco",
         "dtype": "int64",
         "stats": {
          "unique_count": 5,
          "nan_count": 0,
          "min": "36",
          "max": "3268",
          "histogram": [
           {
            "bin_start": 36,
            "bin_end": 359.2,
            "count": 3
           },
           {
            "bin_start": 359.2,
            "bin_end": 682.4,
            "count": 0
           },
           {
            "bin_start": 682.4,
            "bin_end": 1005.5999999999999,
            "count": 0
           },
           {
            "bin_start": 1005.5999999999999,
            "bin_end": 1328.8,
            "count": 0
           },
           {
            "bin_start": 1328.8,
            "bin_end": 1652,
            "count": 0
           },
           {
            "bin_start": 1652,
            "bin_end": 1975.1999999999998,
            "count": 0
           },
           {
            "bin_start": 1975.1999999999998,
            "bin_end": 2298.4,
            "count": 0
           },
           {
            "bin_start": 2298.4,
            "bin_end": 2621.6,
            "count": 0
           },
           {
            "bin_start": 2621.6,
            "bin_end": 2944.7999999999997,
            "count": 0
           },
           {
            "bin_start": 2944.7999999999997,
            "bin_end": 3268,
            "count": 2
           }
          ]
         }
        },
        {
         "name": "aesv",
         "dtype": "int64",
         "stats": {
          "unique_count": 5,
          "nan_count": 0,
          "min": "0",
          "max": "34495",
          "histogram": [
           {
            "bin_start": 0,
            "bin_end": 3449.5,
            "count": 2
           },
           {
            "bin_start": 3449.5,
            "bin_end": 6899,
            "count": 0
           },
           {
            "bin_start": 6899,
            "bin_end": 10348.5,
            "count": 2
           },
           {
            "bin_start": 10348.5,
            "bin_end": 13798,
            "count": 0
           },
           {
            "bin_start": 13798,
            "bin_end": 17247.5,
            "count": 0
           },
           {
            "bin_start": 17247.5,
            "bin_end": 20697,
            "count": 0
           },
           {
            "bin_start": 20697,
            "bin_end": 24146.5,
            "count": 0
           },
           {
            "bin_start": 24146.5,
            "bin_end": 27596,
            "count": 0
           },
           {
            "bin_start": 27596,
            "bin_end": 31045.5,
            "count": 0
           },
           {
            "bin_start": 31045.5,
            "bin_end": 34495,
            "count": 1
           }
          ]
         }
        },
        {
         "name": "cimi",
         "dtype": "int64",
         "stats": {
          "unique_count": 2,
          "nan_count": 0,
          "min": "0",
          "max": "120",
          "histogram": [
           {
            "bin_start": 0,
            "bin_end": 12,
            "count": 1
           },
           {
            "bin_start": 12,
            "bin_end": 24,
            "count": 0
           },
           {
            "bin_start": 24,
            "bin_end": 36,
            "count": 0
           },
           {
            "bin_start": 36,
            "bin_end": 48,
            "count": 0
           },
           {
            "bin_start": 48,
            "bin_end": 60,
            "count": 0
           },
           {
            "bin_start": 60,
            "bin_end": 72,
            "count": 0
           },
           {
            "bin_start": 72,
            "bin_end": 84,
            "count": 0
           },
           {
            "bin_start": 84,
            "bin_end": 96,
            "count": 0
           },
           {
            "bin_start": 96,
            "bin_end": 108,
            "count": 0
           },
           {
            "bin_start": 108,
            "bin_end": 120,
            "count": 4
           }
          ]
         }
        },
        {
         "name": "descimi",
         "dtype": "object",
         "stats": {
          "unique_count": 2,
          "nan_count": 0,
          "categories": [
           {
            "name": "Hormigón Armado",
            "count": 4
           },
           {
            "name": "No Aplica",
            "count": 1
           }
          ]
         }
        },
        {
         "name": "estru",
         "dtype": "int64",
         "stats": {
          "unique_count": 2,
          "nan_count": 0,
          "min": "121",
          "max": "125",
          "histogram": [
           {
            "bin_start": 121,
            "bin_end": 121.4,
            "count": 3
           },
           {
            "bin_start": 121.4,
            "bin_end": 121.8,
            "count": 0
           },
           {
            "bin_start": 121.8,
            "bin_end": 122.2,
            "count": 0
           },
           {
            "bin_start": 122.2,
            "bin_end": 122.6,
            "count": 0
           },
           {
            "bin_start": 122.6,
            "bin_end": 123,
            "count": 0
           },
           {
            "bin_start": 123,
            "bin_end": 123.4,
            "count": 0
           },
           {
            "bin_start": 123.4,
            "bin_end": 123.8,
            "count": 0
           },
           {
            "bin_start": 123.8,
            "bin_end": 124.2,
            "count": 0
           },
           {
            "bin_start": 124.2,
            "bin_end": 124.6,
            "count": 0
           },
           {
            "bin_start": 124.6,
            "bin_end": 125,
            "count": 2
           }
          ]
         }
        },
        {
         "name": "desestru",
         "dtype": "object",
         "stats": {
          "unique_count": 2,
          "nan_count": 0,
          "categories": [
           {
            "name": "Hormigón Armado",
            "count": 3
           },
           {
            "name": "Metálica",
            "count": 2
           }
          ]
         }
        },
        {
         "name": "pared",
         "dtype": "int64",
         "stats": {
          "unique_count": 2,
          "nan_count": 0,
          "min": "126",
          "max": "146",
          "histogram": [
           {
            "bin_start": 126,
            "bin_end": 128,
            "count": 4
           },
           {
            "bin_start": 128,
            "bin_end": 130,
            "count": 0
           },
           {
            "bin_start": 130,
            "bin_end": 132,
            "count": 0
           },
           {
            "bin_start": 132,
            "bin_end": 134,
            "count": 0
           },
           {
            "bin_start": 134,
            "bin_end": 136,
            "count": 0
           },
           {
            "bin_start": 136,
            "bin_end": 138,
            "count": 0
           },
           {
            "bin_start": 138,
            "bin_end": 140,
            "count": 0
           },
           {
            "bin_start": 140,
            "bin_end": 142,
            "count": 0
           },
           {
            "bin_start": 142,
            "bin_end": 144,
            "count": 0
           },
           {
            "bin_start": 144,
            "bin_end": 146,
            "count": 1
           }
          ]
         }
        },
        {
         "name": "despared",
         "dtype": "object",
         "stats": {
          "unique_count": 2,
          "nan_count": 0,
          "categories": [
           {
            "name": "Bloque",
            "count": 4
           },
           {
            "name": "Otras",
            "count": 1
           }
          ]
         }
        },
        {
         "name": "cubi",
         "dtype": "int64",
         "stats": {
          "unique_count": 1,
          "nan_count": 0,
          "min": "127",
          "max": "127",
          "histogram": [
           {
            "bin_start": 126.5,
            "bin_end": 126.6,
            "count": 0
           },
           {
            "bin_start": 126.6,
            "bin_end": 126.7,
            "count": 0
           },
           {
            "bin_start": 126.7,
            "bin_end": 126.8,
            "count": 0
           },
           {
            "bin_start": 126.8,
            "bin_end": 126.9,
            "count": 0
           },
           {
            "bin_start": 126.9,
            "bin_end": 127,
            "count": 0
           },
           {
            "bin_start": 127,
            "bin_end": 127.1,
            "count": 5
           },
           {
            "bin_start": 127.1,
            "bin_end": 127.2,
            "count": 0
           },
           {
            "bin_start": 127.2,
            "bin_end": 127.3,
            "count": 0
           },
           {
            "bin_start": 127.3,
            "bin_end": 127.4,
            "count": 0
           },
           {
            "bin_start": 127.4,
            "bin_end": 127.5,
            "count": 0
           }
          ]
         }
        },
        {
         "name": "descubi",
         "dtype": "object",
         "stats": {
          "unique_count": 1,
          "nan_count": 0,
          "categories": [
           {
            "name": "Eternit-Ardex-Asbesto",
            "count": 5
           }
          ]
         }
        },
        {
         "name": "cres",
         "dtype": "int64",
         "stats": {
          "unique_count": 2,
          "nan_count": 0,
          "min": "0",
          "max": "170",
          "histogram": [
           {
            "bin_start": 0,
            "bin_end": 17,
            "count": 4
           },
           {
            "bin_start": 17,
            "bin_end": 34,
            "count": 0
           },
           {
            "bin_start": 34,
            "bin_end": 51,
            "count": 0
           },
           {
            "bin_start": 51,
            "bin_end": 68,
            "count": 0
           },
           {
            "bin_start": 68,
            "bin_end": 85,
            "count": 0
           },
           {
            "bin_start": 85,
            "bin_end": 102,
            "count": 0
           },
           {
            "bin_start": 102,
            "bin_end": 119,
            "count": 0
           },
           {
            "bin_start": 119,
            "bin_end": 136,
            "count": 0
           },
           {
            "bin_start": 136,
            "bin_end": 153,
            "count": 0
           },
           {
            "bin_start": 153,
            "bin_end": 170,
            "count": 1
           }
          ]
         }
        },
        {
         "name": "descres",
         "dtype": "object",
         "stats": {
          "unique_count": 2,
          "nan_count": 0,
          "categories": [
           {
            "name": "No Aplica",
            "count": 4
           },
           {
            "name": "Residencia 3 o más Famili",
            "count": 1
           }
          ]
         }
        },
        {
         "name": "numuni",
         "dtype": "int64",
         "stats": {
          "unique_count": 1,
          "nan_count": 0,
          "min": "1",
          "max": "1",
          "histogram": [
           {
            "bin_start": 0.5,
            "bin_end": 0.6,
            "count": 0
           },
           {
            "bin_start": 0.6,
            "bin_end": 0.7,
            "count": 0
           },
           {
            "bin_start": 0.7,
            "bin_end": 0.8,
            "count": 0
           },
           {
            "bin_start": 0.8,
            "bin_end": 0.9,
            "count": 0
           },
           {
            "bin_start": 0.9,
            "bin_end": 1,
            "count": 0
           },
           {
            "bin_start": 1,
            "bin_end": 1.1,
            "count": 5
           },
           {
            "bin_start": 1.1,
            "bin_end": 1.2000000000000002,
            "count": 0
           },
           {
            "bin_start": 1.2000000000000002,
            "bin_end": 1.3,
            "count": 0
           },
           {
            "bin_start": 1.3,
            "bin_end": 1.4,
            "count": 0
           },
           {
            "bin_start": 1.4,
            "bin_end": 1.5,
            "count": 0
           }
          ]
         }
        },
        {
         "name": "nuvi",
         "dtype": "int64",
         "stats": {
          "unique_count": 2,
          "nan_count": 0,
          "min": "0",
          "max": "57",
          "histogram": [
           {
            "bin_start": 0,
            "bin_end": 5.7,
            "count": 4
           },
           {
            "bin_start": 5.7,
            "bin_end": 11.4,
            "count": 0
           },
           {
            "bin_start": 11.4,
            "bin_end": 17.1,
            "count": 0
           },
           {
            "bin_start": 17.1,
            "bin_end": 22.8,
            "count": 0
           },
           {
            "bin_start": 22.8,
            "bin_end": 28.5,
            "count": 0
           },
           {
            "bin_start": 28.5,
            "bin_end": 34.2,
            "count": 0
           },
           {
            "bin_start": 34.2,
            "bin_end": 39.9,
            "count": 0
           },
           {
            "bin_start": 39.9,
            "bin_end": 45.6,
            "count": 0
           },
           {
            "bin_start": 45.6,
            "bin_end": 51.300000000000004,
            "count": 0
           },
           {
            "bin_start": 51.300000000000004,
            "bin_end": 57,
            "count": 1
           }
          ]
         }
        },
        {
         "name": "nucu",
         "dtype": "int64",
         "stats": {
          "unique_count": 2,
          "nan_count": 0,
          "min": "0",
          "max": "171",
          "histogram": [
           {
            "bin_start": 0,
            "bin_end": 17.1,
            "count": 4
           },
           {
            "bin_start": 17.1,
            "bin_end": 34.2,
            "count": 0
           },
           {
            "bin_start": 34.2,
            "bin_end": 51.300000000000004,
            "count": 0
           },
           {
            "bin_start": 51.300000000000004,
            "bin_end": 68.4,
            "count": 0
           },
           {
            "bin_start": 68.4,
            "bin_end": 85.5,
            "count": 0
           },
           {
            "bin_start": 85.5,
            "bin_end": 102.60000000000001,
            "count": 0
           },
           {
            "bin_start": 102.60000000000001,
            "bin_end": 119.70000000000002,
            "count": 0
           },
           {
            "bin_start": 119.70000000000002,
            "bin_end": 136.8,
            "count": 0
           },
           {
            "bin_start": 136.8,
            "bin_end": 153.9,
            "count": 0
           },
           {
            "bin_start": 153.9,
            "bin_end": 171,
            "count": 1
           }
          ]
         }
        },
        {
         "name": "nudo",
         "dtype": "int64",
         "stats": {
          "unique_count": 2,
          "nan_count": 0,
          "min": "0",
          "max": "114",
          "histogram": [
           {
            "bin_start": 0,
            "bin_end": 11.4,
            "count": 4
           },
           {
            "bin_start": 11.4,
            "bin_end": 22.8,
            "count": 0
           },
           {
            "bin_start": 22.8,
            "bin_end": 34.2,
            "count": 0
           },
           {
            "bin_start": 34.2,
            "bin_end": 45.6,
            "count": 0
           },
           {
            "bin_start": 45.6,
            "bin_end": 57,
            "count": 0
           },
           {
            "bin_start": 57,
            "bin_end": 68.4,
            "count": 0
           },
           {
            "bin_start": 68.4,
            "bin_end": 79.8,
            "count": 0
           },
           {
            "bin_start": 79.8,
            "bin_end": 91.2,
            "count": 0
           },
           {
            "bin_start": 91.2,
            "bin_end": 102.60000000000001,
            "count": 0
           },
           {
            "bin_start": 102.60000000000001,
            "bin_end": 114,
            "count": 1
           }
          ]
         }
        },
        {
         "name": "nupi",
         "dtype": "int64",
         "stats": {
          "unique_count": 2,
          "nan_count": 0,
          "min": "0",
          "max": "1",
          "histogram": [
           {
            "bin_start": 0,
            "bin_end": 0.1,
            "count": 4
           },
           {
            "bin_start": 0.1,
            "bin_end": 0.2,
            "count": 0
           },
           {
            "bin_start": 0.2,
            "bin_end": 0.30000000000000004,
            "count": 0
           },
           {
            "bin_start": 0.30000000000000004,
            "bin_end": 0.4,
            "count": 0
           },
           {
            "bin_start": 0.4,
            "bin_end": 0.5,
            "count": 0
           },
           {
            "bin_start": 0.5,
            "bin_end": 0.6000000000000001,
            "count": 0
           },
           {
            "bin_start": 0.6000000000000001,
            "bin_end": 0.7000000000000001,
            "count": 0
           },
           {
            "bin_start": 0.7000000000000001,
            "bin_end": 0.8,
            "count": 0
           },
           {
            "bin_start": 0.8,
            "bin_end": 0.9,
            "count": 0
           },
           {
            "bin_start": 0.9,
            "bin_end": 1,
            "count": 1
           }
          ]
         }
        },
        {
         "name": "ares",
         "dtype": "int64",
         "stats": {
          "unique_count": 2,
          "nan_count": 0,
          "min": "0",
          "max": "3214",
          "histogram": [
           {
            "bin_start": 0,
            "bin_end": 321.4,
            "count": 4
           },
           {
            "bin_start": 321.4,
            "bin_end": 642.8,
            "count": 0
           },
           {
            "bin_start": 642.8,
            "bin_end": 964.1999999999999,
            "count": 0
           },
           {
            "bin_start": 964.1999999999999,
            "bin_end": 1285.6,
            "count": 0
           },
           {
            "bin_start": 1285.6,
            "bin_end": 1607,
            "count": 0
           },
           {
            "bin_start": 1607,
            "bin_end": 1928.3999999999999,
            "count": 0
           },
           {
            "bin_start": 1928.3999999999999,
            "bin_end": 2249.7999999999997,
            "count": 0
           },
           {
            "bin_start": 2249.7999999999997,
            "bin_end": 2571.2,
            "count": 0
           },
           {
            "bin_start": 2571.2,
            "bin_end": 2892.6,
            "count": 0
           },
           {
            "bin_start": 2892.6,
            "bin_end": 3214,
            "count": 1
           }
          ]
         }
        },
        {
         "name": "coa11",
         "dtype": "int64",
         "stats": {
          "unique_count": 4,
          "nan_count": 0,
          "min": "0",
          "max": "197",
          "histogram": [
           {
            "bin_start": 0,
            "bin_end": 19.7,
            "count": 1
           },
           {
            "bin_start": 19.7,
            "bin_end": 39.4,
            "count": 0
           },
           {
            "bin_start": 39.4,
            "bin_end": 59.099999999999994,
            "count": 0
           },
           {
            "bin_start": 59.099999999999994,
            "bin_end": 78.8,
            "count": 0
           },
           {
            "bin_start": 78.8,
            "bin_end": 98.5,
            "count": 0
           },
           {
            "bin_start": 98.5,
            "bin_end": 118.19999999999999,
            "count": 0
           },
           {
            "bin_start": 118.19999999999999,
            "bin_end": 137.9,
            "count": 0
           },
           {
            "bin_start": 137.9,
            "bin_end": 157.6,
            "count": 0
           },
           {
            "bin_start": 157.6,
            "bin_end": 177.29999999999998,
            "count": 2
           },
           {
            "bin_start": 177.29999999999998,
            "bin_end": 197,
            "count": 2
           }
          ]
         }
        },
        {
         "name": "nup11",
         "dtype": "int64",
         "stats": {
          "unique_count": 3,
          "nan_count": 0,
          "min": "0",
          "max": "2",
          "histogram": [
           {
            "bin_start": 0,
            "bin_end": 0.2,
            "count": 1
           },
           {
            "bin_start": 0.2,
            "bin_end": 0.4,
            "count": 0
           },
           {
            "bin_start": 0.4,
            "bin_end": 0.6000000000000001,
            "count": 0
           },
           {
            "bin_start": 0.6000000000000001,
            "bin_end": 0.8,
            "count": 0
           },
           {
            "bin_start": 0.8,
            "bin_end": 1,
            "count": 0
           },
           {
            "bin_start": 1,
            "bin_end": 1.2000000000000002,
            "count": 3
           },
           {
            "bin_start": 1.2000000000000002,
            "bin_end": 1.4000000000000001,
            "count": 0
           },
           {
            "bin_start": 1.4000000000000001,
            "bin_end": 1.6,
            "count": 0
           },
           {
            "bin_start": 1.6,
            "bin_end": 1.8,
            "count": 0
           },
           {
            "bin_start": 1.8,
            "bin_end": 2,
            "count": 1
           }
          ]
         }
        },
        {
         "name": "are11",
         "dtype": "int64",
         "stats": {
          "unique_count": 5,
          "nan_count": 0,
          "min": "0",
          "max": "3268",
          "histogram": [
           {
            "bin_start": 0,
            "bin_end": 326.8,
            "count": 4
           },
           {
            "bin_start": 326.8,
            "bin_end": 653.6,
            "count": 0
           },
           {
            "bin_start": 653.6,
            "bin_end": 980.4000000000001,
            "count": 0
           },
           {
            "bin_start": 980.4000000000001,
            "bin_end": 1307.2,
            "count": 0
           },
           {
            "bin_start": 1307.2,
            "bin_end": 1634,
            "count": 0
           },
           {
            "bin_start": 1634,
            "bin_end": 1960.8000000000002,
            "count": 0
           },
           {
            "bin_start": 1960.8000000000002,
            "bin_end": 2287.6,
            "count": 0
           },
           {
            "bin_start": 2287.6,
            "bin_end": 2614.4,
            "count": 0
           },
           {
            "bin_start": 2614.4,
            "bin_end": 2941.2000000000003,
            "count": 0
           },
           {
            "bin_start": 2941.2000000000003,
            "bin_end": 3268,
            "count": 1
           }
          ]
         }
        },
        {
         "name": "coa22",
         "dtype": "int64",
         "stats": {
          "unique_count": 1,
          "nan_count": 0,
          "min": "0",
          "max": "0",
          "histogram": [
           {
            "bin_start": -0.5,
            "bin_end": -0.4,
            "count": 0
           },
           {
            "bin_start": -0.4,
            "bin_end": -0.3,
            "count": 0
           },
           {
            "bin_start": -0.3,
            "bin_end": -0.19999999999999996,
            "count": 0
           },
           {
            "bin_start": -0.19999999999999996,
            "bin_end": -0.09999999999999998,
            "count": 0
           },
           {
            "bin_start": -0.09999999999999998,
            "bin_end": 0,
            "count": 0
           },
           {
            "bin_start": 0,
            "bin_end": 0.10000000000000009,
            "count": 5
           },
           {
            "bin_start": 0.10000000000000009,
            "bin_end": 0.20000000000000007,
            "count": 0
           },
           {
            "bin_start": 0.20000000000000007,
            "bin_end": 0.30000000000000004,
            "count": 0
           },
           {
            "bin_start": 0.30000000000000004,
            "bin_end": 0.4,
            "count": 0
           },
           {
            "bin_start": 0.4,
            "bin_end": 0.5,
            "count": 0
           }
          ]
         }
        },
        {
         "name": "nup22",
         "dtype": "int64",
         "stats": {
          "unique_count": 1,
          "nan_count": 0,
          "min": "0",
          "max": "0",
          "histogram": [
           {
            "bin_start": -0.5,
            "bin_end": -0.4,
            "count": 0
           },
           {
            "bin_start": -0.4,
            "bin_end": -0.3,
            "count": 0
           },
           {
            "bin_start": -0.3,
            "bin_end": -0.19999999999999996,
            "count": 0
           },
           {
            "bin_start": -0.19999999999999996,
            "bin_end": -0.09999999999999998,
            "count": 0
           },
           {
            "bin_start": -0.09999999999999998,
            "bin_end": 0,
            "count": 0
           },
           {
            "bin_start": 0,
            "bin_end": 0.10000000000000009,
            "count": 5
           },
           {
            "bin_start": 0.10000000000000009,
            "bin_end": 0.20000000000000007,
            "count": 0
           },
           {
            "bin_start": 0.20000000000000007,
            "bin_end": 0.30000000000000004,
            "count": 0
           },
           {
            "bin_start": 0.30000000000000004,
            "bin_end": 0.4,
            "count": 0
           },
           {
            "bin_start": 0.4,
            "bin_end": 0.5,
            "count": 0
           }
          ]
         }
        },
        {
         "name": "are22",
         "dtype": "int64",
         "stats": {
          "unique_count": 1,
          "nan_count": 0,
          "min": "0",
          "max": "0",
          "histogram": [
           {
            "bin_start": -0.5,
            "bin_end": -0.4,
            "count": 0
           },
           {
            "bin_start": -0.4,
            "bin_end": -0.3,
            "count": 0
           },
           {
            "bin_start": -0.3,
            "bin_end": -0.19999999999999996,
            "count": 0
           },
           {
            "bin_start": -0.19999999999999996,
            "bin_end": -0.09999999999999998,
            "count": 0
           },
           {
            "bin_start": -0.09999999999999998,
            "bin_end": 0,
            "count": 0
           },
           {
            "bin_start": 0,
            "bin_end": 0.10000000000000009,
            "count": 5
           },
           {
            "bin_start": 0.10000000000000009,
            "bin_end": 0.20000000000000007,
            "count": 0
           },
           {
            "bin_start": 0.20000000000000007,
            "bin_end": 0.30000000000000004,
            "count": 0
           },
           {
            "bin_start": 0.30000000000000004,
            "bin_end": 0.4,
            "count": 0
           },
           {
            "bin_start": 0.4,
            "bin_end": 0.5,
            "count": 0
           }
          ]
         }
        },
        {
         "name": "coa33",
         "dtype": "int64",
         "stats": {
          "unique_count": 1,
          "nan_count": 0,
          "min": "0",
          "max": "0",
          "histogram": [
           {
            "bin_start": -0.5,
            "bin_end": -0.4,
            "count": 0
           },
           {
            "bin_start": -0.4,
            "bin_end": -0.3,
            "count": 0
           },
           {
            "bin_start": -0.3,
            "bin_end": -0.19999999999999996,
            "count": 0
           },
           {
            "bin_start": -0.19999999999999996,
            "bin_end": -0.09999999999999998,
            "count": 0
           },
           {
            "bin_start": -0.09999999999999998,
            "bin_end": 0,
            "count": 0
           },
           {
            "bin_start": 0,
            "bin_end": 0.10000000000000009,
            "count": 5
           },
           {
            "bin_start": 0.10000000000000009,
            "bin_end": 0.20000000000000007,
            "count": 0
           },
           {
            "bin_start": 0.20000000000000007,
            "bin_end": 0.30000000000000004,
            "count": 0
           },
           {
            "bin_start": 0.30000000000000004,
            "bin_end": 0.4,
            "count": 0
           },
           {
            "bin_start": 0.4,
            "bin_end": 0.5,
            "count": 0
           }
          ]
         }
        },
        {
         "name": "nup33",
         "dtype": "int64",
         "stats": {
          "unique_count": 1,
          "nan_count": 0,
          "min": "0",
          "max": "0",
          "histogram": [
           {
            "bin_start": -0.5,
            "bin_end": -0.4,
            "count": 0
           },
           {
            "bin_start": -0.4,
            "bin_end": -0.3,
            "count": 0
           },
           {
            "bin_start": -0.3,
            "bin_end": -0.19999999999999996,
            "count": 0
           },
           {
            "bin_start": -0.19999999999999996,
            "bin_end": -0.09999999999999998,
            "count": 0
           },
           {
            "bin_start": -0.09999999999999998,
            "bin_end": 0,
            "count": 0
           },
           {
            "bin_start": 0,
            "bin_end": 0.10000000000000009,
            "count": 5
           },
           {
            "bin_start": 0.10000000000000009,
            "bin_end": 0.20000000000000007,
            "count": 0
           },
           {
            "bin_start": 0.20000000000000007,
            "bin_end": 0.30000000000000004,
            "count": 0
           },
           {
            "bin_start": 0.30000000000000004,
            "bin_end": 0.4,
            "count": 0
           },
           {
            "bin_start": 0.4,
            "bin_end": 0.5,
            "count": 0
           }
          ]
         }
        },
        {
         "name": "are33",
         "dtype": "int64",
         "stats": {
          "unique_count": 1,
          "nan_count": 0,
          "min": "0",
          "max": "0",
          "histogram": [
           {
            "bin_start": -0.5,
            "bin_end": -0.4,
            "count": 0
           },
           {
            "bin_start": -0.4,
            "bin_end": -0.3,
            "count": 0
           },
           {
            "bin_start": -0.3,
            "bin_end": -0.19999999999999996,
            "count": 0
           },
           {
            "bin_start": -0.19999999999999996,
            "bin_end": -0.09999999999999998,
            "count": 0
           },
           {
            "bin_start": -0.09999999999999998,
            "bin_end": 0,
            "count": 0
           },
           {
            "bin_start": 0,
            "bin_end": 0.10000000000000009,
            "count": 5
           },
           {
            "bin_start": 0.10000000000000009,
            "bin_end": 0.20000000000000007,
            "count": 0
           },
           {
            "bin_start": 0.20000000000000007,
            "bin_end": 0.30000000000000004,
            "count": 0
           },
           {
            "bin_start": 0.30000000000000004,
            "bin_end": 0.4,
            "count": 0
           },
           {
            "bin_start": 0.4,
            "bin_end": 0.5,
            "count": 0
           }
          ]
         }
        },
        {
         "name": "tonp",
         "dtype": "int64",
         "stats": {
          "unique_count": 2,
          "nan_count": 0,
          "min": "1",
          "max": "2",
          "histogram": [
           {
            "bin_start": 1,
            "bin_end": 1.1,
            "count": 4
           },
           {
            "bin_start": 1.1,
            "bin_end": 1.2,
            "count": 0
           },
           {
            "bin_start": 1.2,
            "bin_end": 1.3,
            "count": 0
           },
           {
            "bin_start": 1.3,
            "bin_end": 1.4,
            "count": 0
           },
           {
            "bin_start": 1.4,
            "bin_end": 1.5,
            "count": 0
           },
           {
            "bin_start": 1.5,
            "bin_end": 1.6,
            "count": 0
           },
           {
            "bin_start": 1.6,
            "bin_end": 1.7000000000000002,
            "count": 0
           },
           {
            "bin_start": 1.7000000000000002,
            "bin_end": 1.8,
            "count": 0
           },
           {
            "bin_start": 1.8,
            "bin_end": 1.9,
            "count": 0
           },
           {
            "bin_start": 1.9,
            "bin_end": 2,
            "count": 1
           }
          ]
         }
        },
        {
         "name": "aret",
         "dtype": "int64",
         "stats": {
          "unique_count": 5,
          "nan_count": 0,
          "min": "36",
          "max": "3268",
          "histogram": [
           {
            "bin_start": 36,
            "bin_end": 359.2,
            "count": 3
           },
           {
            "bin_start": 359.2,
            "bin_end": 682.4,
            "count": 0
           },
           {
            "bin_start": 682.4,
            "bin_end": 1005.5999999999999,
            "count": 0
           },
           {
            "bin_start": 1005.5999999999999,
            "bin_end": 1328.8,
            "count": 0
           },
           {
            "bin_start": 1328.8,
            "bin_end": 1652,
            "count": 0
           },
           {
            "bin_start": 1652,
            "bin_end": 1975.1999999999998,
            "count": 0
           },
           {
            "bin_start": 1975.1999999999998,
            "bin_end": 2298.4,
            "count": 0
           },
           {
            "bin_start": 2298.4,
            "bin_end": 2621.6,
            "count": 0
           },
           {
            "bin_start": 2621.6,
            "bin_end": 2944.7999999999997,
            "count": 0
           },
           {
            "bin_start": 2944.7999999999997,
            "bin_end": 3268,
            "count": 2
           }
          ]
         }
        },
        {
         "name": "codte1",
         "dtype": "int64",
         "stats": {
          "unique_count": 2,
          "nan_count": 0,
          "min": "0",
          "max": "216",
          "histogram": [
           {
            "bin_start": 0,
            "bin_end": 21.6,
            "count": 4
           },
           {
            "bin_start": 21.6,
            "bin_end": 43.2,
            "count": 0
           },
           {
            "bin_start": 43.2,
            "bin_end": 64.80000000000001,
            "count": 0
           },
           {
            "bin_start": 64.80000000000001,
            "bin_end": 86.4,
            "count": 0
           },
           {
            "bin_start": 86.4,
            "bin_end": 108,
            "count": 0
           },
           {
            "bin_start": 108,
            "bin_end": 129.60000000000002,
            "count": 0
           },
           {
            "bin_start": 129.60000000000002,
            "bin_end": 151.20000000000002,
            "count": 0
           },
           {
            "bin_start": 151.20000000000002,
            "bin_end": 172.8,
            "count": 0
           },
           {
            "bin_start": 172.8,
            "bin_end": 194.4,
            "count": 0
           },
           {
            "bin_start": 194.4,
            "bin_end": 216,
            "count": 1
           }
          ]
         }
        },
        {
         "name": "valte1",
         "dtype": "int64",
         "stats": {
          "unique_count": 2,
          "nan_count": 0,
          "min": "0",
          "max": "1000000",
          "histogram": [
           {
            "bin_start": 0,
            "bin_end": 100000,
            "count": 4
           },
           {
            "bin_start": 100000,
            "bin_end": 200000,
            "count": 0
           },
           {
            "bin_start": 200000,
            "bin_end": 300000,
            "count": 0
           },
           {
            "bin_start": 300000,
            "bin_end": 400000,
            "count": 0
           },
           {
            "bin_start": 400000,
            "bin_end": 500000,
            "count": 0
           },
           {
            "bin_start": 500000,
            "bin_end": 600000,
            "count": 0
           },
           {
            "bin_start": 600000,
            "bin_end": 700000,
            "count": 0
           },
           {
            "bin_start": 700000,
            "bin_end": 800000,
            "count": 0
           },
           {
            "bin_start": 800000,
            "bin_end": 900000,
            "count": 0
           },
           {
            "bin_start": 900000,
            "bin_end": 1000000,
            "count": 1
           }
          ]
         }
        },
        {
         "name": "codte2",
         "dtype": "int64",
         "stats": {
          "unique_count": 1,
          "nan_count": 0,
          "min": "0",
          "max": "0",
          "histogram": [
           {
            "bin_start": -0.5,
            "bin_end": -0.4,
            "count": 0
           },
           {
            "bin_start": -0.4,
            "bin_end": -0.3,
            "count": 0
           },
           {
            "bin_start": -0.3,
            "bin_end": -0.19999999999999996,
            "count": 0
           },
           {
            "bin_start": -0.19999999999999996,
            "bin_end": -0.09999999999999998,
            "count": 0
           },
           {
            "bin_start": -0.09999999999999998,
            "bin_end": 0,
            "count": 0
           },
           {
            "bin_start": 0,
            "bin_end": 0.10000000000000009,
            "count": 5
           },
           {
            "bin_start": 0.10000000000000009,
            "bin_end": 0.20000000000000007,
            "count": 0
           },
           {
            "bin_start": 0.20000000000000007,
            "bin_end": 0.30000000000000004,
            "count": 0
           },
           {
            "bin_start": 0.30000000000000004,
            "bin_end": 0.4,
            "count": 0
           },
           {
            "bin_start": 0.4,
            "bin_end": 0.5,
            "count": 0
           }
          ]
         }
        },
        {
         "name": "valte2",
         "dtype": "int64",
         "stats": {
          "unique_count": 1,
          "nan_count": 0,
          "min": "0",
          "max": "0",
          "histogram": [
           {
            "bin_start": -0.5,
            "bin_end": -0.4,
            "count": 0
           },
           {
            "bin_start": -0.4,
            "bin_end": -0.3,
            "count": 0
           },
           {
            "bin_start": -0.3,
            "bin_end": -0.19999999999999996,
            "count": 0
           },
           {
            "bin_start": -0.19999999999999996,
            "bin_end": -0.09999999999999998,
            "count": 0
           },
           {
            "bin_start": -0.09999999999999998,
            "bin_end": 0,
            "count": 0
           },
           {
            "bin_start": 0,
            "bin_end": 0.10000000000000009,
            "count": 5
           },
           {
            "bin_start": 0.10000000000000009,
            "bin_end": 0.20000000000000007,
            "count": 0
           },
           {
            "bin_start": 0.20000000000000007,
            "bin_end": 0.30000000000000004,
            "count": 0
           },
           {
            "bin_start": 0.30000000000000004,
            "bin_end": 0.4,
            "count": 0
           },
           {
            "bin_start": 0.4,
            "bin_end": 0.5,
            "count": 0
           }
          ]
         }
        },
        {
         "name": "codte3",
         "dtype": "int64",
         "stats": {
          "unique_count": 1,
          "nan_count": 0,
          "min": "0",
          "max": "0",
          "histogram": [
           {
            "bin_start": -0.5,
            "bin_end": -0.4,
            "count": 0
           },
           {
            "bin_start": -0.4,
            "bin_end": -0.3,
            "count": 0
           },
           {
            "bin_start": -0.3,
            "bin_end": -0.19999999999999996,
            "count": 0
           },
           {
            "bin_start": -0.19999999999999996,
            "bin_end": -0.09999999999999998,
            "count": 0
           },
           {
            "bin_start": -0.09999999999999998,
            "bin_end": 0,
            "count": 0
           },
           {
            "bin_start": 0,
            "bin_end": 0.10000000000000009,
            "count": 5
           },
           {
            "bin_start": 0.10000000000000009,
            "bin_end": 0.20000000000000007,
            "count": 0
           },
           {
            "bin_start": 0.20000000000000007,
            "bin_end": 0.30000000000000004,
            "count": 0
           },
           {
            "bin_start": 0.30000000000000004,
            "bin_end": 0.4,
            "count": 0
           },
           {
            "bin_start": 0.4,
            "bin_end": 0.5,
            "count": 0
           }
          ]
         }
        },
        {
         "name": "valte3",
         "dtype": "int64",
         "stats": {
          "unique_count": 1,
          "nan_count": 0,
          "min": "0",
          "max": "0",
          "histogram": [
           {
            "bin_start": -0.5,
            "bin_end": -0.4,
            "count": 0
           },
           {
            "bin_start": -0.4,
            "bin_end": -0.3,
            "count": 0
           },
           {
            "bin_start": -0.3,
            "bin_end": -0.19999999999999996,
            "count": 0
           },
           {
            "bin_start": -0.19999999999999996,
            "bin_end": -0.09999999999999998,
            "count": 0
           },
           {
            "bin_start": -0.09999999999999998,
            "bin_end": 0,
            "count": 0
           },
           {
            "bin_start": 0,
            "bin_end": 0.10000000000000009,
            "count": 5
           },
           {
            "bin_start": 0.10000000000000009,
            "bin_end": 0.20000000000000007,
            "count": 0
           },
           {
            "bin_start": 0.20000000000000007,
            "bin_end": 0.30000000000000004,
            "count": 0
           },
           {
            "bin_start": 0.30000000000000004,
            "bin_end": 0.4,
            "count": 0
           },
           {
            "bin_start": 0.4,
            "bin_end": 0.5,
            "count": 0
           }
          ]
         }
        },
        {
         "name": "codur1",
         "dtype": "int64",
         "stats": {
          "unique_count": 1,
          "nan_count": 0,
          "min": "0",
          "max": "0",
          "histogram": [
           {
            "bin_start": -0.5,
            "bin_end": -0.4,
            "count": 0
           },
           {
            "bin_start": -0.4,
            "bin_end": -0.3,
            "count": 0
           },
           {
            "bin_start": -0.3,
            "bin_end": -0.19999999999999996,
            "count": 0
           },
           {
            "bin_start": -0.19999999999999996,
            "bin_end": -0.09999999999999998,
            "count": 0
           },
           {
            "bin_start": -0.09999999999999998,
            "bin_end": 0,
            "count": 0
           },
           {
            "bin_start": 0,
            "bin_end": 0.10000000000000009,
            "count": 5
           },
           {
            "bin_start": 0.10000000000000009,
            "bin_end": 0.20000000000000007,
            "count": 0
           },
           {
            "bin_start": 0.20000000000000007,
            "bin_end": 0.30000000000000004,
            "count": 0
           },
           {
            "bin_start": 0.30000000000000004,
            "bin_end": 0.4,
            "count": 0
           },
           {
            "bin_start": 0.4,
            "bin_end": 0.5,
            "count": 0
           }
          ]
         }
        },
        {
         "name": "valur1",
         "dtype": "int64",
         "stats": {
          "unique_count": 1,
          "nan_count": 0,
          "min": "0",
          "max": "0",
          "histogram": [
           {
            "bin_start": -0.5,
            "bin_end": -0.4,
            "count": 0
           },
           {
            "bin_start": -0.4,
            "bin_end": -0.3,
            "count": 0
           },
           {
            "bin_start": -0.3,
            "bin_end": -0.19999999999999996,
            "count": 0
           },
           {
            "bin_start": -0.19999999999999996,
            "bin_end": -0.09999999999999998,
            "count": 0
           },
           {
            "bin_start": -0.09999999999999998,
            "bin_end": 0,
            "count": 0
           },
           {
            "bin_start": 0,
            "bin_end": 0.10000000000000009,
            "count": 5
           },
           {
            "bin_start": 0.10000000000000009,
            "bin_end": 0.20000000000000007,
            "count": 0
           },
           {
            "bin_start": 0.20000000000000007,
            "bin_end": 0.30000000000000004,
            "count": 0
           },
           {
            "bin_start": 0.30000000000000004,
            "bin_end": 0.4,
            "count": 0
           },
           {
            "bin_start": 0.4,
            "bin_end": 0.5,
            "count": 0
           }
          ]
         }
        },
        {
         "name": "codur2",
         "dtype": "int64",
         "stats": {
          "unique_count": 1,
          "nan_count": 0,
          "min": "0",
          "max": "0",
          "histogram": [
           {
            "bin_start": -0.5,
            "bin_end": -0.4,
            "count": 0
           },
           {
            "bin_start": -0.4,
            "bin_end": -0.3,
            "count": 0
           },
           {
            "bin_start": -0.3,
            "bin_end": -0.19999999999999996,
            "count": 0
           },
           {
            "bin_start": -0.19999999999999996,
            "bin_end": -0.09999999999999998,
            "count": 0
           },
           {
            "bin_start": -0.09999999999999998,
            "bin_end": 0,
            "count": 0
           },
           {
            "bin_start": 0,
            "bin_end": 0.10000000000000009,
            "count": 5
           },
           {
            "bin_start": 0.10000000000000009,
            "bin_end": 0.20000000000000007,
            "count": 0
           },
           {
            "bin_start": 0.20000000000000007,
            "bin_end": 0.30000000000000004,
            "count": 0
           },
           {
            "bin_start": 0.30000000000000004,
            "bin_end": 0.4,
            "count": 0
           },
           {
            "bin_start": 0.4,
            "bin_end": 0.5,
            "count": 0
           }
          ]
         }
        },
        {
         "name": "valur2",
         "dtype": "int64",
         "stats": {
          "unique_count": 1,
          "nan_count": 0,
          "min": "0",
          "max": "0",
          "histogram": [
           {
            "bin_start": -0.5,
            "bin_end": -0.4,
            "count": 0
           },
           {
            "bin_start": -0.4,
            "bin_end": -0.3,
            "count": 0
           },
           {
            "bin_start": -0.3,
            "bin_end": -0.19999999999999996,
            "count": 0
           },
           {
            "bin_start": -0.19999999999999996,
            "bin_end": -0.09999999999999998,
            "count": 0
           },
           {
            "bin_start": -0.09999999999999998,
            "bin_end": 0,
            "count": 0
           },
           {
            "bin_start": 0,
            "bin_end": 0.10000000000000009,
            "count": 5
           },
           {
            "bin_start": 0.10000000000000009,
            "bin_end": 0.20000000000000007,
            "count": 0
           },
           {
            "bin_start": 0.20000000000000007,
            "bin_end": 0.30000000000000004,
            "count": 0
           },
           {
            "bin_start": 0.30000000000000004,
            "bin_end": 0.4,
            "count": 0
           },
           {
            "bin_start": 0.4,
            "bin_end": 0.5,
            "count": 0
           }
          ]
         }
        },
        {
         "name": "codur3",
         "dtype": "int64",
         "stats": {
          "unique_count": 1,
          "nan_count": 0,
          "min": "0",
          "max": "0",
          "histogram": [
           {
            "bin_start": -0.5,
            "bin_end": -0.4,
            "count": 0
           },
           {
            "bin_start": -0.4,
            "bin_end": -0.3,
            "count": 0
           },
           {
            "bin_start": -0.3,
            "bin_end": -0.19999999999999996,
            "count": 0
           },
           {
            "bin_start": -0.19999999999999996,
            "bin_end": -0.09999999999999998,
            "count": 0
           },
           {
            "bin_start": -0.09999999999999998,
            "bin_end": 0,
            "count": 0
           },
           {
            "bin_start": 0,
            "bin_end": 0.10000000000000009,
            "count": 5
           },
           {
            "bin_start": 0.10000000000000009,
            "bin_end": 0.20000000000000007,
            "count": 0
           },
           {
            "bin_start": 0.20000000000000007,
            "bin_end": 0.30000000000000004,
            "count": 0
           },
           {
            "bin_start": 0.30000000000000004,
            "bin_end": 0.4,
            "count": 0
           },
           {
            "bin_start": 0.4,
            "bin_end": 0.5,
            "count": 0
           }
          ]
         }
        },
        {
         "name": "valur3",
         "dtype": "int64",
         "stats": {
          "unique_count": 1,
          "nan_count": 0,
          "min": "0",
          "max": "0",
          "histogram": [
           {
            "bin_start": -0.5,
            "bin_end": -0.4,
            "count": 0
           },
           {
            "bin_start": -0.4,
            "bin_end": -0.3,
            "count": 0
           },
           {
            "bin_start": -0.3,
            "bin_end": -0.19999999999999996,
            "count": 0
           },
           {
            "bin_start": -0.19999999999999996,
            "bin_end": -0.09999999999999998,
            "count": 0
           },
           {
            "bin_start": -0.09999999999999998,
            "bin_end": 0,
            "count": 0
           },
           {
            "bin_start": 0,
            "bin_end": 0.10000000000000009,
            "count": 5
           },
           {
            "bin_start": 0.10000000000000009,
            "bin_end": 0.20000000000000007,
            "count": 0
           },
           {
            "bin_start": 0.20000000000000007,
            "bin_end": 0.30000000000000004,
            "count": 0
           },
           {
            "bin_start": 0.30000000000000004,
            "bin_end": 0.4,
            "count": 0
           },
           {
            "bin_start": 0.4,
            "bin_end": 0.5,
            "count": 0
           }
          ]
         }
        },
        {
         "name": "cove",
         "dtype": "int64",
         "stats": {
          "unique_count": 3,
          "nan_count": 0,
          "min": "215",
          "max": "227",
          "histogram": [
           {
            "bin_start": 215,
            "bin_end": 216.2,
            "count": 1
           },
           {
            "bin_start": 216.2,
            "bin_end": 217.4,
            "count": 0
           },
           {
            "bin_start": 217.4,
            "bin_end": 218.6,
            "count": 3
           },
           {
            "bin_start": 218.6,
            "bin_end": 219.8,
            "count": 0
           },
           {
            "bin_start": 219.8,
            "bin_end": 221,
            "count": 0
           },
           {
            "bin_start": 221,
            "bin_end": 222.2,
            "count": 0
           },
           {
            "bin_start": 222.2,
            "bin_end": 223.4,
            "count": 0
           },
           {
            "bin_start": 223.4,
            "bin_end": 224.6,
            "count": 0
           },
           {
            "bin_start": 224.6,
            "bin_end": 225.8,
            "count": 0
           },
           {
            "bin_start": 225.8,
            "bin_end": 227,
            "count": 1
           }
          ]
         }
        },
        {
         "name": "vaede",
         "dtype": "int64",
         "stats": {
          "unique_count": 5,
          "nan_count": 0,
          "min": "6500",
          "max": "1125040",
          "histogram": [
           {
            "bin_start": 6500,
            "bin_end": 118354,
            "count": 3
           },
           {
            "bin_start": 118354,
            "bin_end": 230208,
            "count": 0
           },
           {
            "bin_start": 230208,
            "bin_end": 342062,
            "count": 0
           },
           {
            "bin_start": 342062,
            "bin_end": 453916,
            "count": 0
           },
           {
            "bin_start": 453916,
            "bin_end": 565770,
            "count": 0
           },
           {
            "bin_start": 565770,
            "bin_end": 677624,
            "count": 1
           },
           {
            "bin_start": 677624,
            "bin_end": 789478,
            "count": 0
           },
           {
            "bin_start": 789478,
            "bin_end": 901332,
            "count": 0
           },
           {
            "bin_start": 901332,
            "bin_end": 1013186,
            "count": 0
           },
           {
            "bin_start": 1013186,
            "bin_end": 1125040,
            "count": 1
           }
          ]
         }
        },
        {
         "name": "cov2",
         "dtype": "int64",
         "stats": {
          "unique_count": 1,
          "nan_count": 0,
          "min": "0",
          "max": "0",
          "histogram": [
           {
            "bin_start": -0.5,
            "bin_end": -0.4,
            "count": 0
           },
           {
            "bin_start": -0.4,
            "bin_end": -0.3,
            "count": 0
           },
           {
            "bin_start": -0.3,
            "bin_end": -0.19999999999999996,
            "count": 0
           },
           {
            "bin_start": -0.19999999999999996,
            "bin_end": -0.09999999999999998,
            "count": 0
           },
           {
            "bin_start": -0.09999999999999998,
            "bin_end": 0,
            "count": 0
           },
           {
            "bin_start": 0,
            "bin_end": 0.10000000000000009,
            "count": 5
           },
           {
            "bin_start": 0.10000000000000009,
            "bin_end": 0.20000000000000007,
            "count": 0
           },
           {
            "bin_start": 0.20000000000000007,
            "bin_end": 0.30000000000000004,
            "count": 0
           },
           {
            "bin_start": 0.30000000000000004,
            "bin_end": 0.4,
            "count": 0
           },
           {
            "bin_start": 0.4,
            "bin_end": 0.5,
            "count": 0
           }
          ]
         }
        },
        {
         "name": "vae22",
         "dtype": "int64",
         "stats": {
          "unique_count": 1,
          "nan_count": 0,
          "min": "0",
          "max": "0",
          "histogram": [
           {
            "bin_start": -0.5,
            "bin_end": -0.4,
            "count": 0
           },
           {
            "bin_start": -0.4,
            "bin_end": -0.3,
            "count": 0
           },
           {
            "bin_start": -0.3,
            "bin_end": -0.19999999999999996,
            "count": 0
           },
           {
            "bin_start": -0.19999999999999996,
            "bin_end": -0.09999999999999998,
            "count": 0
           },
           {
            "bin_start": -0.09999999999999998,
            "bin_end": 0,
            "count": 0
           },
           {
            "bin_start": 0,
            "bin_end": 0.10000000000000009,
            "count": 5
           },
           {
            "bin_start": 0.10000000000000009,
            "bin_end": 0.20000000000000007,
            "count": 0
           },
           {
            "bin_start": 0.20000000000000007,
            "bin_end": 0.30000000000000004,
            "count": 0
           },
           {
            "bin_start": 0.30000000000000004,
            "bin_end": 0.4,
            "count": 0
           },
           {
            "bin_start": 0.4,
            "bin_end": 0.5,
            "count": 0
           }
          ]
         }
        },
        {
         "name": "cov3",
         "dtype": "int64",
         "stats": {
          "unique_count": 1,
          "nan_count": 0,
          "min": "0",
          "max": "0",
          "histogram": [
           {
            "bin_start": -0.5,
            "bin_end": -0.4,
            "count": 0
           },
           {
            "bin_start": -0.4,
            "bin_end": -0.3,
            "count": 0
           },
           {
            "bin_start": -0.3,
            "bin_end": -0.19999999999999996,
            "count": 0
           },
           {
            "bin_start": -0.19999999999999996,
            "bin_end": -0.09999999999999998,
            "count": 0
           },
           {
            "bin_start": -0.09999999999999998,
            "bin_end": 0,
            "count": 0
           },
           {
            "bin_start": 0,
            "bin_end": 0.10000000000000009,
            "count": 5
           },
           {
            "bin_start": 0.10000000000000009,
            "bin_end": 0.20000000000000007,
            "count": 0
           },
           {
            "bin_start": 0.20000000000000007,
            "bin_end": 0.30000000000000004,
            "count": 0
           },
           {
            "bin_start": 0.30000000000000004,
            "bin_end": 0.4,
            "count": 0
           },
           {
            "bin_start": 0.4,
            "bin_end": 0.5,
            "count": 0
           }
          ]
         }
        },
        {
         "name": "vae33",
         "dtype": "int64",
         "stats": {
          "unique_count": 1,
          "nan_count": 0,
          "min": "0",
          "max": "0",
          "histogram": [
           {
            "bin_start": -0.5,
            "bin_end": -0.4,
            "count": 0
           },
           {
            "bin_start": -0.4,
            "bin_end": -0.3,
            "count": 0
           },
           {
            "bin_start": -0.3,
            "bin_end": -0.19999999999999996,
            "count": 0
           },
           {
            "bin_start": -0.19999999999999996,
            "bin_end": -0.09999999999999998,
            "count": 0
           },
           {
            "bin_start": -0.09999999999999998,
            "bin_end": 0,
            "count": 0
           },
           {
            "bin_start": 0,
            "bin_end": 0.10000000000000009,
            "count": 5
           },
           {
            "bin_start": 0.10000000000000009,
            "bin_end": 0.20000000000000007,
            "count": 0
           },
           {
            "bin_start": 0.20000000000000007,
            "bin_end": 0.30000000000000004,
            "count": 0
           },
           {
            "bin_start": 0.30000000000000004,
            "bin_end": 0.4,
            "count": 0
           },
           {
            "bin_start": 0.4,
            "bin_end": 0.5,
            "count": 0
           }
          ]
         }
        },
        {
         "name": "valt",
         "dtype": "int64",
         "stats": {
          "unique_count": 2,
          "nan_count": 0,
          "min": "0",
          "max": "1000000",
          "histogram": [
           {
            "bin_start": 0,
            "bin_end": 100000,
            "count": 4
           },
           {
            "bin_start": 100000,
            "bin_end": 200000,
            "count": 0
           },
           {
            "bin_start": 200000,
            "bin_end": 300000,
            "count": 0
           },
           {
            "bin_start": 300000,
            "bin_end": 400000,
            "count": 0
           },
           {
            "bin_start": 400000,
            "bin_end": 500000,
            "count": 0
           },
           {
            "bin_start": 500000,
            "bin_end": 600000,
            "count": 0
           },
           {
            "bin_start": 600000,
            "bin_end": 700000,
            "count": 0
           },
           {
            "bin_start": 700000,
            "bin_end": 800000,
            "count": 0
           },
           {
            "bin_start": 800000,
            "bin_end": 900000,
            "count": 0
           },
           {
            "bin_start": 900000,
            "bin_end": 1000000,
            "count": 1
           }
          ]
         }
        },
        {
         "name": "vtou",
         "dtype": "int64",
         "stats": {
          "unique_count": 1,
          "nan_count": 0,
          "min": "0",
          "max": "0",
          "histogram": [
           {
            "bin_start": -0.5,
            "bin_end": -0.4,
            "count": 0
           },
           {
            "bin_start": -0.4,
            "bin_end": -0.3,
            "count": 0
           },
           {
            "bin_start": -0.3,
            "bin_end": -0.19999999999999996,
            "count": 0
           },
           {
            "bin_start": -0.19999999999999996,
            "bin_end": -0.09999999999999998,
            "count": 0
           },
           {
            "bin_start": -0.09999999999999998,
            "bin_end": 0,
            "count": 0
           },
           {
            "bin_start": 0,
            "bin_end": 0.10000000000000009,
            "count": 5
           },
           {
            "bin_start": 0.10000000000000009,
            "bin_end": 0.20000000000000007,
            "count": 0
           },
           {
            "bin_start": 0.20000000000000007,
            "bin_end": 0.30000000000000004,
            "count": 0
           },
           {
            "bin_start": 0.30000000000000004,
            "bin_end": 0.4,
            "count": 0
           },
           {
            "bin_start": 0.4,
            "bin_end": 0.5,
            "count": 0
           }
          ]
         }
        },
        {
         "name": "vted",
         "dtype": "int64",
         "stats": {
          "unique_count": 5,
          "nan_count": 0,
          "min": "6500",
          "max": "1125040",
          "histogram": [
           {
            "bin_start": 6500,
            "bin_end": 118354,
            "count": 3
           },
           {
            "bin_start": 118354,
            "bin_end": 230208,
            "count": 0
           },
           {
            "bin_start": 230208,
            "bin_end": 342062,
            "count": 0
           },
           {
            "bin_start": 342062,
            "bin_end": 453916,
            "count": 0
           },
           {
            "bin_start": 453916,
            "bin_end": 565770,
            "count": 0
           },
           {
            "bin_start": 565770,
            "bin_end": 677624,
            "count": 1
           },
           {
            "bin_start": 677624,
            "bin_end": 789478,
            "count": 0
           },
           {
            "bin_start": 789478,
            "bin_end": 901332,
            "count": 0
           },
           {
            "bin_start": 901332,
            "bin_end": 1013186,
            "count": 0
           },
           {
            "bin_start": 1013186,
            "bin_end": 1125040,
            "count": 1
           }
          ]
         }
        },
        {
         "name": "COAMS",
         "dtype": "int64",
         "stats": {
          "unique_count": 4,
          "nan_count": 0,
          "min": "0",
          "max": "197",
          "histogram": [
           {
            "bin_start": 0,
            "bin_end": 19.7,
            "count": 1
           },
           {
            "bin_start": 19.7,
            "bin_end": 39.4,
            "count": 0
           },
           {
            "bin_start": 39.4,
            "bin_end": 59.099999999999994,
            "count": 0
           },
           {
            "bin_start": 59.099999999999994,
            "bin_end": 78.8,
            "count": 0
           },
           {
            "bin_start": 78.8,
            "bin_end": 98.5,
            "count": 0
           },
           {
            "bin_start": 98.5,
            "bin_end": 118.19999999999999,
            "count": 0
           },
           {
            "bin_start": 118.19999999999999,
            "bin_end": 137.9,
            "count": 0
           },
           {
            "bin_start": 137.9,
            "bin_end": 157.6,
            "count": 0
           },
           {
            "bin_start": 157.6,
            "bin_end": 177.29999999999998,
            "count": 2
           },
           {
            "bin_start": 177.29999999999998,
            "bin_end": 197,
            "count": 2
           }
          ]
         }
        },
        {
         "name": "COVEMS",
         "dtype": "int64",
         "stats": {
          "unique_count": 3,
          "nan_count": 0,
          "min": "215",
          "max": "227",
          "histogram": [
           {
            "bin_start": 215,
            "bin_end": 216.2,
            "count": 1
           },
           {
            "bin_start": 216.2,
            "bin_end": 217.4,
            "count": 0
           },
           {
            "bin_start": 217.4,
            "bin_end": 218.6,
            "count": 3
           },
           {
            "bin_start": 218.6,
            "bin_end": 219.8,
            "count": 0
           },
           {
            "bin_start": 219.8,
            "bin_end": 221,
            "count": 0
           },
           {
            "bin_start": 221,
            "bin_end": 222.2,
            "count": 0
           },
           {
            "bin_start": 222.2,
            "bin_end": 223.4,
            "count": 0
           },
           {
            "bin_start": 223.4,
            "bin_end": 224.6,
            "count": 0
           },
           {
            "bin_start": 224.6,
            "bin_end": 225.8,
            "count": 0
           },
           {
            "bin_start": 225.8,
            "bin_end": 227,
            "count": 1
           }
          ]
         }
        },
        {
         "name": "COVET5",
         "dtype": "int64",
         "stats": {
          "unique_count": 3,
          "nan_count": 0,
          "min": "215",
          "max": "227",
          "histogram": [
           {
            "bin_start": 215,
            "bin_end": 216.2,
            "count": 1
           },
           {
            "bin_start": 216.2,
            "bin_end": 217.4,
            "count": 0
           },
           {
            "bin_start": 217.4,
            "bin_end": 218.6,
            "count": 3
           },
           {
            "bin_start": 218.6,
            "bin_end": 219.8,
            "count": 0
           },
           {
            "bin_start": 219.8,
            "bin_end": 221,
            "count": 0
           },
           {
            "bin_start": 221,
            "bin_end": 222.2,
            "count": 0
           },
           {
            "bin_start": 222.2,
            "bin_end": 223.4,
            "count": 0
           },
           {
            "bin_start": 223.4,
            "bin_end": 224.6,
            "count": 0
           },
           {
            "bin_start": 224.6,
            "bin_end": 225.8,
            "count": 0
           },
           {
            "bin_start": 225.8,
            "bin_end": 227,
            "count": 1
           }
          ]
         }
        },
        {
         "name": "NUPIRES",
         "dtype": "int64",
         "stats": {
          "unique_count": 2,
          "nan_count": 0,
          "min": "1",
          "max": "2",
          "histogram": [
           {
            "bin_start": 1,
            "bin_end": 1.1,
            "count": 4
           },
           {
            "bin_start": 1.1,
            "bin_end": 1.2,
            "count": 0
           },
           {
            "bin_start": 1.2,
            "bin_end": 1.3,
            "count": 0
           },
           {
            "bin_start": 1.3,
            "bin_end": 1.4,
            "count": 0
           },
           {
            "bin_start": 1.4,
            "bin_end": 1.5,
            "count": 0
           },
           {
            "bin_start": 1.5,
            "bin_end": 1.6,
            "count": 0
           },
           {
            "bin_start": 1.6,
            "bin_end": 1.7000000000000002,
            "count": 0
           },
           {
            "bin_start": 1.7000000000000002,
            "bin_end": 1.8,
            "count": 0
           },
           {
            "bin_start": 1.8,
            "bin_end": 1.9,
            "count": 0
           },
           {
            "bin_start": 1.9,
            "bin_end": 2,
            "count": 1
           }
          ]
         }
        },
        {
         "name": "NUVICAL",
         "dtype": "int64",
         "stats": {
          "unique_count": 2,
          "nan_count": 0,
          "min": "0",
          "max": "57",
          "histogram": [
           {
            "bin_start": 0,
            "bin_end": 5.7,
            "count": 4
           },
           {
            "bin_start": 5.7,
            "bin_end": 11.4,
            "count": 0
           },
           {
            "bin_start": 11.4,
            "bin_end": 17.1,
            "count": 0
           },
           {
            "bin_start": 17.1,
            "bin_end": 22.8,
            "count": 0
           },
           {
            "bin_start": 22.8,
            "bin_end": 28.5,
            "count": 0
           },
           {
            "bin_start": 28.5,
            "bin_end": 34.2,
            "count": 0
           },
           {
            "bin_start": 34.2,
            "bin_end": 39.9,
            "count": 0
           },
           {
            "bin_start": 39.9,
            "bin_end": 45.6,
            "count": 0
           },
           {
            "bin_start": 45.6,
            "bin_end": 51.300000000000004,
            "count": 0
           },
           {
            "bin_start": 51.300000000000004,
            "bin_end": 57,
            "count": 1
           }
          ]
         }
        },
        {
         "name": "NUDOCAL",
         "dtype": "int64",
         "stats": {
          "unique_count": 2,
          "nan_count": 0,
          "min": "1",
          "max": "2",
          "histogram": [
           {
            "bin_start": 1,
            "bin_end": 1.1,
            "count": 4
           },
           {
            "bin_start": 1.1,
            "bin_end": 1.2,
            "count": 0
           },
           {
            "bin_start": 1.2,
            "bin_end": 1.3,
            "count": 0
           },
           {
            "bin_start": 1.3,
            "bin_end": 1.4,
            "count": 0
           },
           {
            "bin_start": 1.4,
            "bin_end": 1.5,
            "count": 0
           },
           {
            "bin_start": 1.5,
            "bin_end": 1.6,
            "count": 0
           },
           {
            "bin_start": 1.6,
            "bin_end": 1.7000000000000002,
            "count": 0
           },
           {
            "bin_start": 1.7000000000000002,
            "bin_end": 1.8,
            "count": 0
           },
           {
            "bin_start": 1.8,
            "bin_end": 1.9,
            "count": 0
           },
           {
            "bin_start": 1.9,
            "bin_end": 2,
            "count": 1
           }
          ]
         }
        },
        {
         "name": "NUCUCAL",
         "dtype": "int64",
         "stats": {
          "unique_count": 2,
          "nan_count": 0,
          "min": "1",
          "max": "3",
          "histogram": [
           {
            "bin_start": 1,
            "bin_end": 1.2,
            "count": 4
           },
           {
            "bin_start": 1.2,
            "bin_end": 1.4,
            "count": 0
           },
           {
            "bin_start": 1.4,
            "bin_end": 1.6,
            "count": 0
           },
           {
            "bin_start": 1.6,
            "bin_end": 1.8,
            "count": 0
           },
           {
            "bin_start": 1.8,
            "bin_end": 2,
            "count": 0
           },
           {
            "bin_start": 2,
            "bin_end": 2.2,
            "count": 0
           },
           {
            "bin_start": 2.2,
            "bin_end": 2.4000000000000004,
            "count": 0
           },
           {
            "bin_start": 2.4000000000000004,
            "bin_end": 2.6,
            "count": 0
           },
           {
            "bin_start": 2.6,
            "bin_end": 2.8,
            "count": 0
           },
           {
            "bin_start": 2.8,
            "bin_end": 3,
            "count": 1
           }
          ]
         }
        },
        {
         "name": "CARCO",
         "dtype": "int64",
         "stats": {
          "unique_count": 5,
          "nan_count": 0,
          "min": "36",
          "max": "3268",
          "histogram": [
           {
            "bin_start": 36,
            "bin_end": 359.2,
            "count": 3
           },
           {
            "bin_start": 359.2,
            "bin_end": 682.4,
            "count": 0
           },
           {
            "bin_start": 682.4,
            "bin_end": 1005.5999999999999,
            "count": 0
           },
           {
            "bin_start": 1005.5999999999999,
            "bin_end": 1328.8,
            "count": 0
           },
           {
            "bin_start": 1328.8,
            "bin_end": 1652,
            "count": 0
           },
           {
            "bin_start": 1652,
            "bin_end": 1975.1999999999998,
            "count": 0
           },
           {
            "bin_start": 1975.1999999999998,
            "bin_end": 2298.4,
            "count": 0
           },
           {
            "bin_start": 2298.4,
            "bin_end": 2621.6,
            "count": 0
           },
           {
            "bin_start": 2621.6,
            "bin_end": 2944.7999999999997,
            "count": 0
           },
           {
            "bin_start": 2944.7999999999997,
            "bin_end": 3268,
            "count": 2
           }
          ]
         }
        },
        {
         "name": "CARES",
         "dtype": "int64",
         "stats": {
          "unique_count": 2,
          "nan_count": 0,
          "min": "0",
          "max": "3214",
          "histogram": [
           {
            "bin_start": 0,
            "bin_end": 321.4,
            "count": 4
           },
           {
            "bin_start": 321.4,
            "bin_end": 642.8,
            "count": 0
           },
           {
            "bin_start": 642.8,
            "bin_end": 964.1999999999999,
            "count": 0
           },
           {
            "bin_start": 964.1999999999999,
            "bin_end": 1285.6,
            "count": 0
           },
           {
            "bin_start": 1285.6,
            "bin_end": 1607,
            "count": 0
           },
           {
            "bin_start": 1607,
            "bin_end": 1928.3999999999999,
            "count": 0
           },
           {
            "bin_start": 1928.3999999999999,
            "bin_end": 2249.7999999999997,
            "count": 0
           },
           {
            "bin_start": 2249.7999999999997,
            "bin_end": 2571.2,
            "count": 0
           },
           {
            "bin_start": 2571.2,
            "bin_end": 2892.6,
            "count": 0
           },
           {
            "bin_start": 2892.6,
            "bin_end": 3214,
            "count": 1
           }
          ]
         }
        },
        {
         "name": "CARNRES",
         "dtype": "int64",
         "stats": {
          "unique_count": 5,
          "nan_count": 0,
          "min": "0",
          "max": "3268",
          "histogram": [
           {
            "bin_start": 0,
            "bin_end": 326.8,
            "count": 4
           },
           {
            "bin_start": 326.8,
            "bin_end": 653.6,
            "count": 0
           },
           {
            "bin_start": 653.6,
            "bin_end": 980.4000000000001,
            "count": 0
           },
           {
            "bin_start": 980.4000000000001,
            "bin_end": 1307.2,
            "count": 0
           },
           {
            "bin_start": 1307.2,
            "bin_end": 1634,
            "count": 0
           },
           {
            "bin_start": 1634,
            "bin_end": 1960.8000000000002,
            "count": 0
           },
           {
            "bin_start": 1960.8000000000002,
            "bin_end": 2287.6,
            "count": 0
           },
           {
            "bin_start": 2287.6,
            "bin_end": 2614.4,
            "count": 0
           },
           {
            "bin_start": 2614.4,
            "bin_end": 2941.2000000000003,
            "count": 0
           },
           {
            "bin_start": 2941.2000000000003,
            "bin_end": 3268,
            "count": 1
           }
          ]
         }
        },
        {
         "name": "CARDPAR",
         "dtype": "int64",
         "stats": {
          "unique_count": 1,
          "nan_count": 0,
          "min": "0",
          "max": "0",
          "histogram": [
           {
            "bin_start": -0.5,
            "bin_end": -0.4,
            "count": 0
           },
           {
            "bin_start": -0.4,
            "bin_end": -0.3,
            "count": 0
           },
           {
            "bin_start": -0.3,
            "bin_end": -0.19999999999999996,
            "count": 0
           },
           {
            "bin_start": -0.19999999999999996,
            "bin_end": -0.09999999999999998,
            "count": 0
           },
           {
            "bin_start": -0.09999999999999998,
            "bin_end": 0,
            "count": 0
           },
           {
            "bin_start": 0,
            "bin_end": 0.10000000000000009,
            "count": 5
           },
           {
            "bin_start": 0.10000000000000009,
            "bin_end": 0.20000000000000007,
            "count": 0
           },
           {
            "bin_start": 0.20000000000000007,
            "bin_end": 0.30000000000000004,
            "count": 0
           },
           {
            "bin_start": 0.30000000000000004,
            "bin_end": 0.4,
            "count": 0
           },
           {
            "bin_start": 0.4,
            "bin_end": 0.5,
            "count": 0
           }
          ]
         }
        },
        {
         "name": "CAESV",
         "dtype": "int64",
         "stats": {
          "unique_count": 5,
          "nan_count": 0,
          "min": "0",
          "max": "34495",
          "histogram": [
           {
            "bin_start": 0,
            "bin_end": 3449.5,
            "count": 2
           },
           {
            "bin_start": 3449.5,
            "bin_end": 6899,
            "count": 0
           },
           {
            "bin_start": 6899,
            "bin_end": 10348.5,
            "count": 2
           },
           {
            "bin_start": 10348.5,
            "bin_end": 13798,
            "count": 0
           },
           {
            "bin_start": 13798,
            "bin_end": 17247.5,
            "count": 0
           },
           {
            "bin_start": 17247.5,
            "bin_end": 20697,
            "count": 0
           },
           {
            "bin_start": 20697,
            "bin_end": 24146.5,
            "count": 0
           },
           {
            "bin_start": 24146.5,
            "bin_end": 27596,
            "count": 0
           },
           {
            "bin_start": 27596,
            "bin_end": 31045.5,
            "count": 0
           },
           {
            "bin_start": 31045.5,
            "bin_end": 34495,
            "count": 1
           }
          ]
         }
        },
        {
         "name": "CSUTE",
         "dtype": "int64",
         "stats": {
          "unique_count": 4,
          "nan_count": 0,
          "min": "0",
          "max": "34739",
          "histogram": [
           {
            "bin_start": 0,
            "bin_end": 3473.9,
            "count": 1
           },
           {
            "bin_start": 3473.9,
            "bin_end": 6947.8,
            "count": 1
           },
           {
            "bin_start": 6947.8,
            "bin_end": 10421.7,
            "count": 2
           },
           {
            "bin_start": 10421.7,
            "bin_end": 13895.6,
            "count": 0
           },
           {
            "bin_start": 13895.6,
            "bin_end": 17369.5,
            "count": 0
           },
           {
            "bin_start": 17369.5,
            "bin_end": 20843.4,
            "count": 0
           },
           {
            "bin_start": 20843.4,
            "bin_end": 24317.3,
            "count": 0
           },
           {
            "bin_start": 24317.3,
            "bin_end": 27791.2,
            "count": 0
           },
           {
            "bin_start": 27791.2,
            "bin_end": 31265.100000000002,
            "count": 0
           },
           {
            "bin_start": 31265.100000000002,
            "bin_end": 34739,
            "count": 1
           }
          ]
         }
        },
        {
         "name": "CTIPOBR",
         "dtype": "int64",
         "stats": {
          "unique_count": 2,
          "nan_count": 0,
          "min": "1",
          "max": "2",
          "histogram": [
           {
            "bin_start": 1,
            "bin_end": 1.1,
            "count": 4
           },
           {
            "bin_start": 1.1,
            "bin_end": 1.2,
            "count": 0
           },
           {
            "bin_start": 1.2,
            "bin_end": 1.3,
            "count": 0
           },
           {
            "bin_start": 1.3,
            "bin_end": 1.4,
            "count": 0
           },
           {
            "bin_start": 1.4,
            "bin_end": 1.5,
            "count": 0
           },
           {
            "bin_start": 1.5,
            "bin_end": 1.6,
            "count": 0
           },
           {
            "bin_start": 1.6,
            "bin_end": 1.7000000000000002,
            "count": 0
           },
           {
            "bin_start": 1.7000000000000002,
            "bin_end": 1.8,
            "count": 0
           },
           {
            "bin_start": 1.8,
            "bin_end": 1.9,
            "count": 0
           },
           {
            "bin_start": 1.9,
            "bin_end": 2,
            "count": 1
           }
          ]
         }
        },
        {
         "name": "DESCTIPOBR",
         "dtype": "object",
         "stats": {
          "unique_count": 2,
          "nan_count": 0,
          "categories": [
           {
            "name": "Nueva Construcción",
            "count": 4
           },
           {
            "name": "Ampliación",
            "count": 1
           }
          ]
         }
        },
        {
         "name": "CPERM",
         "dtype": "int64",
         "stats": {
          "unique_count": 1,
          "nan_count": 0,
          "min": "1",
          "max": "1",
          "histogram": [
           {
            "bin_start": 0.5,
            "bin_end": 0.6,
            "count": 0
           },
           {
            "bin_start": 0.6,
            "bin_end": 0.7,
            "count": 0
           },
           {
            "bin_start": 0.7,
            "bin_end": 0.8,
            "count": 0
           },
           {
            "bin_start": 0.8,
            "bin_end": 0.9,
            "count": 0
           },
           {
            "bin_start": 0.9,
            "bin_end": 1,
            "count": 0
           },
           {
            "bin_start": 1,
            "bin_end": 1.1,
            "count": 5
           },
           {
            "bin_start": 1.1,
            "bin_end": 1.2000000000000002,
            "count": 0
           },
           {
            "bin_start": 1.2000000000000002,
            "bin_end": 1.3,
            "count": 0
           },
           {
            "bin_start": 1.3,
            "bin_end": 1.4,
            "count": 0
           },
           {
            "bin_start": 1.4,
            "bin_end": 1.5,
            "count": 0
           }
          ]
         }
        },
        {
         "name": "CDISPSUT",
         "dtype": "int64",
         "stats": {
          "unique_count": 2,
          "nan_count": 0,
          "min": "1",
          "max": "8",
          "histogram": [
           {
            "bin_start": 1,
            "bin_end": 1.7,
            "count": 1
           },
           {
            "bin_start": 1.7,
            "bin_end": 2.4,
            "count": 0
           },
           {
            "bin_start": 2.4,
            "bin_end": 3.0999999999999996,
            "count": 0
           },
           {
            "bin_start": 3.0999999999999996,
            "bin_end": 3.8,
            "count": 0
           },
           {
            "bin_start": 3.8,
            "bin_end": 4.5,
            "count": 0
           },
           {
            "bin_start": 4.5,
            "bin_end": 5.199999999999999,
            "count": 0
           },
           {
            "bin_start": 5.199999999999999,
            "bin_end": 5.8999999999999995,
            "count": 0
           },
           {
            "bin_start": 5.8999999999999995,
            "bin_end": 6.6,
            "count": 0
           },
           {
            "bin_start": 6.6,
            "bin_end": 7.3,
            "count": 0
           },
           {
            "bin_start": 7.3,
            "bin_end": 8,
            "count": 4
           }
          ]
         }
        },
        {
         "name": "DESCDISPSUT",
         "dtype": "object",
         "stats": {
          "unique_count": 2,
          "nan_count": 0,
          "categories": [
           {
            "name": "( >=700 M2 )",
            "count": 4
           },
           {
            "name": "( < 100 M2 )",
            "count": 1
           }
          ]
         }
        },
        {
         "name": "CDISPUSO",
         "dtype": "int64",
         "stats": {
          "unique_count": 4,
          "nan_count": 0,
          "min": "3",
          "max": "14",
          "histogram": [
           {
            "bin_start": 3,
            "bin_end": 4.1,
            "count": 3
           },
           {
            "bin_start": 4.1,
            "bin_end": 5.2,
            "count": 0
           },
           {
            "bin_start": 5.2,
            "bin_end": 6.300000000000001,
            "count": 0
           },
           {
            "bin_start": 6.300000000000001,
            "bin_end": 7.4,
            "count": 0
           },
           {
            "bin_start": 7.4,
            "bin_end": 8.5,
            "count": 0
           },
           {
            "bin_start": 8.5,
            "bin_end": 9.600000000000001,
            "count": 1
           },
           {
            "bin_start": 9.600000000000001,
            "bin_end": 10.700000000000001,
            "count": 0
           },
           {
            "bin_start": 10.700000000000001,
            "bin_end": 11.8,
            "count": 0
           },
           {
            "bin_start": 11.8,
            "bin_end": 12.9,
            "count": 0
           },
           {
            "bin_start": 12.9,
            "bin_end": 14,
            "count": 1
           }
          ]
         }
        },
        {
         "name": "DESCDISPUSO",
         "dtype": "object",
         "stats": {
          "unique_count": 4,
          "nan_count": 0,
          "categories": [
           {
            "name": "Comercial",
            "count": 2
           },
           {
            "name": "Tres o Más Familias",
            "count": 1
           },
           {
            "name": "2 others",
            "count": 2
           }
          ]
         }
        },
        {
         "name": "CDISPARC",
         "dtype": "int64",
         "stats": {
          "unique_count": 3,
          "nan_count": 0,
          "min": "1",
          "max": "6",
          "histogram": [
           {
            "bin_start": 1,
            "bin_end": 1.5,
            "count": 2
           },
           {
            "bin_start": 1.5,
            "bin_end": 2,
            "count": 0
           },
           {
            "bin_start": 2,
            "bin_end": 2.5,
            "count": 0
           },
           {
            "bin_start": 2.5,
            "bin_end": 3,
            "count": 0
           },
           {
            "bin_start": 3,
            "bin_end": 3.5,
            "count": 1
           },
           {
            "bin_start": 3.5,
            "bin_end": 4,
            "count": 0
           },
           {
            "bin_start": 4,
            "bin_end": 4.5,
            "count": 0
           },
           {
            "bin_start": 4.5,
            "bin_end": 5,
            "count": 0
           },
           {
            "bin_start": 5,
            "bin_end": 5.5,
            "count": 0
           },
           {
            "bin_start": 5.5,
            "bin_end": 6,
            "count": 2
           }
          ]
         }
        },
        {
         "name": "DESCDISPARC",
         "dtype": "object",
         "stats": {
          "unique_count": 3,
          "nan_count": 0,
          "categories": [
           {
            "name": "( >=500 M2)",
            "count": 2
           },
           {
            "name": "( < 100 M2 )",
            "count": 2
           },
           {
            "name": "( >=200 M2 Y <300 M2)",
            "count": 1
           }
          ]
         }
        },
        {
         "name": "CDISPRFI",
         "dtype": "int64",
         "stats": {
          "unique_count": 3,
          "nan_count": 0,
          "min": "1",
          "max": "5",
          "histogram": [
           {
            "bin_start": 1,
            "bin_end": 1.4,
            "count": 1
           },
           {
            "bin_start": 1.4,
            "bin_end": 1.8,
            "count": 0
           },
           {
            "bin_start": 1.8,
            "bin_end": 2.2,
            "count": 3
           },
           {
            "bin_start": 2.2,
            "bin_end": 2.6,
            "count": 0
           },
           {
            "bin_start": 2.6,
            "bin_end": 3,
            "count": 0
           },
           {
            "bin_start": 3,
            "bin_end": 3.4000000000000004,
            "count": 0
           },
           {
            "bin_start": 3.4000000000000004,
            "bin_end": 3.8000000000000003,
            "count": 0
           },
           {
            "bin_start": 3.8000000000000003,
            "bin_end": 4.2,
            "count": 0
           },
           {
            "bin_start": 4.2,
            "bin_end": 4.6,
            "count": 0
           },
           {
            "bin_start": 4.6,
            "bin_end": 5,
            "count": 1
           }
          ]
         }
        },
        {
         "name": "DESCDISPRFI",
         "dtype": "object",
         "stats": {
          "unique_count": 3,
          "nan_count": 0,
          "categories": [
           {
            "name": "Recursos Propios de Empresas y Constructoras Privadas",
            "count": 3
           },
           {
            "name": "Recursos Propios Personales",
            "count": 1
           },
           {
            "name": "Recursos Propios gobierno central, provincial, seccional",
            "count": 1
           }
          ]
         }
        },
        {
         "name": "CDISPRFX",
         "dtype": "int64",
         "stats": {
          "unique_count": 3,
          "nan_count": 0,
          "min": "1",
          "max": "5",
          "histogram": [
           {
            "bin_start": 1,
            "bin_end": 1.4,
            "count": 1
           },
           {
            "bin_start": 1.4,
            "bin_end": 1.8,
            "count": 0
           },
           {
            "bin_start": 1.8,
            "bin_end": 2.2,
            "count": 3
           },
           {
            "bin_start": 2.2,
            "bin_end": 2.6,
            "count": 0
           },
           {
            "bin_start": 2.6,
            "bin_end": 3,
            "count": 0
           },
           {
            "bin_start": 3,
            "bin_end": 3.4000000000000004,
            "count": 0
           },
           {
            "bin_start": 3.4000000000000004,
            "bin_end": 3.8000000000000003,
            "count": 0
           },
           {
            "bin_start": 3.8000000000000003,
            "bin_end": 4.2,
            "count": 0
           },
           {
            "bin_start": 4.2,
            "bin_end": 4.6,
            "count": 0
           },
           {
            "bin_start": 4.6,
            "bin_end": 5,
            "count": 1
           }
          ]
         }
        },
        {
         "name": "DESCDISPRFX",
         "dtype": "object",
         "stats": {
          "unique_count": 3,
          "nan_count": 0,
          "categories": [
           {
            "name": "Recursos Propios de Empresas y Constructoras Privadas",
            "count": 3
           },
           {
            "name": "Recursos Propios Personales",
            "count": 1
           },
           {
            "name": "Recursos Propios gobierno central, provincial, seccional",
            "count": 1
           }
          ]
         }
        },
        {
         "name": "CNUVICAL",
         "dtype": "int64",
         "stats": {
          "unique_count": 2,
          "nan_count": 0,
          "min": "0",
          "max": "57",
          "histogram": [
           {
            "bin_start": 0,
            "bin_end": 5.7,
            "count": 4
           },
           {
            "bin_start": 5.7,
            "bin_end": 11.4,
            "count": 0
           },
           {
            "bin_start": 11.4,
            "bin_end": 17.1,
            "count": 0
           },
           {
            "bin_start": 17.1,
            "bin_end": 22.8,
            "count": 0
           },
           {
            "bin_start": 22.8,
            "bin_end": 28.5,
            "count": 0
           },
           {
            "bin_start": 28.5,
            "bin_end": 34.2,
            "count": 0
           },
           {
            "bin_start": 34.2,
            "bin_end": 39.9,
            "count": 0
           },
           {
            "bin_start": 39.9,
            "bin_end": 45.6,
            "count": 0
           },
           {
            "bin_start": 45.6,
            "bin_end": 51.300000000000004,
            "count": 0
           },
           {
            "bin_start": 51.300000000000004,
            "bin_end": 57,
            "count": 1
           }
          ]
         }
        },
        {
         "name": "CVAE",
         "dtype": "int64",
         "stats": {
          "unique_count": 5,
          "nan_count": 0,
          "min": "6500",
          "max": "1125040",
          "histogram": [
           {
            "bin_start": 6500,
            "bin_end": 118354,
            "count": 3
           },
           {
            "bin_start": 118354,
            "bin_end": 230208,
            "count": 0
           },
           {
            "bin_start": 230208,
            "bin_end": 342062,
            "count": 0
           },
           {
            "bin_start": 342062,
            "bin_end": 453916,
            "count": 0
           },
           {
            "bin_start": 453916,
            "bin_end": 565770,
            "count": 0
           },
           {
            "bin_start": 565770,
            "bin_end": 677624,
            "count": 1
           },
           {
            "bin_start": 677624,
            "bin_end": 789478,
            "count": 0
           },
           {
            "bin_start": 789478,
            "bin_end": 901332,
            "count": 0
           },
           {
            "bin_start": 901332,
            "bin_end": 1013186,
            "count": 0
           },
           {
            "bin_start": 1013186,
            "bin_end": 1125040,
            "count": 1
           }
          ]
         }
        },
        {
         "name": "CAREAUR",
         "dtype": "int64",
         "stats": {
          "unique_count": 2,
          "nan_count": 0,
          "min": "1",
          "max": "2",
          "histogram": [
           {
            "bin_start": 1,
            "bin_end": 1.1,
            "count": 4
           },
           {
            "bin_start": 1.1,
            "bin_end": 1.2,
            "count": 0
           },
           {
            "bin_start": 1.2,
            "bin_end": 1.3,
            "count": 0
           },
           {
            "bin_start": 1.3,
            "bin_end": 1.4,
            "count": 0
           },
           {
            "bin_start": 1.4,
            "bin_end": 1.5,
            "count": 0
           },
           {
            "bin_start": 1.5,
            "bin_end": 1.6,
            "count": 0
           },
           {
            "bin_start": 1.6,
            "bin_end": 1.7000000000000002,
            "count": 0
           },
           {
            "bin_start": 1.7000000000000002,
            "bin_end": 1.8,
            "count": 0
           },
           {
            "bin_start": 1.8,
            "bin_end": 1.9,
            "count": 0
           },
           {
            "bin_start": 1.9,
            "bin_end": 2,
            "count": 1
           }
          ]
         }
        },
        {
         "name": "DESCAREAUR",
         "dtype": "object",
         "stats": {
          "unique_count": 2,
          "nan_count": 0,
          "categories": [
           {
            "name": "Urbana",
            "count": 4
           },
           {
            "name": "Rural",
            "count": 1
           }
          ]
         }
        },
        {
         "name": "_deepnote_index_column",
         "dtype": "int64"
        }
       ],
       "rows_top": [
        {
         "provin": 9,
         "desprovin": "GUAYAS",
         "canton": 6,
         "descodcantf": "DAULE",
         "mes": 9,
         "desmes": "SEPTIEMBRE",
         "año": 3,
         "desaño": 2012,
         "nubo": 27,
         "fper": "2012-09-20T00:00:00.000000",
         "propie": 1,
         "despropie": "Privada",
         "tipbr": 100,
         "destipbr": "Nueva Construcción",
         "sute": 3501,
         "arpb": 3214,
         "arco": 3214,
         "aesv": 287,
         "cimi": 120,
         "descimi": "Hormigón Armado",
         "estru": 121,
         "desestru": "Hormigón Armado",
         "pared": 126,
         "despared": "Bloque",
         "cubi": 127,
         "descubi": "Eternit-Ardex-Asbesto",
         "cres": 170,
         "descres": "Residencia 3 o más Famili",
         "numuni": 1,
         "nuvi": 57,
         "nucu": 171,
         "nudo": 114,
         "nupi": 1,
         "ares": 3214,
         "coa11": 0,
         "nup11": 0,
         "are11": 0,
         "coa22": 0,
         "nup22": 0,
         "are22": 0,
         "coa33": 0,
         "nup33": 0,
         "are33": 0,
         "tonp": 1,
         "aret": 3214,
         "codte1": 0,
         "valte1": 0,
         "codte2": 0,
         "valte2": 0,
         "codte3": 0,
         "valte3": 0,
         "codur1": 0,
         "valur1": 0,
         "codur2": 0,
         "valur2": 0,
         "codur3": 0,
         "valur3": 0,
         "cove": 218,
         "vaede": 1125040,
         "cov2": 0,
         "vae22": 0,
         "cov3": 0,
         "vae33": 0,
         "valt": 0,
         "vtou": 0,
         "vted": 1125040,
         "COAMS": 0,
         "COVEMS": 218,
         "COVET5": 218,
         "NUPIRES": 1,
         "NUVICAL": 57,
         "NUDOCAL": 2,
         "NUCUCAL": 3,
         "CARCO": 3214,
         "CARES": 3214,
         "CARNRES": 0,
         "CARDPAR": 0,
         "CAESV": 287,
         "CSUTE": 3501,
         "CTIPOBR": 1,
         "DESCTIPOBR": "Nueva Construcción",
         "CPERM": 1,
         "CDISPSUT": 8,
         "DESCDISPSUT": "( >=700 M2 )",
         "CDISPUSO": 3,
         "DESCDISPUSO": "Tres o Más Familias",
         "CDISPARC": 6,
         "DESCDISPARC": "( >=500 M2)",
         "CDISPRFI": 2,
         "DESCDISPRFI": "Recursos Propios de Empresas y Constructoras Privadas",
         "CDISPRFX": 2,
         "DESCDISPRFX": "Recursos Propios de Empresas y Constructoras Privadas",
         "CNUVICAL": 57,
         "CVAE": 1125040,
         "CAREAUR": 1,
         "DESCAREAUR": "Urbana",
         "_deepnote_index_column": 0
        },
        {
         "provin": 14,
         "desprovin": "MORONA SANTIAGO",
         "canton": 1,
         "descodcantf": "MORONA",
         "mes": 6,
         "desmes": "JUNIO",
         "año": 3,
         "desaño": 2012,
         "nubo": 11,
         "fper": "2012-06-08T00:00:00.000000",
         "propie": 1,
         "despropie": "Privada",
         "tipbr": 101,
         "destipbr": "Ampliación hacia arriba",
         "sute": 0,
         "arpb": 0,
         "arco": 36,
         "aesv": 0,
         "cimi": 0,
         "descimi": "No Aplica",
         "estru": 121,
         "desestru": "Hormigón Armado",
         "pared": 126,
         "despared": "Bloque",
         "cubi": 127,
         "descubi": "Eternit-Ardex-Asbesto",
         "cres": 0,
         "descres": "No Aplica",
         "numuni": 1,
         "nuvi": 0,
         "nucu": 0,
         "nudo": 0,
         "nupi": 0,
         "ares": 0,
         "coa11": 177,
         "nup11": 1,
         "are11": 36,
         "coa22": 0,
         "nup22": 0,
         "are22": 0,
         "coa33": 0,
         "nup33": 0,
         "are33": 0,
         "tonp": 1,
         "aret": 36,
         "codte1": 0,
         "valte1": 0,
         "codte2": 0,
         "valte2": 0,
         "codte3": 0,
         "valte3": 0,
         "codur1": 0,
         "valur1": 0,
         "codur2": 0,
         "valur2": 0,
         "codur3": 0,
         "valur3": 0,
         "cove": 215,
         "vaede": 6500,
         "cov2": 0,
         "vae22": 0,
         "cov3": 0,
         "vae33": 0,
         "valt": 0,
         "vtou": 0,
         "vted": 6500,
         "COAMS": 177,
         "COVEMS": 215,
         "COVET5": 215,
         "NUPIRES": 1,
         "NUVICAL": 0,
         "NUDOCAL": 1,
         "NUCUCAL": 1,
         "CARCO": 36,
         "CARES": 0,
         "CARNRES": 36,
         "CARDPAR": 0,
         "CAESV": 0,
         "CSUTE": 0,
         "CTIPOBR": 2,
         "DESCTIPOBR": "Ampliación",
         "CPERM": 1,
         "CDISPSUT": 1,
         "DESCDISPSUT": "( < 100 M2 )",
         "CDISPUSO": 4,
         "DESCDISPUSO": "Comercial",
         "CDISPARC": 1,
         "DESCDISPARC": "( < 100 M2 )",
         "CDISPRFI": 1,
         "DESCDISPRFI": "Recursos Propios Personales",
         "CDISPRFX": 1,
         "DESCDISPRFX": "Recursos Propios Personales",
         "CNUVICAL": 0,
         "CVAE": 6500,
         "CAREAUR": 1,
         "DESCAREAUR": "Urbana",
         "_deepnote_index_column": 1
        },
        {
         "provin": 15,
         "desprovin": "NAPO",
         "canton": 1,
         "descodcantf": "TENA",
         "mes": 8,
         "desmes": "AGOSTO",
         "año": 3,
         "desaño": 2012,
         "nubo": 9,
         "fper": "2012-08-23T00:00:00.000000",
         "propie": 2,
         "despropie": "Pública",
         "tipbr": 100,
         "destipbr": "Nueva Construcción",
         "sute": 10000,
         "arpb": 96,
         "arco": 96,
         "aesv": 9904,
         "cimi": 120,
         "descimi": "Hormigón Armado",
         "estru": 125,
         "desestru": "Metálica",
         "pared": 146,
         "despared": "Otras",
         "cubi": 127,
         "descubi": "Eternit-Ardex-Asbesto",
         "cres": 0,
         "descres": "No Aplica",
         "numuni": 1,
         "nuvi": 0,
         "nucu": 0,
         "nudo": 0,
         "nupi": 0,
         "ares": 0,
         "coa11": 197,
         "nup11": 1,
         "are11": 96,
         "coa22": 0,
         "nup22": 0,
         "are22": 0,
         "coa33": 0,
         "nup33": 0,
         "are33": 0,
         "tonp": 1,
         "aret": 96,
         "codte1": 0,
         "valte1": 0,
         "codte2": 0,
         "valte2": 0,
         "codte3": 0,
         "valte3": 0,
         "codur1": 0,
         "valur1": 0,
         "codur2": 0,
         "valur2": 0,
         "codur3": 0,
         "valur3": 0,
         "cove": 227,
         "vaede": 14400,
         "cov2": 0,
         "vae22": 0,
         "cov3": 0,
         "vae33": 0,
         "valt": 0,
         "vtou": 0,
         "vted": 14400,
         "COAMS": 197,
         "COVEMS": 227,
         "COVET5": 227,
         "NUPIRES": 1,
         "NUVICAL": 0,
         "NUDOCAL": 1,
         "NUCUCAL": 1,
         "CARCO": 96,
         "CARES": 0,
         "CARNRES": 96,
         "CARDPAR": 0,
         "CAESV": 9904,
         "CSUTE": 10000,
         "CTIPOBR": 1,
         "DESCTIPOBR": "Nueva Construcción",
         "CPERM": 1,
         "CDISPSUT": 8,
         "DESCDISPSUT": "( >=700 M2 )",
         "CDISPUSO": 14,
         "DESCDISPUSO": "Otras",
         "CDISPARC": 1,
         "DESCDISPARC": "( < 100 M2 )",
         "CDISPRFI": 5,
         "DESCDISPRFI": "Recursos Propios gobierno central, provincial, seccional",
         "CDISPRFX": 5,
         "DESCDISPRFX": "Recursos Propios gobierno central, provincial, seccional",
         "CNUVICAL": 0,
         "CVAE": 14400,
         "CAREAUR": 1,
         "DESCAREAUR": "Urbana",
         "_deepnote_index_column": 2
        },
        {
         "provin": 9,
         "desprovin": "GUAYAS",
         "canton": 6,
         "descodcantf": "DAULE",
         "mes": 7,
         "desmes": "JULIO",
         "año": 3,
         "desaño": 2012,
         "nubo": 2,
         "fper": "2012-07-03T00:00:00.000000",
         "propie": 1,
         "despropie": "Privada",
         "tipbr": 100,
         "destipbr": "Nueva Construcción",
         "sute": 34739,
         "arpb": 244,
         "arco": 244,
         "aesv": 34495,
         "cimi": 120,
         "descimi": "Hormigón Armado",
         "estru": 121,
         "desestru": "Hormigón Armado",
         "pared": 126,
         "despared": "Bloque",
         "cubi": 127,
         "descubi": "Eternit-Ardex-Asbesto",
         "cres": 0,
         "descres": "No Aplica",
         "numuni": 1,
         "nuvi": 0,
         "nucu": 0,
         "nudo": 0,
         "nupi": 0,
         "ares": 0,
         "coa11": 187,
         "nup11": 1,
         "are11": 244,
         "coa22": 0,
         "nup22": 0,
         "are22": 0,
         "coa33": 0,
         "nup33": 0,
         "are33": 0,
         "tonp": 1,
         "aret": 244,
         "codte1": 0,
         "valte1": 0,
         "codte2": 0,
         "valte2": 0,
         "codte3": 0,
         "valte3": 0,
         "codur1": 0,
         "valur1": 0,
         "codur2": 0,
         "valur2": 0,
         "codur3": 0,
         "valur3": 0,
         "cove": 218,
         "vaede": 102628,
         "cov2": 0,
         "vae22": 0,
         "cov3": 0,
         "vae33": 0,
         "valt": 0,
         "vtou": 0,
         "vted": 102628,
         "COAMS": 187,
         "COVEMS": 218,
         "COVET5": 218,
         "NUPIRES": 1,
         "NUVICAL": 0,
         "NUDOCAL": 1,
         "NUCUCAL": 1,
         "CARCO": 244,
         "CARES": 0,
         "CARNRES": 244,
         "CARDPAR": 0,
         "CAESV": 34495,
         "CSUTE": 34739,
         "CTIPOBR": 1,
         "DESCTIPOBR": "Nueva Construcción",
         "CPERM": 1,
         "CDISPSUT": 8,
         "DESCDISPSUT": "( >=700 M2 )",
         "CDISPUSO": 9,
         "DESCDISPUSO": "Recreación Deporte",
         "CDISPARC": 3,
         "DESCDISPARC": "( >=200 M2 Y <300 M2)",
         "CDISPRFI": 2,
         "DESCDISPRFI": "Recursos Propios de Empresas y Constructoras Privadas",
         "CDISPRFX": 2,
         "DESCDISPRFX": "Recursos Propios de Empresas y Constructoras Privadas",
         "CNUVICAL": 0,
         "CVAE": 102628,
         "CAREAUR": 1,
         "DESCAREAUR": "Urbana",
         "_deepnote_index_column": 3
        },
        {
         "provin": 17,
         "desprovin": "PICHINCHA",
         "canton": 1,
         "descodcantf": "QUITO",
         "mes": 12,
         "desmes": "DICIEMBRE",
         "año": 3,
         "desaño": 2012,
         "nubo": 5,
         "fper": "2012-12-17T00:00:00.000000",
         "propie": 1,
         "despropie": "Privada",
         "tipbr": 100,
         "destipbr": "Nueva Construcción",
         "sute": 10000,
         "arpb": 2227,
         "arco": 3268,
         "aesv": 7773,
         "cimi": 120,
         "descimi": "Hormigón Armado",
         "estru": 125,
         "desestru": "Metálica",
         "pared": 126,
         "despared": "Bloque",
         "cubi": 127,
         "descubi": "Eternit-Ardex-Asbesto",
         "cres": 0,
         "descres": "No Aplica",
         "numuni": 1,
         "nuvi": 0,
         "nucu": 0,
         "nudo": 0,
         "nupi": 0,
         "ares": 0,
         "coa11": 177,
         "nup11": 2,
         "are11": 3268,
         "coa22": 0,
         "nup22": 0,
         "are22": 0,
         "coa33": 0,
         "nup33": 0,
         "are33": 0,
         "tonp": 2,
         "aret": 3268,
         "codte1": 216,
         "valte1": 1000000,
         "codte2": 0,
         "valte2": 0,
         "codte3": 0,
         "valte3": 0,
         "codur1": 0,
         "valur1": 0,
         "codur2": 0,
         "valur2": 0,
         "codur3": 0,
         "valur3": 0,
         "cove": 218,
         "vaede": 600000,
         "cov2": 0,
         "vae22": 0,
         "cov3": 0,
         "vae33": 0,
         "valt": 1000000,
         "vtou": 0,
         "vted": 600000,
         "COAMS": 177,
         "COVEMS": 218,
         "COVET5": 218,
         "NUPIRES": 2,
         "NUVICAL": 0,
         "NUDOCAL": 1,
         "NUCUCAL": 1,
         "CARCO": 3268,
         "CARES": 0,
         "CARNRES": 3268,
         "CARDPAR": 0,
         "CAESV": 7773,
         "CSUTE": 10000,
         "CTIPOBR": 1,
         "DESCTIPOBR": "Nueva Construcción",
         "CPERM": 1,
         "CDISPSUT": 8,
         "DESCDISPSUT": "( >=700 M2 )",
         "CDISPUSO": 4,
         "DESCDISPUSO": "Comercial",
         "CDISPARC": 6,
         "DESCDISPARC": "( >=500 M2)",
         "CDISPRFI": 2,
         "DESCDISPRFI": "Recursos Propios de Empresas y Constructoras Privadas",
         "CDISPRFX": 2,
         "DESCDISPRFX": "Recursos Propios de Empresas y Constructoras Privadas",
         "CNUVICAL": 0,
         "CVAE": 600000,
         "CAREAUR": 2,
         "DESCAREAUR": "Rural",
         "_deepnote_index_column": 4
        }
       ],
       "rows_bottom": null
      },
      "text/plain": "   provin        desprovin  canton descodcantf  mes      desmes  año  desaño  \\\n0       9           GUAYAS       6       DAULE    9  SEPTIEMBRE    3    2012   \n1      14  MORONA SANTIAGO       1      MORONA    6       JUNIO    3    2012   \n2      15             NAPO       1        TENA    8      AGOSTO    3    2012   \n3       9           GUAYAS       6       DAULE    7       JULIO    3    2012   \n4      17        PICHINCHA       1       QUITO   12   DICIEMBRE    3    2012   \n\n   nubo       fper  ...  CDISPARC            DESCDISPARC  CDISPRFI  \\\n0    27 2012-09-20  ...         6            ( >=500 M2)         2   \n1    11 2012-06-08  ...         1           ( < 100 M2 )         1   \n2     9 2012-08-23  ...         1           ( < 100 M2 )         5   \n3     2 2012-07-03  ...         3  ( >=200 M2 Y <300 M2)         2   \n4     5 2012-12-17  ...         6            ( >=500 M2)         2   \n\n                                         DESCDISPRFI  CDISPRFX  \\\n0  Recursos Propios de Empresas y Constructoras P...         2   \n1                        Recursos Propios Personales         1   \n2  Recursos Propios gobierno central, provincial,...         5   \n3  Recursos Propios de Empresas y Constructoras P...         2   \n4  Recursos Propios de Empresas y Constructoras P...         2   \n\n                                         DESCDISPRFX  CNUVICAL     CVAE  \\\n0  Recursos Propios de Empresas y Constructoras P...        57  1125040   \n1                        Recursos Propios Personales         0     6500   \n2  Recursos Propios gobierno central, provincial,...         0    14400   \n3  Recursos Propios de Empresas y Constructoras P...         0   102628   \n4  Recursos Propios de Empresas y Constructoras P...         0   600000   \n\n   CAREAUR DESCAREAUR  \n0        1     Urbana  \n1        1     Urbana  \n2        1     Urbana  \n3        1     Urbana  \n4        2      Rural  \n\n[5 rows x 96 columns]",
      "text/html": "<div>\n<style scoped>\n    .dataframe tbody tr th:only-of-type {\n        vertical-align: middle;\n    }\n\n    .dataframe tbody tr th {\n        vertical-align: top;\n    }\n\n    .dataframe thead th {\n        text-align: right;\n    }\n</style>\n<table border=\"1\" class=\"dataframe\">\n  <thead>\n    <tr style=\"text-align: right;\">\n      <th></th>\n      <th>provin</th>\n      <th>desprovin</th>\n      <th>canton</th>\n      <th>descodcantf</th>\n      <th>mes</th>\n      <th>desmes</th>\n      <th>año</th>\n      <th>desaño</th>\n      <th>nubo</th>\n      <th>fper</th>\n      <th>...</th>\n      <th>CDISPARC</th>\n      <th>DESCDISPARC</th>\n      <th>CDISPRFI</th>\n      <th>DESCDISPRFI</th>\n      <th>CDISPRFX</th>\n      <th>DESCDISPRFX</th>\n      <th>CNUVICAL</th>\n      <th>CVAE</th>\n      <th>CAREAUR</th>\n      <th>DESCAREAUR</th>\n    </tr>\n  </thead>\n  <tbody>\n    <tr>\n      <th>0</th>\n      <td>9</td>\n      <td>GUAYAS</td>\n      <td>6</td>\n      <td>DAULE</td>\n      <td>9</td>\n      <td>SEPTIEMBRE</td>\n      <td>3</td>\n      <td>2012</td>\n      <td>27</td>\n      <td>2012-09-20</td>\n      <td>...</td>\n      <td>6</td>\n      <td>( &gt;=500 M2)</td>\n      <td>2</td>\n      <td>Recursos Propios de Empresas y Constructoras P...</td>\n      <td>2</td>\n      <td>Recursos Propios de Empresas y Constructoras P...</td>\n      <td>57</td>\n      <td>1125040</td>\n      <td>1</td>\n      <td>Urbana</td>\n    </tr>\n    <tr>\n      <th>1</th>\n      <td>14</td>\n      <td>MORONA SANTIAGO</td>\n      <td>1</td>\n      <td>MORONA</td>\n      <td>6</td>\n      <td>JUNIO</td>\n      <td>3</td>\n      <td>2012</td>\n      <td>11</td>\n      <td>2012-06-08</td>\n      <td>...</td>\n      <td>1</td>\n      <td>( &lt; 100 M2 )</td>\n      <td>1</td>\n      <td>Recursos Propios Personales</td>\n      <td>1</td>\n      <td>Recursos Propios Personales</td>\n      <td>0</td>\n      <td>6500</td>\n      <td>1</td>\n      <td>Urbana</td>\n    </tr>\n    <tr>\n      <th>2</th>\n      <td>15</td>\n      <td>NAPO</td>\n      <td>1</td>\n      <td>TENA</td>\n      <td>8</td>\n      <td>AGOSTO</td>\n      <td>3</td>\n      <td>2012</td>\n      <td>9</td>\n      <td>2012-08-23</td>\n      <td>...</td>\n      <td>1</td>\n      <td>( &lt; 100 M2 )</td>\n      <td>5</td>\n      <td>Recursos Propios gobierno central, provincial,...</td>\n      <td>5</td>\n      <td>Recursos Propios gobierno central, provincial,...</td>\n      <td>0</td>\n      <td>14400</td>\n      <td>1</td>\n      <td>Urbana</td>\n    </tr>\n    <tr>\n      <th>3</th>\n      <td>9</td>\n      <td>GUAYAS</td>\n      <td>6</td>\n      <td>DAULE</td>\n      <td>7</td>\n      <td>JULIO</td>\n      <td>3</td>\n      <td>2012</td>\n      <td>2</td>\n      <td>2012-07-03</td>\n      <td>...</td>\n      <td>3</td>\n      <td>( &gt;=200 M2 Y &lt;300 M2)</td>\n      <td>2</td>\n      <td>Recursos Propios de Empresas y Constructoras P...</td>\n      <td>2</td>\n      <td>Recursos Propios de Empresas y Constructoras P...</td>\n      <td>0</td>\n      <td>102628</td>\n      <td>1</td>\n      <td>Urbana</td>\n    </tr>\n    <tr>\n      <th>4</th>\n      <td>17</td>\n      <td>PICHINCHA</td>\n      <td>1</td>\n      <td>QUITO</td>\n      <td>12</td>\n      <td>DICIEMBRE</td>\n      <td>3</td>\n      <td>2012</td>\n      <td>5</td>\n      <td>2012-12-17</td>\n      <td>...</td>\n      <td>6</td>\n      <td>( &gt;=500 M2)</td>\n      <td>2</td>\n      <td>Recursos Propios de Empresas y Constructoras P...</td>\n      <td>2</td>\n      <td>Recursos Propios de Empresas y Constructoras P...</td>\n      <td>0</td>\n      <td>600000</td>\n      <td>2</td>\n      <td>Rural</td>\n    </tr>\n  </tbody>\n</table>\n<p>5 rows × 96 columns</p>\n</div>"
     },
     "metadata": {}
    }
   ]
  },
  {
   "cell_type": "code",
   "metadata": {
    "tags": [],
    "cell_id": "00007-495720e0-bcc3-4116-b35f-7cd3d23889d9",
    "deepnote_to_be_reexecuted": false,
    "source_hash": "c6ec339d",
    "execution_start": 1630116810523,
    "execution_millis": 37,
    "deepnote_cell_type": "code"
   },
   "source": "df_construction_2012.info()",
   "execution_count": null,
   "outputs": [
    {
     "name": "stdout",
     "text": "<class 'pandas.core.frame.DataFrame'>\nRangeIndex: 29050 entries, 0 to 29049\nData columns (total 96 columns):\n #   Column       Non-Null Count  Dtype         \n---  ------       --------------  -----         \n 0   provin       29050 non-null  int64         \n 1   desprovin    29050 non-null  object        \n 2   canton       29050 non-null  int64         \n 3   descodcantf  29050 non-null  object        \n 4   mes          29050 non-null  int64         \n 5   desmes       29050 non-null  object        \n 6   año          29050 non-null  int64         \n 7   desaño       29050 non-null  int64         \n 8   nubo         29050 non-null  int64         \n 9   fper         29050 non-null  datetime64[ns]\n 10  propie       29050 non-null  int64         \n 11  despropie    29050 non-null  object        \n 12  tipbr        29050 non-null  int64         \n 13  destipbr     29050 non-null  object        \n 14  sute         29050 non-null  float64       \n 15  arpb         29050 non-null  int64         \n 16  arco         29050 non-null  int64         \n 17  aesv         29050 non-null  int64         \n 18  cimi         29050 non-null  int64         \n 19  descimi      29050 non-null  object        \n 20  estru        29050 non-null  int64         \n 21  desestru     29050 non-null  object        \n 22  pared        29050 non-null  int64         \n 23  despared     29050 non-null  object        \n 24  cubi         29050 non-null  int64         \n 25  descubi      29050 non-null  object        \n 26  cres         29050 non-null  int64         \n 27  descres      29050 non-null  object        \n 28  numuni       29050 non-null  int64         \n 29  nuvi         29050 non-null  int64         \n 30  nucu         29050 non-null  int64         \n 31  nudo         29050 non-null  int64         \n 32  nupi         29050 non-null  int64         \n 33  ares         29050 non-null  int64         \n 34  coa11        29050 non-null  int64         \n 35  nup11        29050 non-null  int64         \n 36  are11        29050 non-null  int64         \n 37  coa22        29050 non-null  int64         \n 38  nup22        29050 non-null  int64         \n 39  are22        29050 non-null  int64         \n 40  coa33        29050 non-null  int64         \n 41  nup33        29050 non-null  int64         \n 42  are33        29050 non-null  int64         \n 43  tonp         29050 non-null  int64         \n 44  aret         29050 non-null  int64         \n 45  codte1       29050 non-null  int64         \n 46  valte1       29050 non-null  int64         \n 47  codte2       29050 non-null  int64         \n 48  valte2       29050 non-null  int64         \n 49  codte3       29050 non-null  int64         \n 50  valte3       29050 non-null  int64         \n 51  codur1       29050 non-null  int64         \n 52  valur1       29050 non-null  int64         \n 53  codur2       29050 non-null  int64         \n 54  valur2       29050 non-null  int64         \n 55  codur3       29050 non-null  int64         \n 56  valur3       29050 non-null  int64         \n 57  cove         29050 non-null  int64         \n 58  vaede        29050 non-null  int64         \n 59  cov2         29050 non-null  int64         \n 60  vae22        29050 non-null  int64         \n 61  cov3         29050 non-null  int64         \n 62  vae33        29050 non-null  int64         \n 63  valt         29050 non-null  int64         \n 64  vtou         29050 non-null  int64         \n 65  vted         29050 non-null  int64         \n 66  COAMS        29050 non-null  int64         \n 67  COVEMS       29050 non-null  int64         \n 68  COVET5       29050 non-null  int64         \n 69  NUPIRES      29050 non-null  int64         \n 70  NUVICAL      29050 non-null  int64         \n 71  NUDOCAL      29050 non-null  int64         \n 72  NUCUCAL      29050 non-null  int64         \n 73  CARCO        29050 non-null  int64         \n 74  CARES        29050 non-null  int64         \n 75  CARNRES      29050 non-null  int64         \n 76  CARDPAR      29050 non-null  int64         \n 77  CAESV        29050 non-null  int64         \n 78  CSUTE        29050 non-null  int64         \n 79  CTIPOBR      29050 non-null  int64         \n 80  DESCTIPOBR   29050 non-null  object        \n 81  CPERM        29050 non-null  int64         \n 82  CDISPSUT     29050 non-null  int64         \n 83  DESCDISPSUT  29050 non-null  object        \n 84  CDISPUSO     29050 non-null  int64         \n 85  DESCDISPUSO  29050 non-null  object        \n 86  CDISPARC     29050 non-null  int64         \n 87  DESCDISPARC  29050 non-null  object        \n 88  CDISPRFI     29050 non-null  int64         \n 89  DESCDISPRFI  29050 non-null  object        \n 90  CDISPRFX     29050 non-null  int64         \n 91  DESCDISPRFX  29050 non-null  object        \n 92  CNUVICAL     29050 non-null  int64         \n 93  CVAE         29050 non-null  int64         \n 94  CAREAUR      29050 non-null  int64         \n 95  DESCAREAUR   29050 non-null  object        \ndtypes: datetime64[ns](1), float64(1), int64(77), object(17)\nmemory usage: 21.3+ MB\n",
     "output_type": "stream"
    }
   ]
  },
  {
   "cell_type": "code",
   "metadata": {
    "tags": [],
    "cell_id": "00009-353a4d0a-748b-4bc1-8d89-f83001a06f0e",
    "deepnote_to_be_reexecuted": false,
    "source_hash": "4e045d50",
    "execution_start": 1630374605345,
    "execution_millis": 40,
    "deepnote_cell_type": "code"
   },
   "source": "df_construction_2012['fper'] = pd.to_datetime(df_construction_2012['fper'])",
   "execution_count": null,
   "outputs": []
  },
  {
   "cell_type": "code",
   "metadata": {
    "tags": [],
    "cell_id": "00010-d9ef97d8-7606-440d-a163-e602435dc966",
    "deepnote_to_be_reexecuted": false,
    "source_hash": "3c95ff5b",
    "execution_start": 1630374616011,
    "execution_millis": 29,
    "deepnote_cell_type": "code"
   },
   "source": "df_construction_2012['sute'] = df_construction_2012['sute'].astype('float')    ",
   "execution_count": null,
   "outputs": []
  },
  {
   "cell_type": "code",
   "metadata": {
    "tags": [],
    "cell_id": "00011-839f4375-d9e0-4c7d-b741-6f48afd56294",
    "deepnote_to_be_reexecuted": false,
    "source_hash": "a027d067",
    "execution_start": 1630374618162,
    "execution_millis": 4,
    "deepnote_cell_type": "code"
   },
   "source": "df_construction_2012['numuni'] = df_construction_2012['numuni'].astype('float')    \n",
   "execution_count": null,
   "outputs": []
  },
  {
   "cell_type": "code",
   "metadata": {
    "tags": [],
    "cell_id": "00010-d65c4376-b975-4461-8cdf-642b3db24059",
    "deepnote_to_be_reexecuted": false,
    "source_hash": "32578340",
    "execution_start": 1630096069591,
    "execution_millis": 361,
    "deepnote_cell_type": "code"
   },
   "source": "df_construction_2012.describe()",
   "execution_count": null,
   "outputs": [
    {
     "output_type": "execute_result",
     "execution_count": 23,
     "data": {
      "application/vnd.deepnote.dataframe.v2+json": {
       "row_count": 8,
       "column_count": 78,
       "columns": [
        {
         "name": "provin",
         "dtype": "float64",
         "stats": {
          "unique_count": 8,
          "nan_count": 0,
          "min": "1.0",
          "max": "29050.0",
          "histogram": [
           {
            "bin_start": 1,
            "bin_end": 2905.9,
            "count": 7
           },
           {
            "bin_start": 2905.9,
            "bin_end": 5810.8,
            "count": 0
           },
           {
            "bin_start": 5810.8,
            "bin_end": 8715.7,
            "count": 0
           },
           {
            "bin_start": 8715.7,
            "bin_end": 11620.6,
            "count": 0
           },
           {
            "bin_start": 11620.6,
            "bin_end": 14525.5,
            "count": 0
           },
           {
            "bin_start": 14525.5,
            "bin_end": 17430.4,
            "count": 0
           },
           {
            "bin_start": 17430.4,
            "bin_end": 20335.3,
            "count": 0
           },
           {
            "bin_start": 20335.3,
            "bin_end": 23240.2,
            "count": 0
           },
           {
            "bin_start": 23240.2,
            "bin_end": 26145.100000000002,
            "count": 0
           },
           {
            "bin_start": 26145.100000000002,
            "bin_end": 29050,
            "count": 1
           }
          ]
         }
        },
        {
         "name": "canton",
         "dtype": "float64",
         "stats": {
          "unique_count": 6,
          "nan_count": 0,
          "min": "1.0",
          "max": "29050.0",
          "histogram": [
           {
            "bin_start": 1,
            "bin_end": 2905.9,
            "count": 7
           },
           {
            "bin_start": 2905.9,
            "bin_end": 5810.8,
            "count": 0
           },
           {
            "bin_start": 5810.8,
            "bin_end": 8715.7,
            "count": 0
           },
           {
            "bin_start": 8715.7,
            "bin_end": 11620.6,
            "count": 0
           },
           {
            "bin_start": 11620.6,
            "bin_end": 14525.5,
            "count": 0
           },
           {
            "bin_start": 14525.5,
            "bin_end": 17430.4,
            "count": 0
           },
           {
            "bin_start": 17430.4,
            "bin_end": 20335.3,
            "count": 0
           },
           {
            "bin_start": 20335.3,
            "bin_end": 23240.2,
            "count": 0
           },
           {
            "bin_start": 23240.2,
            "bin_end": 26145.100000000002,
            "count": 0
           },
           {
            "bin_start": 26145.100000000002,
            "bin_end": 29050,
            "count": 1
           }
          ]
         }
        },
        {
         "name": "mes",
         "dtype": "float64",
         "stats": {
          "unique_count": 8,
          "nan_count": 0,
          "min": "1.0",
          "max": "29050.0",
          "histogram": [
           {
            "bin_start": 1,
            "bin_end": 2905.9,
            "count": 7
           },
           {
            "bin_start": 2905.9,
            "bin_end": 5810.8,
            "count": 0
           },
           {
            "bin_start": 5810.8,
            "bin_end": 8715.7,
            "count": 0
           },
           {
            "bin_start": 8715.7,
            "bin_end": 11620.6,
            "count": 0
           },
           {
            "bin_start": 11620.6,
            "bin_end": 14525.5,
            "count": 0
           },
           {
            "bin_start": 14525.5,
            "bin_end": 17430.4,
            "count": 0
           },
           {
            "bin_start": 17430.4,
            "bin_end": 20335.3,
            "count": 0
           },
           {
            "bin_start": 20335.3,
            "bin_end": 23240.2,
            "count": 0
           },
           {
            "bin_start": 23240.2,
            "bin_end": 26145.100000000002,
            "count": 0
           },
           {
            "bin_start": 26145.100000000002,
            "bin_end": 29050,
            "count": 1
           }
          ]
         }
        },
        {
         "name": "año",
         "dtype": "float64",
         "stats": {
          "unique_count": 3,
          "nan_count": 0,
          "min": "0.0",
          "max": "29050.0",
          "histogram": [
           {
            "bin_start": 0,
            "bin_end": 2905,
            "count": 7
           },
           {
            "bin_start": 2905,
            "bin_end": 5810,
            "count": 0
           },
           {
            "bin_start": 5810,
            "bin_end": 8715,
            "count": 0
           },
           {
            "bin_start": 8715,
            "bin_end": 11620,
            "count": 0
           },
           {
            "bin_start": 11620,
            "bin_end": 14525,
            "count": 0
           },
           {
            "bin_start": 14525,
            "bin_end": 17430,
            "count": 0
           },
           {
            "bin_start": 17430,
            "bin_end": 20335,
            "count": 0
           },
           {
            "bin_start": 20335,
            "bin_end": 23240,
            "count": 0
           },
           {
            "bin_start": 23240,
            "bin_end": 26145,
            "count": 0
           },
           {
            "bin_start": 26145,
            "bin_end": 29050,
            "count": 1
           }
          ]
         }
        },
        {
         "name": "desaño",
         "dtype": "float64",
         "stats": {
          "unique_count": 3,
          "nan_count": 0,
          "min": "0.0",
          "max": "29050.0",
          "histogram": [
           {
            "bin_start": 0,
            "bin_end": 2905,
            "count": 7
           },
           {
            "bin_start": 2905,
            "bin_end": 5810,
            "count": 0
           },
           {
            "bin_start": 5810,
            "bin_end": 8715,
            "count": 0
           },
           {
            "bin_start": 8715,
            "bin_end": 11620,
            "count": 0
           },
           {
            "bin_start": 11620,
            "bin_end": 14525,
            "count": 0
           },
           {
            "bin_start": 14525,
            "bin_end": 17430,
            "count": 0
           },
           {
            "bin_start": 17430,
            "bin_end": 20335,
            "count": 0
           },
           {
            "bin_start": 20335,
            "bin_end": 23240,
            "count": 0
           },
           {
            "bin_start": 23240,
            "bin_end": 26145,
            "count": 0
           },
           {
            "bin_start": 26145,
            "bin_end": 29050,
            "count": 1
           }
          ]
         }
        },
        {
         "name": "nubo",
         "dtype": "float64",
         "stats": {
          "unique_count": 8,
          "nan_count": 0,
          "min": "1.0",
          "max": "29050.0",
          "histogram": [
           {
            "bin_start": 1,
            "bin_end": 2905.9,
            "count": 7
           },
           {
            "bin_start": 2905.9,
            "bin_end": 5810.8,
            "count": 0
           },
           {
            "bin_start": 5810.8,
            "bin_end": 8715.7,
            "count": 0
           },
           {
            "bin_start": 8715.7,
            "bin_end": 11620.6,
            "count": 0
           },
           {
            "bin_start": 11620.6,
            "bin_end": 14525.5,
            "count": 0
           },
           {
            "bin_start": 14525.5,
            "bin_end": 17430.4,
            "count": 0
           },
           {
            "bin_start": 17430.4,
            "bin_end": 20335.3,
            "count": 0
           },
           {
            "bin_start": 20335.3,
            "bin_end": 23240.2,
            "count": 0
           },
           {
            "bin_start": 23240.2,
            "bin_end": 26145.100000000002,
            "count": 0
           },
           {
            "bin_start": 26145.100000000002,
            "bin_end": 29050,
            "count": 1
           }
          ]
         }
        },
        {
         "name": "propie",
         "dtype": "float64",
         "stats": {
          "unique_count": 5,
          "nan_count": 0,
          "min": "0.05108252572488814",
          "max": "29050.0",
          "histogram": [
           {
            "bin_start": 0.05108252572488814,
            "bin_end": 2905.0459742731523,
            "count": 7
           },
           {
            "bin_start": 2905.0459742731523,
            "bin_end": 5810.04086602058,
            "count": 0
           },
           {
            "bin_start": 5810.04086602058,
            "bin_end": 8715.035757768006,
            "count": 0
           },
           {
            "bin_start": 8715.035757768006,
            "bin_end": 11620.030649515435,
            "count": 0
           },
           {
            "bin_start": 11620.030649515435,
            "bin_end": 14525.025541262863,
            "count": 0
           },
           {
            "bin_start": 14525.025541262863,
            "bin_end": 17430.02043301029,
            "count": 0
           },
           {
            "bin_start": 17430.02043301029,
            "bin_end": 20335.01532475772,
            "count": 0
           },
           {
            "bin_start": 20335.01532475772,
            "bin_end": 23240.010216505147,
            "count": 0
           },
           {
            "bin_start": 23240.010216505147,
            "bin_end": 26145.005108252575,
            "count": 0
           },
           {
            "bin_start": 26145.005108252575,
            "bin_end": 29050,
            "count": 1
           }
          ]
         }
        },
        {
         "name": "tipbr",
         "dtype": "float64",
         "stats": {
          "unique_count": 5,
          "nan_count": 0,
          "min": "0.4466122372880804",
          "max": "29050.0",
          "histogram": [
           {
            "bin_start": 0.4466122372880804,
            "bin_end": 2905.4019510135595,
            "count": 7
           },
           {
            "bin_start": 2905.4019510135595,
            "bin_end": 5810.35728978983,
            "count": 0
           },
           {
            "bin_start": 5810.35728978983,
            "bin_end": 8715.312628566102,
            "count": 0
           },
           {
            "bin_start": 8715.312628566102,
            "bin_end": 11620.267967342374,
            "count": 0
           },
           {
            "bin_start": 11620.267967342374,
            "bin_end": 14525.223306118645,
            "count": 0
           },
           {
            "bin_start": 14525.223306118645,
            "bin_end": 17430.178644894913,
            "count": 0
           },
           {
            "bin_start": 17430.178644894913,
            "bin_end": 20335.133983671185,
            "count": 0
           },
           {
            "bin_start": 20335.133983671185,
            "bin_end": 23240.089322447457,
            "count": 0
           },
           {
            "bin_start": 23240.089322447457,
            "bin_end": 26145.04466122373,
            "count": 0
           },
           {
            "bin_start": 26145.04466122373,
            "bin_end": 29050,
            "count": 1
           }
          ]
         }
        },
        {
         "name": "sute",
         "dtype": "float64",
         "stats": {
          "unique_count": 8,
          "nan_count": 0,
          "min": "0.0",
          "max": "220000.0",
          "histogram": [
           {
            "bin_start": 0,
            "bin_end": 22000,
            "count": 6
           },
           {
            "bin_start": 22000,
            "bin_end": 44000,
            "count": 1
           },
           {
            "bin_start": 44000,
            "bin_end": 66000,
            "count": 0
           },
           {
            "bin_start": 66000,
            "bin_end": 88000,
            "count": 0
           },
           {
            "bin_start": 88000,
            "bin_end": 110000,
            "count": 0
           },
           {
            "bin_start": 110000,
            "bin_end": 132000,
            "count": 0
           },
           {
            "bin_start": 132000,
            "bin_end": 154000,
            "count": 0
           },
           {
            "bin_start": 154000,
            "bin_end": 176000,
            "count": 0
           },
           {
            "bin_start": 176000,
            "bin_end": 198000,
            "count": 0
           },
           {
            "bin_start": 198000,
            "bin_end": 220000,
            "count": 1
           }
          ]
         }
        },
        {
         "name": "arpb",
         "dtype": "float64",
         "stats": {
          "unique_count": 8,
          "nan_count": 0,
          "min": "0.0",
          "max": "29050.0",
          "histogram": [
           {
            "bin_start": 0,
            "bin_end": 2905,
            "count": 6
           },
           {
            "bin_start": 2905,
            "bin_end": 5810,
            "count": 0
           },
           {
            "bin_start": 5810,
            "bin_end": 8715,
            "count": 0
           },
           {
            "bin_start": 8715,
            "bin_end": 11620,
            "count": 0
           },
           {
            "bin_start": 11620,
            "bin_end": 14525,
            "count": 0
           },
           {
            "bin_start": 14525,
            "bin_end": 17430,
            "count": 0
           },
           {
            "bin_start": 17430,
            "bin_end": 20335,
            "count": 0
           },
           {
            "bin_start": 20335,
            "bin_end": 23240,
            "count": 0
           },
           {
            "bin_start": 23240,
            "bin_end": 26145,
            "count": 1
           },
           {
            "bin_start": 26145,
            "bin_end": 29050,
            "count": 1
           }
          ]
         }
        },
        {
         "name": "arco",
         "dtype": "float64",
         "stats": {
          "unique_count": 8,
          "nan_count": 0,
          "min": "3.0",
          "max": "122349.0",
          "histogram": [
           {
            "bin_start": 3,
            "bin_end": 12237.6,
            "count": 6
           },
           {
            "bin_start": 12237.6,
            "bin_end": 24472.2,
            "count": 0
           },
           {
            "bin_start": 24472.2,
            "bin_end": 36706.8,
            "count": 1
           },
           {
            "bin_start": 36706.8,
            "bin_end": 48941.4,
            "count": 0
           },
           {
            "bin_start": 48941.4,
            "bin_end": 61176,
            "count": 0
           },
           {
            "bin_start": 61176,
            "bin_end": 73410.6,
            "count": 0
           },
           {
            "bin_start": 73410.6,
            "bin_end": 85645.2,
            "count": 0
           },
           {
            "bin_start": 85645.2,
            "bin_end": 97879.8,
            "count": 0
           },
           {
            "bin_start": 97879.8,
            "bin_end": 110114.40000000001,
            "count": 0
           },
           {
            "bin_start": 110114.40000000001,
            "bin_end": 122349,
            "count": 1
           }
          ]
         }
        },
        {
         "name": "aesv",
         "dtype": "float64",
         "stats": {
          "unique_count": 8,
          "nan_count": 0,
          "min": "0.0",
          "max": "213277.0",
          "histogram": [
           {
            "bin_start": 0,
            "bin_end": 21327.7,
            "count": 6
           },
           {
            "bin_start": 21327.7,
            "bin_end": 42655.4,
            "count": 1
           },
           {
            "bin_start": 42655.4,
            "bin_end": 63983.100000000006,
            "count": 0
           },
           {
            "bin_start": 63983.100000000006,
            "bin_end": 85310.8,
            "count": 0
           },
           {
            "bin_start": 85310.8,
            "bin_end": 106638.5,
            "count": 0
           },
           {
            "bin_start": 106638.5,
            "bin_end": 127966.20000000001,
            "count": 0
           },
           {
            "bin_start": 127966.20000000001,
            "bin_end": 149293.9,
            "count": 0
           },
           {
            "bin_start": 149293.9,
            "bin_end": 170621.6,
            "count": 0
           },
           {
            "bin_start": 170621.6,
            "bin_end": 191949.30000000002,
            "count": 0
           },
           {
            "bin_start": 191949.30000000002,
            "bin_end": 213277,
            "count": 1
           }
          ]
         }
        },
        {
         "name": "cimi",
         "dtype": "float64",
         "stats": {
          "unique_count": 6,
          "nan_count": 0,
          "min": "0.0",
          "max": "29050.0",
          "histogram": [
           {
            "bin_start": 0,
            "bin_end": 2905,
            "count": 7
           },
           {
            "bin_start": 2905,
            "bin_end": 5810,
            "count": 0
           },
           {
            "bin_start": 5810,
            "bin_end": 8715,
            "count": 0
           },
           {
            "bin_start": 8715,
            "bin_end": 11620,
            "count": 0
           },
           {
            "bin_start": 11620,
            "bin_end": 14525,
            "count": 0
           },
           {
            "bin_start": 14525,
            "bin_end": 17430,
            "count": 0
           },
           {
            "bin_start": 17430,
            "bin_end": 20335,
            "count": 0
           },
           {
            "bin_start": 20335,
            "bin_end": 23240,
            "count": 0
           },
           {
            "bin_start": 23240,
            "bin_end": 26145,
            "count": 0
           },
           {
            "bin_start": 26145,
            "bin_end": 29050,
            "count": 1
           }
          ]
         }
        },
        {
         "name": "estru",
         "dtype": "float64",
         "stats": {
          "unique_count": 6,
          "nan_count": 0,
          "min": "0.0",
          "max": "29050.0",
          "histogram": [
           {
            "bin_start": 0,
            "bin_end": 2905,
            "count": 7
           },
           {
            "bin_start": 2905,
            "bin_end": 5810,
            "count": 0
           },
           {
            "bin_start": 5810,
            "bin_end": 8715,
            "count": 0
           },
           {
            "bin_start": 8715,
            "bin_end": 11620,
            "count": 0
           },
           {
            "bin_start": 11620,
            "bin_end": 14525,
            "count": 0
           },
           {
            "bin_start": 14525,
            "bin_end": 17430,
            "count": 0
           },
           {
            "bin_start": 17430,
            "bin_end": 20335,
            "count": 0
           },
           {
            "bin_start": 20335,
            "bin_end": 23240,
            "count": 0
           },
           {
            "bin_start": 23240,
            "bin_end": 26145,
            "count": 0
           },
           {
            "bin_start": 26145,
            "bin_end": 29050,
            "count": 1
           }
          ]
         }
        },
        {
         "name": "pared",
         "dtype": "float64",
         "stats": {
          "unique_count": 7,
          "nan_count": 0,
          "min": "0.0",
          "max": "29050.0",
          "histogram": [
           {
            "bin_start": 0,
            "bin_end": 2905,
            "count": 7
           },
           {
            "bin_start": 2905,
            "bin_end": 5810,
            "count": 0
           },
           {
            "bin_start": 5810,
            "bin_end": 8715,
            "count": 0
           },
           {
            "bin_start": 8715,
            "bin_end": 11620,
            "count": 0
           },
           {
            "bin_start": 11620,
            "bin_end": 14525,
            "count": 0
           },
           {
            "bin_start": 14525,
            "bin_end": 17430,
            "count": 0
           },
           {
            "bin_start": 17430,
            "bin_end": 20335,
            "count": 0
           },
           {
            "bin_start": 20335,
            "bin_end": 23240,
            "count": 0
           },
           {
            "bin_start": 23240,
            "bin_end": 26145,
            "count": 0
           },
           {
            "bin_start": 26145,
            "bin_end": 29050,
            "count": 1
           }
          ]
         }
        },
        {
         "name": "cubi",
         "dtype": "float64",
         "stats": {
          "unique_count": 7,
          "nan_count": 0,
          "min": "0.0",
          "max": "29050.0",
          "histogram": [
           {
            "bin_start": 0,
            "bin_end": 2905,
            "count": 7
           },
           {
            "bin_start": 2905,
            "bin_end": 5810,
            "count": 0
           },
           {
            "bin_start": 5810,
            "bin_end": 8715,
            "count": 0
           },
           {
            "bin_start": 8715,
            "bin_end": 11620,
            "count": 0
           },
           {
            "bin_start": 11620,
            "bin_end": 14525,
            "count": 0
           },
           {
            "bin_start": 14525,
            "bin_end": 17430,
            "count": 0
           },
           {
            "bin_start": 17430,
            "bin_end": 20335,
            "count": 0
           },
           {
            "bin_start": 20335,
            "bin_end": 23240,
            "count": 0
           },
           {
            "bin_start": 23240,
            "bin_end": 26145,
            "count": 0
           },
           {
            "bin_start": 26145,
            "bin_end": 29050,
            "count": 1
           }
          ]
         }
        },
        {
         "name": "cres",
         "dtype": "float64",
         "stats": {
          "unique_count": 6,
          "nan_count": 0,
          "min": "0.0",
          "max": "29050.0",
          "histogram": [
           {
            "bin_start": 0,
            "bin_end": 2905,
            "count": 7
           },
           {
            "bin_start": 2905,
            "bin_end": 5810,
            "count": 0
           },
           {
            "bin_start": 5810,
            "bin_end": 8715,
            "count": 0
           },
           {
            "bin_start": 8715,
            "bin_end": 11620,
            "count": 0
           },
           {
            "bin_start": 11620,
            "bin_end": 14525,
            "count": 0
           },
           {
            "bin_start": 14525,
            "bin_end": 17430,
            "count": 0
           },
           {
            "bin_start": 17430,
            "bin_end": 20335,
            "count": 0
           },
           {
            "bin_start": 20335,
            "bin_end": 23240,
            "count": 0
           },
           {
            "bin_start": 23240,
            "bin_end": 26145,
            "count": 0
           },
           {
            "bin_start": 26145,
            "bin_end": 29050,
            "count": 1
           }
          ]
         }
        },
        {
         "name": "numuni",
         "dtype": "float64",
         "stats": {
          "unique_count": 5,
          "nan_count": 0,
          "min": "1.0",
          "max": "29050.0",
          "histogram": [
           {
            "bin_start": 1,
            "bin_end": 2905.9,
            "count": 7
           },
           {
            "bin_start": 2905.9,
            "bin_end": 5810.8,
            "count": 0
           },
           {
            "bin_start": 5810.8,
            "bin_end": 8715.7,
            "count": 0
           },
           {
            "bin_start": 8715.7,
            "bin_end": 11620.6,
            "count": 0
           },
           {
            "bin_start": 11620.6,
            "bin_end": 14525.5,
            "count": 0
           },
           {
            "bin_start": 14525.5,
            "bin_end": 17430.4,
            "count": 0
           },
           {
            "bin_start": 17430.4,
            "bin_end": 20335.3,
            "count": 0
           },
           {
            "bin_start": 20335.3,
            "bin_end": 23240.2,
            "count": 0
           },
           {
            "bin_start": 23240.2,
            "bin_end": 26145.100000000002,
            "count": 0
           },
           {
            "bin_start": 26145.100000000002,
            "bin_end": 29050,
            "count": 1
           }
          ]
         }
        },
        {
         "name": "nuvi",
         "dtype": "float64",
         "stats": {
          "unique_count": 6,
          "nan_count": 0,
          "min": "0.0",
          "max": "29050.0",
          "histogram": [
           {
            "bin_start": 0,
            "bin_end": 2905,
            "count": 7
           },
           {
            "bin_start": 2905,
            "bin_end": 5810,
            "count": 0
           },
           {
            "bin_start": 5810,
            "bin_end": 8715,
            "count": 0
           },
           {
            "bin_start": 8715,
            "bin_end": 11620,
            "count": 0
           },
           {
            "bin_start": 11620,
            "bin_end": 14525,
            "count": 0
           },
           {
            "bin_start": 14525,
            "bin_end": 17430,
            "count": 0
           },
           {
            "bin_start": 17430,
            "bin_end": 20335,
            "count": 0
           },
           {
            "bin_start": 20335,
            "bin_end": 23240,
            "count": 0
           },
           {
            "bin_start": 23240,
            "bin_end": 26145,
            "count": 0
           },
           {
            "bin_start": 26145,
            "bin_end": 29050,
            "count": 1
           }
          ]
         }
        },
        {
         "name": "nucu",
         "dtype": "float64",
         "stats": {
          "unique_count": 8,
          "nan_count": 0,
          "min": "0.0",
          "max": "29050.0",
          "histogram": [
           {
            "bin_start": 0,
            "bin_end": 2905,
            "count": 7
           },
           {
            "bin_start": 2905,
            "bin_end": 5810,
            "count": 0
           },
           {
            "bin_start": 5810,
            "bin_end": 8715,
            "count": 0
           },
           {
            "bin_start": 8715,
            "bin_end": 11620,
            "count": 0
           },
           {
            "bin_start": 11620,
            "bin_end": 14525,
            "count": 0
           },
           {
            "bin_start": 14525,
            "bin_end": 17430,
            "count": 0
           },
           {
            "bin_start": 17430,
            "bin_end": 20335,
            "count": 0
           },
           {
            "bin_start": 20335,
            "bin_end": 23240,
            "count": 0
           },
           {
            "bin_start": 23240,
            "bin_end": 26145,
            "count": 0
           },
           {
            "bin_start": 26145,
            "bin_end": 29050,
            "count": 1
           }
          ]
         }
        },
        {
         "name": "nudo",
         "dtype": "float64",
         "stats": {
          "unique_count": 8,
          "nan_count": 0,
          "min": "0.0",
          "max": "29050.0",
          "histogram": [
           {
            "bin_start": 0,
            "bin_end": 2905,
            "count": 7
           },
           {
            "bin_start": 2905,
            "bin_end": 5810,
            "count": 0
           },
           {
            "bin_start": 5810,
            "bin_end": 8715,
            "count": 0
           },
           {
            "bin_start": 8715,
            "bin_end": 11620,
            "count": 0
           },
           {
            "bin_start": 11620,
            "bin_end": 14525,
            "count": 0
           },
           {
            "bin_start": 14525,
            "bin_end": 17430,
            "count": 0
           },
           {
            "bin_start": 17430,
            "bin_end": 20335,
            "count": 0
           },
           {
            "bin_start": 20335,
            "bin_end": 23240,
            "count": 0
           },
           {
            "bin_start": 23240,
            "bin_end": 26145,
            "count": 0
           },
           {
            "bin_start": 26145,
            "bin_end": 29050,
            "count": 1
           }
          ]
         }
        },
        {
         "name": "nupi",
         "dtype": "float64",
         "stats": {
          "unique_count": 7,
          "nan_count": 0,
          "min": "0.0",
          "max": "29050.0",
          "histogram": [
           {
            "bin_start": 0,
            "bin_end": 2905,
            "count": 7
           },
           {
            "bin_start": 2905,
            "bin_end": 5810,
            "count": 0
           },
           {
            "bin_start": 5810,
            "bin_end": 8715,
            "count": 0
           },
           {
            "bin_start": 8715,
            "bin_end": 11620,
            "count": 0
           },
           {
            "bin_start": 11620,
            "bin_end": 14525,
            "count": 0
           },
           {
            "bin_start": 14525,
            "bin_end": 17430,
            "count": 0
           },
           {
            "bin_start": 17430,
            "bin_end": 20335,
            "count": 0
           },
           {
            "bin_start": 20335,
            "bin_end": 23240,
            "count": 0
           },
           {
            "bin_start": 23240,
            "bin_end": 26145,
            "count": 0
           },
           {
            "bin_start": 26145,
            "bin_end": 29050,
            "count": 1
           }
          ]
         }
        },
        {
         "name": "ares",
         "dtype": "float64",
         "stats": {
          "unique_count": 8,
          "nan_count": 0,
          "min": "0.0",
          "max": "29050.0",
          "histogram": [
           {
            "bin_start": 0,
            "bin_end": 2905,
            "count": 6
           },
           {
            "bin_start": 2905,
            "bin_end": 5810,
            "count": 0
           },
           {
            "bin_start": 5810,
            "bin_end": 8715,
            "count": 0
           },
           {
            "bin_start": 8715,
            "bin_end": 11620,
            "count": 0
           },
           {
            "bin_start": 11620,
            "bin_end": 14525,
            "count": 0
           },
           {
            "bin_start": 14525,
            "bin_end": 17430,
            "count": 0
           },
           {
            "bin_start": 17430,
            "bin_end": 20335,
            "count": 0
           },
           {
            "bin_start": 20335,
            "bin_end": 23240,
            "count": 1
           },
           {
            "bin_start": 23240,
            "bin_end": 26145,
            "count": 0
           },
           {
            "bin_start": 26145,
            "bin_end": 29050,
            "count": 1
           }
          ]
         }
        },
        {
         "name": "coa11",
         "dtype": "float64",
         "stats": {
          "unique_count": 5,
          "nan_count": 0,
          "min": "0.0",
          "max": "29050.0",
          "histogram": [
           {
            "bin_start": 0,
            "bin_end": 2905,
            "count": 7
           },
           {
            "bin_start": 2905,
            "bin_end": 5810,
            "count": 0
           },
           {
            "bin_start": 5810,
            "bin_end": 8715,
            "count": 0
           },
           {
            "bin_start": 8715,
            "bin_end": 11620,
            "count": 0
           },
           {
            "bin_start": 11620,
            "bin_end": 14525,
            "count": 0
           },
           {
            "bin_start": 14525,
            "bin_end": 17430,
            "count": 0
           },
           {
            "bin_start": 17430,
            "bin_end": 20335,
            "count": 0
           },
           {
            "bin_start": 20335,
            "bin_end": 23240,
            "count": 0
           },
           {
            "bin_start": 23240,
            "bin_end": 26145,
            "count": 0
           },
           {
            "bin_start": 26145,
            "bin_end": 29050,
            "count": 1
           }
          ]
         }
        },
        {
         "name": "nup11",
         "dtype": "float64",
         "stats": {
          "unique_count": 5,
          "nan_count": 0,
          "min": "0.0",
          "max": "29050.0",
          "histogram": [
           {
            "bin_start": 0,
            "bin_end": 2905,
            "count": 7
           },
           {
            "bin_start": 2905,
            "bin_end": 5810,
            "count": 0
           },
           {
            "bin_start": 5810,
            "bin_end": 8715,
            "count": 0
           },
           {
            "bin_start": 8715,
            "bin_end": 11620,
            "count": 0
           },
           {
            "bin_start": 11620,
            "bin_end": 14525,
            "count": 0
           },
           {
            "bin_start": 14525,
            "bin_end": 17430,
            "count": 0
           },
           {
            "bin_start": 17430,
            "bin_end": 20335,
            "count": 0
           },
           {
            "bin_start": 20335,
            "bin_end": 23240,
            "count": 0
           },
           {
            "bin_start": 23240,
            "bin_end": 26145,
            "count": 0
           },
           {
            "bin_start": 26145,
            "bin_end": 29050,
            "count": 1
           }
          ]
         }
        },
        {
         "name": "are11",
         "dtype": "float64",
         "stats": {
          "unique_count": 5,
          "nan_count": 0,
          "min": "0.0",
          "max": "122349.0",
          "histogram": [
           {
            "bin_start": 0,
            "bin_end": 12234.9,
            "count": 6
           },
           {
            "bin_start": 12234.9,
            "bin_end": 24469.8,
            "count": 0
           },
           {
            "bin_start": 24469.8,
            "bin_end": 36704.7,
            "count": 1
           },
           {
            "bin_start": 36704.7,
            "bin_end": 48939.6,
            "count": 0
           },
           {
            "bin_start": 48939.6,
            "bin_end": 61174.5,
            "count": 0
           },
           {
            "bin_start": 61174.5,
            "bin_end": 73409.4,
            "count": 0
           },
           {
            "bin_start": 73409.4,
            "bin_end": 85644.3,
            "count": 0
           },
           {
            "bin_start": 85644.3,
            "bin_end": 97879.2,
            "count": 0
           },
           {
            "bin_start": 97879.2,
            "bin_end": 110114.09999999999,
            "count": 0
           },
           {
            "bin_start": 110114.09999999999,
            "bin_end": 122349,
            "count": 1
           }
          ]
         }
        },
        {
         "name": "coa22",
         "dtype": "float64",
         "stats": {
          "unique_count": 5,
          "nan_count": 0,
          "min": "0.0",
          "max": "29050.0",
          "histogram": [
           {
            "bin_start": 0,
            "bin_end": 2905,
            "count": 7
           },
           {
            "bin_start": 2905,
            "bin_end": 5810,
            "count": 0
           },
           {
            "bin_start": 5810,
            "bin_end": 8715,
            "count": 0
           },
           {
            "bin_start": 8715,
            "bin_end": 11620,
            "count": 0
           },
           {
            "bin_start": 11620,
            "bin_end": 14525,
            "count": 0
           },
           {
            "bin_start": 14525,
            "bin_end": 17430,
            "count": 0
           },
           {
            "bin_start": 17430,
            "bin_end": 20335,
            "count": 0
           },
           {
            "bin_start": 20335,
            "bin_end": 23240,
            "count": 0
           },
           {
            "bin_start": 23240,
            "bin_end": 26145,
            "count": 0
           },
           {
            "bin_start": 26145,
            "bin_end": 29050,
            "count": 1
           }
          ]
         }
        },
        {
         "name": "nup22",
         "dtype": "float64",
         "stats": {
          "unique_count": 5,
          "nan_count": 0,
          "min": "0.0",
          "max": "29050.0",
          "histogram": [
           {
            "bin_start": 0,
            "bin_end": 2905,
            "count": 7
           },
           {
            "bin_start": 2905,
            "bin_end": 5810,
            "count": 0
           },
           {
            "bin_start": 5810,
            "bin_end": 8715,
            "count": 0
           },
           {
            "bin_start": 8715,
            "bin_end": 11620,
            "count": 0
           },
           {
            "bin_start": 11620,
            "bin_end": 14525,
            "count": 0
           },
           {
            "bin_start": 14525,
            "bin_end": 17430,
            "count": 0
           },
           {
            "bin_start": 17430,
            "bin_end": 20335,
            "count": 0
           },
           {
            "bin_start": 20335,
            "bin_end": 23240,
            "count": 0
           },
           {
            "bin_start": 23240,
            "bin_end": 26145,
            "count": 0
           },
           {
            "bin_start": 26145,
            "bin_end": 29050,
            "count": 1
           }
          ]
         }
        },
        {
         "name": "are22",
         "dtype": "float64",
         "stats": {
          "unique_count": 5,
          "nan_count": 0,
          "min": "0.0",
          "max": "36530.0",
          "histogram": [
           {
            "bin_start": 0,
            "bin_end": 3653,
            "count": 6
           },
           {
            "bin_start": 3653,
            "bin_end": 7306,
            "count": 0
           },
           {
            "bin_start": 7306,
            "bin_end": 10959,
            "count": 0
           },
           {
            "bin_start": 10959,
            "bin_end": 14612,
            "count": 0
           },
           {
            "bin_start": 14612,
            "bin_end": 18265,
            "count": 0
           },
           {
            "bin_start": 18265,
            "bin_end": 21918,
            "count": 0
           },
           {
            "bin_start": 21918,
            "bin_end": 25571,
            "count": 0
           },
           {
            "bin_start": 25571,
            "bin_end": 29224,
            "count": 1
           },
           {
            "bin_start": 29224,
            "bin_end": 32877,
            "count": 0
           },
           {
            "bin_start": 32877,
            "bin_end": 36530,
            "count": 1
           }
          ]
         }
        },
        {
         "name": "coa33",
         "dtype": "float64",
         "stats": {
          "unique_count": 5,
          "nan_count": 0,
          "min": "0.0",
          "max": "29050.0",
          "histogram": [
           {
            "bin_start": 0,
            "bin_end": 2905,
            "count": 7
           },
           {
            "bin_start": 2905,
            "bin_end": 5810,
            "count": 0
           },
           {
            "bin_start": 5810,
            "bin_end": 8715,
            "count": 0
           },
           {
            "bin_start": 8715,
            "bin_end": 11620,
            "count": 0
           },
           {
            "bin_start": 11620,
            "bin_end": 14525,
            "count": 0
           },
           {
            "bin_start": 14525,
            "bin_end": 17430,
            "count": 0
           },
           {
            "bin_start": 17430,
            "bin_end": 20335,
            "count": 0
           },
           {
            "bin_start": 20335,
            "bin_end": 23240,
            "count": 0
           },
           {
            "bin_start": 23240,
            "bin_end": 26145,
            "count": 0
           },
           {
            "bin_start": 26145,
            "bin_end": 29050,
            "count": 1
           }
          ]
         }
        },
        {
         "name": "nup33",
         "dtype": "float64",
         "stats": {
          "unique_count": 5,
          "nan_count": 0,
          "min": "0.0",
          "max": "29050.0",
          "histogram": [
           {
            "bin_start": 0,
            "bin_end": 2905,
            "count": 7
           },
           {
            "bin_start": 2905,
            "bin_end": 5810,
            "count": 0
           },
           {
            "bin_start": 5810,
            "bin_end": 8715,
            "count": 0
           },
           {
            "bin_start": 8715,
            "bin_end": 11620,
            "count": 0
           },
           {
            "bin_start": 11620,
            "bin_end": 14525,
            "count": 0
           },
           {
            "bin_start": 14525,
            "bin_end": 17430,
            "count": 0
           },
           {
            "bin_start": 17430,
            "bin_end": 20335,
            "count": 0
           },
           {
            "bin_start": 20335,
            "bin_end": 23240,
            "count": 0
           },
           {
            "bin_start": 23240,
            "bin_end": 26145,
            "count": 0
           },
           {
            "bin_start": 26145,
            "bin_end": 29050,
            "count": 1
           }
          ]
         }
        },
        {
         "name": "are33",
         "dtype": "float64",
         "stats": {
          "unique_count": 5,
          "nan_count": 0,
          "min": "0.0",
          "max": "29050.0",
          "histogram": [
           {
            "bin_start": 0,
            "bin_end": 2905,
            "count": 6
           },
           {
            "bin_start": 2905,
            "bin_end": 5810,
            "count": 0
           },
           {
            "bin_start": 5810,
            "bin_end": 8715,
            "count": 1
           },
           {
            "bin_start": 8715,
            "bin_end": 11620,
            "count": 0
           },
           {
            "bin_start": 11620,
            "bin_end": 14525,
            "count": 0
           },
           {
            "bin_start": 14525,
            "bin_end": 17430,
            "count": 0
           },
           {
            "bin_start": 17430,
            "bin_end": 20335,
            "count": 0
           },
           {
            "bin_start": 20335,
            "bin_end": 23240,
            "count": 0
           },
           {
            "bin_start": 23240,
            "bin_end": 26145,
            "count": 0
           },
           {
            "bin_start": 26145,
            "bin_end": 29050,
            "count": 1
           }
          ]
         }
        },
        {
         "name": "tonp",
         "dtype": "float64",
         "stats": {
          "unique_count": 7,
          "nan_count": 0,
          "min": "0.0",
          "max": "29050.0",
          "histogram": [
           {
            "bin_start": 0,
            "bin_end": 2905,
            "count": 7
           },
           {
            "bin_start": 2905,
            "bin_end": 5810,
            "count": 0
           },
           {
            "bin_start": 5810,
            "bin_end": 8715,
            "count": 0
           },
           {
            "bin_start": 8715,
            "bin_end": 11620,
            "count": 0
           },
           {
            "bin_start": 11620,
            "bin_end": 14525,
            "count": 0
           },
           {
            "bin_start": 14525,
            "bin_end": 17430,
            "count": 0
           },
           {
            "bin_start": 17430,
            "bin_end": 20335,
            "count": 0
           },
           {
            "bin_start": 20335,
            "bin_end": 23240,
            "count": 0
           },
           {
            "bin_start": 23240,
            "bin_end": 26145,
            "count": 0
           },
           {
            "bin_start": 26145,
            "bin_end": 29050,
            "count": 1
           }
          ]
         }
        },
        {
         "name": "aret",
         "dtype": "float64",
         "stats": {
          "unique_count": 8,
          "nan_count": 0,
          "min": "3.0",
          "max": "122349.0",
          "histogram": [
           {
            "bin_start": 3,
            "bin_end": 12237.6,
            "count": 6
           },
           {
            "bin_start": 12237.6,
            "bin_end": 24472.2,
            "count": 0
           },
           {
            "bin_start": 24472.2,
            "bin_end": 36706.8,
            "count": 1
           },
           {
            "bin_start": 36706.8,
            "bin_end": 48941.4,
            "count": 0
           },
           {
            "bin_start": 48941.4,
            "bin_end": 61176,
            "count": 0
           },
           {
            "bin_start": 61176,
            "bin_end": 73410.6,
            "count": 0
           },
           {
            "bin_start": 73410.6,
            "bin_end": 85645.2,
            "count": 0
           },
           {
            "bin_start": 85645.2,
            "bin_end": 97879.8,
            "count": 0
           },
           {
            "bin_start": 97879.8,
            "bin_end": 110114.40000000001,
            "count": 0
           },
           {
            "bin_start": 110114.40000000001,
            "bin_end": 122349,
            "count": 1
           }
          ]
         }
        },
        {
         "name": "codte1",
         "dtype": "float64",
         "stats": {
          "unique_count": 5,
          "nan_count": 0,
          "min": "0.0",
          "max": "29050.0",
          "histogram": [
           {
            "bin_start": 0,
            "bin_end": 2905,
            "count": 7
           },
           {
            "bin_start": 2905,
            "bin_end": 5810,
            "count": 0
           },
           {
            "bin_start": 5810,
            "bin_end": 8715,
            "count": 0
           },
           {
            "bin_start": 8715,
            "bin_end": 11620,
            "count": 0
           },
           {
            "bin_start": 11620,
            "bin_end": 14525,
            "count": 0
           },
           {
            "bin_start": 14525,
            "bin_end": 17430,
            "count": 0
           },
           {
            "bin_start": 17430,
            "bin_end": 20335,
            "count": 0
           },
           {
            "bin_start": 20335,
            "bin_end": 23240,
            "count": 0
           },
           {
            "bin_start": 23240,
            "bin_end": 26145,
            "count": 0
           },
           {
            "bin_start": 26145,
            "bin_end": 29050,
            "count": 1
           }
          ]
         }
        },
        {
         "name": "valte1",
         "dtype": "float64",
         "stats": {
          "unique_count": 5,
          "nan_count": 0,
          "min": "0.0",
          "max": "240000215.0",
          "histogram": [
           {
            "bin_start": 0,
            "bin_end": 24000021.5,
            "count": 7
           },
           {
            "bin_start": 24000021.5,
            "bin_end": 48000043,
            "count": 0
           },
           {
            "bin_start": 48000043,
            "bin_end": 72000064.5,
            "count": 0
           },
           {
            "bin_start": 72000064.5,
            "bin_end": 96000086,
            "count": 0
           },
           {
            "bin_start": 96000086,
            "bin_end": 120000107.5,
            "count": 0
           },
           {
            "bin_start": 120000107.5,
            "bin_end": 144000129,
            "count": 0
           },
           {
            "bin_start": 144000129,
            "bin_end": 168000150.5,
            "count": 0
           },
           {
            "bin_start": 168000150.5,
            "bin_end": 192000172,
            "count": 0
           },
           {
            "bin_start": 192000172,
            "bin_end": 216000193.5,
            "count": 0
           },
           {
            "bin_start": 216000193.5,
            "bin_end": 240000215,
            "count": 1
           }
          ]
         }
        },
        {
         "name": "codte2",
         "dtype": "float64",
         "stats": {
          "unique_count": 5,
          "nan_count": 0,
          "min": "0.0",
          "max": "29050.0",
          "histogram": [
           {
            "bin_start": 0,
            "bin_end": 2905,
            "count": 7
           },
           {
            "bin_start": 2905,
            "bin_end": 5810,
            "count": 0
           },
           {
            "bin_start": 5810,
            "bin_end": 8715,
            "count": 0
           },
           {
            "bin_start": 8715,
            "bin_end": 11620,
            "count": 0
           },
           {
            "bin_start": 11620,
            "bin_end": 14525,
            "count": 0
           },
           {
            "bin_start": 14525,
            "bin_end": 17430,
            "count": 0
           },
           {
            "bin_start": 17430,
            "bin_end": 20335,
            "count": 0
           },
           {
            "bin_start": 20335,
            "bin_end": 23240,
            "count": 0
           },
           {
            "bin_start": 23240,
            "bin_end": 26145,
            "count": 0
           },
           {
            "bin_start": 26145,
            "bin_end": 29050,
            "count": 1
           }
          ]
         }
        },
        {
         "name": "valte2",
         "dtype": "float64",
         "stats": {
          "unique_count": 5,
          "nan_count": 0,
          "min": "0.0",
          "max": "860000.0",
          "histogram": [
           {
            "bin_start": 0,
            "bin_end": 86000,
            "count": 7
           },
           {
            "bin_start": 86000,
            "bin_end": 172000,
            "count": 0
           },
           {
            "bin_start": 172000,
            "bin_end": 258000,
            "count": 0
           },
           {
            "bin_start": 258000,
            "bin_end": 344000,
            "count": 0
           },
           {
            "bin_start": 344000,
            "bin_end": 430000,
            "count": 0
           },
           {
            "bin_start": 430000,
            "bin_end": 516000,
            "count": 0
           },
           {
            "bin_start": 516000,
            "bin_end": 602000,
            "count": 0
           },
           {
            "bin_start": 602000,
            "bin_end": 688000,
            "count": 0
           },
           {
            "bin_start": 688000,
            "bin_end": 774000,
            "count": 0
           },
           {
            "bin_start": 774000,
            "bin_end": 860000,
            "count": 1
           }
          ]
         }
        },
        {
         "name": "codte3",
         "dtype": "float64",
         "stats": {
          "unique_count": 5,
          "nan_count": 0,
          "min": "0.0",
          "max": "29050.0",
          "histogram": [
           {
            "bin_start": 0,
            "bin_end": 2905,
            "count": 7
           },
           {
            "bin_start": 2905,
            "bin_end": 5810,
            "count": 0
           },
           {
            "bin_start": 5810,
            "bin_end": 8715,
            "count": 0
           },
           {
            "bin_start": 8715,
            "bin_end": 11620,
            "count": 0
           },
           {
            "bin_start": 11620,
            "bin_end": 14525,
            "count": 0
           },
           {
            "bin_start": 14525,
            "bin_end": 17430,
            "count": 0
           },
           {
            "bin_start": 17430,
            "bin_end": 20335,
            "count": 0
           },
           {
            "bin_start": 20335,
            "bin_end": 23240,
            "count": 0
           },
           {
            "bin_start": 23240,
            "bin_end": 26145,
            "count": 0
           },
           {
            "bin_start": 26145,
            "bin_end": 29050,
            "count": 1
           }
          ]
         }
        },
        {
         "name": "valte3",
         "dtype": "float64",
         "stats": {
          "unique_count": 5,
          "nan_count": 0,
          "min": "0.0",
          "max": "32512.0",
          "histogram": [
           {
            "bin_start": 0,
            "bin_end": 3251.2,
            "count": 6
           },
           {
            "bin_start": 3251.2,
            "bin_end": 6502.4,
            "count": 0
           },
           {
            "bin_start": 6502.4,
            "bin_end": 9753.599999999999,
            "count": 0
           },
           {
            "bin_start": 9753.599999999999,
            "bin_end": 13004.8,
            "count": 0
           },
           {
            "bin_start": 13004.8,
            "bin_end": 16256,
            "count": 0
           },
           {
            "bin_start": 16256,
            "bin_end": 19507.199999999997,
            "count": 0
           },
           {
            "bin_start": 19507.199999999997,
            "bin_end": 22758.399999999998,
            "count": 0
           },
           {
            "bin_start": 22758.399999999998,
            "bin_end": 26009.6,
            "count": 0
           },
           {
            "bin_start": 26009.6,
            "bin_end": 29260.8,
            "count": 1
           },
           {
            "bin_start": 29260.8,
            "bin_end": 32512,
            "count": 1
           }
          ]
         }
        },
        {
         "name": "codur1",
         "dtype": "float64",
         "stats": {
          "unique_count": 5,
          "nan_count": 0,
          "min": "0.0",
          "max": "29050.0",
          "histogram": [
           {
            "bin_start": 0,
            "bin_end": 2905,
            "count": 7
           },
           {
            "bin_start": 2905,
            "bin_end": 5810,
            "count": 0
           },
           {
            "bin_start": 5810,
            "bin_end": 8715,
            "count": 0
           },
           {
            "bin_start": 8715,
            "bin_end": 11620,
            "count": 0
           },
           {
            "bin_start": 11620,
            "bin_end": 14525,
            "count": 0
           },
           {
            "bin_start": 14525,
            "bin_end": 17430,
            "count": 0
           },
           {
            "bin_start": 17430,
            "bin_end": 20335,
            "count": 0
           },
           {
            "bin_start": 20335,
            "bin_end": 23240,
            "count": 0
           },
           {
            "bin_start": 23240,
            "bin_end": 26145,
            "count": 0
           },
           {
            "bin_start": 26145,
            "bin_end": 29050,
            "count": 1
           }
          ]
         }
        },
        {
         "name": "valur1",
         "dtype": "float64",
         "stats": {
          "unique_count": 5,
          "nan_count": 0,
          "min": "0.0",
          "max": "494059.0",
          "histogram": [
           {
            "bin_start": 0,
            "bin_end": 49405.9,
            "count": 7
           },
           {
            "bin_start": 49405.9,
            "bin_end": 98811.8,
            "count": 0
           },
           {
            "bin_start": 98811.8,
            "bin_end": 148217.7,
            "count": 0
           },
           {
            "bin_start": 148217.7,
            "bin_end": 197623.6,
            "count": 0
           },
           {
            "bin_start": 197623.6,
            "bin_end": 247029.5,
            "count": 0
           },
           {
            "bin_start": 247029.5,
            "bin_end": 296435.4,
            "count": 0
           },
           {
            "bin_start": 296435.4,
            "bin_end": 345841.3,
            "count": 0
           },
           {
            "bin_start": 345841.3,
            "bin_end": 395247.2,
            "count": 0
           },
           {
            "bin_start": 395247.2,
            "bin_end": 444653.10000000003,
            "count": 0
           },
           {
            "bin_start": 444653.10000000003,
            "bin_end": 494059,
            "count": 1
           }
          ]
         }
        },
        {
         "name": "codur2",
         "dtype": "float64",
         "stats": {
          "unique_count": 5,
          "nan_count": 0,
          "min": "0.0",
          "max": "29050.0",
          "histogram": [
           {
            "bin_start": 0,
            "bin_end": 2905,
            "count": 7
           },
           {
            "bin_start": 2905,
            "bin_end": 5810,
            "count": 0
           },
           {
            "bin_start": 5810,
            "bin_end": 8715,
            "count": 0
           },
           {
            "bin_start": 8715,
            "bin_end": 11620,
            "count": 0
           },
           {
            "bin_start": 11620,
            "bin_end": 14525,
            "count": 0
           },
           {
            "bin_start": 14525,
            "bin_end": 17430,
            "count": 0
           },
           {
            "bin_start": 17430,
            "bin_end": 20335,
            "count": 0
           },
           {
            "bin_start": 20335,
            "bin_end": 23240,
            "count": 0
           },
           {
            "bin_start": 23240,
            "bin_end": 26145,
            "count": 0
           },
           {
            "bin_start": 26145,
            "bin_end": 29050,
            "count": 1
           }
          ]
         }
        },
        {
         "name": "valur2",
         "dtype": "float64",
         "stats": {
          "unique_count": 5,
          "nan_count": 0,
          "min": "0.0",
          "max": "100000.0",
          "histogram": [
           {
            "bin_start": 0,
            "bin_end": 10000,
            "count": 6
           },
           {
            "bin_start": 10000,
            "bin_end": 20000,
            "count": 0
           },
           {
            "bin_start": 20000,
            "bin_end": 30000,
            "count": 1
           },
           {
            "bin_start": 30000,
            "bin_end": 40000,
            "count": 0
           },
           {
            "bin_start": 40000,
            "bin_end": 50000,
            "count": 0
           },
           {
            "bin_start": 50000,
            "bin_end": 60000,
            "count": 0
           },
           {
            "bin_start": 60000,
            "bin_end": 70000,
            "count": 0
           },
           {
            "bin_start": 70000,
            "bin_end": 80000,
            "count": 0
           },
           {
            "bin_start": 80000,
            "bin_end": 90000,
            "count": 0
           },
           {
            "bin_start": 90000,
            "bin_end": 100000,
            "count": 1
           }
          ]
         }
        },
        {
         "name": "codur3",
         "dtype": "float64",
         "stats": {
          "unique_count": 5,
          "nan_count": 0,
          "min": "0.0",
          "max": "29050.0",
          "histogram": [
           {
            "bin_start": 0,
            "bin_end": 2905,
            "count": 7
           },
           {
            "bin_start": 2905,
            "bin_end": 5810,
            "count": 0
           },
           {
            "bin_start": 5810,
            "bin_end": 8715,
            "count": 0
           },
           {
            "bin_start": 8715,
            "bin_end": 11620,
            "count": 0
           },
           {
            "bin_start": 11620,
            "bin_end": 14525,
            "count": 0
           },
           {
            "bin_start": 14525,
            "bin_end": 17430,
            "count": 0
           },
           {
            "bin_start": 17430,
            "bin_end": 20335,
            "count": 0
           },
           {
            "bin_start": 20335,
            "bin_end": 23240,
            "count": 0
           },
           {
            "bin_start": 23240,
            "bin_end": 26145,
            "count": 0
           },
           {
            "bin_start": 26145,
            "bin_end": 29050,
            "count": 1
           }
          ]
         }
        },
        {
         "name": "valur3",
         "dtype": "float64",
         "stats": {
          "unique_count": 5,
          "nan_count": 0,
          "min": "0.0",
          "max": "50000.0",
          "histogram": [
           {
            "bin_start": 0,
            "bin_end": 5000,
            "count": 6
           },
           {
            "bin_start": 5000,
            "bin_end": 10000,
            "count": 0
           },
           {
            "bin_start": 10000,
            "bin_end": 15000,
            "count": 0
           },
           {
            "bin_start": 15000,
            "bin_end": 20000,
            "count": 0
           },
           {
            "bin_start": 20000,
            "bin_end": 25000,
            "count": 0
           },
           {
            "bin_start": 25000,
            "bin_end": 30000,
            "count": 1
           },
           {
            "bin_start": 30000,
            "bin_end": 35000,
            "count": 0
           },
           {
            "bin_start": 35000,
            "bin_end": 40000,
            "count": 0
           },
           {
            "bin_start": 40000,
            "bin_end": 45000,
            "count": 0
           },
           {
            "bin_start": 45000,
            "bin_end": 50000,
            "count": 1
           }
          ]
         }
        },
        {
         "name": "cove",
         "dtype": "float64",
         "stats": {
          "unique_count": 6,
          "nan_count": 0,
          "min": "0.0",
          "max": "29050.0",
          "histogram": [
           {
            "bin_start": 0,
            "bin_end": 2905,
            "count": 7
           },
           {
            "bin_start": 2905,
            "bin_end": 5810,
            "count": 0
           },
           {
            "bin_start": 5810,
            "bin_end": 8715,
            "count": 0
           },
           {
            "bin_start": 8715,
            "bin_end": 11620,
            "count": 0
           },
           {
            "bin_start": 11620,
            "bin_end": 14525,
            "count": 0
           },
           {
            "bin_start": 14525,
            "bin_end": 17430,
            "count": 0
           },
           {
            "bin_start": 17430,
            "bin_end": 20335,
            "count": 0
           },
           {
            "bin_start": 20335,
            "bin_end": 23240,
            "count": 0
           },
           {
            "bin_start": 23240,
            "bin_end": 26145,
            "count": 0
           },
           {
            "bin_start": 26145,
            "bin_end": 29050,
            "count": 1
           }
          ]
         }
        },
        {
         "name": "vaede",
         "dtype": "float64",
         "stats": {
          "unique_count": 8,
          "nan_count": 0,
          "min": "0.0",
          "max": "19612092.0",
          "histogram": [
           {
            "bin_start": 0,
            "bin_end": 1961209.2,
            "count": 7
           },
           {
            "bin_start": 1961209.2,
            "bin_end": 3922418.4,
            "count": 0
           },
           {
            "bin_start": 3922418.4,
            "bin_end": 5883627.6,
            "count": 0
           },
           {
            "bin_start": 5883627.6,
            "bin_end": 7844836.8,
            "count": 0
           },
           {
            "bin_start": 7844836.8,
            "bin_end": 9806046,
            "count": 0
           },
           {
            "bin_start": 9806046,
            "bin_end": 11767255.2,
            "count": 0
           },
           {
            "bin_start": 11767255.2,
            "bin_end": 13728464.4,
            "count": 0
           },
           {
            "bin_start": 13728464.4,
            "bin_end": 15689673.6,
            "count": 0
           },
           {
            "bin_start": 15689673.6,
            "bin_end": 17650882.8,
            "count": 0
           },
           {
            "bin_start": 17650882.8,
            "bin_end": 19612092,
            "count": 1
           }
          ]
         }
        },
        {
         "name": "cov2",
         "dtype": "float64",
         "stats": {
          "unique_count": 5,
          "nan_count": 0,
          "min": "0.0",
          "max": "29050.0",
          "histogram": [
           {
            "bin_start": 0,
            "bin_end": 2905,
            "count": 7
           },
           {
            "bin_start": 2905,
            "bin_end": 5810,
            "count": 0
           },
           {
            "bin_start": 5810,
            "bin_end": 8715,
            "count": 0
           },
           {
            "bin_start": 8715,
            "bin_end": 11620,
            "count": 0
           },
           {
            "bin_start": 11620,
            "bin_end": 14525,
            "count": 0
           },
           {
            "bin_start": 14525,
            "bin_end": 17430,
            "count": 0
           },
           {
            "bin_start": 17430,
            "bin_end": 20335,
            "count": 0
           },
           {
            "bin_start": 20335,
            "bin_end": 23240,
            "count": 0
           },
           {
            "bin_start": 23240,
            "bin_end": 26145,
            "count": 0
           },
           {
            "bin_start": 26145,
            "bin_end": 29050,
            "count": 1
           }
          ]
         }
        },
        {
         "name": "vae22",
         "dtype": "float64",
         "stats": {
          "unique_count": 5,
          "nan_count": 0,
          "min": "0.0",
          "max": "25000000.0",
          "histogram": [
           {
            "bin_start": 0,
            "bin_end": 2500000,
            "count": 7
           },
           {
            "bin_start": 2500000,
            "bin_end": 5000000,
            "count": 0
           },
           {
            "bin_start": 5000000,
            "bin_end": 7500000,
            "count": 0
           },
           {
            "bin_start": 7500000,
            "bin_end": 10000000,
            "count": 0
           },
           {
            "bin_start": 10000000,
            "bin_end": 12500000,
            "count": 0
           },
           {
            "bin_start": 12500000,
            "bin_end": 15000000,
            "count": 0
           },
           {
            "bin_start": 15000000,
            "bin_end": 17500000,
            "count": 0
           },
           {
            "bin_start": 17500000,
            "bin_end": 20000000,
            "count": 0
           },
           {
            "bin_start": 20000000,
            "bin_end": 22500000,
            "count": 0
           },
           {
            "bin_start": 22500000,
            "bin_end": 25000000,
            "count": 1
           }
          ]
         }
        },
        {
         "name": "cov3",
         "dtype": "float64",
         "stats": {
          "unique_count": 5,
          "nan_count": 0,
          "min": "0.0",
          "max": "29050.0",
          "histogram": [
           {
            "bin_start": 0,
            "bin_end": 2905,
            "count": 7
           },
           {
            "bin_start": 2905,
            "bin_end": 5810,
            "count": 0
           },
           {
            "bin_start": 5810,
            "bin_end": 8715,
            "count": 0
           },
           {
            "bin_start": 8715,
            "bin_end": 11620,
            "count": 0
           },
           {
            "bin_start": 11620,
            "bin_end": 14525,
            "count": 0
           },
           {
            "bin_start": 14525,
            "bin_end": 17430,
            "count": 0
           },
           {
            "bin_start": 17430,
            "bin_end": 20335,
            "count": 0
           },
           {
            "bin_start": 20335,
            "bin_end": 23240,
            "count": 0
           },
           {
            "bin_start": 23240,
            "bin_end": 26145,
            "count": 0
           },
           {
            "bin_start": 26145,
            "bin_end": 29050,
            "count": 1
           }
          ]
         }
        },
        {
         "name": "vae33",
         "dtype": "float64",
         "stats": {
          "unique_count": 5,
          "nan_count": 0,
          "min": "0.0",
          "max": "4400000.0",
          "histogram": [
           {
            "bin_start": 0,
            "bin_end": 440000,
            "count": 7
           },
           {
            "bin_start": 440000,
            "bin_end": 880000,
            "count": 0
           },
           {
            "bin_start": 880000,
            "bin_end": 1320000,
            "count": 0
           },
           {
            "bin_start": 1320000,
            "bin_end": 1760000,
            "count": 0
           },
           {
            "bin_start": 1760000,
            "bin_end": 2200000,
            "count": 0
           },
           {
            "bin_start": 2200000,
            "bin_end": 2640000,
            "count": 0
           },
           {
            "bin_start": 2640000,
            "bin_end": 3080000,
            "count": 0
           },
           {
            "bin_start": 3080000,
            "bin_end": 3520000,
            "count": 0
           },
           {
            "bin_start": 3520000,
            "bin_end": 3960000,
            "count": 0
           },
           {
            "bin_start": 3960000,
            "bin_end": 4400000,
            "count": 1
           }
          ]
         }
        },
        {
         "name": "valt",
         "dtype": "float64",
         "stats": {
          "unique_count": 5,
          "nan_count": 0,
          "min": "0.0",
          "max": "240000215.0",
          "histogram": [
           {
            "bin_start": 0,
            "bin_end": 24000021.5,
            "count": 7
           },
           {
            "bin_start": 24000021.5,
            "bin_end": 48000043,
            "count": 0
           },
           {
            "bin_start": 48000043,
            "bin_end": 72000064.5,
            "count": 0
           },
           {
            "bin_start": 72000064.5,
            "bin_end": 96000086,
            "count": 0
           },
           {
            "bin_start": 96000086,
            "bin_end": 120000107.5,
            "count": 0
           },
           {
            "bin_start": 120000107.5,
            "bin_end": 144000129,
            "count": 0
           },
           {
            "bin_start": 144000129,
            "bin_end": 168000150.5,
            "count": 0
           },
           {
            "bin_start": 168000150.5,
            "bin_end": 192000172,
            "count": 0
           },
           {
            "bin_start": 192000172,
            "bin_end": 216000193.5,
            "count": 0
           },
           {
            "bin_start": 216000193.5,
            "bin_end": 240000215,
            "count": 1
           }
          ]
         }
        },
        {
         "name": "vtou",
         "dtype": "float64",
         "stats": {
          "unique_count": 5,
          "nan_count": 0,
          "min": "0.0",
          "max": "494059.0",
          "histogram": [
           {
            "bin_start": 0,
            "bin_end": 49405.9,
            "count": 7
           },
           {
            "bin_start": 49405.9,
            "bin_end": 98811.8,
            "count": 0
           },
           {
            "bin_start": 98811.8,
            "bin_end": 148217.7,
            "count": 0
           },
           {
            "bin_start": 148217.7,
            "bin_end": 197623.6,
            "count": 0
           },
           {
            "bin_start": 197623.6,
            "bin_end": 247029.5,
            "count": 0
           },
           {
            "bin_start": 247029.5,
            "bin_end": 296435.4,
            "count": 0
           },
           {
            "bin_start": 296435.4,
            "bin_end": 345841.3,
            "count": 0
           },
           {
            "bin_start": 345841.3,
            "bin_end": 395247.2,
            "count": 0
           },
           {
            "bin_start": 395247.2,
            "bin_end": 444653.10000000003,
            "count": 0
           },
           {
            "bin_start": 444653.10000000003,
            "bin_end": 494059,
            "count": 1
           }
          ]
         }
        },
        {
         "name": "vted",
         "dtype": "float64",
         "stats": {
          "unique_count": 8,
          "nan_count": 0,
          "min": "74.0",
          "max": "36700000.0",
          "histogram": [
           {
            "bin_start": 74,
            "bin_end": 3670066.6,
            "count": 7
           },
           {
            "bin_start": 3670066.6,
            "bin_end": 7340059.2,
            "count": 0
           },
           {
            "bin_start": 7340059.2,
            "bin_end": 11010051.8,
            "count": 0
           },
           {
            "bin_start": 11010051.8,
            "bin_end": 14680044.4,
            "count": 0
           },
           {
            "bin_start": 14680044.4,
            "bin_end": 18350037,
            "count": 0
           },
           {
            "bin_start": 18350037,
            "bin_end": 22020029.6,
            "count": 0
           },
           {
            "bin_start": 22020029.6,
            "bin_end": 25690022.2,
            "count": 0
           },
           {
            "bin_start": 25690022.2,
            "bin_end": 29360014.8,
            "count": 0
           },
           {
            "bin_start": 29360014.8,
            "bin_end": 33030007.400000002,
            "count": 0
           },
           {
            "bin_start": 33030007.400000002,
            "bin_end": 36700000,
            "count": 1
           }
          ]
         }
        },
        {
         "name": "COAMS",
         "dtype": "float64",
         "stats": {
          "unique_count": 5,
          "nan_count": 0,
          "min": "0.0",
          "max": "29050.0",
          "histogram": [
           {
            "bin_start": 0,
            "bin_end": 2905,
            "count": 7
           },
           {
            "bin_start": 2905,
            "bin_end": 5810,
            "count": 0
           },
           {
            "bin_start": 5810,
            "bin_end": 8715,
            "count": 0
           },
           {
            "bin_start": 8715,
            "bin_end": 11620,
            "count": 0
           },
           {
            "bin_start": 11620,
            "bin_end": 14525,
            "count": 0
           },
           {
            "bin_start": 14525,
            "bin_end": 17430,
            "count": 0
           },
           {
            "bin_start": 17430,
            "bin_end": 20335,
            "count": 0
           },
           {
            "bin_start": 20335,
            "bin_end": 23240,
            "count": 0
           },
           {
            "bin_start": 23240,
            "bin_end": 26145,
            "count": 0
           },
           {
            "bin_start": 26145,
            "bin_end": 29050,
            "count": 1
           }
          ]
         }
        },
        {
         "name": "COVEMS",
         "dtype": "float64",
         "stats": {
          "unique_count": 5,
          "nan_count": 0,
          "min": "8.547023896422106",
          "max": "29050.0",
          "histogram": [
           {
            "bin_start": 8.547023896422106,
            "bin_end": 2912.69232150678,
            "count": 7
           },
           {
            "bin_start": 2912.69232150678,
            "bin_end": 5816.837619117137,
            "count": 0
           },
           {
            "bin_start": 5816.837619117137,
            "bin_end": 8720.982916727497,
            "count": 0
           },
           {
            "bin_start": 8720.982916727497,
            "bin_end": 11625.128214337854,
            "count": 0
           },
           {
            "bin_start": 11625.128214337854,
            "bin_end": 14529.273511948211,
            "count": 0
           },
           {
            "bin_start": 14529.273511948211,
            "bin_end": 17433.41880955857,
            "count": 0
           },
           {
            "bin_start": 17433.41880955857,
            "bin_end": 20337.564107168928,
            "count": 0
           },
           {
            "bin_start": 20337.564107168928,
            "bin_end": 23241.709404779285,
            "count": 0
           },
           {
            "bin_start": 23241.709404779285,
            "bin_end": 26145.854702389643,
            "count": 0
           },
           {
            "bin_start": 26145.854702389643,
            "bin_end": 29050,
            "count": 1
           }
          ]
         }
        },
        {
         "name": "COVET5",
         "dtype": "float64",
         "stats": {
          "unique_count": 6,
          "nan_count": 0,
          "min": "10.56384705654279",
          "max": "29050.0",
          "histogram": [
           {
            "bin_start": 10.56384705654279,
            "bin_end": 2914.5074623508885,
            "count": 7
           },
           {
            "bin_start": 2914.5074623508885,
            "bin_end": 5818.451077645234,
            "count": 0
           },
           {
            "bin_start": 5818.451077645234,
            "bin_end": 8722.39469293958,
            "count": 0
           },
           {
            "bin_start": 8722.39469293958,
            "bin_end": 11626.338308233926,
            "count": 0
           },
           {
            "bin_start": 11626.338308233926,
            "bin_end": 14530.281923528271,
            "count": 0
           },
           {
            "bin_start": 14530.281923528271,
            "bin_end": 17434.22553882262,
            "count": 0
           },
           {
            "bin_start": 17434.22553882262,
            "bin_end": 20338.169154116964,
            "count": 0
           },
           {
            "bin_start": 20338.169154116964,
            "bin_end": 23242.11276941131,
            "count": 0
           },
           {
            "bin_start": 23242.11276941131,
            "bin_end": 26146.056384705655,
            "count": 0
           },
           {
            "bin_start": 26146.056384705655,
            "bin_end": 29050,
            "count": 1
           }
          ]
         }
        },
        {
         "name": "NUPIRES",
         "dtype": "float64",
         "stats": {
          "unique_count": 6,
          "nan_count": 0,
          "min": "0.9998240286317102",
          "max": "29050.0",
          "histogram": [
           {
            "bin_start": 0.9998240286317102,
            "bin_end": 2905.8998416257687,
            "count": 7
           },
           {
            "bin_start": 2905.8998416257687,
            "bin_end": 5810.799859222905,
            "count": 0
           },
           {
            "bin_start": 5810.799859222905,
            "bin_end": 8715.699876820041,
            "count": 0
           },
           {
            "bin_start": 8715.699876820041,
            "bin_end": 11620.599894417179,
            "count": 0
           },
           {
            "bin_start": 11620.599894417179,
            "bin_end": 14525.499912014317,
            "count": 0
           },
           {
            "bin_start": 14525.499912014317,
            "bin_end": 17430.399929611453,
            "count": 0
           },
           {
            "bin_start": 17430.399929611453,
            "bin_end": 20335.29994720859,
            "count": 0
           },
           {
            "bin_start": 20335.29994720859,
            "bin_end": 23240.199964805728,
            "count": 0
           },
           {
            "bin_start": 23240.199964805728,
            "bin_end": 26145.099982402866,
            "count": 0
           },
           {
            "bin_start": 26145.099982402866,
            "bin_end": 29050,
            "count": 1
           }
          ]
         }
        },
        {
         "name": "NUVICAL",
         "dtype": "float64",
         "stats": {
          "unique_count": 6,
          "nan_count": 0,
          "min": "0.0",
          "max": "29050.0",
          "histogram": [
           {
            "bin_start": 0,
            "bin_end": 2905,
            "count": 7
           },
           {
            "bin_start": 2905,
            "bin_end": 5810,
            "count": 0
           },
           {
            "bin_start": 5810,
            "bin_end": 8715,
            "count": 0
           },
           {
            "bin_start": 8715,
            "bin_end": 11620,
            "count": 0
           },
           {
            "bin_start": 11620,
            "bin_end": 14525,
            "count": 0
           },
           {
            "bin_start": 14525,
            "bin_end": 17430,
            "count": 0
           },
           {
            "bin_start": 17430,
            "bin_end": 20335,
            "count": 0
           },
           {
            "bin_start": 20335,
            "bin_end": 23240,
            "count": 0
           },
           {
            "bin_start": 23240,
            "bin_end": 26145,
            "count": 0
           },
           {
            "bin_start": 26145,
            "bin_end": 29050,
            "count": 1
           }
          ]
         }
        },
        {
         "name": "NUDOCAL",
         "dtype": "float64",
         "stats": {
          "unique_count": 7,
          "nan_count": 0,
          "min": "1.0",
          "max": "29050.0",
          "histogram": [
           {
            "bin_start": 1,
            "bin_end": 2905.9,
            "count": 7
           },
           {
            "bin_start": 2905.9,
            "bin_end": 5810.8,
            "count": 0
           },
           {
            "bin_start": 5810.8,
            "bin_end": 8715.7,
            "count": 0
           },
           {
            "bin_start": 8715.7,
            "bin_end": 11620.6,
            "count": 0
           },
           {
            "bin_start": 11620.6,
            "bin_end": 14525.5,
            "count": 0
           },
           {
            "bin_start": 14525.5,
            "bin_end": 17430.4,
            "count": 0
           },
           {
            "bin_start": 17430.4,
            "bin_end": 20335.3,
            "count": 0
           },
           {
            "bin_start": 20335.3,
            "bin_end": 23240.2,
            "count": 0
           },
           {
            "bin_start": 23240.2,
            "bin_end": 26145.100000000002,
            "count": 0
           },
           {
            "bin_start": 26145.100000000002,
            "bin_end": 29050,
            "count": 1
           }
          ]
         }
        },
        {
         "name": "NUCUCAL",
         "dtype": "float64",
         "stats": {
          "unique_count": 8,
          "nan_count": 0,
          "min": "1.0",
          "max": "29050.0",
          "histogram": [
           {
            "bin_start": 1,
            "bin_end": 2905.9,
            "count": 7
           },
           {
            "bin_start": 2905.9,
            "bin_end": 5810.8,
            "count": 0
           },
           {
            "bin_start": 5810.8,
            "bin_end": 8715.7,
            "count": 0
           },
           {
            "bin_start": 8715.7,
            "bin_end": 11620.6,
            "count": 0
           },
           {
            "bin_start": 11620.6,
            "bin_end": 14525.5,
            "count": 0
           },
           {
            "bin_start": 14525.5,
            "bin_end": 17430.4,
            "count": 0
           },
           {
            "bin_start": 17430.4,
            "bin_end": 20335.3,
            "count": 0
           },
           {
            "bin_start": 20335.3,
            "bin_end": 23240.2,
            "count": 0
           },
           {
            "bin_start": 23240.2,
            "bin_end": 26145.100000000002,
            "count": 0
           },
           {
            "bin_start": 26145.100000000002,
            "bin_end": 29050,
            "count": 1
           }
          ]
         }
        },
        {
         "name": "CARCO",
         "dtype": "float64",
         "stats": {
          "unique_count": 8,
          "nan_count": 0,
          "min": "0.0",
          "max": "598671.0",
          "histogram": [
           {
            "bin_start": 0,
            "bin_end": 59867.1,
            "count": 7
           },
           {
            "bin_start": 59867.1,
            "bin_end": 119734.2,
            "count": 0
           },
           {
            "bin_start": 119734.2,
            "bin_end": 179601.3,
            "count": 0
           },
           {
            "bin_start": 179601.3,
            "bin_end": 239468.4,
            "count": 0
           },
           {
            "bin_start": 239468.4,
            "bin_end": 299335.5,
            "count": 0
           },
           {
            "bin_start": 299335.5,
            "bin_end": 359202.6,
            "count": 0
           },
           {
            "bin_start": 359202.6,
            "bin_end": 419069.7,
            "count": 0
           },
           {
            "bin_start": 419069.7,
            "bin_end": 478936.8,
            "count": 0
           },
           {
            "bin_start": 478936.8,
            "bin_end": 538803.9,
            "count": 0
           },
           {
            "bin_start": 538803.9,
            "bin_end": 598671,
            "count": 1
           }
          ]
         }
        },
        {
         "name": "CARES",
         "dtype": "float64",
         "stats": {
          "unique_count": 8,
          "nan_count": 0,
          "min": "0.0",
          "max": "598671.0",
          "histogram": [
           {
            "bin_start": 0,
            "bin_end": 59867.1,
            "count": 7
           },
           {
            "bin_start": 59867.1,
            "bin_end": 119734.2,
            "count": 0
           },
           {
            "bin_start": 119734.2,
            "bin_end": 179601.3,
            "count": 0
           },
           {
            "bin_start": 179601.3,
            "bin_end": 239468.4,
            "count": 0
           },
           {
            "bin_start": 239468.4,
            "bin_end": 299335.5,
            "count": 0
           },
           {
            "bin_start": 299335.5,
            "bin_end": 359202.6,
            "count": 0
           },
           {
            "bin_start": 359202.6,
            "bin_end": 419069.7,
            "count": 0
           },
           {
            "bin_start": 419069.7,
            "bin_end": 478936.8,
            "count": 0
           },
           {
            "bin_start": 478936.8,
            "bin_end": 538803.9,
            "count": 0
           },
           {
            "bin_start": 538803.9,
            "bin_end": 598671,
            "count": 1
           }
          ]
         }
        },
        {
         "name": "CARNRES",
         "dtype": "float64",
         "stats": {
          "unique_count": 5,
          "nan_count": 0,
          "min": "0.0",
          "max": "122349.0",
          "histogram": [
           {
            "bin_start": 0,
            "bin_end": 12234.9,
            "count": 6
           },
           {
            "bin_start": 12234.9,
            "bin_end": 24469.8,
            "count": 0
           },
           {
            "bin_start": 24469.8,
            "bin_end": 36704.7,
            "count": 1
           },
           {
            "bin_start": 36704.7,
            "bin_end": 48939.6,
            "count": 0
           },
           {
            "bin_start": 48939.6,
            "bin_end": 61174.5,
            "count": 0
           },
           {
            "bin_start": 61174.5,
            "bin_end": 73409.4,
            "count": 0
           },
           {
            "bin_start": 73409.4,
            "bin_end": 85644.3,
            "count": 0
           },
           {
            "bin_start": 85644.3,
            "bin_end": 97879.2,
            "count": 0
           },
           {
            "bin_start": 97879.2,
            "bin_end": 110114.09999999999,
            "count": 0
           },
           {
            "bin_start": 110114.09999999999,
            "bin_end": 122349,
            "count": 1
           }
          ]
         }
        },
        {
         "name": "CARDPAR",
         "dtype": "float64",
         "stats": {
          "unique_count": 5,
          "nan_count": 0,
          "min": "0.0",
          "max": "29050.0",
          "histogram": [
           {
            "bin_start": 0,
            "bin_end": 2905,
            "count": 7
           },
           {
            "bin_start": 2905,
            "bin_end": 5810,
            "count": 0
           },
           {
            "bin_start": 5810,
            "bin_end": 8715,
            "count": 0
           },
           {
            "bin_start": 8715,
            "bin_end": 11620,
            "count": 0
           },
           {
            "bin_start": 11620,
            "bin_end": 14525,
            "count": 0
           },
           {
            "bin_start": 14525,
            "bin_end": 17430,
            "count": 0
           },
           {
            "bin_start": 17430,
            "bin_end": 20335,
            "count": 0
           },
           {
            "bin_start": 20335,
            "bin_end": 23240,
            "count": 0
           },
           {
            "bin_start": 23240,
            "bin_end": 26145,
            "count": 0
           },
           {
            "bin_start": 26145,
            "bin_end": 29050,
            "count": 1
           }
          ]
         }
        },
        {
         "name": "CAESV",
         "dtype": "float64",
         "stats": {
          "unique_count": 8,
          "nan_count": 0,
          "min": "0.0",
          "max": "299421.0",
          "histogram": [
           {
            "bin_start": 0,
            "bin_end": 29942.1,
            "count": 7
           },
           {
            "bin_start": 29942.1,
            "bin_end": 59884.2,
            "count": 0
           },
           {
            "bin_start": 59884.2,
            "bin_end": 89826.29999999999,
            "count": 0
           },
           {
            "bin_start": 89826.29999999999,
            "bin_end": 119768.4,
            "count": 0
           },
           {
            "bin_start": 119768.4,
            "bin_end": 149710.5,
            "count": 0
           },
           {
            "bin_start": 149710.5,
            "bin_end": 179652.59999999998,
            "count": 0
           },
           {
            "bin_start": 179652.59999999998,
            "bin_end": 209594.69999999998,
            "count": 0
           },
           {
            "bin_start": 209594.69999999998,
            "bin_end": 239536.8,
            "count": 0
           },
           {
            "bin_start": 239536.8,
            "bin_end": 269478.89999999997,
            "count": 0
           },
           {
            "bin_start": 269478.89999999997,
            "bin_end": 299421,
            "count": 1
           }
          ]
         }
        },
        {
         "name": "CSUTE",
         "dtype": "float64",
         "stats": {
          "unique_count": 8,
          "nan_count": 0,
          "min": "0.0",
          "max": "598671.0",
          "histogram": [
           {
            "bin_start": 0,
            "bin_end": 59867.1,
            "count": 7
           },
           {
            "bin_start": 59867.1,
            "bin_end": 119734.2,
            "count": 0
           },
           {
            "bin_start": 119734.2,
            "bin_end": 179601.3,
            "count": 0
           },
           {
            "bin_start": 179601.3,
            "bin_end": 239468.4,
            "count": 0
           },
           {
            "bin_start": 239468.4,
            "bin_end": 299335.5,
            "count": 0
           },
           {
            "bin_start": 299335.5,
            "bin_end": 359202.6,
            "count": 0
           },
           {
            "bin_start": 359202.6,
            "bin_end": 419069.7,
            "count": 0
           },
           {
            "bin_start": 419069.7,
            "bin_end": 478936.8,
            "count": 0
           },
           {
            "bin_start": 478936.8,
            "bin_end": 538803.9,
            "count": 0
           },
           {
            "bin_start": 538803.9,
            "bin_end": 598671,
            "count": 1
           }
          ]
         }
        },
        {
         "name": "CTIPOBR",
         "dtype": "float64",
         "stats": {
          "unique_count": 5,
          "nan_count": 0,
          "min": "0.40338877401446643",
          "max": "29050.0",
          "histogram": [
           {
            "bin_start": 0.40338877401446643,
            "bin_end": 2905.3630498966127,
            "count": 7
           },
           {
            "bin_start": 2905.3630498966127,
            "bin_end": 5810.322711019211,
            "count": 0
           },
           {
            "bin_start": 5810.322711019211,
            "bin_end": 8715.28237214181,
            "count": 0
           },
           {
            "bin_start": 8715.28237214181,
            "bin_end": 11620.242033264409,
            "count": 0
           },
           {
            "bin_start": 11620.242033264409,
            "bin_end": 14525.201694387008,
            "count": 0
           },
           {
            "bin_start": 14525.201694387008,
            "bin_end": 17430.161355509605,
            "count": 0
           },
           {
            "bin_start": 17430.161355509605,
            "bin_end": 20335.121016632205,
            "count": 0
           },
           {
            "bin_start": 20335.121016632205,
            "bin_end": 23240.080677754802,
            "count": 0
           },
           {
            "bin_start": 23240.080677754802,
            "bin_end": 26145.0403388774,
            "count": 0
           },
           {
            "bin_start": 26145.0403388774,
            "bin_end": 29050,
            "count": 1
           }
          ]
         }
        },
        {
         "name": "CPERM",
         "dtype": "float64",
         "stats": {
          "unique_count": 5,
          "nan_count": 0,
          "min": "1.0",
          "max": "29050.0",
          "histogram": [
           {
            "bin_start": 1,
            "bin_end": 2905.9,
            "count": 7
           },
           {
            "bin_start": 2905.9,
            "bin_end": 5810.8,
            "count": 0
           },
           {
            "bin_start": 5810.8,
            "bin_end": 8715.7,
            "count": 0
           },
           {
            "bin_start": 8715.7,
            "bin_end": 11620.6,
            "count": 0
           },
           {
            "bin_start": 11620.6,
            "bin_end": 14525.5,
            "count": 0
           },
           {
            "bin_start": 14525.5,
            "bin_end": 17430.4,
            "count": 0
           },
           {
            "bin_start": 17430.4,
            "bin_end": 20335.3,
            "count": 0
           },
           {
            "bin_start": 20335.3,
            "bin_end": 23240.2,
            "count": 0
           },
           {
            "bin_start": 23240.2,
            "bin_end": 26145.100000000002,
            "count": 0
           },
           {
            "bin_start": 26145.100000000002,
            "bin_end": 29050,
            "count": 1
           }
          ]
         }
        },
        {
         "name": "CDISPSUT",
         "dtype": "float64",
         "stats": {
          "unique_count": 8,
          "nan_count": 0,
          "min": "1.0",
          "max": "29050.0",
          "histogram": [
           {
            "bin_start": 1,
            "bin_end": 2905.9,
            "count": 7
           },
           {
            "bin_start": 2905.9,
            "bin_end": 5810.8,
            "count": 0
           },
           {
            "bin_start": 5810.8,
            "bin_end": 8715.7,
            "count": 0
           },
           {
            "bin_start": 8715.7,
            "bin_end": 11620.6,
            "count": 0
           },
           {
            "bin_start": 11620.6,
            "bin_end": 14525.5,
            "count": 0
           },
           {
            "bin_start": 14525.5,
            "bin_end": 17430.4,
            "count": 0
           },
           {
            "bin_start": 17430.4,
            "bin_end": 20335.3,
            "count": 0
           },
           {
            "bin_start": 20335.3,
            "bin_end": 23240.2,
            "count": 0
           },
           {
            "bin_start": 23240.2,
            "bin_end": 26145.100000000002,
            "count": 0
           },
           {
            "bin_start": 26145.100000000002,
            "bin_end": 29050,
            "count": 1
           }
          ]
         }
        },
        {
         "name": "CDISPUSO",
         "dtype": "float64",
         "stats": {
          "unique_count": 6,
          "nan_count": 0,
          "min": "1.0",
          "max": "29050.0",
          "histogram": [
           {
            "bin_start": 1,
            "bin_end": 2905.9,
            "count": 7
           },
           {
            "bin_start": 2905.9,
            "bin_end": 5810.8,
            "count": 0
           },
           {
            "bin_start": 5810.8,
            "bin_end": 8715.7,
            "count": 0
           },
           {
            "bin_start": 8715.7,
            "bin_end": 11620.6,
            "count": 0
           },
           {
            "bin_start": 11620.6,
            "bin_end": 14525.5,
            "count": 0
           },
           {
            "bin_start": 14525.5,
            "bin_end": 17430.4,
            "count": 0
           },
           {
            "bin_start": 17430.4,
            "bin_end": 20335.3,
            "count": 0
           },
           {
            "bin_start": 20335.3,
            "bin_end": 23240.2,
            "count": 0
           },
           {
            "bin_start": 23240.2,
            "bin_end": 26145.100000000002,
            "count": 0
           },
           {
            "bin_start": 26145.100000000002,
            "bin_end": 29050,
            "count": 1
           }
          ]
         }
        },
        {
         "name": "CDISPARC",
         "dtype": "float64",
         "stats": {
          "unique_count": 7,
          "nan_count": 0,
          "min": "1.0",
          "max": "29050.0",
          "histogram": [
           {
            "bin_start": 1,
            "bin_end": 2905.9,
            "count": 7
           },
           {
            "bin_start": 2905.9,
            "bin_end": 5810.8,
            "count": 0
           },
           {
            "bin_start": 5810.8,
            "bin_end": 8715.7,
            "count": 0
           },
           {
            "bin_start": 8715.7,
            "bin_end": 11620.6,
            "count": 0
           },
           {
            "bin_start": 11620.6,
            "bin_end": 14525.5,
            "count": 0
           },
           {
            "bin_start": 14525.5,
            "bin_end": 17430.4,
            "count": 0
           },
           {
            "bin_start": 17430.4,
            "bin_end": 20335.3,
            "count": 0
           },
           {
            "bin_start": 20335.3,
            "bin_end": 23240.2,
            "count": 0
           },
           {
            "bin_start": 23240.2,
            "bin_end": 26145.100000000002,
            "count": 0
           },
           {
            "bin_start": 26145.100000000002,
            "bin_end": 29050,
            "count": 1
           }
          ]
         }
        },
        {
         "name": "CDISPRFI",
         "dtype": "float64",
         "stats": {
          "unique_count": 6,
          "nan_count": 0,
          "min": "1.0",
          "max": "29050.0",
          "histogram": [
           {
            "bin_start": 1,
            "bin_end": 2905.9,
            "count": 7
           },
           {
            "bin_start": 2905.9,
            "bin_end": 5810.8,
            "count": 0
           },
           {
            "bin_start": 5810.8,
            "bin_end": 8715.7,
            "count": 0
           },
           {
            "bin_start": 8715.7,
            "bin_end": 11620.6,
            "count": 0
           },
           {
            "bin_start": 11620.6,
            "bin_end": 14525.5,
            "count": 0
           },
           {
            "bin_start": 14525.5,
            "bin_end": 17430.4,
            "count": 0
           },
           {
            "bin_start": 17430.4,
            "bin_end": 20335.3,
            "count": 0
           },
           {
            "bin_start": 20335.3,
            "bin_end": 23240.2,
            "count": 0
           },
           {
            "bin_start": 23240.2,
            "bin_end": 26145.100000000002,
            "count": 0
           },
           {
            "bin_start": 26145.100000000002,
            "bin_end": 29050,
            "count": 1
           }
          ]
         }
        },
        {
         "name": "CDISPRFX",
         "dtype": "float64",
         "stats": {
          "unique_count": 5,
          "nan_count": 0,
          "min": "1.0",
          "max": "29050.0",
          "histogram": [
           {
            "bin_start": 1,
            "bin_end": 2905.9,
            "count": 7
           },
           {
            "bin_start": 2905.9,
            "bin_end": 5810.8,
            "count": 0
           },
           {
            "bin_start": 5810.8,
            "bin_end": 8715.7,
            "count": 0
           },
           {
            "bin_start": 8715.7,
            "bin_end": 11620.6,
            "count": 0
           },
           {
            "bin_start": 11620.6,
            "bin_end": 14525.5,
            "count": 0
           },
           {
            "bin_start": 14525.5,
            "bin_end": 17430.4,
            "count": 0
           },
           {
            "bin_start": 17430.4,
            "bin_end": 20335.3,
            "count": 0
           },
           {
            "bin_start": 20335.3,
            "bin_end": 23240.2,
            "count": 0
           },
           {
            "bin_start": 23240.2,
            "bin_end": 26145.100000000002,
            "count": 0
           },
           {
            "bin_start": 26145.100000000002,
            "bin_end": 29050,
            "count": 1
           }
          ]
         }
        },
        {
         "name": "CNUVICAL",
         "dtype": "float64",
         "stats": {
          "unique_count": 6,
          "nan_count": 0,
          "min": "0.0",
          "max": "29050.0",
          "histogram": [
           {
            "bin_start": 0,
            "bin_end": 2905,
            "count": 6
           },
           {
            "bin_start": 2905,
            "bin_end": 5810,
            "count": 0
           },
           {
            "bin_start": 5810,
            "bin_end": 8715,
            "count": 0
           },
           {
            "bin_start": 8715,
            "bin_end": 11620,
            "count": 0
           },
           {
            "bin_start": 11620,
            "bin_end": 14525,
            "count": 0
           },
           {
            "bin_start": 14525,
            "bin_end": 17430,
            "count": 1
           },
           {
            "bin_start": 17430,
            "bin_end": 20335,
            "count": 0
           },
           {
            "bin_start": 20335,
            "bin_end": 23240,
            "count": 0
           },
           {
            "bin_start": 23240,
            "bin_end": 26145,
            "count": 0
           },
           {
            "bin_start": 26145,
            "bin_end": 29050,
            "count": 1
           }
          ]
         }
        },
        {
         "name": "CVAE",
         "dtype": "float64",
         "stats": {
          "unique_count": 8,
          "nan_count": 0,
          "min": "74.0",
          "max": "98325000.0",
          "histogram": [
           {
            "bin_start": 74,
            "bin_end": 9832566.6,
            "count": 7
           },
           {
            "bin_start": 9832566.6,
            "bin_end": 19665059.2,
            "count": 0
           },
           {
            "bin_start": 19665059.2,
            "bin_end": 29497551.799999997,
            "count": 0
           },
           {
            "bin_start": 29497551.799999997,
            "bin_end": 39330044.4,
            "count": 0
           },
           {
            "bin_start": 39330044.4,
            "bin_end": 49162537,
            "count": 0
           },
           {
            "bin_start": 49162537,
            "bin_end": 58995029.599999994,
            "count": 0
           },
           {
            "bin_start": 58995029.599999994,
            "bin_end": 68827522.2,
            "count": 0
           },
           {
            "bin_start": 68827522.2,
            "bin_end": 78660014.8,
            "count": 0
           },
           {
            "bin_start": 78660014.8,
            "bin_end": 88492507.39999999,
            "count": 0
           },
           {
            "bin_start": 88492507.39999999,
            "bin_end": 98325000,
            "count": 1
           }
          ]
         }
        },
        {
         "name": "CAREAUR",
         "dtype": "float64",
         "stats": {
          "unique_count": 5,
          "nan_count": 0,
          "min": "0.2602737207594152",
          "max": "29050.0",
          "histogram": [
           {
            "bin_start": 0.2602737207594152,
            "bin_end": 2905.2342463486834,
            "count": 7
           },
           {
            "bin_start": 2905.2342463486834,
            "bin_end": 5810.208218976608,
            "count": 0
           },
           {
            "bin_start": 5810.208218976608,
            "bin_end": 8715.182191604532,
            "count": 0
           },
           {
            "bin_start": 8715.182191604532,
            "bin_end": 11620.156164232456,
            "count": 0
           },
           {
            "bin_start": 11620.156164232456,
            "bin_end": 14525.13013686038,
            "count": 0
           },
           {
            "bin_start": 14525.13013686038,
            "bin_end": 17430.104109488304,
            "count": 0
           },
           {
            "bin_start": 17430.104109488304,
            "bin_end": 20335.07808211623,
            "count": 0
           },
           {
            "bin_start": 20335.07808211623,
            "bin_end": 23240.052054744152,
            "count": 0
           },
           {
            "bin_start": 23240.052054744152,
            "bin_end": 26145.026027372074,
            "count": 0
           },
           {
            "bin_start": 26145.026027372074,
            "bin_end": 29050,
            "count": 1
           }
          ]
         }
        },
        {
         "name": "_deepnote_index_column",
         "dtype": "object"
        }
       ],
       "rows_top": [
        {
         "provin": 29050,
         "canton": 29050,
         "mes": 29050,
         "año": 29050,
         "desaño": 29050,
         "nubo": 29050,
         "propie": 29050,
         "tipbr": 29050,
         "sute": 29050,
         "arpb": 29050,
         "arco": 29050,
         "aesv": 29050,
         "cimi": 29050,
         "estru": 29050,
         "pared": 29050,
         "cubi": 29050,
         "cres": 29050,
         "numuni": 29050,
         "nuvi": 29050,
         "nucu": 29050,
         "nudo": 29050,
         "nupi": 29050,
         "ares": 29050,
         "coa11": 29050,
         "nup11": 29050,
         "are11": 29050,
         "coa22": 29050,
         "nup22": 29050,
         "are22": 29050,
         "coa33": 29050,
         "nup33": 29050,
         "are33": 29050,
         "tonp": 29050,
         "aret": 29050,
         "codte1": 29050,
         "valte1": 29050,
         "codte2": 29050,
         "valte2": 29050,
         "codte3": 29050,
         "valte3": 29050,
         "codur1": 29050,
         "valur1": 29050,
         "codur2": 29050,
         "valur2": 29050,
         "codur3": 29050,
         "valur3": 29050,
         "cove": 29050,
         "vaede": 29050,
         "cov2": 29050,
         "vae22": 29050,
         "cov3": 29050,
         "vae33": 29050,
         "valt": 29050,
         "vtou": 29050,
         "vted": 29050,
         "COAMS": 29050,
         "COVEMS": 29050,
         "COVET5": 29050,
         "NUPIRES": 29050,
         "NUVICAL": 29050,
         "NUDOCAL": 29050,
         "NUCUCAL": 29050,
         "CARCO": 29050,
         "CARES": 29050,
         "CARNRES": 29050,
         "CARDPAR": 29050,
         "CAESV": 29050,
         "CSUTE": 29050,
         "CTIPOBR": 29050,
         "CPERM": 29050,
         "CDISPSUT": 29050,
         "CDISPUSO": 29050,
         "CDISPARC": 29050,
         "CDISPRFI": 29050,
         "CDISPRFX": 29050,
         "CNUVICAL": 29050,
         "CVAE": 29050,
         "CAREAUR": 29050,
         "_deepnote_index_column": "count"
        },
        {
         "provin": 11.15184165232358,
         "canton": 4.049845094664372,
         "mes": 6.563993115318416,
         "año": 3,
         "desaño": 2012,
         "nubo": 36.323855421686744,
         "propie": 1.0026161790017212,
         "tipbr": 100.16488812392427,
         "sute": 509.1817555938038,
         "arpb": 129.11583476764199,
         "arco": 294.5572805507745,
         "aesv": 380.0659208261618,
         "cimi": 104.26354561101549,
         "estru": 119.2336660929432,
         "pared": 124.24220309810671,
         "cubi": 125.98636833046471,
         "cres": 147.28123924268502,
         "numuni": 1.2604819277108434,
         "nuvi": 1.621686746987952,
         "nucu": 7.772082616179001,
         "nudo": 4.381824440619622,
         "nupi": 1.5415834767641996,
         "ares": 197.67800344234078,
         "coa11": 23.412289156626507,
         "nup11": 0.18757314974182443,
         "are11": 90.59511187607573,
         "coa22": 0.9803098106712564,
         "nup22": 0.003648881239242685,
         "are22": 3.0159380378657485,
         "coa33": 0.16898450946643717,
         "nup33": 0.0006196213425129088,
         "are33": 0.7322203098106712,
         "tonp": 1.7428571428571429,
         "aret": 294.5572805507745,
         "codte1": 25.529535283993116,
         "valte1": 13355.399277108434,
         "codte2": 1.580447504302926,
         "valte2": 241.30144578313252,
         "codte3": 0.02395869191049914,
         "valte3": 1.463407917383821,
         "codur1": 4.751084337349398,
         "valur1": 295.5993459552496,
         "codur2": 0.1904302925989673,
         "valur2": 13.366506024096385,
         "codur3": 0.0163855421686747,
         "valur3": 1.7506024096385542,
         "cove": 218.31938037865748,
         "vaede": 65560.54495697074,
         "cov2": 24.47617900172117,
         "vae22": 5931.09239242685,
         "cov3": 1.3554561101549054,
         "vae33": 851.8282616179001,
         "valt": 13598.16413080895,
         "vtou": 310.7164543889845,
         "vted": 72343.46561101549,
         "COAMS": 23.39160068846816,
         "COVEMS": 218.38148020654046,
         "COVET5": 220.34330464716007,
         "NUPIRES": 1.746540447504303,
         "NUVICAL": 1.6336660929432014,
         "NUDOCAL": 2.831807228915663,
         "NUCUCAL": 4.945438898450947,
         "CARCO": 411.63356282271945,
         "CARES": 314.4280895008606,
         "CARNRES": 96.04867469879518,
         "CARDPAR": 1.1567986230636833,
         "CAESV": 471.57001721170394,
         "CSUTE": 647.5879518072289,
         "CTIPOBR": 1.1549053356282273,
         "CPERM": 1.2604819277108434,
         "CDISPSUT": 3.315318416523236,
         "CDISPUSO": 2.1082271944922546,
         "CDISPARC": 2.4543201376936317,
         "CDISPRFI": 2.587022375215146,
         "CDISPRFX": 2.003752151462995,
         "CNUVICAL": 3.6566609294320136,
         "CVAE": 106550.17800344234,
         "CAREAUR": 1.073080895008606,
         "_deepnote_index_column": "mean"
        },
        {
         "provin": 5.66190058159468,
         "canton": 4.778230380518647,
         "mes": 3.287876582914371,
         "año": 0,
         "desaño": 0,
         "nubo": 51.48292220878357,
         "propie": 0.05108252572488814,
         "tipbr": 0.4466122372880804,
         "sute": 2958.7706135388853,
         "arpb": 441.98736643061596,
         "arco": 1315.9151216656478,
         "aesv": 2753.312811182237,
         "cimi": 41.06449508866158,
         "estru": 15.287297524805851,
         "pared": 5.102872527441459,
         "cubi": 6.887565288842737,
         "cres": 45.96211295818052,
         "numuni": 5.291053497030424,
         "nuvi": 9.475854139605566,
         "nucu": 17.890739378508517,
         "nudo": 10.38202237667194,
         "nupi": 0.9950178337698684,
         "ares": 473.19668506756415,
         "coa11": 60.49018983516159,
         "nup11": 0.6978551084965328,
         "are11": 1194.353717178728,
         "coa22": 13.707857518505858,
         "nup22": 0.12956035873987615,
         "are22": 223.59862321070048,
         "coa33": 5.75855157240274,
         "nup33": 0.028736845451019396,
         "are33": 53.655204065674766,
         "tonp": 1.032587930684234,
         "aret": 1315.9151216656478,
         "codte1": 69.41479095879365,
         "valte1": 1408848.0097519665,
         "codte2": 18.76427978769938,
         "valte2": 8279.856065832437,
         "codte3": 2.3615312105756403,
         "valte3": 199.5699127562704,
         "codur1": 31.666345659792626,
         "valur1": 6085.147107662809,
         "codur2": 6.629845662632122,
         "valur2": 901.3776608733112,
         "codur3": 1.9749036511181917,
         "valur3": 293.40003893442645,
         "cove": 9.281616085103678,
         "vaede": 317672.49795381725,
         "cov2": 72.58632863481031,
         "vae22": 156235.11612578182,
         "cov3": 18.00178383246213,
         "vae33": 38225.14907040548,
         "valt": 1408894.8544496617,
         "vtou": 6275.036683140672,
         "vted": 394677.1972761864,
         "COAMS": 60.5232747700711,
         "COVEMS": 8.547023896422106,
         "COVET5": 10.56384705654279,
         "NUPIRES": 0.9998240286317102,
         "NUVICAL": 9.474453812087987,
         "NUDOCAL": 1.2920234493360678,
         "NUCUCAL": 3.004973218744745,
         "CARCO": 5177.896524384741,
         "CARES": 5007.598932862387,
         "CARNRES": 1245.6100177834244,
         "CARDPAR": 26.049327859260362,
         "CAESV": 4171.539069398053,
         "CSUTE": 5689.160085346895,
         "CTIPOBR": 0.40338877401446643,
         "CPERM": 5.291053497030424,
         "CDISPSUT": 2.2272189137580565,
         "CDISPUSO": 2.6956010571032114,
         "CDISPARC": 1.477706582818155,
         "CDISPRFI": 3.1453509153976245,
         "CDISPRFX": 2.53817011160046,
         "CNUVICAL": 128.8950296026741,
         "CVAE": 1224565.9431477,
         "CAREAUR": 0.2602737207594152,
         "_deepnote_index_column": "std"
        },
        {
         "provin": 1,
         "canton": 1,
         "mes": 1,
         "año": 3,
         "desaño": 2012,
         "nubo": 1,
         "propie": 1,
         "tipbr": 100,
         "sute": 0,
         "arpb": 0,
         "arco": 3,
         "aesv": 0,
         "cimi": 0,
         "estru": 0,
         "pared": 0,
         "cubi": 0,
         "cres": 0,
         "numuni": 1,
         "nuvi": 0,
         "nucu": 0,
         "nudo": 0,
         "nupi": 0,
         "ares": 0,
         "coa11": 0,
         "nup11": 0,
         "are11": 0,
         "coa22": 0,
         "nup22": 0,
         "are22": 0,
         "coa33": 0,
         "nup33": 0,
         "are33": 0,
         "tonp": 0,
         "aret": 3,
         "codte1": 0,
         "valte1": 0,
         "codte2": 0,
         "valte2": 0,
         "codte3": 0,
         "valte3": 0,
         "codur1": 0,
         "valur1": 0,
         "codur2": 0,
         "valur2": 0,
         "codur3": 0,
         "valur3": 0,
         "cove": 0,
         "vaede": 0,
         "cov2": 0,
         "vae22": 0,
         "cov3": 0,
         "vae33": 0,
         "valt": 0,
         "vtou": 0,
         "vted": 74,
         "COAMS": 0,
         "COVEMS": 215,
         "COVET5": 215,
         "NUPIRES": 1,
         "NUVICAL": 0,
         "NUDOCAL": 1,
         "NUCUCAL": 1,
         "CARCO": 0,
         "CARES": 0,
         "CARNRES": 0,
         "CARDPAR": 0,
         "CAESV": 0,
         "CSUTE": 0,
         "CTIPOBR": 1,
         "CPERM": 1,
         "CDISPSUT": 1,
         "CDISPUSO": 1,
         "CDISPARC": 1,
         "CDISPRFI": 1,
         "CDISPRFX": 1,
         "CNUVICAL": 0,
         "CVAE": 74,
         "CAREAUR": 1,
         "_deepnote_index_column": "min"
        },
        {
         "provin": 8,
         "canton": 1,
         "mes": 4,
         "año": 3,
         "desaño": 2012,
         "nubo": 4,
         "propie": 1,
         "tipbr": 100,
         "sute": 108,
         "arpb": 42,
         "arco": 88,
         "aesv": 22,
         "cimi": 120,
         "estru": 121,
         "pared": 122,
         "cubi": 123,
         "cres": 160,
         "numuni": 1,
         "nuvi": 1,
         "nucu": 4,
         "nudo": 2,
         "nupi": 1,
         "ares": 63,
         "coa11": 0,
         "nup11": 0,
         "are11": 0,
         "coa22": 0,
         "nup22": 0,
         "are22": 0,
         "coa33": 0,
         "nup33": 0,
         "are33": 0,
         "tonp": 1,
         "aret": 88,
         "codte1": 0,
         "valte1": 0,
         "codte2": 0,
         "valte2": 0,
         "codte3": 0,
         "valte3": 0,
         "codur1": 0,
         "valur1": 0,
         "codur2": 0,
         "valur2": 0,
         "codur3": 0,
         "valur3": 0,
         "cove": 215,
         "vaede": 15000,
         "cov2": 0,
         "vae22": 0,
         "cov3": 0,
         "vae33": 0,
         "valt": 0,
         "vtou": 0,
         "vted": 15442.5,
         "COAMS": 0,
         "COVEMS": 215,
         "COVET5": 215,
         "NUPIRES": 1,
         "NUVICAL": 1,
         "NUDOCAL": 2,
         "NUCUCAL": 3,
         "CARCO": 88,
         "CARES": 64,
         "CARNRES": 0,
         "CARDPAR": 0,
         "CAESV": 22,
         "CSUTE": 109,
         "CTIPOBR": 1,
         "CPERM": 1,
         "CDISPSUT": 2,
         "CDISPUSO": 1,
         "CDISPARC": 1,
         "CDISPRFI": 1,
         "CDISPRFX": 1,
         "CNUVICAL": 1,
         "CVAE": 15715.75,
         "CAREAUR": 1,
         "_deepnote_index_column": "25%"
        },
        {
         "provin": 10,
         "canton": 1,
         "mes": 7,
         "año": 3,
         "desaño": 2012,
         "nubo": 15,
         "propie": 1,
         "tipbr": 100,
         "sute": 200,
         "arpb": 84,
         "arco": 151,
         "aesv": 108,
         "cimi": 120,
         "estru": 121,
         "pared": 126,
         "cubi": 123,
         "cres": 160,
         "numuni": 1,
         "nuvi": 1,
         "nucu": 5,
         "nudo": 3,
         "nupi": 1,
         "ares": 128,
         "coa11": 0,
         "nup11": 0,
         "are11": 0,
         "coa22": 0,
         "nup22": 0,
         "are22": 0,
         "coa33": 0,
         "nup33": 0,
         "are33": 0,
         "tonp": 2,
         "aret": 151,
         "codte1": 0,
         "valte1": 0,
         "codte2": 0,
         "valte2": 0,
         "codte3": 0,
         "valte3": 0,
         "codur1": 0,
         "valur1": 0,
         "codur2": 0,
         "valur2": 0,
         "codur3": 0,
         "valur3": 0,
         "cove": 215,
         "vaede": 30000,
         "cov2": 0,
         "vae22": 0,
         "cov3": 0,
         "vae33": 0,
         "valt": 0,
         "vtou": 0,
         "vted": 30000,
         "COAMS": 0,
         "COVEMS": 215,
         "COVET5": 215,
         "NUPIRES": 2,
         "NUVICAL": 1,
         "NUDOCAL": 3,
         "NUCUCAL": 5,
         "CARCO": 153,
         "CARES": 130,
         "CARNRES": 0,
         "CARDPAR": 0,
         "CAESV": 110,
         "CSUTE": 202,
         "CTIPOBR": 1,
         "CPERM": 1,
         "CDISPSUT": 3,
         "CDISPUSO": 1,
         "CDISPARC": 2,
         "CDISPRFI": 1,
         "CDISPRFX": 1,
         "CNUVICAL": 1,
         "CVAE": 30275.5,
         "CAREAUR": 1,
         "_deepnote_index_column": "50%"
        },
        {
         "provin": 17,
         "canton": 6,
         "mes": 9,
         "año": 3,
         "desaño": 2012,
         "nubo": 45,
         "propie": 1,
         "tipbr": 100,
         "sute": 369,
         "arpb": 126,
         "arco": 255,
         "aesv": 243,
         "cimi": 120,
         "estru": 121,
         "pared": 126,
         "cubi": 127,
         "cres": 160,
         "numuni": 1,
         "nuvi": 1,
         "nucu": 8,
         "nudo": 4,
         "nupi": 2,
         "ares": 221,
         "coa11": 0,
         "nup11": 0,
         "are11": 0,
         "coa22": 0,
         "nup22": 0,
         "are22": 0,
         "coa33": 0,
         "nup33": 0,
         "are33": 0,
         "tonp": 2,
         "aret": 255,
         "codte1": 0,
         "valte1": 0,
         "codte2": 0,
         "valte2": 0,
         "codte3": 0,
         "valte3": 0,
         "codur1": 0,
         "valur1": 0,
         "codur2": 0,
         "valur2": 0,
         "codur3": 0,
         "valur3": 0,
         "cove": 215,
         "vaede": 52000,
         "cov2": 0,
         "vae22": 0,
         "cov3": 0,
         "vae33": 0,
         "valt": 0,
         "vtou": 0,
         "vted": 57260,
         "COAMS": 0,
         "COVEMS": 215,
         "COVET5": 218,
         "NUPIRES": 2,
         "NUVICAL": 1,
         "NUDOCAL": 3,
         "NUCUCAL": 6,
         "CARCO": 261,
         "CARES": 226,
         "CARNRES": 0,
         "CARDPAR": 0,
         "CAESV": 251,
         "CSUTE": 381,
         "CTIPOBR": 1,
         "CPERM": 1,
         "CDISPSUT": 4,
         "CDISPUSO": 2,
         "CDISPARC": 3,
         "CDISPRFI": 2,
         "CDISPRFX": 1,
         "CNUVICAL": 1,
         "CVAE": 59676.5,
         "CAREAUR": 1,
         "_deepnote_index_column": "75%"
        },
        {
         "provin": 24,
         "canton": 28,
         "mes": 12,
         "año": 3,
         "desaño": 2012,
         "nubo": 348,
         "propie": 2,
         "tipbr": 103,
         "sute": 220000,
         "arpb": 24401,
         "arco": 122349,
         "aesv": 213277,
         "cimi": 136,
         "estru": 133,
         "pared": 146,
         "cubi": 139,
         "cres": 170,
         "numuni": 460,
         "nuvi": 1212,
         "nucu": 915,
         "nudo": 680,
         "nupi": 21,
         "ares": 21042,
         "coa11": 197,
         "nup11": 25,
         "are11": 122349,
         "coa22": 197,
         "nup22": 19,
         "are22": 36530,
         "coa33": 197,
         "nup33": 3,
         "are33": 6570,
         "tonp": 25,
         "aret": 122349,
         "codte1": 246,
         "valte1": 240000215,
         "codte2": 246,
         "valte2": 860000,
         "codte3": 243,
         "valte3": 32512,
         "codur1": 247,
         "valur1": 494059,
         "codur2": 247,
         "valur2": 100000,
         "codur3": 241,
         "valur3": 50000,
         "cove": 248,
         "vaede": 19612092,
         "cov2": 248,
         "vae22": 25000000,
         "cov3": 248,
         "vae33": 4400000,
         "valt": 240000215,
         "vtou": 494059,
         "vted": 36700000,
         "COAMS": 197,
         "COVEMS": 248,
         "COVET5": 248,
         "NUPIRES": 25,
         "NUVICAL": 1212,
         "NUDOCAL": 33,
         "NUCUCAL": 305,
         "CARCO": 598671,
         "CARES": 598671,
         "CARNRES": 122349,
         "CARDPAR": 1365,
         "CAESV": 299421,
         "CSUTE": 598671,
         "CTIPOBR": 3,
         "CPERM": 460,
         "CDISPSUT": 8,
         "CDISPUSO": 14,
         "CDISPARC": 6,
         "CDISPRFI": 11,
         "CDISPRFX": 11,
         "CNUVICAL": 15561,
         "CVAE": 98325000,
         "CAREAUR": 2,
         "_deepnote_index_column": "max"
        }
       ],
       "rows_bottom": null
      },
      "text/plain": "             provin        canton           mes      año   desaño  \\\ncount  29050.000000  29050.000000  29050.000000  29050.0  29050.0   \nmean      11.151842      4.049845      6.563993      3.0   2012.0   \nstd        5.661901      4.778230      3.287877      0.0      0.0   \nmin        1.000000      1.000000      1.000000      3.0   2012.0   \n25%        8.000000      1.000000      4.000000      3.0   2012.0   \n50%       10.000000      1.000000      7.000000      3.0   2012.0   \n75%       17.000000      6.000000      9.000000      3.0   2012.0   \nmax       24.000000     28.000000     12.000000      3.0   2012.0   \n\n               nubo        propie         tipbr           sute          arpb  \\\ncount  29050.000000  29050.000000  29050.000000   29050.000000  29050.000000   \nmean      36.323855      1.002616    100.164888     509.181756    129.115835   \nstd       51.482922      0.051083      0.446612    2958.770614    441.987366   \nmin        1.000000      1.000000    100.000000       0.000000      0.000000   \n25%        4.000000      1.000000    100.000000     108.000000     42.000000   \n50%       15.000000      1.000000    100.000000     200.000000     84.000000   \n75%       45.000000      1.000000    100.000000     369.000000    126.000000   \nmax      348.000000      2.000000    103.000000  220000.000000  24401.000000   \n\n       ...       CTIPOBR         CPERM      CDISPSUT      CDISPUSO  \\\ncount  ...  29050.000000  29050.000000  29050.000000  29050.000000   \nmean   ...      1.154905      1.260482      3.315318      2.108227   \nstd    ...      0.403389      5.291053      2.227219      2.695601   \nmin    ...      1.000000      1.000000      1.000000      1.000000   \n25%    ...      1.000000      1.000000      2.000000      1.000000   \n50%    ...      1.000000      1.000000      3.000000      1.000000   \n75%    ...      1.000000      1.000000      4.000000      2.000000   \nmax    ...      3.000000    460.000000      8.000000     14.000000   \n\n           CDISPARC      CDISPRFI      CDISPRFX      CNUVICAL          CVAE  \\\ncount  29050.000000  29050.000000  29050.000000  29050.000000  2.905000e+04   \nmean       2.454320      2.587022      2.003752      3.656661  1.065502e+05   \nstd        1.477707      3.145351      2.538170    128.895030  1.224566e+06   \nmin        1.000000      1.000000      1.000000      0.000000  7.400000e+01   \n25%        1.000000      1.000000      1.000000      1.000000  1.571575e+04   \n50%        2.000000      1.000000      1.000000      1.000000  3.027550e+04   \n75%        3.000000      2.000000      1.000000      1.000000  5.967650e+04   \nmax        6.000000     11.000000     11.000000  15561.000000  9.832500e+07   \n\n            CAREAUR  \ncount  29050.000000  \nmean       1.073081  \nstd        0.260274  \nmin        1.000000  \n25%        1.000000  \n50%        1.000000  \n75%        1.000000  \nmax        2.000000  \n\n[8 rows x 78 columns]",
      "text/html": "<div>\n<style scoped>\n    .dataframe tbody tr th:only-of-type {\n        vertical-align: middle;\n    }\n\n    .dataframe tbody tr th {\n        vertical-align: top;\n    }\n\n    .dataframe thead th {\n        text-align: right;\n    }\n</style>\n<table border=\"1\" class=\"dataframe\">\n  <thead>\n    <tr style=\"text-align: right;\">\n      <th></th>\n      <th>provin</th>\n      <th>canton</th>\n      <th>mes</th>\n      <th>año</th>\n      <th>desaño</th>\n      <th>nubo</th>\n      <th>propie</th>\n      <th>tipbr</th>\n      <th>sute</th>\n      <th>arpb</th>\n      <th>...</th>\n      <th>CTIPOBR</th>\n      <th>CPERM</th>\n      <th>CDISPSUT</th>\n      <th>CDISPUSO</th>\n      <th>CDISPARC</th>\n      <th>CDISPRFI</th>\n      <th>CDISPRFX</th>\n      <th>CNUVICAL</th>\n      <th>CVAE</th>\n      <th>CAREAUR</th>\n    </tr>\n  </thead>\n  <tbody>\n    <tr>\n      <th>count</th>\n      <td>29050.000000</td>\n      <td>29050.000000</td>\n      <td>29050.000000</td>\n      <td>29050.0</td>\n      <td>29050.0</td>\n      <td>29050.000000</td>\n      <td>29050.000000</td>\n      <td>29050.000000</td>\n      <td>29050.000000</td>\n      <td>29050.000000</td>\n      <td>...</td>\n      <td>29050.000000</td>\n      <td>29050.000000</td>\n      <td>29050.000000</td>\n      <td>29050.000000</td>\n      <td>29050.000000</td>\n      <td>29050.000000</td>\n      <td>29050.000000</td>\n      <td>29050.000000</td>\n      <td>2.905000e+04</td>\n      <td>29050.000000</td>\n    </tr>\n    <tr>\n      <th>mean</th>\n      <td>11.151842</td>\n      <td>4.049845</td>\n      <td>6.563993</td>\n      <td>3.0</td>\n      <td>2012.0</td>\n      <td>36.323855</td>\n      <td>1.002616</td>\n      <td>100.164888</td>\n      <td>509.181756</td>\n      <td>129.115835</td>\n      <td>...</td>\n      <td>1.154905</td>\n      <td>1.260482</td>\n      <td>3.315318</td>\n      <td>2.108227</td>\n      <td>2.454320</td>\n      <td>2.587022</td>\n      <td>2.003752</td>\n      <td>3.656661</td>\n      <td>1.065502e+05</td>\n      <td>1.073081</td>\n    </tr>\n    <tr>\n      <th>std</th>\n      <td>5.661901</td>\n      <td>4.778230</td>\n      <td>3.287877</td>\n      <td>0.0</td>\n      <td>0.0</td>\n      <td>51.482922</td>\n      <td>0.051083</td>\n      <td>0.446612</td>\n      <td>2958.770614</td>\n      <td>441.987366</td>\n      <td>...</td>\n      <td>0.403389</td>\n      <td>5.291053</td>\n      <td>2.227219</td>\n      <td>2.695601</td>\n      <td>1.477707</td>\n      <td>3.145351</td>\n      <td>2.538170</td>\n      <td>128.895030</td>\n      <td>1.224566e+06</td>\n      <td>0.260274</td>\n    </tr>\n    <tr>\n      <th>min</th>\n      <td>1.000000</td>\n      <td>1.000000</td>\n      <td>1.000000</td>\n      <td>3.0</td>\n      <td>2012.0</td>\n      <td>1.000000</td>\n      <td>1.000000</td>\n      <td>100.000000</td>\n      <td>0.000000</td>\n      <td>0.000000</td>\n      <td>...</td>\n      <td>1.000000</td>\n      <td>1.000000</td>\n      <td>1.000000</td>\n      <td>1.000000</td>\n      <td>1.000000</td>\n      <td>1.000000</td>\n      <td>1.000000</td>\n      <td>0.000000</td>\n      <td>7.400000e+01</td>\n      <td>1.000000</td>\n    </tr>\n    <tr>\n      <th>25%</th>\n      <td>8.000000</td>\n      <td>1.000000</td>\n      <td>4.000000</td>\n      <td>3.0</td>\n      <td>2012.0</td>\n      <td>4.000000</td>\n      <td>1.000000</td>\n      <td>100.000000</td>\n      <td>108.000000</td>\n      <td>42.000000</td>\n      <td>...</td>\n      <td>1.000000</td>\n      <td>1.000000</td>\n      <td>2.000000</td>\n      <td>1.000000</td>\n      <td>1.000000</td>\n      <td>1.000000</td>\n      <td>1.000000</td>\n      <td>1.000000</td>\n      <td>1.571575e+04</td>\n      <td>1.000000</td>\n    </tr>\n    <tr>\n      <th>50%</th>\n      <td>10.000000</td>\n      <td>1.000000</td>\n      <td>7.000000</td>\n      <td>3.0</td>\n      <td>2012.0</td>\n      <td>15.000000</td>\n      <td>1.000000</td>\n      <td>100.000000</td>\n      <td>200.000000</td>\n      <td>84.000000</td>\n      <td>...</td>\n      <td>1.000000</td>\n      <td>1.000000</td>\n      <td>3.000000</td>\n      <td>1.000000</td>\n      <td>2.000000</td>\n      <td>1.000000</td>\n      <td>1.000000</td>\n      <td>1.000000</td>\n      <td>3.027550e+04</td>\n      <td>1.000000</td>\n    </tr>\n    <tr>\n      <th>75%</th>\n      <td>17.000000</td>\n      <td>6.000000</td>\n      <td>9.000000</td>\n      <td>3.0</td>\n      <td>2012.0</td>\n      <td>45.000000</td>\n      <td>1.000000</td>\n      <td>100.000000</td>\n      <td>369.000000</td>\n      <td>126.000000</td>\n      <td>...</td>\n      <td>1.000000</td>\n      <td>1.000000</td>\n      <td>4.000000</td>\n      <td>2.000000</td>\n      <td>3.000000</td>\n      <td>2.000000</td>\n      <td>1.000000</td>\n      <td>1.000000</td>\n      <td>5.967650e+04</td>\n      <td>1.000000</td>\n    </tr>\n    <tr>\n      <th>max</th>\n      <td>24.000000</td>\n      <td>28.000000</td>\n      <td>12.000000</td>\n      <td>3.0</td>\n      <td>2012.0</td>\n      <td>348.000000</td>\n      <td>2.000000</td>\n      <td>103.000000</td>\n      <td>220000.000000</td>\n      <td>24401.000000</td>\n      <td>...</td>\n      <td>3.000000</td>\n      <td>460.000000</td>\n      <td>8.000000</td>\n      <td>14.000000</td>\n      <td>6.000000</td>\n      <td>11.000000</td>\n      <td>11.000000</td>\n      <td>15561.000000</td>\n      <td>9.832500e+07</td>\n      <td>2.000000</td>\n    </tr>\n  </tbody>\n</table>\n<p>8 rows × 78 columns</p>\n</div>"
     },
     "metadata": {}
    }
   ]
  },
  {
   "cell_type": "code",
   "metadata": {
    "tags": [],
    "cell_id": "00011-132cde49-7e90-415f-b323-295455852a67",
    "deepnote_to_be_reexecuted": false,
    "source_hash": "f2f79983",
    "execution_start": 1630374626909,
    "execution_millis": 4,
    "deepnote_cell_type": "code"
   },
   "source": "sns.set_theme()",
   "execution_count": null,
   "outputs": []
  },
  {
   "cell_type": "code",
   "metadata": {
    "tags": [],
    "cell_id": "00011-2b007d7e-9f30-498b-b8fa-72ca24cb17cd",
    "deepnote_to_be_reexecuted": false,
    "source_hash": "6ba4fcb5",
    "execution_start": 1630096072776,
    "execution_millis": 202,
    "deepnote_cell_type": "code"
   },
   "source": "sns.countplot(y='destipbr', data=df_construction_2012)",
   "execution_count": null,
   "outputs": [
    {
     "output_type": "execute_result",
     "execution_count": 24,
     "data": {
      "text/plain": "<AxesSubplot:xlabel='count', ylabel='destipbr'>"
     },
     "metadata": {}
    },
    {
     "data": {
      "text/plain": "<Figure size 432x288 with 1 Axes>",
      "image/png": "[encoded data removed]"
     },
     "metadata": {
      "image/png": {
       "width": 507,
       "height": 268
      }
     },
     "output_type": "display_data"
    }
   ]
  },
  {
   "cell_type": "code",
   "metadata": {
    "tags": [],
    "cell_id": "00013-1ef309af-b4a4-46f7-812e-ab75b3920194",
    "deepnote_to_be_reexecuted": false,
    "source_hash": "e49cee29",
    "execution_start": 1630097029125,
    "execution_millis": 300,
    "deepnote_cell_type": "code"
   },
   "source": "sns.countplot(y='desprovin', data=df_construction_2012)",
   "execution_count": null,
   "outputs": [
    {
     "output_type": "execute_result",
     "execution_count": 31,
     "data": {
      "text/plain": "<AxesSubplot:xlabel='count', ylabel='desprovin'>"
     },
     "metadata": {}
    },
    {
     "data": {
      "text/plain": "<Figure size 432x288 with 1 Axes>",
      "image/png": "[encoded data removed]"
     },
     "metadata": {
      "image/png": {
       "width": 581,
       "height": 268
      }
     },
     "output_type": "display_data"
    }
   ]
  },
  {
   "cell_type": "code",
   "metadata": {
    "tags": [],
    "cell_id": "00014-b802930a-58d8-4784-9eb2-fe4faa4c0d3e",
    "deepnote_to_be_reexecuted": false,
    "source_hash": "ae98ea81",
    "execution_start": 1630116099377,
    "execution_millis": 15,
    "deepnote_cell_type": "code"
   },
   "source": "df_most_provinces = df_construction_2012.groupby(['desprovin'])[['provin']].count().sort_values(by='provin', ascending=False)\ndf_most_provinces",
   "execution_count": null,
   "outputs": [
    {
     "output_type": "execute_result",
     "execution_count": 15,
     "data": {
      "application/vnd.deepnote.dataframe.v2+json": {
       "row_count": 24,
       "column_count": 1,
       "columns": [
        {
         "name": "provin",
         "dtype": "int64",
         "stats": {
          "unique_count": 24,
          "nan_count": 0,
          "min": "136",
          "max": "5565",
          "histogram": [
           {
            "bin_start": 136,
            "bin_end": 678.9,
            "count": 12
           },
           {
            "bin_start": 678.9,
            "bin_end": 1221.8,
            "count": 3
           },
           {
            "bin_start": 1221.8,
            "bin_end": 1764.6999999999998,
            "count": 4
           },
           {
            "bin_start": 1764.6999999999998,
            "bin_end": 2307.6,
            "count": 2
           },
           {
            "bin_start": 2307.6,
            "bin_end": 2850.5,
            "count": 1
           },
           {
            "bin_start": 2850.5,
            "bin_end": 3393.3999999999996,
            "count": 0
           },
           {
            "bin_start": 3393.3999999999996,
            "bin_end": 3936.2999999999997,
            "count": 1
           },
           {
            "bin_start": 3936.2999999999997,
            "bin_end": 4479.2,
            "count": 0
           },
           {
            "bin_start": 4479.2,
            "bin_end": 5022.099999999999,
            "count": 0
           },
           {
            "bin_start": 5022.099999999999,
            "bin_end": 5565,
            "count": 1
           }
          ]
         }
        },
        {
         "name": "_deepnote_index_column",
         "dtype": "object"
        }
       ],
       "rows_top": [
        {
         "provin": 5565,
         "_deepnote_index_column": "GUAYAS"
        },
        {
         "provin": 3912,
         "_deepnote_index_column": "PICHINCHA"
        },
        {
         "provin": 2780,
         "_deepnote_index_column": "MANABÍ"
        },
        {
         "provin": 2214,
         "_deepnote_index_column": "AZUAY"
        },
        {
         "provin": 1858,
         "_deepnote_index_column": "LOJA"
        },
        {
         "provin": 1763,
         "_deepnote_index_column": "EL ORO"
        },
        {
         "provin": 1545,
         "_deepnote_index_column": "IMBABURA"
        },
        {
         "provin": 1427,
         "_deepnote_index_column": "TUNGURAHUA"
        },
        {
         "provin": 1262,
         "_deepnote_index_column": "LOS RIOS"
        },
        {
         "provin": 1083,
         "_deepnote_index_column": "COTOPAXI"
        },
        {
         "provin": 695,
         "_deepnote_index_column": "CAÑAR"
        },
        {
         "provin": 687,
         "_deepnote_index_column": "CHIMBORAZO"
        },
        {
         "provin": 618,
         "_deepnote_index_column": "SANTO DOMINGO DE LOS TSÁCHILAS"
        },
        {
         "provin": 467,
         "_deepnote_index_column": "SUCUMBIOS"
        },
        {
         "provin": 438,
         "_deepnote_index_column": "MORONA SANTIAGO"
        },
        {
         "provin": 403,
         "_deepnote_index_column": "ZAMORA CHINCHIPE"
        },
        {
         "provin": 401,
         "_deepnote_index_column": "SANTA ELENA"
        },
        {
         "provin": 375,
         "_deepnote_index_column": "CARCHI"
        },
        {
         "provin": 370,
         "_deepnote_index_column": "ESMERALDAS"
        },
        {
         "provin": 321,
         "_deepnote_index_column": "BOLÍVAR"
        },
        {
         "provin": 303,
         "_deepnote_index_column": "NAPO"
        },
        {
         "provin": 284,
         "_deepnote_index_column": "ORELLANA"
        },
        {
         "provin": 143,
         "_deepnote_index_column": "PASTAZA"
        },
        {
         "provin": 136,
         "_deepnote_index_column": "GALÁPAGOS"
        }
       ],
       "rows_bottom": null
      },
      "text/plain": "                                provin\ndesprovin                             \nGUAYAS                            5565\nPICHINCHA                         3912\nMANABÍ                            2780\nAZUAY                             2214\nLOJA                              1858\nEL ORO                            1763\nIMBABURA                          1545\nTUNGURAHUA                        1427\nLOS RIOS                          1262\nCOTOPAXI                          1083\nCAÑAR                              695\nCHIMBORAZO                         687\nSANTO DOMINGO DE LOS TSÁCHILAS     618\nSUCUMBIOS                          467\nMORONA SANTIAGO                    438\nZAMORA CHINCHIPE                   403\nSANTA ELENA                        401\nCARCHI                             375\nESMERALDAS                         370\nBOLÍVAR                            321\nNAPO                               303\nORELLANA                           284\nPASTAZA                            143\nGALÁPAGOS                          136",
      "text/html": "<div>\n<style scoped>\n    .dataframe tbody tr th:only-of-type {\n        vertical-align: middle;\n    }\n\n    .dataframe tbody tr th {\n        vertical-align: top;\n    }\n\n    .dataframe thead th {\n        text-align: right;\n    }\n</style>\n<table border=\"1\" class=\"dataframe\">\n  <thead>\n    <tr style=\"text-align: right;\">\n      <th></th>\n      <th>provin</th>\n    </tr>\n    <tr>\n      <th>desprovin</th>\n      <th></th>\n    </tr>\n  </thead>\n  <tbody>\n    <tr>\n      <th>GUAYAS</th>\n      <td>5565</td>\n    </tr>\n    <tr>\n      <th>PICHINCHA</th>\n      <td>3912</td>\n    </tr>\n    <tr>\n      <th>MANABÍ</th>\n      <td>2780</td>\n    </tr>\n    <tr>\n      <th>AZUAY</th>\n      <td>2214</td>\n    </tr>\n    <tr>\n      <th>LOJA</th>\n      <td>1858</td>\n    </tr>\n    <tr>\n      <th>EL ORO</th>\n      <td>1763</td>\n    </tr>\n    <tr>\n      <th>IMBABURA</th>\n      <td>1545</td>\n    </tr>\n    <tr>\n      <th>TUNGURAHUA</th>\n      <td>1427</td>\n    </tr>\n    <tr>\n      <th>LOS RIOS</th>\n      <td>1262</td>\n    </tr>\n    <tr>\n      <th>COTOPAXI</th>\n      <td>1083</td>\n    </tr>\n    <tr>\n      <th>CAÑAR</th>\n      <td>695</td>\n    </tr>\n    <tr>\n      <th>CHIMBORAZO</th>\n      <td>687</td>\n    </tr>\n    <tr>\n      <th>SANTO DOMINGO DE LOS TSÁCHILAS</th>\n      <td>618</td>\n    </tr>\n    <tr>\n      <th>SUCUMBIOS</th>\n      <td>467</td>\n    </tr>\n    <tr>\n      <th>MORONA SANTIAGO</th>\n      <td>438</td>\n    </tr>\n    <tr>\n      <th>ZAMORA CHINCHIPE</th>\n      <td>403</td>\n    </tr>\n    <tr>\n      <th>SANTA ELENA</th>\n      <td>401</td>\n    </tr>\n    <tr>\n      <th>CARCHI</th>\n      <td>375</td>\n    </tr>\n    <tr>\n      <th>ESMERALDAS</th>\n      <td>370</td>\n    </tr>\n    <tr>\n      <th>BOLÍVAR</th>\n      <td>321</td>\n    </tr>\n    <tr>\n      <th>NAPO</th>\n      <td>303</td>\n    </tr>\n    <tr>\n      <th>ORELLANA</th>\n      <td>284</td>\n    </tr>\n    <tr>\n      <th>PASTAZA</th>\n      <td>143</td>\n    </tr>\n    <tr>\n      <th>GALÁPAGOS</th>\n      <td>136</td>\n    </tr>\n  </tbody>\n</table>\n</div>"
     },
     "metadata": {}
    }
   ]
  },
  {
   "cell_type": "code",
   "metadata": {
    "tags": [],
    "cell_id": "00014-024607b3-5067-4440-b8c7-f843ffd41bc6",
    "deepnote_to_be_reexecuted": false,
    "source_hash": "8a87527",
    "execution_start": 1630097457201,
    "execution_millis": 247,
    "deepnote_cell_type": "code"
   },
   "source": "sns.countplot(x='despropie', hue='destipbr', data=df_construction_2012)",
   "execution_count": null,
   "outputs": [
    {
     "output_type": "execute_result",
     "execution_count": 40,
     "data": {
      "text/plain": "<AxesSubplot:xlabel='despropie', ylabel='count'>"
     },
     "metadata": {}
    },
    {
     "data": {
      "text/plain": "<Figure size 432x288 with 1 Axes>",
      "image/png": "[encoded data removed]"
     },
     "metadata": {
      "image/png": {
       "width": 410,
       "height": 268
      }
     },
     "output_type": "display_data"
    }
   ]
  },
  {
   "cell_type": "code",
   "metadata": {
    "tags": [],
    "cell_id": "00018-72976f35-5102-4648-bd4b-538fca1f9b40",
    "deepnote_to_be_reexecuted": false,
    "source_hash": "494e7188",
    "execution_start": 1630377544674,
    "execution_millis": 222,
    "deepnote_cell_type": "code"
   },
   "source": "sns.countplot(x='despropie', hue='DESCTIPOBR', data=df_construction_2012)",
   "execution_count": null,
   "outputs": [
    {
     "output_type": "execute_result",
     "execution_count": 39,
     "data": {
      "text/plain": "<AxesSubplot:xlabel='despropie', ylabel='count'>"
     },
     "metadata": {}
    },
    {
     "data": {
      "text/plain": "<Figure size 432x288 with 1 Axes>",
      "image/png": "[encoded data removed]"
     },
     "metadata": {
      "image/png": {
       "width": 410,
       "height": 268
      }
     },
     "output_type": "display_data"
    }
   ]
  },
  {
   "cell_type": "code",
   "metadata": {
    "tags": [],
    "cell_id": "00016-65082d0f-53db-4c0d-baa4-331054b200f9",
    "deepnote_to_be_reexecuted": false,
    "source_hash": "ff3fe69",
    "execution_start": 1630117263272,
    "execution_millis": 214,
    "deepnote_cell_type": "code"
   },
   "source": "df_construction_2012['sute'].plot()",
   "execution_count": null,
   "outputs": [
    {
     "output_type": "execute_result",
     "execution_count": 45,
     "data": {
      "text/plain": "<AxesSubplot:>"
     },
     "metadata": {}
    },
    {
     "data": {
      "text/plain": "<Figure size 432x288 with 1 Axes>",
      "image/png": "[encoded data removed]"
     },
     "metadata": {
      "image/png": {
       "width": 412,
       "height": 251
      }
     },
     "output_type": "display_data"
    }
   ]
  },
  {
   "cell_type": "code",
   "metadata": {
    "tags": [],
    "cell_id": "00018-c88a2f34-fb51-41ff-b1cb-4c807ff862d6",
    "deepnote_to_be_reexecuted": false,
    "source_hash": "cfde398",
    "execution_start": 1630122156735,
    "execution_millis": 6,
    "deepnote_cell_type": "code"
   },
   "source": "df_construction_2012['sute'].max()",
   "execution_count": null,
   "outputs": [
    {
     "output_type": "execute_result",
     "execution_count": 5,
     "data": {
      "text/plain": "220000"
     },
     "metadata": {}
    }
   ]
  },
  {
   "cell_type": "code",
   "metadata": {
    "tags": [],
    "cell_id": "00019-f12c3b90-d27e-446d-8ba0-faea1ad1e8de",
    "deepnote_to_be_reexecuted": false,
    "source_hash": "36b5106f",
    "execution_start": 1630119003600,
    "execution_millis": 6,
    "deepnote_cell_type": "code"
   },
   "source": "df_construction_2012.shape",
   "execution_count": null,
   "outputs": [
    {
     "output_type": "execute_result",
     "execution_count": 56,
     "data": {
      "text/plain": "(29050, 96)"
     },
     "metadata": {}
    }
   ]
  },
  {
   "cell_type": "code",
   "metadata": {
    "tags": [],
    "cell_id": "00019-b117cb28-11c8-40a2-ada3-26bfd6e19ca2",
    "deepnote_to_be_reexecuted": false,
    "source_hash": "578a68d6",
    "execution_start": 1630120368861,
    "execution_millis": 26121,
    "deepnote_cell_type": "code"
   },
   "source": "sns.displot(df_construction_2012, x='sute')\nplt.ylim(0, 4000)\nplt.xlim(0, 1500)",
   "execution_count": null,
   "outputs": [
    {
     "output_type": "execute_result",
     "execution_count": 13,
     "data": {
      "text/plain": "(0.0, 1500.0)"
     },
     "metadata": {}
    },
    {
     "data": {
      "text/plain": "<Figure size 360x360 with 1 Axes>",
      "image/png": "[encoded data removed]"
     },
     "metadata": {
      "image/png": {
       "width": 348,
       "height": 352
      }
     },
     "output_type": "display_data"
    }
   ]
  },
  {
   "cell_type": "code",
   "metadata": {
    "tags": [],
    "cell_id": "00021-43c39fe8-2573-42ba-821d-86633cb3cfa1",
    "deepnote_to_be_reexecuted": false,
    "source_hash": "4faaff22",
    "execution_start": 1630120674385,
    "execution_millis": 109773,
    "deepnote_cell_type": "code"
   },
   "source": "sns.displot(df_construction_2012, x='arco', hue='destipbr')\nplt.ylim(0, 4000)\nplt.xlim(0, 1500)",
   "execution_count": null,
   "outputs": [
    {
     "output_type": "execute_result",
     "execution_count": 16,
     "data": {
      "text/plain": "(0.0, 1500.0)"
     },
     "metadata": {}
    },
    {
     "data": {
      "text/plain": "<Figure size 530.225x360 with 1 Axes>",
      "image/png": "[encoded data removed]"
     },
     "metadata": {
      "image/png": {
       "width": 526,
       "height": 352
      }
     },
     "output_type": "display_data"
    }
   ]
  },
  {
   "cell_type": "code",
   "metadata": {
    "tags": [],
    "cell_id": "00015-13868616-ed9d-46e8-bc64-d312560225de",
    "deepnote_to_be_reexecuted": false,
    "source_hash": "22b66af7",
    "execution_start": 1630097556633,
    "execution_millis": 15,
    "deepnote_cell_type": "code"
   },
   "source": "df_construction_2012.groupby(['despropie'])[['destipbr']].count()",
   "execution_count": null,
   "outputs": [
    {
     "output_type": "execute_result",
     "execution_count": 47,
     "data": {
      "application/vnd.deepnote.dataframe.v2+json": {
       "row_count": 2,
       "column_count": 1,
       "columns": [
        {
         "name": "destipbr",
         "dtype": "int64",
         "stats": {
          "unique_count": 2,
          "nan_count": 0,
          "min": "76",
          "max": "28974",
          "histogram": [
           {
            "bin_start": 76,
            "bin_end": 2965.8,
            "count": 1
           },
           {
            "bin_start": 2965.8,
            "bin_end": 5855.6,
            "count": 0
           },
           {
            "bin_start": 5855.6,
            "bin_end": 8745.400000000001,
            "count": 0
           },
           {
            "bin_start": 8745.400000000001,
            "bin_end": 11635.2,
            "count": 0
           },
           {
            "bin_start": 11635.2,
            "bin_end": 14525,
            "count": 0
           },
           {
            "bin_start": 14525,
            "bin_end": 17414.800000000003,
            "count": 0
           },
           {
            "bin_start": 17414.800000000003,
            "bin_end": 20304.600000000002,
            "count": 0
           },
           {
            "bin_start": 20304.600000000002,
            "bin_end": 23194.4,
            "count": 0
           },
           {
            "bin_start": 23194.4,
            "bin_end": 26084.2,
            "count": 0
           },
           {
            "bin_start": 26084.2,
            "bin_end": 28974,
            "count": 1
           }
          ]
         }
        },
        {
         "name": "_deepnote_index_column",
         "dtype": "object"
        }
       ],
       "rows_top": [
        {
         "destipbr": 28974,
         "_deepnote_index_column": "Privada"
        },
        {
         "destipbr": 76,
         "_deepnote_index_column": "Pública"
        }
       ],
       "rows_bottom": null
      },
      "text/plain": "           destipbr\ndespropie          \nPrivada       28974\nPública          76",
      "text/html": "<div>\n<style scoped>\n    .dataframe tbody tr th:only-of-type {\n        vertical-align: middle;\n    }\n\n    .dataframe tbody tr th {\n        vertical-align: top;\n    }\n\n    .dataframe thead th {\n        text-align: right;\n    }\n</style>\n<table border=\"1\" class=\"dataframe\">\n  <thead>\n    <tr style=\"text-align: right;\">\n      <th></th>\n      <th>destipbr</th>\n    </tr>\n    <tr>\n      <th>despropie</th>\n      <th></th>\n    </tr>\n  </thead>\n  <tbody>\n    <tr>\n      <th>Privada</th>\n      <td>28974</td>\n    </tr>\n    <tr>\n      <th>Pública</th>\n      <td>76</td>\n    </tr>\n  </tbody>\n</table>\n</div>"
     },
     "metadata": {}
    }
   ]
  },
  {
   "cell_type": "code",
   "metadata": {
    "tags": [],
    "cell_id": "00016-e9c02f2e-b284-4711-8b3a-3bc546b2e549",
    "deepnote_to_be_reexecuted": false,
    "source_hash": "e3365f67",
    "execution_start": 1630098243049,
    "execution_millis": 270,
    "deepnote_cell_type": "code"
   },
   "source": "sns.countplot(y='desestru', data=df_construction_2012)",
   "execution_count": null,
   "outputs": [
    {
     "output_type": "execute_result",
     "execution_count": 59,
     "data": {
      "text/plain": "<AxesSubplot:xlabel='count', ylabel='desestru'>"
     },
     "metadata": {}
    },
    {
     "data": {
      "text/plain": "<Figure size 432x288 with 1 Axes>",
      "image/png": "[encoded data removed]"
     },
     "metadata": {
      "image/png": {
       "width": 476,
       "height": 268
      }
     },
     "output_type": "display_data"
    }
   ]
  },
  {
   "cell_type": "code",
   "metadata": {
    "tags": [],
    "cell_id": "00024-981df502-6d7a-48e9-8a3b-7bfe9de3e43a",
    "deepnote_to_be_reexecuted": false,
    "source_hash": "8c333ec9",
    "execution_start": 1630121124334,
    "execution_millis": 5,
    "deepnote_cell_type": "code"
   },
   "source": "df_construction_2012.groupby(['desestru'])[['destipbr']].count()",
   "execution_count": null,
   "outputs": [
    {
     "output_type": "execute_result",
     "execution_count": 17,
     "data": {
      "application/vnd.deepnote.dataframe.v2+json": {
       "row_count": 5,
       "column_count": 1,
       "columns": [
        {
         "name": "destipbr",
         "dtype": "int64",
         "stats": {
          "unique_count": 5,
          "nan_count": 0,
          "min": "28",
          "max": "27418",
          "histogram": [
           {
            "bin_start": 28,
            "bin_end": 2767,
            "count": 4
           },
           {
            "bin_start": 2767,
            "bin_end": 5506,
            "count": 0
           },
           {
            "bin_start": 5506,
            "bin_end": 8245,
            "count": 0
           },
           {
            "bin_start": 8245,
            "bin_end": 10984,
            "count": 0
           },
           {
            "bin_start": 10984,
            "bin_end": 13723,
            "count": 0
           },
           {
            "bin_start": 13723,
            "bin_end": 16462,
            "count": 0
           },
           {
            "bin_start": 16462,
            "bin_end": 19201,
            "count": 0
           },
           {
            "bin_start": 19201,
            "bin_end": 21940,
            "count": 0
           },
           {
            "bin_start": 21940,
            "bin_end": 24679,
            "count": 0
           },
           {
            "bin_start": 24679,
            "bin_end": 27418,
            "count": 1
           }
          ]
         }
        },
        {
         "name": "_deepnote_index_column",
         "dtype": "object"
        }
       ],
       "rows_top": [
        {
         "destipbr": 27418,
         "_deepnote_index_column": "Hormigón Armado"
        },
        {
         "destipbr": 109,
         "_deepnote_index_column": "Madera"
        },
        {
         "destipbr": 1027,
         "_deepnote_index_column": "Metálica"
        },
        {
         "destipbr": 468,
         "_deepnote_index_column": "No Aplica"
        },
        {
         "destipbr": 28,
         "_deepnote_index_column": "Otros"
        }
       ],
       "rows_bottom": null
      },
      "text/plain": "                 destipbr\ndesestru                 \nHormigón Armado     27418\nMadera                109\nMetálica             1027\nNo Aplica             468\nOtros                  28",
      "text/html": "<div>\n<style scoped>\n    .dataframe tbody tr th:only-of-type {\n        vertical-align: middle;\n    }\n\n    .dataframe tbody tr th {\n        vertical-align: top;\n    }\n\n    .dataframe thead th {\n        text-align: right;\n    }\n</style>\n<table border=\"1\" class=\"dataframe\">\n  <thead>\n    <tr style=\"text-align: right;\">\n      <th></th>\n      <th>destipbr</th>\n    </tr>\n    <tr>\n      <th>desestru</th>\n      <th></th>\n    </tr>\n  </thead>\n  <tbody>\n    <tr>\n      <th>Hormigón Armado</th>\n      <td>27418</td>\n    </tr>\n    <tr>\n      <th>Madera</th>\n      <td>109</td>\n    </tr>\n    <tr>\n      <th>Metálica</th>\n      <td>1027</td>\n    </tr>\n    <tr>\n      <th>No Aplica</th>\n      <td>468</td>\n    </tr>\n    <tr>\n      <th>Otros</th>\n      <td>28</td>\n    </tr>\n  </tbody>\n</table>\n</div>"
     },
     "metadata": {}
    }
   ]
  },
  {
   "cell_type": "code",
   "metadata": {
    "tags": [],
    "cell_id": "00017-3c321f5d-98db-44b9-abe1-8e8e7966d25c",
    "deepnote_to_be_reexecuted": false,
    "source_hash": "57a2e33f",
    "execution_start": 1630097983137,
    "execution_millis": 312,
    "deepnote_cell_type": "code"
   },
   "source": "sns.countplot(y='descimi', data=df_construction_2012)",
   "execution_count": null,
   "outputs": [
    {
     "output_type": "execute_result",
     "execution_count": 57,
     "data": {
      "text/plain": "<AxesSubplot:xlabel='count', ylabel='descimi'>"
     },
     "metadata": {}
    },
    {
     "data": {
      "text/plain": "<Figure size 432x288 with 1 Axes>",
      "image/png": "[encoded data removed]"
     },
     "metadata": {
      "image/png": {
       "width": 522,
       "height": 268
      }
     },
     "output_type": "display_data"
    }
   ]
  },
  {
   "cell_type": "code",
   "metadata": {
    "tags": [],
    "cell_id": "00027-6b1e3270-ed1a-4262-b008-87df4183ecff",
    "deepnote_to_be_reexecuted": false,
    "source_hash": "218486f4",
    "execution_start": 1630167617910,
    "execution_millis": 220,
    "deepnote_cell_type": "code"
   },
   "source": "sns.countplot(y='descubi', data=df_construction_2012)",
   "execution_count": null,
   "outputs": [
    {
     "output_type": "execute_result",
     "execution_count": 7,
     "data": {
      "text/plain": "<AxesSubplot:xlabel='count', ylabel='descubi'>"
     },
     "metadata": {}
    },
    {
     "data": {
      "text/plain": "<Figure size 432x288 with 1 Axes>",
      "image/png": "[encoded data removed]"
     },
     "metadata": {
      "image/png": {
       "width": 496,
       "height": 268
      }
     },
     "output_type": "display_data"
    }
   ]
  },
  {
   "cell_type": "code",
   "metadata": {
    "tags": [],
    "cell_id": "00028-0ce57d17-ff8f-43e0-82f2-eefec7b82717",
    "deepnote_to_be_reexecuted": false,
    "source_hash": "729ef8e5",
    "execution_start": 1630167874145,
    "execution_millis": 221,
    "deepnote_cell_type": "code"
   },
   "source": "sns.countplot(y='descres', data=df_construction_2012)",
   "execution_count": null,
   "outputs": [
    {
     "output_type": "execute_result",
     "execution_count": 9,
     "data": {
      "text/plain": "<AxesSubplot:xlabel='count', ylabel='descres'>"
     },
     "metadata": {}
    },
    {
     "data": {
      "text/plain": "<Figure size 432x288 with 1 Axes>",
      "image/png": "[encoded data removed]"
     },
     "metadata": {
      "image/png": {
       "width": 518,
       "height": 268
      }
     },
     "output_type": "display_data"
    }
   ]
  },
  {
   "cell_type": "code",
   "metadata": {
    "tags": [],
    "cell_id": "00016-35150200-d72b-4537-aa10-d8589f3fe545",
    "deepnote_to_be_reexecuted": false,
    "source_hash": "36ae82b2",
    "execution_start": 1630168314167,
    "execution_millis": 6,
    "deepnote_cell_type": "code"
   },
   "source": "df_construction_2012['nucu'].max()",
   "execution_count": null,
   "outputs": [
    {
     "output_type": "execute_result",
     "execution_count": 27,
     "data": {
      "text/plain": "915"
     },
     "metadata": {}
    }
   ]
  },
  {
   "cell_type": "code",
   "metadata": {
    "tags": [],
    "cell_id": "00029-53aca31e-1fd9-43bd-93a0-7595d44bb924",
    "deepnote_to_be_reexecuted": false,
    "source_hash": "cc1ac2bf",
    "execution_start": 1630168348374,
    "execution_millis": 2595,
    "deepnote_cell_type": "code"
   },
   "source": "#numuni: number of units of construction\nsns.displot(x='numuni', data=df_construction_2012, bins=1000)\n#Too many outliers\nplt.xlim(0, 10)",
   "execution_count": null,
   "outputs": [
    {
     "output_type": "execute_result",
     "execution_count": 28,
     "data": {
      "text/plain": "(0.0, 10.0)"
     },
     "metadata": {}
    },
    {
     "data": {
      "text/plain": "<Figure size 360x360 with 1 Axes>",
      "image/png": "[encoded data removed]"
     },
     "metadata": {
      "image/png": {
       "width": 355,
       "height": 348
      }
     },
     "output_type": "display_data"
    }
   ]
  },
  {
   "cell_type": "code",
   "metadata": {
    "tags": [],
    "cell_id": "00031-cd352a07-7d9a-46d2-a977-c8cd9118c3c4",
    "deepnote_to_be_reexecuted": false,
    "source_hash": "eb3fbb4f",
    "execution_start": 1630168508088,
    "execution_millis": 7,
    "deepnote_cell_type": "code"
   },
   "source": "df_construction_2012['numuni'].median()",
   "execution_count": null,
   "outputs": [
    {
     "output_type": "execute_result",
     "execution_count": 33,
     "data": {
      "text/plain": "1.0"
     },
     "metadata": {}
    }
   ]
  },
  {
   "cell_type": "code",
   "metadata": {
    "tags": [],
    "cell_id": "00031-eb34d971-e70b-49a3-8f50-f943eb73742b",
    "deepnote_to_be_reexecuted": false,
    "source_hash": "cc6af795",
    "execution_start": 1630168440992,
    "execution_millis": 6445,
    "deepnote_cell_type": "code"
   },
   "source": "#nucu: number of rooms\nsns.histplot(x='nucu', data=df_construction_2012)\n#Too many outliers\nplt.xlim(0, 100)",
   "execution_count": null,
   "outputs": [
    {
     "output_type": "execute_result",
     "execution_count": 32,
     "data": {
      "text/plain": "(0.0, 100.0)"
     },
     "metadata": {}
    },
    {
     "data": {
      "text/plain": "<Figure size 432x288 with 1 Axes>",
      "image/png": "[encoded data removed]"
     },
     "metadata": {
      "image/png": {
       "width": 414,
       "height": 268
      }
     },
     "output_type": "display_data"
    }
   ]
  },
  {
   "cell_type": "code",
   "metadata": {
    "tags": [],
    "cell_id": "00033-bbf02158-2867-4616-8fc8-4cf2d559d64b",
    "deepnote_to_be_reexecuted": false,
    "source_hash": "80ef731b",
    "execution_start": 1630168526151,
    "execution_millis": 5,
    "deepnote_cell_type": "code"
   },
   "source": "df_construction_2012['nucu'].median()",
   "execution_count": null,
   "outputs": [
    {
     "output_type": "execute_result",
     "execution_count": 34,
     "data": {
      "text/plain": "5.0"
     },
     "metadata": {}
    }
   ]
  },
  {
   "cell_type": "code",
   "metadata": {
    "tags": [],
    "cell_id": "00034-179ca2cc-630c-4f11-8cca-ee11a58cdea0",
    "deepnote_to_be_reexecuted": false,
    "source_hash": "de4b2788",
    "execution_start": 1630168632506,
    "execution_millis": 9711,
    "deepnote_cell_type": "code"
   },
   "source": "#nudo: number of living rooms\nsns.histplot(x='nudo', data=df_construction_2012)\n#Too many outliers\nplt.xlim(0, 30)",
   "execution_count": null,
   "outputs": [
    {
     "output_type": "execute_result",
     "execution_count": 37,
     "data": {
      "text/plain": "(0.0, 30.0)"
     },
     "metadata": {}
    },
    {
     "data": {
      "text/plain": "<Figure size 432x288 with 1 Axes>",
      "image/png": "[encoded data removed]"
     },
     "metadata": {
      "image/png": {
       "width": 410,
       "height": 268
      }
     },
     "output_type": "display_data"
    }
   ]
  },
  {
   "cell_type": "code",
   "metadata": {
    "tags": [],
    "cell_id": "00035-60468c63-2ada-4dad-a92d-a9c55ae8edb3",
    "deepnote_to_be_reexecuted": false,
    "source_hash": "72026b5b",
    "execution_start": 1630168664586,
    "execution_millis": 10,
    "deepnote_cell_type": "code"
   },
   "source": "df_construction_2012['nudo'].median()",
   "execution_count": null,
   "outputs": [
    {
     "output_type": "execute_result",
     "execution_count": 38,
     "data": {
      "text/plain": "3.0"
     },
     "metadata": {}
    }
   ]
  },
  {
   "cell_type": "code",
   "metadata": {
    "tags": [],
    "cell_id": "00036-71692f70-9fdb-467e-a025-865fb6a9dd89",
    "deepnote_to_be_reexecuted": false,
    "source_hash": "478399ff",
    "execution_start": 1630169341431,
    "execution_millis": 731,
    "deepnote_cell_type": "code"
   },
   "source": "#nupi: number floors\nsns.histplot(x='nupi', data=df_construction_2012)",
   "execution_count": null,
   "outputs": [
    {
     "output_type": "execute_result",
     "execution_count": 54,
     "data": {
      "text/plain": "<AxesSubplot:xlabel='nupi', ylabel='Count'>"
     },
     "metadata": {}
    },
    {
     "data": {
      "text/plain": "<Figure size 432x288 with 1 Axes>",
      "image/png": "[encoded data removed]"
     },
     "metadata": {
      "image/png": {
       "width": 410,
       "height": 268
      }
     },
     "output_type": "display_data"
    }
   ]
  },
  {
   "cell_type": "code",
   "metadata": {
    "tags": [],
    "cell_id": "00036-874c965d-30df-4fc5-9202-2838a4569bc7",
    "deepnote_to_be_reexecuted": false,
    "source_hash": "ae0aaad",
    "execution_start": 1630169372644,
    "execution_millis": 10,
    "deepnote_cell_type": "code"
   },
   "source": "df_construction_2012['nupi'].describe()",
   "execution_count": null,
   "outputs": [
    {
     "output_type": "execute_result",
     "execution_count": 55,
     "data": {
      "text/plain": "count    29050.000000\nmean         1.541583\nstd          0.995018\nmin          0.000000\n25%          1.000000\n50%          1.000000\n75%          2.000000\nmax         21.000000\nName: nupi, dtype: float64"
     },
     "metadata": {}
    }
   ]
  },
  {
   "cell_type": "code",
   "metadata": {
    "tags": [],
    "cell_id": "00038-d6e6df1c-caf8-4239-9634-8d8e831e650d",
    "deepnote_to_be_reexecuted": false,
    "source_hash": "62ebd17a",
    "execution_start": 1630169469649,
    "execution_millis": 790,
    "deepnote_cell_type": "code"
   },
   "source": "#tonp: number of total floors. It includes floors that existed before\nsns.histplot(x='tonp', data=df_construction_2012)",
   "execution_count": null,
   "outputs": [
    {
     "output_type": "execute_result",
     "execution_count": 58,
     "data": {
      "text/plain": "<AxesSubplot:xlabel='tonp', ylabel='Count'>"
     },
     "metadata": {}
    },
    {
     "data": {
      "text/plain": "<Figure size 432x288 with 1 Axes>",
      "image/png": "[encoded data removed]"
     },
     "metadata": {
      "image/png": {
       "width": 410,
       "height": 268
      }
     },
     "output_type": "display_data"
    }
   ]
  },
  {
   "cell_type": "code",
   "metadata": {
    "tags": [],
    "cell_id": "00037-7cadcfa0-df31-4fc7-a25a-007519529ce8",
    "deepnote_to_be_reexecuted": false,
    "source_hash": "86f40a41",
    "execution_start": 1630169398016,
    "execution_millis": 9,
    "deepnote_cell_type": "code"
   },
   "source": "df_construction_2012['tonp'].describe()",
   "execution_count": null,
   "outputs": [
    {
     "output_type": "execute_result",
     "execution_count": 56,
     "data": {
      "text/plain": "count    29050.000000\nmean         1.742857\nstd          1.032588\nmin          0.000000\n25%          1.000000\n50%          2.000000\n75%          2.000000\nmax         25.000000\nName: tonp, dtype: float64"
     },
     "metadata": {}
    }
   ]
  },
  {
   "cell_type": "code",
   "metadata": {
    "tags": [],
    "cell_id": "00040-f6d691bd-5aa3-45d8-a6a2-b20e10d9a88d",
    "deepnote_to_be_reexecuted": false,
    "source_hash": "a5d74fd3",
    "execution_start": 1630374666718,
    "execution_millis": 0,
    "deepnote_cell_type": "code"
   },
   "source": "pd.options.display.float_format = '{:,.2f}'.format\n",
   "execution_count": null,
   "outputs": []
  },
  {
   "cell_type": "code",
   "metadata": {
    "tags": [],
    "cell_id": "00040-6538f7d4-4476-468c-88ba-fcf0f6e0dc10",
    "deepnote_to_be_reexecuted": false,
    "source_hash": "11d6ca7d",
    "execution_start": 1630172231687,
    "execution_millis": 11,
    "deepnote_cell_type": "code"
   },
   "source": "df_construction_2012['valte1'].describe()",
   "execution_count": null,
   "outputs": [
    {
     "output_type": "execute_result",
     "execution_count": 72,
     "data": {
      "text/plain": "count        29,050.00\nmean         13,355.40\nstd       1,408,848.01\nmin               0.00\n25%               0.00\n50%               0.00\n75%               0.00\nmax     240,000,215.00\nName: valte1, dtype: float64"
     },
     "metadata": {}
    }
   ]
  },
  {
   "cell_type": "code",
   "metadata": {
    "tags": [],
    "cell_id": "00042-d2949207-6ec5-4748-aaeb-fbf9e6845247",
    "deepnote_to_be_reexecuted": false,
    "source_hash": "d2358968",
    "execution_start": 1630172246637,
    "execution_millis": 16,
    "deepnote_cell_type": "code"
   },
   "source": "df_construction_2012['valte2'].describe()",
   "execution_count": null,
   "outputs": [
    {
     "output_type": "execute_result",
     "execution_count": 73,
     "data": {
      "text/plain": "count    29,050.00\nmean        241.30\nstd       8,279.86\nmin           0.00\n25%           0.00\n50%           0.00\n75%           0.00\nmax     860,000.00\nName: valte2, dtype: float64"
     },
     "metadata": {}
    }
   ]
  },
  {
   "cell_type": "code",
   "metadata": {
    "tags": [],
    "cell_id": "00043-ebcfaa30-9ca6-4a1f-95e8-7955f8ff6ce8",
    "deepnote_to_be_reexecuted": false,
    "source_hash": "25da7fa",
    "execution_start": 1630172266054,
    "execution_millis": 5,
    "deepnote_cell_type": "code"
   },
   "source": "df_construction_2012['valte3'].describe()",
   "execution_count": null,
   "outputs": [
    {
     "output_type": "execute_result",
     "execution_count": 74,
     "data": {
      "text/plain": "count   29,050.00\nmean         1.46\nstd        199.57\nmin          0.00\n25%          0.00\n50%          0.00\n75%          0.00\nmax     32,512.00\nName: valte3, dtype: float64"
     },
     "metadata": {}
    }
   ]
  },
  {
   "cell_type": "code",
   "metadata": {
    "tags": [],
    "cell_id": "00044-4eebe161-1b75-4090-85f8-b3e6d304c35e",
    "deepnote_to_be_reexecuted": false,
    "source_hash": "50bb9060",
    "execution_start": 1630172305130,
    "execution_millis": 10,
    "deepnote_cell_type": "code"
   },
   "source": "df_construction_2012['valt'].describe()",
   "execution_count": null,
   "outputs": [
    {
     "output_type": "execute_result",
     "execution_count": 75,
     "data": {
      "text/plain": "count        29,050.00\nmean         13,598.16\nstd       1,408,894.85\nmin               0.00\n25%               0.00\n50%               0.00\n75%               0.00\nmax     240,000,215.00\nName: valt, dtype: float64"
     },
     "metadata": {}
    }
   ]
  },
  {
   "cell_type": "code",
   "metadata": {
    "tags": [],
    "cell_id": "00045-e8b97147-a320-4f26-8e6e-1b96d4c2b872",
    "deepnote_to_be_reexecuted": false,
    "source_hash": "f9d23092",
    "execution_start": 1630172349217,
    "execution_millis": 13,
    "deepnote_cell_type": "code"
   },
   "source": "df_construction_2012['vted'].describe()",
   "execution_count": null,
   "outputs": [
    {
     "output_type": "execute_result",
     "execution_count": 76,
     "data": {
      "text/plain": "count       29,050.00\nmean        72,343.47\nstd        394,677.20\nmin             74.00\n25%         15,442.50\n50%         30,000.00\n75%         57,260.00\nmax     36,700,000.00\nName: vted, dtype: float64"
     },
     "metadata": {}
    }
   ]
  },
  {
   "cell_type": "code",
   "metadata": {
    "tags": [],
    "cell_id": "00046-a67dd369-604f-486b-84d6-50c2600377db",
    "deepnote_to_be_reexecuted": false,
    "source_hash": "f9081be6",
    "execution_start": 1630172526190,
    "execution_millis": 4,
    "deepnote_cell_type": "code"
   },
   "source": "df_construction_2012['CARCO'].describe()",
   "execution_count": null,
   "outputs": [
    {
     "output_type": "execute_result",
     "execution_count": 77,
     "data": {
      "text/plain": "count    29,050.00\nmean        411.63\nstd       5,177.90\nmin           0.00\n25%          88.00\n50%         153.00\n75%         261.00\nmax     598,671.00\nName: CARCO, dtype: float64"
     },
     "metadata": {}
    }
   ]
  },
  {
   "cell_type": "code",
   "metadata": {
    "tags": [],
    "cell_id": "00047-28fa1ef7-e493-4703-a487-bf6ace90c1f4",
    "deepnote_to_be_reexecuted": false,
    "source_hash": "1d463335",
    "execution_start": 1630172729429,
    "execution_millis": 14,
    "deepnote_cell_type": "code"
   },
   "source": "df_construction_2012['CARDPAR'].describe()",
   "execution_count": null,
   "outputs": [
    {
     "output_type": "execute_result",
     "execution_count": 79,
     "data": {
      "text/plain": "count   29,050.00\nmean         1.16\nstd         26.05\nmin          0.00\n25%          0.00\n50%          0.00\n75%          0.00\nmax      1,365.00\nName: CARDPAR, dtype: float64"
     },
     "metadata": {}
    }
   ]
  },
  {
   "cell_type": "code",
   "metadata": {
    "tags": [],
    "cell_id": "00048-bf74f825-1d16-4810-ac47-649019310f7d",
    "deepnote_to_be_reexecuted": false,
    "source_hash": "4d4f2311",
    "execution_start": 1630172777214,
    "execution_millis": 4,
    "deepnote_cell_type": "code"
   },
   "source": "df_construction_2012[['CSUTE', 'sute']].describe()",
   "execution_count": null,
   "outputs": [
    {
     "output_type": "execute_result",
     "execution_count": 80,
     "data": {
      "application/vnd.deepnote.dataframe.v2+json": {
       "row_count": 8,
       "column_count": 2,
       "columns": [
        {
         "name": "CSUTE",
         "dtype": "float64",
         "stats": {
          "unique_count": 8,
          "nan_count": 0,
          "min": "0.0",
          "max": "598671.0",
          "histogram": [
           {
            "bin_start": 0,
            "bin_end": 59867.1,
            "count": 7
           },
           {
            "bin_start": 59867.1,
            "bin_end": 119734.2,
            "count": 0
           },
           {
            "bin_start": 119734.2,
            "bin_end": 179601.3,
            "count": 0
           },
           {
            "bin_start": 179601.3,
            "bin_end": 239468.4,
            "count": 0
           },
           {
            "bin_start": 239468.4,
            "bin_end": 299335.5,
            "count": 0
           },
           {
            "bin_start": 299335.5,
            "bin_end": 359202.6,
            "count": 0
           },
           {
            "bin_start": 359202.6,
            "bin_end": 419069.7,
            "count": 0
           },
           {
            "bin_start": 419069.7,
            "bin_end": 478936.8,
            "count": 0
           },
           {
            "bin_start": 478936.8,
            "bin_end": 538803.9,
            "count": 0
           },
           {
            "bin_start": 538803.9,
            "bin_end": 598671,
            "count": 1
           }
          ]
         }
        },
        {
         "name": "sute",
         "dtype": "float64",
         "stats": {
          "unique_count": 8,
          "nan_count": 0,
          "min": "0.0",
          "max": "220000.0",
          "histogram": [
           {
            "bin_start": 0,
            "bin_end": 22000,
            "count": 6
           },
           {
            "bin_start": 22000,
            "bin_end": 44000,
            "count": 1
           },
           {
            "bin_start": 44000,
            "bin_end": 66000,
            "count": 0
           },
           {
            "bin_start": 66000,
            "bin_end": 88000,
            "count": 0
           },
           {
            "bin_start": 88000,
            "bin_end": 110000,
            "count": 0
           },
           {
            "bin_start": 110000,
            "bin_end": 132000,
            "count": 0
           },
           {
            "bin_start": 132000,
            "bin_end": 154000,
            "count": 0
           },
           {
            "bin_start": 154000,
            "bin_end": 176000,
            "count": 0
           },
           {
            "bin_start": 176000,
            "bin_end": 198000,
            "count": 0
           },
           {
            "bin_start": 198000,
            "bin_end": 220000,
            "count": 1
           }
          ]
         }
        },
        {
         "name": "_deepnote_index_column",
         "dtype": "object"
        }
       ],
       "rows_top": [
        {
         "CSUTE": 29050,
         "sute": 29050,
         "_deepnote_index_column": "count"
        },
        {
         "CSUTE": 647.5879518072289,
         "sute": 509.1817555938038,
         "_deepnote_index_column": "mean"
        },
        {
         "CSUTE": 5689.160085346895,
         "sute": 2958.7706135388853,
         "_deepnote_index_column": "std"
        },
        {
         "CSUTE": 0,
         "sute": 0,
         "_deepnote_index_column": "min"
        },
        {
         "CSUTE": 109,
         "sute": 108,
         "_deepnote_index_column": "25%"
        },
        {
         "CSUTE": 202,
         "sute": 200,
         "_deepnote_index_column": "50%"
        },
        {
         "CSUTE": 381,
         "sute": 369,
         "_deepnote_index_column": "75%"
        },
        {
         "CSUTE": 598671,
         "sute": 220000,
         "_deepnote_index_column": "max"
        }
       ],
       "rows_bottom": null
      },
      "text/plain": "           CSUTE       sute\ncount  29,050.00  29,050.00\nmean      647.59     509.18\nstd     5,689.16   2,958.77\nmin         0.00       0.00\n25%       109.00     108.00\n50%       202.00     200.00\n75%       381.00     369.00\nmax   598,671.00 220,000.00",
      "text/html": "<div>\n<style scoped>\n    .dataframe tbody tr th:only-of-type {\n        vertical-align: middle;\n    }\n\n    .dataframe tbody tr th {\n        vertical-align: top;\n    }\n\n    .dataframe thead th {\n        text-align: right;\n    }\n</style>\n<table border=\"1\" class=\"dataframe\">\n  <thead>\n    <tr style=\"text-align: right;\">\n      <th></th>\n      <th>CSUTE</th>\n      <th>sute</th>\n    </tr>\n  </thead>\n  <tbody>\n    <tr>\n      <th>count</th>\n      <td>29,050.00</td>\n      <td>29,050.00</td>\n    </tr>\n    <tr>\n      <th>mean</th>\n      <td>647.59</td>\n      <td>509.18</td>\n    </tr>\n    <tr>\n      <th>std</th>\n      <td>5,689.16</td>\n      <td>2,958.77</td>\n    </tr>\n    <tr>\n      <th>min</th>\n      <td>0.00</td>\n      <td>0.00</td>\n    </tr>\n    <tr>\n      <th>25%</th>\n      <td>109.00</td>\n      <td>108.00</td>\n    </tr>\n    <tr>\n      <th>50%</th>\n      <td>202.00</td>\n      <td>200.00</td>\n    </tr>\n    <tr>\n      <th>75%</th>\n      <td>381.00</td>\n      <td>369.00</td>\n    </tr>\n    <tr>\n      <th>max</th>\n      <td>598,671.00</td>\n      <td>220,000.00</td>\n    </tr>\n  </tbody>\n</table>\n</div>"
     },
     "metadata": {}
    }
   ]
  },
  {
   "cell_type": "code",
   "metadata": {
    "tags": [],
    "cell_id": "00039-9836f829-5e74-47f2-a2eb-7147956406d4",
    "deepnote_to_be_reexecuted": false,
    "source_hash": "2a31891a",
    "execution_start": 1630169692696,
    "execution_millis": 5,
    "deepnote_cell_type": "code"
   },
   "source": "df_construction_2012['DESCDISPUSO'].unique()",
   "execution_count": null,
   "outputs": [
    {
     "output_type": "execute_result",
     "execution_count": 66,
     "data": {
      "text/plain": "array(['Tres o Más Familias', 'Comercial', 'Otras', 'Recreación Deporte',\n       'Una Familia', 'Mixto Residencial y No Residencial',\n       'Dos Familias', 'Educación', 'Transporte y Comunicaciones',\n       'Industrial', 'Edificio Administrativo',\n       'Iglesias - Templos - Afines',\n       'Hospitales Clínicas Estab de Salud', 'Cultura'], dtype=object)"
     },
     "metadata": {}
    }
   ]
  },
  {
   "cell_type": "code",
   "metadata": {
    "tags": [],
    "cell_id": "00050-50f5c550-0aa3-48c7-9a93-1fb2e8f7fba7",
    "deepnote_to_be_reexecuted": false,
    "source_hash": "4b9fde6d",
    "execution_start": 1630374724853,
    "execution_millis": 381,
    "deepnote_cell_type": "code"
   },
   "source": "sns.countplot(y='DESCDISPUSO', data=df_construction_2012)",
   "execution_count": null,
   "outputs": [
    {
     "output_type": "execute_result",
     "execution_count": 8,
     "data": {
      "text/plain": "<AxesSubplot:xlabel='count', ylabel='DESCDISPUSO'>"
     },
     "metadata": {}
    },
    {
     "data": {
      "text/plain": "<Figure size 432x288 with 1 Axes>",
      "image/png": "[encoded data removed]"
     },
     "metadata": {
      "image/png": {
       "width": 569,
       "height": 268
      }
     },
     "output_type": "display_data"
    }
   ]
  },
  {
   "cell_type": "code",
   "metadata": {
    "tags": [],
    "cell_id": "00050-ad64c6f0-3785-41e5-ab37-26e808558655",
    "deepnote_to_be_reexecuted": false,
    "source_hash": "55edfe81",
    "execution_start": 1630172981806,
    "execution_millis": 4,
    "deepnote_cell_type": "code"
   },
   "source": "df_construction_2012['DESCDISPRFX'].unique()",
   "execution_count": null,
   "outputs": [
    {
     "output_type": "execute_result",
     "execution_count": 81,
     "data": {
      "text/plain": "array(['Recursos Propios de Empresas y Constructoras Privadas',\n       'Recursos Propios Personales',\n       'Recursos Propios gobierno central, provincial, seccional',\n       'Préstamos de Otras Financieras', 'Préstamos de Otros Bancos',\n       'Préstamos del IESS, ISFA o ISPOL', 'Recursos Propios Otros',\n       'Otros Préstamos', 'Préstamos de las Mutualistas',\n       'Préstamos del Banco de la Vivienda-MIDUVI',\n       'Recursos Propios de las Mutualistas'], dtype=object)"
     },
     "metadata": {}
    }
   ]
  },
  {
   "cell_type": "code",
   "metadata": {
    "tags": [],
    "cell_id": "00052-4d68b198-5579-42d1-a952-941c1c7037cb",
    "deepnote_to_be_reexecuted": false,
    "source_hash": "23fd02ce",
    "execution_start": 1630374814689,
    "execution_millis": 349,
    "deepnote_cell_type": "code"
   },
   "source": "sns.countplot(y='DESCDISPRFX', data=df_construction_2012)",
   "execution_count": null,
   "outputs": [
    {
     "output_type": "execute_result",
     "execution_count": 10,
     "data": {
      "text/plain": "<AxesSubplot:xlabel='count', ylabel='DESCDISPRFX'>"
     },
     "metadata": {}
    },
    {
     "data": {
      "text/plain": "<Figure size 432x288 with 1 Axes>",
      "image/png": "[encoded data removed]"
     },
     "metadata": {
      "image/png": {
       "width": 685,
       "height": 268
      }
     },
     "output_type": "display_data"
    }
   ]
  },
  {
   "cell_type": "code",
   "metadata": {
    "tags": [],
    "cell_id": "00051-f63a04f4-269d-4113-aada-c1c1b40c9676",
    "deepnote_to_be_reexecuted": false,
    "source_hash": "d19736a7",
    "execution_start": 1630173078102,
    "execution_millis": 4,
    "deepnote_cell_type": "code"
   },
   "source": "df_construction_2012['DESCDISPRFI'].unique()",
   "execution_count": null,
   "outputs": [
    {
     "output_type": "execute_result",
     "execution_count": 82,
     "data": {
      "text/plain": "array(['Recursos Propios de Empresas y Constructoras Privadas',\n       'Recursos Propios Personales',\n       'Recursos Propios gobierno central, provincial, seccional',\n       'Préstamos de Otras Financieras', 'Otros Préstamos',\n       'Préstamos de Otros Bancos', 'Préstamos del IESS, ISFA o ISPOL',\n       'Recursos Propios Otros', 'Préstamos de las Mutualistas',\n       'Préstamos del Banco de la Vivienda-MIDUVI',\n       'Recursos Propios de las Mutualistas'], dtype=object)"
     },
     "metadata": {}
    }
   ]
  },
  {
   "cell_type": "code",
   "metadata": {
    "tags": [],
    "cell_id": "00054-389f5abb-2db9-4770-8dea-2c5ce128343d",
    "deepnote_to_be_reexecuted": false,
    "source_hash": "391a5452",
    "execution_start": 1630374812691,
    "execution_millis": 311,
    "deepnote_cell_type": "code"
   },
   "source": "sns.countplot(y='DESCDISPRFI', data=df_construction_2012)",
   "execution_count": null,
   "outputs": [
    {
     "output_type": "execute_result",
     "execution_count": 9,
     "data": {
      "text/plain": "<AxesSubplot:xlabel='count', ylabel='DESCDISPRFI'>"
     },
     "metadata": {}
    },
    {
     "data": {
      "text/plain": "<Figure size 432x288 with 1 Axes>",
      "image/png": "[encoded data removed]"
     },
     "metadata": {
      "image/png": {
       "width": 685,
       "height": 268
      }
     },
     "output_type": "display_data"
    }
   ]
  },
  {
   "cell_type": "code",
   "metadata": {
    "tags": [],
    "cell_id": "00055-ef58924a-3092-45e5-a022-55f8ad14e134",
    "deepnote_to_be_reexecuted": false,
    "source_hash": "dd0ef39e",
    "execution_start": 1630374914869,
    "execution_millis": 144,
    "deepnote_cell_type": "code"
   },
   "source": "df_construction_2012[(df_construction_2012['DESCDISPRFX'] != df_construction_2012['DESCDISPRFI'])]",
   "execution_count": null,
   "outputs": [
    {
     "output_type": "execute_result",
     "execution_count": 12,
     "data": {
      "application/vnd.deepnote.dataframe.v2+json": {
       "row_count": 2245,
       "column_count": 96,
       "columns": [
        {
         "name": "provin",
         "dtype": "int64",
         "stats": {
          "unique_count": 24,
          "nan_count": 0,
          "min": "1",
          "max": "24",
          "histogram": [
           {
            "bin_start": 1,
            "bin_end": 3.3,
            "count": 159
           },
           {
            "bin_start": 3.3,
            "bin_end": 5.6,
            "count": 154
           },
           {
            "bin_start": 5.6,
            "bin_end": 7.8999999999999995,
            "count": 151
           },
           {
            "bin_start": 7.8999999999999995,
            "bin_end": 10.2,
            "count": 176
           },
           {
            "bin_start": 10.2,
            "bin_end": 12.5,
            "count": 322
           },
           {
            "bin_start": 12.5,
            "bin_end": 14.799999999999999,
            "count": 679
           },
           {
            "bin_start": 14.799999999999999,
            "bin_end": 17.099999999999998,
            "count": 384
           },
           {
            "bin_start": 17.099999999999998,
            "bin_end": 19.4,
            "count": 137
           },
           {
            "bin_start": 19.4,
            "bin_end": 21.7,
            "count": 20
           },
           {
            "bin_start": 21.7,
            "bin_end": 24,
            "count": 63
           }
          ]
         }
        },
        {
         "name": "desprovin",
         "dtype": "object",
         "stats": {
          "unique_count": 24,
          "nan_count": 0,
          "categories": [
           {
            "name": "MANABÍ",
            "count": 660
           },
           {
            "name": "PICHINCHA",
            "count": 374
           },
           {
            "name": "22 others",
            "count": 1211
           }
          ]
         }
        },
        {
         "name": "canton",
         "dtype": "int64",
         "stats": {
          "unique_count": 21,
          "nan_count": 0,
          "min": "1",
          "max": "22",
          "histogram": [
           {
            "bin_start": 1,
            "bin_end": 3.1,
            "count": 1567
           },
           {
            "bin_start": 3.1,
            "bin_end": 5.2,
            "count": 170
           },
           {
            "bin_start": 5.2,
            "bin_end": 7.300000000000001,
            "count": 166
           },
           {
            "bin_start": 7.300000000000001,
            "bin_end": 9.4,
            "count": 101
           },
           {
            "bin_start": 9.4,
            "bin_end": 11.5,
            "count": 87
           },
           {
            "bin_start": 11.5,
            "bin_end": 13.600000000000001,
            "count": 55
           },
           {
            "bin_start": 13.600000000000001,
            "bin_end": 15.700000000000001,
            "count": 64
           },
           {
            "bin_start": 15.700000000000001,
            "bin_end": 17.8,
            "count": 2
           },
           {
            "bin_start": 17.8,
            "bin_end": 19.900000000000002,
            "count": 29
           },
           {
            "bin_start": 19.900000000000002,
            "bin_end": 22,
            "count": 4
           }
          ]
         }
        },
        {
         "name": "descodcantf",
         "dtype": "object",
         "stats": {
          "unique_count": 139,
          "nan_count": 0,
          "categories": [
           {
            "name": "PORTOVIEJO",
            "count": 323
           },
           {
            "name": "QUITO",
            "count": 289
           },
           {
            "name": "137 others",
            "count": 1633
           }
          ]
         }
        },
        {
         "name": "mes",
         "dtype": "int64",
         "stats": {
          "unique_count": 12,
          "nan_count": 0,
          "min": "1",
          "max": "12",
          "histogram": [
           {
            "bin_start": 1,
            "bin_end": 2.1,
            "count": 260
           },
           {
            "bin_start": 2.1,
            "bin_end": 3.2,
            "count": 191
           },
           {
            "bin_start": 3.2,
            "bin_end": 4.300000000000001,
            "count": 110
           },
           {
            "bin_start": 4.300000000000001,
            "bin_end": 5.4,
            "count": 155
           },
           {
            "bin_start": 5.4,
            "bin_end": 6.5,
            "count": 135
           },
           {
            "bin_start": 6.5,
            "bin_end": 7.6000000000000005,
            "count": 241
           },
           {
            "bin_start": 7.6000000000000005,
            "bin_end": 8.700000000000001,
            "count": 436
           },
           {
            "bin_start": 8.700000000000001,
            "bin_end": 9.8,
            "count": 202
           },
           {
            "bin_start": 9.8,
            "bin_end": 10.9,
            "count": 217
           },
           {
            "bin_start": 10.9,
            "bin_end": 12,
            "count": 298
           }
          ]
         }
        },
        {
         "name": "desmes",
         "dtype": "object",
         "stats": {
          "unique_count": 12,
          "nan_count": 0,
          "categories": [
           {
            "name": "AGOSTO",
            "count": 436
           },
           {
            "name": "JULIO",
            "count": 241
           },
           {
            "name": "10 others",
            "count": 1568
           }
          ]
         }
        },
        {
         "name": "año",
         "dtype": "int64",
         "stats": {
          "unique_count": 1,
          "nan_count": 0,
          "min": "3",
          "max": "3",
          "histogram": [
           {
            "bin_start": 2.5,
            "bin_end": 2.6,
            "count": 0
           },
           {
            "bin_start": 2.6,
            "bin_end": 2.7,
            "count": 0
           },
           {
            "bin_start": 2.7,
            "bin_end": 2.8,
            "count": 0
           },
           {
            "bin_start": 2.8,
            "bin_end": 2.9,
            "count": 0
           },
           {
            "bin_start": 2.9,
            "bin_end": 3,
            "count": 0
           },
           {
            "bin_start": 3,
            "bin_end": 3.1,
            "count": 2245
           },
           {
            "bin_start": 3.1,
            "bin_end": 3.2,
            "count": 0
           },
           {
            "bin_start": 3.2,
            "bin_end": 3.3,
            "count": 0
           },
           {
            "bin_start": 3.3,
            "bin_end": 3.4,
            "count": 0
           },
           {
            "bin_start": 3.4,
            "bin_end": 3.5,
            "count": 0
           }
          ]
         }
        },
        {
         "name": "desaño",
         "dtype": "int64",
         "stats": {
          "unique_count": 1,
          "nan_count": 0,
          "min": "2012",
          "max": "2012",
          "histogram": [
           {
            "bin_start": 2011.5,
            "bin_end": 2011.6,
            "count": 0
           },
           {
            "bin_start": 2011.6,
            "bin_end": 2011.7,
            "count": 0
           },
           {
            "bin_start": 2011.7,
            "bin_end": 2011.8,
            "count": 0
           },
           {
            "bin_start": 2011.8,
            "bin_end": 2011.9,
            "count": 0
           },
           {
            "bin_start": 2011.9,
            "bin_end": 2012,
            "count": 0
           },
           {
            "bin_start": 2012,
            "bin_end": 2012.1,
            "count": 2245
           },
           {
            "bin_start": 2012.1,
            "bin_end": 2012.2,
            "count": 0
           },
           {
            "bin_start": 2012.2,
            "bin_end": 2012.3,
            "count": 0
           },
           {
            "bin_start": 2012.3,
            "bin_end": 2012.4,
            "count": 0
           },
           {
            "bin_start": 2012.4,
            "bin_end": 2012.5,
            "count": 0
           }
          ]
         }
        },
        {
         "name": "nubo",
         "dtype": "int64",
         "stats": {
          "unique_count": 172,
          "nan_count": 0,
          "min": "1",
          "max": "220",
          "histogram": [
           {
            "bin_start": 1,
            "bin_end": 22.9,
            "count": 1234
           },
           {
            "bin_start": 22.9,
            "bin_end": 44.8,
            "count": 420
           },
           {
            "bin_start": 44.8,
            "bin_end": 66.69999999999999,
            "count": 228
           },
           {
            "bin_start": 66.69999999999999,
            "bin_end": 88.6,
            "count": 135
           },
           {
            "bin_start": 88.6,
            "bin_end": 110.5,
            "count": 98
           },
           {
            "bin_start": 110.5,
            "bin_end": 132.39999999999998,
            "count": 75
           },
           {
            "bin_start": 132.39999999999998,
            "bin_end": 154.29999999999998,
            "count": 25
           },
           {
            "bin_start": 154.29999999999998,
            "bin_end": 176.2,
            "count": 16
           },
           {
            "bin_start": 176.2,
            "bin_end": 198.1,
            "count": 10
           },
           {
            "bin_start": 198.1,
            "bin_end": 220,
            "count": 4
           }
          ]
         }
        },
        {
         "name": "fper",
         "dtype": "datetime64[ns]",
         "stats": {
          "unique_count": 307,
          "nan_count": 0,
          "min": "2012-01-01 00:00:00",
          "max": "2012-12-31 00:00:00",
          "histogram": [
           {
            "bin_start": 1325376000000000000,
            "bin_end": 1328529600000000000,
            "count": 186
           },
           {
            "bin_start": 1328529600000000000,
            "bin_end": 1331683200000000000,
            "count": 155
           },
           {
            "bin_start": 1331683200000000000,
            "bin_end": 1334836800000000000,
            "count": 179
           },
           {
            "bin_start": 1334836800000000000,
            "bin_end": 1337990400000000000,
            "count": 175
           },
           {
            "bin_start": 1337990400000000000,
            "bin_end": 1341144000000000000,
            "count": 158
           },
           {
            "bin_start": 1341144000000000000,
            "bin_end": 1344297600000000000,
            "count": 332
           },
           {
            "bin_start": 1344297600000000000,
            "bin_end": 1347451200000000000,
            "count": 450
           },
           {
            "bin_start": 1347451200000000000,
            "bin_end": 1350604800000000000,
            "count": 222
           },
           {
            "bin_start": 1350604800000000000,
            "bin_end": 1353758400000000000,
            "count": 217
           },
           {
            "bin_start": 1353758400000000000,
            "bin_end": 1356912000000000000,
            "count": 171
           }
          ]
         }
        },
        {
         "name": "propie",
         "dtype": "int64",
         "stats": {
          "unique_count": 2,
          "nan_count": 0,
          "min": "1",
          "max": "2",
          "histogram": [
           {
            "bin_start": 1,
            "bin_end": 1.1,
            "count": 2244
           },
           {
            "bin_start": 1.1,
            "bin_end": 1.2,
            "count": 0
           },
           {
            "bin_start": 1.2,
            "bin_end": 1.3,
            "count": 0
           },
           {
            "bin_start": 1.3,
            "bin_end": 1.4,
            "count": 0
           },
           {
            "bin_start": 1.4,
            "bin_end": 1.5,
            "count": 0
           },
           {
            "bin_start": 1.5,
            "bin_end": 1.6,
            "count": 0
           },
           {
            "bin_start": 1.6,
            "bin_end": 1.7000000000000002,
            "count": 0
           },
           {
            "bin_start": 1.7000000000000002,
            "bin_end": 1.8,
            "count": 0
           },
           {
            "bin_start": 1.8,
            "bin_end": 1.9,
            "count": 0
           },
           {
            "bin_start": 1.9,
            "bin_end": 2,
            "count": 1
           }
          ]
         }
        },
        {
         "name": "despropie",
         "dtype": "object",
         "stats": {
          "unique_count": 2,
          "nan_count": 0,
          "categories": [
           {
            "name": "Privada",
            "count": 2244
           },
           {
            "name": "Pública",
            "count": 1
           }
          ]
         }
        },
        {
         "name": "tipbr",
         "dtype": "int64",
         "stats": {
          "unique_count": 4,
          "nan_count": 0,
          "min": "100",
          "max": "103",
          "histogram": [
           {
            "bin_start": 100,
            "bin_end": 100.3,
            "count": 2112
           },
           {
            "bin_start": 100.3,
            "bin_end": 100.6,
            "count": 0
           },
           {
            "bin_start": 100.6,
            "bin_end": 100.9,
            "count": 0
           },
           {
            "bin_start": 100.9,
            "bin_end": 101.2,
            "count": 126
           },
           {
            "bin_start": 101.2,
            "bin_end": 101.5,
            "count": 0
           },
           {
            "bin_start": 101.5,
            "bin_end": 101.8,
            "count": 0
           },
           {
            "bin_start": 101.8,
            "bin_end": 102.1,
            "count": 4
           },
           {
            "bin_start": 102.1,
            "bin_end": 102.4,
            "count": 0
           },
           {
            "bin_start": 102.4,
            "bin_end": 102.7,
            "count": 0
           },
           {
            "bin_start": 102.7,
            "bin_end": 103,
            "count": 3
           }
          ]
         }
        },
        {
         "name": "destipbr",
         "dtype": "object",
         "stats": {
          "unique_count": 4,
          "nan_count": 0,
          "categories": [
           {
            "name": "Nueva Construcción",
            "count": 2112
           },
           {
            "name": "Ampliación hacia arriba",
            "count": 126
           },
           {
            "name": "2 others",
            "count": 7
           }
          ]
         }
        },
        {
         "name": "sute",
         "dtype": "float64",
         "stats": {
          "unique_count": 695,
          "nan_count": 0,
          "min": "0.0",
          "max": "123895.0",
          "histogram": [
           {
            "bin_start": 0,
            "bin_end": 12389.5,
            "count": 2238
           },
           {
            "bin_start": 12389.5,
            "bin_end": 24779,
            "count": 4
           },
           {
            "bin_start": 24779,
            "bin_end": 37168.5,
            "count": 0
           },
           {
            "bin_start": 37168.5,
            "bin_end": 49558,
            "count": 1
           },
           {
            "bin_start": 49558,
            "bin_end": 61947.5,
            "count": 0
           },
           {
            "bin_start": 61947.5,
            "bin_end": 74337,
            "count": 1
           },
           {
            "bin_start": 74337,
            "bin_end": 86726.5,
            "count": 0
           },
           {
            "bin_start": 86726.5,
            "bin_end": 99116,
            "count": 0
           },
           {
            "bin_start": 99116,
            "bin_end": 111505.5,
            "count": 0
           },
           {
            "bin_start": 111505.5,
            "bin_end": 123895,
            "count": 1
           }
          ]
         }
        },
        {
         "name": "arpb",
         "dtype": "int64",
         "stats": {
          "unique_count": 350,
          "nan_count": 0,
          "min": "0",
          "max": "20391",
          "histogram": [
           {
            "bin_start": 0,
            "bin_end": 2039.1,
            "count": 2235
           },
           {
            "bin_start": 2039.1,
            "bin_end": 4078.2,
            "count": 5
           },
           {
            "bin_start": 4078.2,
            "bin_end": 6117.299999999999,
            "count": 3
           },
           {
            "bin_start": 6117.299999999999,
            "bin_end": 8156.4,
            "count": 1
           },
           {
            "bin_start": 8156.4,
            "bin_end": 10195.5,
            "count": 0
           },
           {
            "bin_start": 10195.5,
            "bin_end": 12234.599999999999,
            "count": 0
           },
           {
            "bin_start": 12234.599999999999,
            "bin_end": 14273.699999999999,
            "count": 0
           },
           {
            "bin_start": 14273.699999999999,
            "bin_end": 16312.8,
            "count": 0
           },
           {
            "bin_start": 16312.8,
            "bin_end": 18351.899999999998,
            "count": 0
           },
           {
            "bin_start": 18351.899999999998,
            "bin_end": 20391,
            "count": 1
           }
          ]
         }
        },
        {
         "name": "arco",
         "dtype": "int64",
         "stats": {
          "unique_count": 605,
          "nan_count": 0,
          "min": "14",
          "max": "122349",
          "histogram": [
           {
            "bin_start": 14,
            "bin_end": 12247.5,
            "count": 2241
           },
           {
            "bin_start": 12247.5,
            "bin_end": 24481,
            "count": 2
           },
           {
            "bin_start": 24481,
            "bin_end": 36714.5,
            "count": 1
           },
           {
            "bin_start": 36714.5,
            "bin_end": 48948,
            "count": 0
           },
           {
            "bin_start": 48948,
            "bin_end": 61181.5,
            "count": 0
           },
           {
            "bin_start": 61181.5,
            "bin_end": 73415,
            "count": 0
           },
           {
            "bin_start": 73415,
            "bin_end": 85648.5,
            "count": 0
           },
           {
            "bin_start": 85648.5,
            "bin_end": 97882,
            "count": 0
           },
           {
            "bin_start": 97882,
            "bin_end": 110115.5,
            "count": 0
           },
           {
            "bin_start": 110115.5,
            "bin_end": 122349,
            "count": 1
           }
          ]
         }
        },
        {
         "name": "aesv",
         "dtype": "int64",
         "stats": {
          "unique_count": 627,
          "nan_count": 0,
          "min": "0",
          "max": "103504",
          "histogram": [
           {
            "bin_start": 0,
            "bin_end": 10350.4,
            "count": 2237
           },
           {
            "bin_start": 10350.4,
            "bin_end": 20700.8,
            "count": 5
           },
           {
            "bin_start": 20700.8,
            "bin_end": 31051.199999999997,
            "count": 0
           },
           {
            "bin_start": 31051.199999999997,
            "bin_end": 41401.6,
            "count": 1
           },
           {
            "bin_start": 41401.6,
            "bin_end": 51752,
            "count": 0
           },
           {
            "bin_start": 51752,
            "bin_end": 62102.399999999994,
            "count": 0
           },
           {
            "bin_start": 62102.399999999994,
            "bin_end": 72452.8,
            "count": 1
           },
           {
            "bin_start": 72452.8,
            "bin_end": 82803.2,
            "count": 0
           },
           {
            "bin_start": 82803.2,
            "bin_end": 93153.59999999999,
            "count": 0
           },
           {
            "bin_start": 93153.59999999999,
            "bin_end": 103504,
            "count": 1
           }
          ]
         }
        },
        {
         "name": "cimi",
         "dtype": "int64",
         "stats": {
          "unique_count": 3,
          "nan_count": 0,
          "min": "0",
          "max": "124",
          "histogram": [
           {
            "bin_start": 0,
            "bin_end": 12.4,
            "count": 130
           },
           {
            "bin_start": 12.4,
            "bin_end": 24.8,
            "count": 0
           },
           {
            "bin_start": 24.8,
            "bin_end": 37.2,
            "count": 0
           },
           {
            "bin_start": 37.2,
            "bin_end": 49.6,
            "count": 0
           },
           {
            "bin_start": 49.6,
            "bin_end": 62,
            "count": 0
           },
           {
            "bin_start": 62,
            "bin_end": 74.4,
            "count": 0
           },
           {
            "bin_start": 74.4,
            "bin_end": 86.8,
            "count": 0
           },
           {
            "bin_start": 86.8,
            "bin_end": 99.2,
            "count": 0
           },
           {
            "bin_start": 99.2,
            "bin_end": 111.60000000000001,
            "count": 0
           },
           {
            "bin_start": 111.60000000000001,
            "bin_end": 124,
            "count": 2115
           }
          ]
         }
        },
        {
         "name": "descimi",
         "dtype": "object",
         "stats": {
          "unique_count": 3,
          "nan_count": 0,
          "categories": [
           {
            "name": "Hormigón Armado",
            "count": 1941
           },
           {
            "name": "Hormigón Ciclopeo",
            "count": 174
           },
           {
            "name": "No Aplica",
            "count": 130
           }
          ]
         }
        },
        {
         "name": "estru",
         "dtype": "int64",
         "stats": {
          "unique_count": 4,
          "nan_count": 0,
          "min": "0",
          "max": "129",
          "histogram": [
           {
            "bin_start": 0,
            "bin_end": 12.9,
            "count": 4
           },
           {
            "bin_start": 12.9,
            "bin_end": 25.8,
            "count": 0
           },
           {
            "bin_start": 25.8,
            "bin_end": 38.7,
            "count": 0
           },
           {
            "bin_start": 38.7,
            "bin_end": 51.6,
            "count": 0
           },
           {
            "bin_start": 51.6,
            "bin_end": 64.5,
            "count": 0
           },
           {
            "bin_start": 64.5,
            "bin_end": 77.4,
            "count": 0
           },
           {
            "bin_start": 77.4,
            "bin_end": 90.3,
            "count": 0
           },
           {
            "bin_start": 90.3,
            "bin_end": 103.2,
            "count": 0
           },
           {
            "bin_start": 103.2,
            "bin_end": 116.10000000000001,
            "count": 0
           },
           {
            "bin_start": 116.10000000000001,
            "bin_end": 129,
            "count": 2241
           }
          ]
         }
        },
        {
         "name": "desestru",
         "dtype": "object",
         "stats": {
          "unique_count": 4,
          "nan_count": 0,
          "categories": [
           {
            "name": "Hormigón Armado",
            "count": 2162
           },
           {
            "name": "Metálica",
            "count": 73
           },
           {
            "name": "2 others",
            "count": 10
           }
          ]
         }
        },
        {
         "name": "pared",
         "dtype": "int64",
         "stats": {
          "unique_count": 5,
          "nan_count": 0,
          "min": "122",
          "max": "146",
          "histogram": [
           {
            "bin_start": 122,
            "bin_end": 124.4,
            "count": 1324
           },
           {
            "bin_start": 124.4,
            "bin_end": 126.8,
            "count": 917
           },
           {
            "bin_start": 126.8,
            "bin_end": 129.2,
            "count": 0
           },
           {
            "bin_start": 129.2,
            "bin_end": 131.6,
            "count": 2
           },
           {
            "bin_start": 131.6,
            "bin_end": 134,
            "count": 0
           },
           {
            "bin_start": 134,
            "bin_end": 136.4,
            "count": 0
           },
           {
            "bin_start": 136.4,
            "bin_end": 138.8,
            "count": 1
           },
           {
            "bin_start": 138.8,
            "bin_end": 141.2,
            "count": 0
           },
           {
            "bin_start": 141.2,
            "bin_end": 143.6,
            "count": 0
           },
           {
            "bin_start": 143.6,
            "bin_end": 146,
            "count": 1
           }
          ]
         }
        },
        {
         "name": "despared",
         "dtype": "object",
         "stats": {
          "unique_count": 5,
          "nan_count": 0,
          "categories": [
           {
            "name": "Ladrillo",
            "count": 1324
           },
           {
            "name": "Bloque",
            "count": 917
           },
           {
            "name": "3 others",
            "count": 4
           }
          ]
         }
        },
        {
         "name": "cubi",
         "dtype": "int64",
         "stats": {
          "unique_count": 5,
          "nan_count": 0,
          "min": "123",
          "max": "139",
          "histogram": [
           {
            "bin_start": 123,
            "bin_end": 124.6,
            "count": 1182
           },
           {
            "bin_start": 124.6,
            "bin_end": 126.2,
            "count": 0
           },
           {
            "bin_start": 126.2,
            "bin_end": 127.8,
            "count": 303
           },
           {
            "bin_start": 127.8,
            "bin_end": 129.4,
            "count": 0
           },
           {
            "bin_start": 129.4,
            "bin_end": 131,
            "count": 0
           },
           {
            "bin_start": 131,
            "bin_end": 132.6,
            "count": 102
           },
           {
            "bin_start": 132.6,
            "bin_end": 134.2,
            "count": 0
           },
           {
            "bin_start": 134.2,
            "bin_end": 135.8,
            "count": 636
           },
           {
            "bin_start": 135.8,
            "bin_end": 137.4,
            "count": 0
           },
           {
            "bin_start": 137.4,
            "bin_end": 139,
            "count": 22
           }
          ]
         }
        },
        {
         "name": "descubi",
         "dtype": "object",
         "stats": {
          "unique_count": 5,
          "nan_count": 0,
          "categories": [
           {
            "name": "Hormigón Armado",
            "count": 1182
           },
           {
            "name": "Zinc",
            "count": 636
           },
           {
            "name": "3 others",
            "count": 427
           }
          ]
         }
        },
        {
         "name": "cres",
         "dtype": "int64",
         "stats": {
          "unique_count": 4,
          "nan_count": 0,
          "min": "0",
          "max": "170",
          "histogram": [
           {
            "bin_start": 0,
            "bin_end": 17,
            "count": 117
           },
           {
            "bin_start": 17,
            "bin_end": 34,
            "count": 0
           },
           {
            "bin_start": 34,
            "bin_end": 51,
            "count": 0
           },
           {
            "bin_start": 51,
            "bin_end": 68,
            "count": 0
           },
           {
            "bin_start": 68,
            "bin_end": 85,
            "count": 0
           },
           {
            "bin_start": 85,
            "bin_end": 102,
            "count": 0
           },
           {
            "bin_start": 102,
            "bin_end": 119,
            "count": 0
           },
           {
            "bin_start": 119,
            "bin_end": 136,
            "count": 0
           },
           {
            "bin_start": 136,
            "bin_end": 153,
            "count": 0
           },
           {
            "bin_start": 153,
            "bin_end": 170,
            "count": 2128
           }
          ]
         }
        },
        {
         "name": "descres",
         "dtype": "object",
         "stats": {
          "unique_count": 4,
          "nan_count": 0,
          "categories": [
           {
            "name": "Residencia 1 Familia",
            "count": 1614
           },
           {
            "name": "Residencia 2 Familias",
            "count": 282
           },
           {
            "name": "2 others",
            "count": 349
           }
          ]
         }
        },
        {
         "name": "numuni",
         "dtype": "float64",
         "stats": {
          "unique_count": 31,
          "nan_count": 0,
          "min": "1.0",
          "max": "460.0",
          "histogram": [
           {
            "bin_start": 1,
            "bin_end": 46.9,
            "count": 2232
           },
           {
            "bin_start": 46.9,
            "bin_end": 92.8,
            "count": 6
           },
           {
            "bin_start": 92.8,
            "bin_end": 138.7,
            "count": 4
           },
           {
            "bin_start": 138.7,
            "bin_end": 184.6,
            "count": 1
           },
           {
            "bin_start": 184.6,
            "bin_end": 230.5,
            "count": 0
           },
           {
            "bin_start": 230.5,
            "bin_end": 276.4,
            "count": 1
           },
           {
            "bin_start": 276.4,
            "bin_end": 322.3,
            "count": 0
           },
           {
            "bin_start": 322.3,
            "bin_end": 368.2,
            "count": 0
           },
           {
            "bin_start": 368.2,
            "bin_end": 414.09999999999997,
            "count": 0
           },
           {
            "bin_start": 414.09999999999997,
            "bin_end": 460,
            "count": 1
           }
          ]
         }
        },
        {
         "name": "nuvi",
         "dtype": "int64",
         "stats": {
          "unique_count": 37,
          "nan_count": 0,
          "min": "0",
          "max": "146",
          "histogram": [
           {
            "bin_start": 0,
            "bin_end": 14.6,
            "count": 2206
           },
           {
            "bin_start": 14.6,
            "bin_end": 29.2,
            "count": 19
           },
           {
            "bin_start": 29.2,
            "bin_end": 43.8,
            "count": 14
           },
           {
            "bin_start": 43.8,
            "bin_end": 58.4,
            "count": 1
           },
           {
            "bin_start": 58.4,
            "bin_end": 73,
            "count": 1
           },
           {
            "bin_start": 73,
            "bin_end": 87.6,
            "count": 2
           },
           {
            "bin_start": 87.6,
            "bin_end": 102.2,
            "count": 1
           },
           {
            "bin_start": 102.2,
            "bin_end": 116.8,
            "count": 0
           },
           {
            "bin_start": 116.8,
            "bin_end": 131.4,
            "count": 0
           },
           {
            "bin_start": 131.4,
            "bin_end": 146,
            "count": 1
           }
          ]
         }
        },
        {
         "name": "nucu",
         "dtype": "int64",
         "stats": {
          "unique_count": 78,
          "nan_count": 0,
          "min": "0",
          "max": "584",
          "histogram": [
           {
            "bin_start": 0,
            "bin_end": 58.4,
            "count": 2201
           },
           {
            "bin_start": 58.4,
            "bin_end": 116.8,
            "count": 26
           },
           {
            "bin_start": 116.8,
            "bin_end": 175.2,
            "count": 9
           },
           {
            "bin_start": 175.2,
            "bin_end": 233.6,
            "count": 3
           },
           {
            "bin_start": 233.6,
            "bin_end": 292,
            "count": 1
           },
           {
            "bin_start": 292,
            "bin_end": 350.4,
            "count": 1
           },
           {
            "bin_start": 350.4,
            "bin_end": 408.8,
            "count": 2
           },
           {
            "bin_start": 408.8,
            "bin_end": 467.2,
            "count": 1
           },
           {
            "bin_start": 467.2,
            "bin_end": 525.6,
            "count": 0
           },
           {
            "bin_start": 525.6,
            "bin_end": 584,
            "count": 1
           }
          ]
         }
        },
        {
         "name": "nudo",
         "dtype": "int64",
         "stats": {
          "unique_count": 62,
          "nan_count": 0,
          "min": "0",
          "max": "318",
          "histogram": [
           {
            "bin_start": 0,
            "bin_end": 31.8,
            "count": 2204
           },
           {
            "bin_start": 31.8,
            "bin_end": 63.6,
            "count": 21
           },
           {
            "bin_start": 63.6,
            "bin_end": 95.4,
            "count": 10
           },
           {
            "bin_start": 95.4,
            "bin_end": 127.2,
            "count": 5
           },
           {
            "bin_start": 127.2,
            "bin_end": 159,
            "count": 2
           },
           {
            "bin_start": 159,
            "bin_end": 190.8,
            "count": 1
           },
           {
            "bin_start": 190.8,
            "bin_end": 222.6,
            "count": 0
           },
           {
            "bin_start": 222.6,
            "bin_end": 254.4,
            "count": 1
           },
           {
            "bin_start": 254.4,
            "bin_end": 286.2,
            "count": 0
           },
           {
            "bin_start": 286.2,
            "bin_end": 318,
            "count": 1
           }
          ]
         }
        },
        {
         "name": "nupi",
         "dtype": "int64",
         "stats": {
          "unique_count": 15,
          "nan_count": 0,
          "min": "0",
          "max": "21",
          "histogram": [
           {
            "bin_start": 0,
            "bin_end": 2.1,
            "count": 1929
           },
           {
            "bin_start": 2.1,
            "bin_end": 4.2,
            "count": 274
           },
           {
            "bin_start": 4.2,
            "bin_end": 6.300000000000001,
            "count": 25
           },
           {
            "bin_start": 6.300000000000001,
            "bin_end": 8.4,
            "count": 10
           },
           {
            "bin_start": 8.4,
            "bin_end": 10.5,
            "count": 2
           },
           {
            "bin_start": 10.5,
            "bin_end": 12.600000000000001,
            "count": 2
           },
           {
            "bin_start": 12.600000000000001,
            "bin_end": 14.700000000000001,
            "count": 1
           },
           {
            "bin_start": 14.700000000000001,
            "bin_end": 16.8,
            "count": 0
           },
           {
            "bin_start": 16.8,
            "bin_end": 18.900000000000002,
            "count": 0
           },
           {
            "bin_start": 18.900000000000002,
            "bin_end": 21,
            "count": 2
           }
          ]
         }
        },
        {
         "name": "ares",
         "dtype": "int64",
         "stats": {
          "unique_count": 515,
          "nan_count": 0,
          "min": "0",
          "max": "21042",
          "histogram": [
           {
            "bin_start": 0,
            "bin_end": 2104.2,
            "count": 2210
           },
           {
            "bin_start": 2104.2,
            "bin_end": 4208.4,
            "count": 21
           },
           {
            "bin_start": 4208.4,
            "bin_end": 6312.599999999999,
            "count": 11
           },
           {
            "bin_start": 6312.599999999999,
            "bin_end": 8416.8,
            "count": 0
           },
           {
            "bin_start": 8416.8,
            "bin_end": 10521,
            "count": 2
           },
           {
            "bin_start": 10521,
            "bin_end": 12625.199999999999,
            "count": 0
           },
           {
            "bin_start": 12625.199999999999,
            "bin_end": 14729.399999999998,
            "count": 0
           },
           {
            "bin_start": 14729.399999999998,
            "bin_end": 16833.6,
            "count": 0
           },
           {
            "bin_start": 16833.6,
            "bin_end": 18937.8,
            "count": 0
           },
           {
            "bin_start": 18937.8,
            "bin_end": 21042,
            "count": 1
           }
          ]
         }
        },
        {
         "name": "coa11",
         "dtype": "int64",
         "stats": {
          "unique_count": 10,
          "nan_count": 0,
          "min": "0",
          "max": "197",
          "histogram": [
           {
            "bin_start": 0,
            "bin_end": 19.7,
            "count": 1988
           },
           {
            "bin_start": 19.7,
            "bin_end": 39.4,
            "count": 0
           },
           {
            "bin_start": 39.4,
            "bin_end": 59.099999999999994,
            "count": 0
           },
           {
            "bin_start": 59.099999999999994,
            "bin_end": 78.8,
            "count": 0
           },
           {
            "bin_start": 78.8,
            "bin_end": 98.5,
            "count": 0
           },
           {
            "bin_start": 98.5,
            "bin_end": 118.19999999999999,
            "count": 0
           },
           {
            "bin_start": 118.19999999999999,
            "bin_end": 137.9,
            "count": 0
           },
           {
            "bin_start": 137.9,
            "bin_end": 157.6,
            "count": 0
           },
           {
            "bin_start": 157.6,
            "bin_end": 177.29999999999998,
            "count": 215
           },
           {
            "bin_start": 177.29999999999998,
            "bin_end": 197,
            "count": 42
           }
          ]
         }
        },
        {
         "name": "nup11",
         "dtype": "int64",
         "stats": {
          "unique_count": 8,
          "nan_count": 0,
          "min": "0",
          "max": "22",
          "histogram": [
           {
            "bin_start": 0,
            "bin_end": 2.2,
            "count": 2203
           },
           {
            "bin_start": 2.2,
            "bin_end": 4.4,
            "count": 36
           },
           {
            "bin_start": 4.4,
            "bin_end": 6.6000000000000005,
            "count": 3
           },
           {
            "bin_start": 6.6000000000000005,
            "bin_end": 8.8,
            "count": 2
           },
           {
            "bin_start": 8.8,
            "bin_end": 11,
            "count": 0
           },
           {
            "bin_start": 11,
            "bin_end": 13.200000000000001,
            "count": 0
           },
           {
            "bin_start": 13.200000000000001,
            "bin_end": 15.400000000000002,
            "count": 0
           },
           {
            "bin_start": 15.400000000000002,
            "bin_end": 17.6,
            "count": 0
           },
           {
            "bin_start": 17.6,
            "bin_end": 19.8,
            "count": 0
           },
           {
            "bin_start": 19.8,
            "bin_end": 22,
            "count": 1
           }
          ]
         }
        },
        {
         "name": "are11",
         "dtype": "int64",
         "stats": {
          "unique_count": 210,
          "nan_count": 0,
          "min": "0",
          "max": "122349",
          "histogram": [
           {
            "bin_start": 0,
            "bin_end": 12234.9,
            "count": 2243
           },
           {
            "bin_start": 12234.9,
            "bin_end": 24469.8,
            "count": 0
           },
           {
            "bin_start": 24469.8,
            "bin_end": 36704.7,
            "count": 1
           },
           {
            "bin_start": 36704.7,
            "bin_end": 48939.6,
            "count": 0
           },
           {
            "bin_start": 48939.6,
            "bin_end": 61174.5,
            "count": 0
           },
           {
            "bin_start": 61174.5,
            "bin_end": 73409.4,
            "count": 0
           },
           {
            "bin_start": 73409.4,
            "bin_end": 85644.3,
            "count": 0
           },
           {
            "bin_start": 85644.3,
            "bin_end": 97879.2,
            "count": 0
           },
           {
            "bin_start": 97879.2,
            "bin_end": 110114.09999999999,
            "count": 0
           },
           {
            "bin_start": 110114.09999999999,
            "bin_end": 122349,
            "count": 1
           }
          ]
         }
        },
        {
         "name": "coa22",
         "dtype": "int64",
         "stats": {
          "unique_count": 6,
          "nan_count": 0,
          "min": "0",
          "max": "197",
          "histogram": [
           {
            "bin_start": 0,
            "bin_end": 19.7,
            "count": 2220
           },
           {
            "bin_start": 19.7,
            "bin_end": 39.4,
            "count": 0
           },
           {
            "bin_start": 39.4,
            "bin_end": 59.099999999999994,
            "count": 0
           },
           {
            "bin_start": 59.099999999999994,
            "bin_end": 78.8,
            "count": 0
           },
           {
            "bin_start": 78.8,
            "bin_end": 98.5,
            "count": 0
           },
           {
            "bin_start": 98.5,
            "bin_end": 118.19999999999999,
            "count": 0
           },
           {
            "bin_start": 118.19999999999999,
            "bin_end": 137.9,
            "count": 0
           },
           {
            "bin_start": 137.9,
            "bin_end": 157.6,
            "count": 0
           },
           {
            "bin_start": 157.6,
            "bin_end": 177.29999999999998,
            "count": 0
           },
           {
            "bin_start": 177.29999999999998,
            "bin_end": 197,
            "count": 25
           }
          ]
         }
        },
        {
         "name": "nup22",
         "dtype": "int64",
         "stats": {
          "unique_count": 2,
          "nan_count": 0,
          "min": "0",
          "max": "1",
          "histogram": [
           {
            "bin_start": 0,
            "bin_end": 0.1,
            "count": 2228
           },
           {
            "bin_start": 0.1,
            "bin_end": 0.2,
            "count": 0
           },
           {
            "bin_start": 0.2,
            "bin_end": 0.30000000000000004,
            "count": 0
           },
           {
            "bin_start": 0.30000000000000004,
            "bin_end": 0.4,
            "count": 0
           },
           {
            "bin_start": 0.4,
            "bin_end": 0.5,
            "count": 0
           },
           {
            "bin_start": 0.5,
            "bin_end": 0.6000000000000001,
            "count": 0
           },
           {
            "bin_start": 0.6000000000000001,
            "bin_end": 0.7000000000000001,
            "count": 0
           },
           {
            "bin_start": 0.7000000000000001,
            "bin_end": 0.8,
            "count": 0
           },
           {
            "bin_start": 0.8,
            "bin_end": 0.9,
            "count": 0
           },
           {
            "bin_start": 0.9,
            "bin_end": 1,
            "count": 17
           }
          ]
         }
        },
        {
         "name": "are22",
         "dtype": "int64",
         "stats": {
          "unique_count": 26,
          "nan_count": 0,
          "min": "0",
          "max": "1991",
          "histogram": [
           {
            "bin_start": 0,
            "bin_end": 199.1,
            "count": 2235
           },
           {
            "bin_start": 199.1,
            "bin_end": 398.2,
            "count": 3
           },
           {
            "bin_start": 398.2,
            "bin_end": 597.3,
            "count": 3
           },
           {
            "bin_start": 597.3,
            "bin_end": 796.4,
            "count": 3
           },
           {
            "bin_start": 796.4,
            "bin_end": 995.5,
            "count": 0
           },
           {
            "bin_start": 995.5,
            "bin_end": 1194.6,
            "count": 0
           },
           {
            "bin_start": 1194.6,
            "bin_end": 1393.7,
            "count": 0
           },
           {
            "bin_start": 1393.7,
            "bin_end": 1592.8,
            "count": 0
           },
           {
            "bin_start": 1592.8,
            "bin_end": 1791.8999999999999,
            "count": 0
           },
           {
            "bin_start": 1791.8999999999999,
            "bin_end": 1991,
            "count": 1
           }
          ]
         }
        },
        {
         "name": "coa33",
         "dtype": "int64",
         "stats": {
          "unique_count": 2,
          "nan_count": 0,
          "min": "0",
          "max": "197",
          "histogram": [
           {
            "bin_start": 0,
            "bin_end": 19.7,
            "count": 2240
           },
           {
            "bin_start": 19.7,
            "bin_end": 39.4,
            "count": 0
           },
           {
            "bin_start": 39.4,
            "bin_end": 59.099999999999994,
            "count": 0
           },
           {
            "bin_start": 59.099999999999994,
            "bin_end": 78.8,
            "count": 0
           },
           {
            "bin_start": 78.8,
            "bin_end": 98.5,
            "count": 0
           },
           {
            "bin_start": 98.5,
            "bin_end": 118.19999999999999,
            "count": 0
           },
           {
            "bin_start": 118.19999999999999,
            "bin_end": 137.9,
            "count": 0
           },
           {
            "bin_start": 137.9,
            "bin_end": 157.6,
            "count": 0
           },
           {
            "bin_start": 157.6,
            "bin_end": 177.29999999999998,
            "count": 0
           },
           {
            "bin_start": 177.29999999999998,
            "bin_end": 197,
            "count": 5
           }
          ]
         }
        },
        {
         "name": "nup33",
         "dtype": "int64",
         "stats": {
          "unique_count": 2,
          "nan_count": 0,
          "min": "0",
          "max": "1",
          "histogram": [
           {
            "bin_start": 0,
            "bin_end": 0.1,
            "count": 2241
           },
           {
            "bin_start": 0.1,
            "bin_end": 0.2,
            "count": 0
           },
           {
            "bin_start": 0.2,
            "bin_end": 0.30000000000000004,
            "count": 0
           },
           {
            "bin_start": 0.30000000000000004,
            "bin_end": 0.4,
            "count": 0
           },
           {
            "bin_start": 0.4,
            "bin_end": 0.5,
            "count": 0
           },
           {
            "bin_start": 0.5,
            "bin_end": 0.6000000000000001,
            "count": 0
           },
           {
            "bin_start": 0.6000000000000001,
            "bin_end": 0.7000000000000001,
            "count": 0
           },
           {
            "bin_start": 0.7000000000000001,
            "bin_end": 0.8,
            "count": 0
           },
           {
            "bin_start": 0.8,
            "bin_end": 0.9,
            "count": 0
           },
           {
            "bin_start": 0.9,
            "bin_end": 1,
            "count": 4
           }
          ]
         }
        },
        {
         "name": "are33",
         "dtype": "int64",
         "stats": {
          "unique_count": 6,
          "nan_count": 0,
          "min": "0",
          "max": "6570",
          "histogram": [
           {
            "bin_start": 0,
            "bin_end": 657,
            "count": 2242
           },
           {
            "bin_start": 657,
            "bin_end": 1314,
            "count": 1
           },
           {
            "bin_start": 1314,
            "bin_end": 1971,
            "count": 0
           },
           {
            "bin_start": 1971,
            "bin_end": 2628,
            "count": 0
           },
           {
            "bin_start": 2628,
            "bin_end": 3285,
            "count": 0
           },
           {
            "bin_start": 3285,
            "bin_end": 3942,
            "count": 0
           },
           {
            "bin_start": 3942,
            "bin_end": 4599,
            "count": 1
           },
           {
            "bin_start": 4599,
            "bin_end": 5256,
            "count": 0
           },
           {
            "bin_start": 5256,
            "bin_end": 5913,
            "count": 0
           },
           {
            "bin_start": 5913,
            "bin_end": 6570,
            "count": 1
           }
          ]
         }
        },
        {
         "name": "tonp",
         "dtype": "int64",
         "stats": {
          "unique_count": 17,
          "nan_count": 0,
          "min": "0",
          "max": "22",
          "histogram": [
           {
            "bin_start": 0,
            "bin_end": 2.2,
            "count": 1837
           },
           {
            "bin_start": 2.2,
            "bin_end": 4.4,
            "count": 345
           },
           {
            "bin_start": 4.4,
            "bin_end": 6.6000000000000005,
            "count": 40
           },
           {
            "bin_start": 6.6000000000000005,
            "bin_end": 8.8,
            "count": 12
           },
           {
            "bin_start": 8.8,
            "bin_end": 11,
            "count": 3
           },
           {
            "bin_start": 11,
            "bin_end": 13.200000000000001,
            "count": 5
           },
           {
            "bin_start": 13.200000000000001,
            "bin_end": 15.400000000000002,
            "count": 0
           },
           {
            "bin_start": 15.400000000000002,
            "bin_end": 17.6,
            "count": 0
           },
           {
            "bin_start": 17.6,
            "bin_end": 19.8,
            "count": 0
           },
           {
            "bin_start": 19.8,
            "bin_end": 22,
            "count": 3
           }
          ]
         }
        },
        {
         "name": "aret",
         "dtype": "int64"
        },
        {
         "name": "codte1",
         "dtype": "int64"
        },
        {
         "name": "valte1",
         "dtype": "int64"
        },
        {
         "name": "codte2",
         "dtype": "int64"
        },
        {
         "name": "valte2",
         "dtype": "int64"
        },
        {
         "name": "codte3",
         "dtype": "int64"
        },
        {
         "name": "valte3",
         "dtype": "int64"
        },
        {
         "name": "codur1",
         "dtype": "int64"
        },
        {
         "name": "valur1",
         "dtype": "int64"
        },
        {
         "name": "codur2",
         "dtype": "int64"
        },
        {
         "name": "valur2",
         "dtype": "int64"
        },
        {
         "name": "codur3",
         "dtype": "int64"
        },
        {
         "name": "valur3",
         "dtype": "int64"
        },
        {
         "name": "cove",
         "dtype": "int64"
        },
        {
         "name": "vaede",
         "dtype": "int64"
        },
        {
         "name": "cov2",
         "dtype": "int64"
        },
        {
         "name": "vae22",
         "dtype": "int64"
        },
        {
         "name": "cov3",
         "dtype": "int64"
        },
        {
         "name": "vae33",
         "dtype": "int64"
        },
        {
         "name": "valt",
         "dtype": "int64"
        },
        {
         "name": "vtou",
         "dtype": "int64"
        },
        {
         "name": "vted",
         "dtype": "int64"
        },
        {
         "name": "COAMS",
         "dtype": "int64"
        },
        {
         "name": "COVEMS",
         "dtype": "int64"
        },
        {
         "name": "COVET5",
         "dtype": "int64"
        },
        {
         "name": "NUPIRES",
         "dtype": "int64"
        },
        {
         "name": "NUVICAL",
         "dtype": "int64"
        },
        {
         "name": "NUDOCAL",
         "dtype": "int64"
        },
        {
         "name": "NUCUCAL",
         "dtype": "int64"
        },
        {
         "name": "CARCO",
         "dtype": "int64"
        },
        {
         "name": "CARES",
         "dtype": "int64"
        },
        {
         "name": "CARNRES",
         "dtype": "int64"
        },
        {
         "name": "CARDPAR",
         "dtype": "int64"
        },
        {
         "name": "CAESV",
         "dtype": "int64"
        },
        {
         "name": "CSUTE",
         "dtype": "int64"
        },
        {
         "name": "CTIPOBR",
         "dtype": "int64"
        },
        {
         "name": "DESCTIPOBR",
         "dtype": "object"
        },
        {
         "name": "CPERM",
         "dtype": "int64"
        },
        {
         "name": "CDISPSUT",
         "dtype": "int64"
        },
        {
         "name": "DESCDISPSUT",
         "dtype": "object"
        },
        {
         "name": "CDISPUSO",
         "dtype": "int64"
        },
        {
         "name": "DESCDISPUSO",
         "dtype": "object"
        },
        {
         "name": "CDISPARC",
         "dtype": "int64"
        },
        {
         "name": "DESCDISPARC",
         "dtype": "object"
        },
        {
         "name": "CDISPRFI",
         "dtype": "int64"
        },
        {
         "name": "DESCDISPRFI",
         "dtype": "object"
        },
        {
         "name": "CDISPRFX",
         "dtype": "int64"
        },
        {
         "name": "DESCDISPRFX",
         "dtype": "object"
        },
        {
         "name": "CNUVICAL",
         "dtype": "int64"
        },
        {
         "name": "CVAE",
         "dtype": "int64"
        },
        {
         "name": "CAREAUR",
         "dtype": "int64"
        },
        {
         "name": "DESCAREAUR",
         "dtype": "object"
        },
        {
         "name": "_deepnote_index_column",
         "dtype": "int64"
        }
       ],
       "rows_top": [
        {
         "provin": 18,
         "desprovin": "TUNGURAHUA",
         "canton": 1,
         "descodcantf": "AMBATO",
         "mes": 10,
         "desmes": "OCTUBRE",
         "año": 3,
         "desaño": 2012,
         "nubo": 12,
         "fper": "2012-10-23T00:00:00.000000",
         "propie": 1,
         "despropie": "Privada",
         "tipbr": 100,
         "destipbr": "Nueva Construcción",
         "sute": 66894,
         "arpb": 783,
         "arco": 783,
         "aesv": 66111,
         "cimi": 120,
         "descimi": "Hormigón Armado",
         "estru": 125,
         "desestru": "Metálica",
         "pared": 122,
         "despared": "Ladrillo",
         "cubi": 123,
         "descubi": "Hormigón Armado",
         "cres": 0,
         "descres": "No Aplica",
         "numuni": 1,
         "nuvi": 0,
         "nucu": 0,
         "nudo": 0,
         "nupi": 0,
         "ares": 0,
         "coa11": 177,
         "nup11": 1,
         "are11": 783,
         "coa22": 0,
         "nup22": 0,
         "are22": 0,
         "coa33": 0,
         "nup33": 0,
         "are33": 0,
         "tonp": 1,
         "aret": 783,
         "codte1": 0,
         "valte1": 0,
         "codte2": 0,
         "valte2": 0,
         "codte3": 0,
         "valte3": 0,
         "codur1": 0,
         "valur1": 0,
         "codur2": 0,
         "valur2": 0,
         "codur3": 0,
         "valur3": 0,
         "cove": 215,
         "vaede": 20000,
         "cov2": 248,
         "vae22": 100000,
         "cov3": 0,
         "vae33": 0,
         "valt": 0,
         "vtou": 0,
         "vted": 120000,
         "COAMS": 177,
         "COVEMS": 215,
         "COVET5": 248,
         "NUPIRES": 1,
         "NUVICAL": 0,
         "NUDOCAL": 1,
         "NUCUCAL": 1,
         "CARCO": 783,
         "CARES": 0,
         "CARNRES": 783,
         "CARDPAR": 0,
         "CAESV": 66111,
         "CSUTE": 66894,
         "CTIPOBR": 1,
         "DESCTIPOBR": "Nueva Construcción",
         "CPERM": 1,
         "CDISPSUT": 8,
         "DESCDISPSUT": "( >=700 M2 )",
         "CDISPUSO": 4,
         "DESCDISPUSO": "Comercial",
         "CDISPARC": 6,
         "DESCDISPARC": "( >=500 M2)",
         "CDISPRFI": 11,
         "DESCDISPRFI": "Otros Préstamos",
         "CDISPRFX": 1,
         "DESCDISPRFX": "Recursos Propios Personales",
         "CNUVICAL": 0,
         "CVAE": 120000,
         "CAREAUR": 2,
         "DESCAREAUR": "Rural",
         "_deepnote_index_column": 6
        },
        {
         "provin": 18,
         "desprovin": "TUNGURAHUA",
         "canton": 3,
         "descodcantf": "CEVALLOS",
         "mes": 7,
         "desmes": "JULIO",
         "año": 3,
         "desaño": 2012,
         "nubo": 1,
         "fper": "2012-07-12T00:00:00.000000",
         "propie": 1,
         "despropie": "Privada",
         "tipbr": 100,
         "destipbr": "Nueva Construcción",
         "sute": 1974,
         "arpb": 118,
         "arco": 118,
         "aesv": 1856,
         "cimi": 120,
         "descimi": "Hormigón Armado",
         "estru": 121,
         "desestru": "Hormigón Armado",
         "pared": 122,
         "despared": "Ladrillo",
         "cubi": 123,
         "descubi": "Hormigón Armado",
         "cres": 0,
         "descres": "No Aplica",
         "numuni": 1,
         "nuvi": 0,
         "nucu": 0,
         "nudo": 0,
         "nupi": 0,
         "ares": 0,
         "coa11": 177,
         "nup11": 1,
         "are11": 118,
         "coa22": 0,
         "nup22": 0,
         "are22": 0,
         "coa33": 0,
         "nup33": 0,
         "are33": 0,
         "tonp": 1,
         "aret": 118,
         "codte1": 0,
         "valte1": 0,
         "codte2": 0,
         "valte2": 0,
         "codte3": 0,
         "valte3": 0,
         "codur1": 0,
         "valur1": 0,
         "codur2": 0,
         "valur2": 0,
         "codur3": 0,
         "valur3": 0,
         "cove": 215,
         "vaede": 5000,
         "cov2": 242,
         "vae22": 10000,
         "cov3": 0,
         "vae33": 0,
         "valt": 0,
         "vtou": 0,
         "vted": 15000,
         "COAMS": 177,
         "COVEMS": 215,
         "COVET5": 242,
         "NUPIRES": 1,
         "NUVICAL": 0,
         "NUDOCAL": 1,
         "NUCUCAL": 1,
         "CARCO": 118,
         "CARES": 0,
         "CARNRES": 118,
         "CARDPAR": 0,
         "CAESV": 1856,
         "CSUTE": 1974,
         "CTIPOBR": 1,
         "DESCTIPOBR": "Nueva Construcción",
         "CPERM": 1,
         "CDISPSUT": 8,
         "DESCDISPSUT": "( >=700 M2 )",
         "CDISPUSO": 4,
         "DESCDISPUSO": "Comercial",
         "CDISPARC": 2,
         "DESCDISPARC": "( >=100 M2 Y <200 M2)",
         "CDISPRFI": 9,
         "DESCDISPRFI": "Préstamos de Otros Bancos",
         "CDISPRFX": 1,
         "DESCDISPRFX": "Recursos Propios Personales",
         "CNUVICAL": 0,
         "CVAE": 15000,
         "CAREAUR": 1,
         "DESCAREAUR": "Urbana",
         "_deepnote_index_column": 14
        },
        {
         "provin": 5,
         "desprovin": "COTOPAXI",
         "canton": 1,
         "descodcantf": "LATACUNGA",
         "mes": 10,
         "desmes": "OCTUBRE",
         "año": 3,
         "desaño": 2012,
         "nubo": 40,
         "fper": "2012-10-04T00:00:00.000000",
         "propie": 1,
         "despropie": "Privada",
         "tipbr": 100,
         "destipbr": "Nueva Construcción",
         "sute": 1128,
         "arpb": 88,
         "arco": 175,
         "aesv": 1040,
         "cimi": 120,
         "descimi": "Hormigón Armado",
         "estru": 121,
         "desestru": "Hormigón Armado",
         "pared": 122,
         "despared": "Ladrillo",
         "cubi": 123,
         "descubi": "Hormigón Armado",
         "cres": 160,
         "descres": "Residencia 1 Familia",
         "numuni": 1,
         "nuvi": 1,
         "nucu": 6,
         "nudo": 3,
         "nupi": 2,
         "ares": 175,
         "coa11": 0,
         "nup11": 0,
         "are11": 0,
         "coa22": 0,
         "nup22": 0,
         "are22": 0,
         "coa33": 0,
         "nup33": 0,
         "are33": 0,
         "tonp": 2,
         "aret": 175,
         "codte1": 0,
         "valte1": 0,
         "codte2": 0,
         "valte2": 0,
         "codte3": 0,
         "valte3": 0,
         "codur1": 0,
         "valur1": 0,
         "codur2": 0,
         "valur2": 0,
         "codur3": 0,
         "valur3": 0,
         "cove": 215,
         "vaede": 13879,
         "cov2": 242,
         "vae22": 30000,
         "cov3": 0,
         "vae33": 0,
         "valt": 0,
         "vtou": 0,
         "vted": 43879,
         "COAMS": 0,
         "COVEMS": 215,
         "COVET5": 242,
         "NUPIRES": 2,
         "NUVICAL": 1,
         "NUDOCAL": 3,
         "NUCUCAL": 6,
         "CARCO": 175,
         "CARES": 175,
         "CARNRES": 0,
         "CARDPAR": 0,
         "CAESV": 1040,
         "CSUTE": 1128,
         "CTIPOBR": 1,
         "DESCTIPOBR": "Nueva Construcción",
         "CPERM": 1,
         "CDISPSUT": 8,
         "DESCDISPSUT": "( >=700 M2 )",
         "CDISPUSO": 1,
         "DESCDISPUSO": "Una Familia",
         "CDISPARC": 2,
         "DESCDISPARC": "( >=100 M2 Y <200 M2)",
         "CDISPRFI": 9,
         "DESCDISPRFI": "Préstamos de Otros Bancos",
         "CDISPRFX": 1,
         "DESCDISPRFX": "Recursos Propios Personales",
         "CNUVICAL": 1,
         "CVAE": 43879,
         "CAREAUR": 1,
         "DESCAREAUR": "Urbana",
         "_deepnote_index_column": 31
        },
        {
         "provin": 1,
         "desprovin": "AZUAY",
         "canton": 1,
         "descodcantf": "CUENCA",
         "mes": 9,
         "desmes": "SEPTIEMBRE",
         "año": 3,
         "desaño": 2012,
         "nubo": 106,
         "fper": "2012-09-30T00:00:00.000000",
         "propie": 1,
         "despropie": "Privada",
         "tipbr": 100,
         "destipbr": "Nueva Construcción",
         "sute": 219,
         "arpb": 118,
         "arco": 368,
         "aesv": 101,
         "cimi": 124,
         "descimi": "Hormigón Ciclopeo",
         "estru": 121,
         "desestru": "Hormigón Armado",
         "pared": 122,
         "despared": "Ladrillo",
         "cubi": 127,
         "descubi": "Eternit-Ardex-Asbesto",
         "cres": 165,
         "descres": "Residencia 2 Familias",
         "numuni": 1,
         "nuvi": 2,
         "nucu": 14,
         "nudo": 7,
         "nupi": 3,
         "ares": 368,
         "coa11": 0,
         "nup11": 0,
         "are11": 0,
         "coa22": 0,
         "nup22": 0,
         "are22": 0,
         "coa33": 0,
         "nup33": 0,
         "are33": 0,
         "tonp": 3,
         "aret": 368,
         "codte1": 0,
         "valte1": 0,
         "codte2": 0,
         "valte2": 0,
         "codte3": 0,
         "valte3": 0,
         "codur1": 0,
         "valur1": 0,
         "codur2": 0,
         "valur2": 0,
         "codur3": 0,
         "valur3": 0,
         "cove": 215,
         "vaede": 15000,
         "cov2": 218,
         "vae22": 30000,
         "cov3": 0,
         "vae33": 0,
         "valt": 0,
         "vtou": 0,
         "vted": 45000,
         "COAMS": 0,
         "COVEMS": 215,
         "COVET5": 218,
         "NUPIRES": 3,
         "NUVICAL": 2,
         "NUDOCAL": 4,
         "NUCUCAL": 7,
         "CARCO": 368,
         "CARES": 368,
         "CARNRES": 0,
         "CARDPAR": 0,
         "CAESV": 101,
         "CSUTE": 219,
         "CTIPOBR": 1,
         "DESCTIPOBR": "Nueva Construcción",
         "CPERM": 1,
         "CDISPSUT": 3,
         "DESCDISPSUT": "( >=200 M2 Y <300 M2)",
         "CDISPUSO": 2,
         "DESCDISPUSO": "Dos Familias",
         "CDISPARC": 4,
         "DESCDISPARC": "( >=300 M2 Y <400 M2)",
         "CDISPRFI": 2,
         "DESCDISPRFI": "Recursos Propios de Empresas y Constructoras Privadas",
         "CDISPRFX": 1,
         "DESCDISPRFX": "Recursos Propios Personales",
         "CNUVICAL": 2,
         "CVAE": 45000,
         "CAREAUR": 1,
         "DESCAREAUR": "Urbana",
         "_deepnote_index_column": 49
        },
        {
         "provin": 19,
         "desprovin": "ZAMORA CHINCHIPE",
         "canton": 6,
         "descodcantf": "EL PANGUI",
         "mes": 10,
         "desmes": "OCTUBRE",
         "año": 3,
         "desaño": 2012,
         "nubo": 3,
         "fper": "2012-10-24T00:00:00.000000",
         "propie": 1,
         "despropie": "Privada",
         "tipbr": 100,
         "destipbr": "Nueva Construcción",
         "sute": 36,
         "arpb": 36,
         "arco": 36,
         "aesv": 0,
         "cimi": 120,
         "descimi": "Hormigón Armado",
         "estru": 121,
         "desestru": "Hormigón Armado",
         "pared": 126,
         "despared": "Bloque",
         "cubi": 127,
         "descubi": "Eternit-Ardex-Asbesto",
         "cres": 160,
         "descres": "Residencia 1 Familia",
         "numuni": 1,
         "nuvi": 1,
         "nucu": 4,
         "nudo": 2,
         "nupi": 1,
         "ares": 36,
         "coa11": 0,
         "nup11": 0,
         "are11": 0,
         "coa22": 0,
         "nup22": 0,
         "are22": 0,
         "coa33": 0,
         "nup33": 0,
         "are33": 0,
         "tonp": 1,
         "aret": 36,
         "codte1": 213,
         "valte1": 1740,
         "codte2": 0,
         "valte2": 0,
         "codte3": 0,
         "valte3": 0,
         "codur1": 0,
         "valur1": 0,
         "codur2": 0,
         "valur2": 0,
         "codur3": 0,
         "valur3": 0,
         "cove": 215,
         "vaede": 1200,
         "cov2": 221,
         "vae22": 5000,
         "cov3": 0,
         "vae33": 0,
         "valt": 1740,
         "vtou": 0,
         "vted": 6200,
         "COAMS": 0,
         "COVEMS": 215,
         "COVET5": 221,
         "NUPIRES": 1,
         "NUVICAL": 1,
         "NUDOCAL": 2,
         "NUCUCAL": 4,
         "CARCO": 36,
         "CARES": 36,
         "CARNRES": 0,
         "CARDPAR": 0,
         "CAESV": 0,
         "CSUTE": 36,
         "CTIPOBR": 1,
         "DESCTIPOBR": "Nueva Construcción",
         "CPERM": 1,
         "CDISPSUT": 1,
         "DESCDISPSUT": "( < 100 M2 )",
         "CDISPUSO": 1,
         "DESCDISPUSO": "Una Familia",
         "CDISPARC": 1,
         "DESCDISPARC": "( < 100 M2 )",
         "CDISPRFI": 3,
         "DESCDISPRFI": "Recursos Propios Otros",
         "CDISPRFX": 1,
         "DESCDISPRFX": "Recursos Propios Personales",
         "CNUVICAL": 1,
         "CVAE": 6200,
         "CAREAUR": 1,
         "DESCAREAUR": "Urbana",
         "_deepnote_index_column": 77
        }
       ],
       "rows_bottom": [
        {
         "provin": 7,
         "desprovin": "EL ORO",
         "canton": 4,
         "descodcantf": "BALSAS",
         "mes": 9,
         "desmes": "SEPTIEMBRE",
         "año": 3,
         "desaño": 2012,
         "nubo": 2,
         "fper": "2012-09-03T00:00:00.000000",
         "propie": 1,
         "despropie": "Privada",
         "tipbr": 100,
         "destipbr": "Nueva Construcción",
         "sute": 77,
         "arpb": 36,
         "arco": 36,
         "aesv": 41,
         "cimi": 120,
         "descimi": "Hormigón Armado",
         "estru": 121,
         "desestru": "Hormigón Armado",
         "pared": 126,
         "despared": "Bloque",
         "cubi": 135,
         "descubi": "Zinc",
         "cres": 160,
         "descres": "Residencia 1 Familia",
         "numuni": 1,
         "nuvi": 1,
         "nucu": 3,
         "nudo": 2,
         "nupi": 1,
         "ares": 36,
         "coa11": 0,
         "nup11": 0,
         "are11": 0,
         "coa22": 0,
         "nup22": 0,
         "are22": 0,
         "coa33": 0,
         "nup33": 0,
         "are33": 0,
         "tonp": 1,
         "aret": 36,
         "codte1": 0,
         "valte1": 0,
         "codte2": 0,
         "valte2": 0,
         "codte3": 0,
         "valte3": 0,
         "codur1": 0,
         "valur1": 0,
         "codur2": 0,
         "valur2": 0,
         "codur3": 0,
         "valur3": 0,
         "cove": 215,
         "vaede": 1000,
         "cov2": 248,
         "vae22": 5000,
         "cov3": 0,
         "vae33": 0,
         "valt": 0,
         "vtou": 0,
         "vted": 6000,
         "COAMS": 0,
         "COVEMS": 215,
         "COVET5": 248,
         "NUPIRES": 1,
         "NUVICAL": 1,
         "NUDOCAL": 2,
         "NUCUCAL": 3,
         "CARCO": 36,
         "CARES": 36,
         "CARNRES": 0,
         "CARDPAR": 0,
         "CAESV": 41,
         "CSUTE": 77,
         "CTIPOBR": 1,
         "DESCTIPOBR": "Nueva Construcción",
         "CPERM": 1,
         "CDISPSUT": 1,
         "DESCDISPSUT": "( < 100 M2 )",
         "CDISPUSO": 1,
         "DESCDISPUSO": "Una Familia",
         "CDISPARC": 1,
         "DESCDISPARC": "( < 100 M2 )",
         "CDISPRFI": 11,
         "DESCDISPRFI": "Otros Préstamos",
         "CDISPRFX": 1,
         "DESCDISPRFX": "Recursos Propios Personales",
         "CNUVICAL": 1,
         "CVAE": 6000,
         "CAREAUR": 1,
         "DESCAREAUR": "Urbana",
         "_deepnote_index_column": 28839
        },
        {
         "provin": 13,
         "desprovin": "MANABÍ",
         "canton": 9,
         "descodcantf": "MONTECRISTI",
         "mes": 7,
         "desmes": "JULIO",
         "año": 3,
         "desaño": 2012,
         "nubo": 13,
         "fper": "2012-07-27T00:00:00.000000",
         "propie": 1,
         "despropie": "Privada",
         "tipbr": 100,
         "destipbr": "Nueva Construcción",
         "sute": 36,
         "arpb": 36,
         "arco": 36,
         "aesv": 0,
         "cimi": 120,
         "descimi": "Hormigón Armado",
         "estru": 121,
         "desestru": "Hormigón Armado",
         "pared": 122,
         "despared": "Ladrillo",
         "cubi": 135,
         "descubi": "Zinc",
         "cres": 160,
         "descres": "Residencia 1 Familia",
         "numuni": 1,
         "nuvi": 1,
         "nucu": 3,
         "nudo": 2,
         "nupi": 1,
         "ares": 36,
         "coa11": 0,
         "nup11": 0,
         "are11": 0,
         "coa22": 0,
         "nup22": 0,
         "are22": 0,
         "coa33": 0,
         "nup33": 0,
         "are33": 0,
         "tonp": 1,
         "aret": 36,
         "codte1": 0,
         "valte1": 0,
         "codte2": 0,
         "valte2": 0,
         "codte3": 0,
         "valte3": 0,
         "codur1": 0,
         "valur1": 0,
         "codur2": 0,
         "valur2": 0,
         "codur3": 0,
         "valur3": 0,
         "cove": 215,
         "vaede": 400,
         "cov2": 248,
         "vae22": 5000,
         "cov3": 0,
         "vae33": 0,
         "valt": 0,
         "vtou": 0,
         "vted": 5400,
         "COAMS": 0,
         "COVEMS": 215,
         "COVET5": 248,
         "NUPIRES": 1,
         "NUVICAL": 1,
         "NUDOCAL": 2,
         "NUCUCAL": 3,
         "CARCO": 36,
         "CARES": 36,
         "CARNRES": 0,
         "CARDPAR": 0,
         "CAESV": 0,
         "CSUTE": 36,
         "CTIPOBR": 1,
         "DESCTIPOBR": "Nueva Construcción",
         "CPERM": 1,
         "CDISPSUT": 1,
         "DESCDISPSUT": "( < 100 M2 )",
         "CDISPUSO": 1,
         "DESCDISPUSO": "Una Familia",
         "CDISPARC": 1,
         "DESCDISPARC": "( < 100 M2 )",
         "CDISPRFI": 11,
         "DESCDISPRFI": "Otros Préstamos",
         "CDISPRFX": 1,
         "DESCDISPRFX": "Recursos Propios Personales",
         "CNUVICAL": 1,
         "CVAE": 5400,
         "CAREAUR": 1,
         "DESCAREAUR": "Urbana",
         "_deepnote_index_column": 28840
        },
        {
         "provin": 1,
         "desprovin": "AZUAY",
         "canton": 1,
         "descodcantf": "CUENCA",
         "mes": 10,
         "desmes": "OCTUBRE",
         "año": 3,
         "desaño": 2012,
         "nubo": 103,
         "fper": "2012-10-31T00:00:00.000000",
         "propie": 1,
         "despropie": "Privada",
         "tipbr": 100,
         "destipbr": "Nueva Construcción",
         "sute": 930,
         "arpb": 688,
         "arco": 2151,
         "aesv": 242,
         "cimi": 120,
         "descimi": "Hormigón Armado",
         "estru": 121,
         "desestru": "Hormigón Armado",
         "pared": 122,
         "despared": "Ladrillo",
         "cubi": 131,
         "descubi": "Teja",
         "cres": 170,
         "descres": "Residencia 3 o más Famili",
         "numuni": 1,
         "nuvi": 12,
         "nucu": 54,
         "nudo": 24,
         "nupi": 4,
         "ares": 2151,
         "coa11": 0,
         "nup11": 0,
         "are11": 0,
         "coa22": 0,
         "nup22": 0,
         "are22": 0,
         "coa33": 0,
         "nup33": 0,
         "are33": 0,
         "tonp": 4,
         "aret": 2151,
         "codte1": 213,
         "valte1": 200000,
         "codte2": 0,
         "valte2": 0,
         "codte3": 0,
         "valte3": 0,
         "codur1": 0,
         "valur1": 0,
         "codur2": 0,
         "valur2": 0,
         "codur3": 0,
         "valur3": 0,
         "cove": 218,
         "vaede": 516240,
         "cov2": 242,
         "vae22": 1204560,
         "cov3": 0,
         "vae33": 0,
         "valt": 200000,
         "vtou": 0,
         "vted": 1720800,
         "COAMS": 0,
         "COVEMS": 218,
         "COVET5": 242,
         "NUPIRES": 4,
         "NUVICAL": 12,
         "NUDOCAL": 2,
         "NUCUCAL": 5,
         "CARCO": 2151,
         "CARES": 2151,
         "CARNRES": 0,
         "CARDPAR": 0,
         "CAESV": 242,
         "CSUTE": 930,
         "CTIPOBR": 1,
         "DESCTIPOBR": "Nueva Construcción",
         "CPERM": 1,
         "CDISPSUT": 8,
         "DESCDISPSUT": "( >=700 M2 )",
         "CDISPUSO": 3,
         "DESCDISPUSO": "Tres o Más Familias",
         "CDISPARC": 6,
         "DESCDISPARC": "( >=500 M2)",
         "CDISPRFI": 9,
         "DESCDISPRFI": "Préstamos de Otros Bancos",
         "CDISPRFX": 2,
         "DESCDISPRFX": "Recursos Propios de Empresas y Constructoras Privadas",
         "CNUVICAL": 12,
         "CVAE": 1720800,
         "CAREAUR": 1,
         "DESCAREAUR": "Urbana",
         "_deepnote_index_column": 28843
        },
        {
         "provin": 7,
         "desprovin": "EL ORO",
         "canton": 12,
         "descodcantf": "SANTA ROSA",
         "mes": 11,
         "desmes": "NOVIEMBRE",
         "año": 3,
         "desaño": 2012,
         "nubo": 12,
         "fper": "2012-11-21T00:00:00.000000",
         "propie": 1,
         "despropie": "Privada",
         "tipbr": 100,
         "destipbr": "Nueva Construcción",
         "sute": 177,
         "arpb": 42,
         "arco": 42,
         "aesv": 135,
         "cimi": 124,
         "descimi": "Hormigón Ciclopeo",
         "estru": 121,
         "desestru": "Hormigón Armado",
         "pared": 126,
         "despared": "Bloque",
         "cubi": 123,
         "descubi": "Hormigón Armado",
         "cres": 160,
         "descres": "Residencia 1 Familia",
         "numuni": 1,
         "nuvi": 1,
         "nucu": 3,
         "nudo": 2,
         "nupi": 1,
         "ares": 42,
         "coa11": 0,
         "nup11": 0,
         "are11": 0,
         "coa22": 0,
         "nup22": 0,
         "are22": 0,
         "coa33": 0,
         "nup33": 0,
         "are33": 0,
         "tonp": 1,
         "aret": 42,
         "codte1": 213,
         "valte1": 18000,
         "codte2": 0,
         "valte2": 0,
         "codte3": 0,
         "valte3": 0,
         "codur1": 0,
         "valur1": 0,
         "codur2": 0,
         "valur2": 0,
         "codur3": 0,
         "valur3": 0,
         "cove": 215,
         "vaede": 400,
         "cov2": 248,
         "vae22": 5000,
         "cov3": 0,
         "vae33": 0,
         "valt": 18000,
         "vtou": 0,
         "vted": 5400,
         "COAMS": 0,
         "COVEMS": 215,
         "COVET5": 248,
         "NUPIRES": 1,
         "NUVICAL": 1,
         "NUDOCAL": 2,
         "NUCUCAL": 3,
         "CARCO": 42,
         "CARES": 42,
         "CARNRES": 0,
         "CARDPAR": 0,
         "CAESV": 135,
         "CSUTE": 177,
         "CTIPOBR": 1,
         "DESCTIPOBR": "Nueva Construcción",
         "CPERM": 1,
         "CDISPSUT": 2,
         "DESCDISPSUT": "( >=100 M2 Y <200 M2)",
         "CDISPUSO": 1,
         "DESCDISPUSO": "Una Familia",
         "CDISPARC": 1,
         "DESCDISPARC": "( < 100 M2 )",
         "CDISPRFI": 11,
         "DESCDISPRFI": "Otros Préstamos",
         "CDISPRFX": 1,
         "DESCDISPRFX": "Recursos Propios Personales",
         "CNUVICAL": 1,
         "CVAE": 5400,
         "CAREAUR": 1,
         "DESCAREAUR": "Urbana",
         "_deepnote_index_column": 28877
        },
        {
         "provin": 7,
         "desprovin": "EL ORO",
         "canton": 8,
         "descodcantf": "MARCABELI",
         "mes": 9,
         "desmes": "SEPTIEMBRE",
         "año": 3,
         "desaño": 2012,
         "nubo": 4,
         "fper": "2012-09-03T00:00:00.000000",
         "propie": 1,
         "despropie": "Privada",
         "tipbr": 100,
         "destipbr": "Nueva Construcción",
         "sute": 238,
         "arpb": 49,
         "arco": 49,
         "aesv": 189,
         "cimi": 120,
         "descimi": "Hormigón Armado",
         "estru": 121,
         "desestru": "Hormigón Armado",
         "pared": 126,
         "despared": "Bloque",
         "cubi": 135,
         "descubi": "Zinc",
         "cres": 160,
         "descres": "Residencia 1 Familia",
         "numuni": 1,
         "nuvi": 1,
         "nucu": 3,
         "nudo": 2,
         "nupi": 1,
         "ares": 49,
         "coa11": 0,
         "nup11": 0,
         "are11": 0,
         "coa22": 0,
         "nup22": 0,
         "are22": 0,
         "coa33": 0,
         "nup33": 0,
         "are33": 0,
         "tonp": 1,
         "aret": 49,
         "codte1": 0,
         "valte1": 0,
         "codte2": 0,
         "valte2": 0,
         "codte3": 0,
         "valte3": 0,
         "codur1": 0,
         "valur1": 0,
         "codur2": 0,
         "valur2": 0,
         "codur3": 0,
         "valur3": 0,
         "cove": 215,
         "vaede": 400,
         "cov2": 248,
         "vae22": 3600,
         "cov3": 0,
         "vae33": 0,
         "valt": 0,
         "vtou": 0,
         "vted": 4000,
         "COAMS": 0,
         "COVEMS": 215,
         "COVET5": 248,
         "NUPIRES": 1,
         "NUVICAL": 1,
         "NUDOCAL": 2,
         "NUCUCAL": 3,
         "CARCO": 49,
         "CARES": 49,
         "CARNRES": 0,
         "CARDPAR": 0,
         "CAESV": 189,
         "CSUTE": 238,
         "CTIPOBR": 1,
         "DESCTIPOBR": "Nueva Construcción",
         "CPERM": 1,
         "CDISPSUT": 3,
         "DESCDISPSUT": "( >=200 M2 Y <300 M2)",
         "CDISPUSO": 1,
         "DESCDISPUSO": "Una Familia",
         "CDISPARC": 1,
         "DESCDISPARC": "( < 100 M2 )",
         "CDISPRFI": 11,
         "DESCDISPRFI": "Otros Préstamos",
         "CDISPRFX": 1,
         "DESCDISPRFX": "Recursos Propios Personales",
         "CNUVICAL": 1,
         "CVAE": 4000,
         "CAREAUR": 1,
         "DESCAREAUR": "Urbana",
         "_deepnote_index_column": 28886
        }
       ]
      },
      "text/plain": "       provin         desprovin  canton  descodcantf  mes      desmes  año  \\\n6          18        TUNGURAHUA       1       AMBATO   10     OCTUBRE    3   \n14         18        TUNGURAHUA       3     CEVALLOS    7       JULIO    3   \n31          5          COTOPAXI       1    LATACUNGA   10     OCTUBRE    3   \n49          1             AZUAY       1       CUENCA    9  SEPTIEMBRE    3   \n77         19  ZAMORA CHINCHIPE       6    EL PANGUI   10     OCTUBRE    3   \n...       ...               ...     ...          ...  ...         ...  ...   \n28839       7            EL ORO       4       BALSAS    9  SEPTIEMBRE    3   \n28840      13            MANABÍ       9  MONTECRISTI    7       JULIO    3   \n28843       1             AZUAY       1       CUENCA   10     OCTUBRE    3   \n28877       7            EL ORO      12   SANTA ROSA   11   NOVIEMBRE    3   \n28886       7            EL ORO       8    MARCABELI    9  SEPTIEMBRE    3   \n\n       desaño  nubo       fper  ...  CDISPARC            DESCDISPARC  \\\n6        2012    12 2012-10-23  ...         6            ( >=500 M2)   \n14       2012     1 2012-07-12  ...         2  ( >=100 M2 Y <200 M2)   \n31       2012    40 2012-10-04  ...         2  ( >=100 M2 Y <200 M2)   \n49       2012   106 2012-09-30  ...         4  ( >=300 M2 Y <400 M2)   \n77       2012     3 2012-10-24  ...         1           ( < 100 M2 )   \n...       ...   ...        ...  ...       ...                    ...   \n28839    2012     2 2012-09-03  ...         1           ( < 100 M2 )   \n28840    2012    13 2012-07-27  ...         1           ( < 100 M2 )   \n28843    2012   103 2012-10-31  ...         6            ( >=500 M2)   \n28877    2012    12 2012-11-21  ...         1           ( < 100 M2 )   \n28886    2012     4 2012-09-03  ...         1           ( < 100 M2 )   \n\n       CDISPRFI                                        DESCDISPRFI  CDISPRFX  \\\n6            11                                    Otros Préstamos         1   \n14            9                          Préstamos de Otros Bancos         1   \n31            9                          Préstamos de Otros Bancos         1   \n49            2  Recursos Propios de Empresas y Constructoras P...         1   \n77            3                             Recursos Propios Otros         1   \n...         ...                                                ...       ...   \n28839        11                                    Otros Préstamos         1   \n28840        11                                    Otros Préstamos         1   \n28843         9                          Préstamos de Otros Bancos         2   \n28877        11                                    Otros Préstamos         1   \n28886        11                                    Otros Préstamos         1   \n\n                                             DESCDISPRFX  CNUVICAL     CVAE  \\\n6                            Recursos Propios Personales         0   120000   \n14                           Recursos Propios Personales         0    15000   \n31                           Recursos Propios Personales         1    43879   \n49                           Recursos Propios Personales         2    45000   \n77                           Recursos Propios Personales         1     6200   \n...                                                  ...       ...      ...   \n28839                        Recursos Propios Personales         1     6000   \n28840                        Recursos Propios Personales         1     5400   \n28843  Recursos Propios de Empresas y Constructoras P...        12  1720800   \n28877                        Recursos Propios Personales         1     5400   \n28886                        Recursos Propios Personales         1     4000   \n\n       CAREAUR DESCAREAUR  \n6            2      Rural  \n14           1     Urbana  \n31           1     Urbana  \n49           1     Urbana  \n77           1     Urbana  \n...        ...        ...  \n28839        1     Urbana  \n28840        1     Urbana  \n28843        1     Urbana  \n28877        1     Urbana  \n28886        1     Urbana  \n\n[2245 rows x 96 columns]",
      "text/html": "<div>\n<style scoped>\n    .dataframe tbody tr th:only-of-type {\n        vertical-align: middle;\n    }\n\n    .dataframe tbody tr th {\n        vertical-align: top;\n    }\n\n    .dataframe thead th {\n        text-align: right;\n    }\n</style>\n<table border=\"1\" class=\"dataframe\">\n  <thead>\n    <tr style=\"text-align: right;\">\n      <th></th>\n      <th>provin</th>\n      <th>desprovin</th>\n      <th>canton</th>\n      <th>descodcantf</th>\n      <th>mes</th>\n      <th>desmes</th>\n      <th>año</th>\n      <th>desaño</th>\n      <th>nubo</th>\n      <th>fper</th>\n      <th>...</th>\n      <th>CDISPARC</th>\n      <th>DESCDISPARC</th>\n      <th>CDISPRFI</th>\n      <th>DESCDISPRFI</th>\n      <th>CDISPRFX</th>\n      <th>DESCDISPRFX</th>\n      <th>CNUVICAL</th>\n      <th>CVAE</th>\n      <th>CAREAUR</th>\n      <th>DESCAREAUR</th>\n    </tr>\n  </thead>\n  <tbody>\n    <tr>\n      <th>6</th>\n      <td>18</td>\n      <td>TUNGURAHUA</td>\n      <td>1</td>\n      <td>AMBATO</td>\n      <td>10</td>\n      <td>OCTUBRE</td>\n      <td>3</td>\n      <td>2012</td>\n      <td>12</td>\n      <td>2012-10-23</td>\n      <td>...</td>\n      <td>6</td>\n      <td>( &gt;=500 M2)</td>\n      <td>11</td>\n      <td>Otros Préstamos</td>\n      <td>1</td>\n      <td>Recursos Propios Personales</td>\n      <td>0</td>\n      <td>120000</td>\n      <td>2</td>\n      <td>Rural</td>\n    </tr>\n    <tr>\n      <th>14</th>\n      <td>18</td>\n      <td>TUNGURAHUA</td>\n      <td>3</td>\n      <td>CEVALLOS</td>\n      <td>7</td>\n      <td>JULIO</td>\n      <td>3</td>\n      <td>2012</td>\n      <td>1</td>\n      <td>2012-07-12</td>\n      <td>...</td>\n      <td>2</td>\n      <td>( &gt;=100 M2 Y &lt;200 M2)</td>\n      <td>9</td>\n      <td>Préstamos de Otros Bancos</td>\n      <td>1</td>\n      <td>Recursos Propios Personales</td>\n      <td>0</td>\n      <td>15000</td>\n      <td>1</td>\n      <td>Urbana</td>\n    </tr>\n    <tr>\n      <th>31</th>\n      <td>5</td>\n      <td>COTOPAXI</td>\n      <td>1</td>\n      <td>LATACUNGA</td>\n      <td>10</td>\n      <td>OCTUBRE</td>\n      <td>3</td>\n      <td>2012</td>\n      <td>40</td>\n      <td>2012-10-04</td>\n      <td>...</td>\n      <td>2</td>\n      <td>( &gt;=100 M2 Y &lt;200 M2)</td>\n      <td>9</td>\n      <td>Préstamos de Otros Bancos</td>\n      <td>1</td>\n      <td>Recursos Propios Personales</td>\n      <td>1</td>\n      <td>43879</td>\n      <td>1</td>\n      <td>Urbana</td>\n    </tr>\n    <tr>\n      <th>49</th>\n      <td>1</td>\n      <td>AZUAY</td>\n      <td>1</td>\n      <td>CUENCA</td>\n      <td>9</td>\n      <td>SEPTIEMBRE</td>\n      <td>3</td>\n      <td>2012</td>\n      <td>106</td>\n      <td>2012-09-30</td>\n      <td>...</td>\n      <td>4</td>\n      <td>( &gt;=300 M2 Y &lt;400 M2)</td>\n      <td>2</td>\n      <td>Recursos Propios de Empresas y Constructoras P...</td>\n      <td>1</td>\n      <td>Recursos Propios Personales</td>\n      <td>2</td>\n      <td>45000</td>\n      <td>1</td>\n      <td>Urbana</td>\n    </tr>\n    <tr>\n      <th>77</th>\n      <td>19</td>\n      <td>ZAMORA CHINCHIPE</td>\n      <td>6</td>\n      <td>EL PANGUI</td>\n      <td>10</td>\n      <td>OCTUBRE</td>\n      <td>3</td>\n      <td>2012</td>\n      <td>3</td>\n      <td>2012-10-24</td>\n      <td>...</td>\n      <td>1</td>\n      <td>( &lt; 100 M2 )</td>\n      <td>3</td>\n      <td>Recursos Propios Otros</td>\n      <td>1</td>\n      <td>Recursos Propios Personales</td>\n      <td>1</td>\n      <td>6200</td>\n      <td>1</td>\n      <td>Urbana</td>\n    </tr>\n    <tr>\n      <th>...</th>\n      <td>...</td>\n      <td>...</td>\n      <td>...</td>\n      <td>...</td>\n      <td>...</td>\n      <td>...</td>\n      <td>...</td>\n      <td>...</td>\n      <td>...</td>\n      <td>...</td>\n      <td>...</td>\n      <td>...</td>\n      <td>...</td>\n      <td>...</td>\n      <td>...</td>\n      <td>...</td>\n      <td>...</td>\n      <td>...</td>\n      <td>...</td>\n      <td>...</td>\n      <td>...</td>\n    </tr>\n    <tr>\n      <th>28839</th>\n      <td>7</td>\n      <td>EL ORO</td>\n      <td>4</td>\n      <td>BALSAS</td>\n      <td>9</td>\n      <td>SEPTIEMBRE</td>\n      <td>3</td>\n      <td>2012</td>\n      <td>2</td>\n      <td>2012-09-03</td>\n      <td>...</td>\n      <td>1</td>\n      <td>( &lt; 100 M2 )</td>\n      <td>11</td>\n      <td>Otros Préstamos</td>\n      <td>1</td>\n      <td>Recursos Propios Personales</td>\n      <td>1</td>\n      <td>6000</td>\n      <td>1</td>\n      <td>Urbana</td>\n    </tr>\n    <tr>\n      <th>28840</th>\n      <td>13</td>\n      <td>MANABÍ</td>\n      <td>9</td>\n      <td>MONTECRISTI</td>\n      <td>7</td>\n      <td>JULIO</td>\n      <td>3</td>\n      <td>2012</td>\n      <td>13</td>\n      <td>2012-07-27</td>\n      <td>...</td>\n      <td>1</td>\n      <td>( &lt; 100 M2 )</td>\n      <td>11</td>\n      <td>Otros Préstamos</td>\n      <td>1</td>\n      <td>Recursos Propios Personales</td>\n      <td>1</td>\n      <td>5400</td>\n      <td>1</td>\n      <td>Urbana</td>\n    </tr>\n    <tr>\n      <th>28843</th>\n      <td>1</td>\n      <td>AZUAY</td>\n      <td>1</td>\n      <td>CUENCA</td>\n      <td>10</td>\n      <td>OCTUBRE</td>\n      <td>3</td>\n      <td>2012</td>\n      <td>103</td>\n      <td>2012-10-31</td>\n      <td>...</td>\n      <td>6</td>\n      <td>( &gt;=500 M2)</td>\n      <td>9</td>\n      <td>Préstamos de Otros Bancos</td>\n      <td>2</td>\n      <td>Recursos Propios de Empresas y Constructoras P...</td>\n      <td>12</td>\n      <td>1720800</td>\n      <td>1</td>\n      <td>Urbana</td>\n    </tr>\n    <tr>\n      <th>28877</th>\n      <td>7</td>\n      <td>EL ORO</td>\n      <td>12</td>\n      <td>SANTA ROSA</td>\n      <td>11</td>\n      <td>NOVIEMBRE</td>\n      <td>3</td>\n      <td>2012</td>\n      <td>12</td>\n      <td>2012-11-21</td>\n      <td>...</td>\n      <td>1</td>\n      <td>( &lt; 100 M2 )</td>\n      <td>11</td>\n      <td>Otros Préstamos</td>\n      <td>1</td>\n      <td>Recursos Propios Personales</td>\n      <td>1</td>\n      <td>5400</td>\n      <td>1</td>\n      <td>Urbana</td>\n    </tr>\n    <tr>\n      <th>28886</th>\n      <td>7</td>\n      <td>EL ORO</td>\n      <td>8</td>\n      <td>MARCABELI</td>\n      <td>9</td>\n      <td>SEPTIEMBRE</td>\n      <td>3</td>\n      <td>2012</td>\n      <td>4</td>\n      <td>2012-09-03</td>\n      <td>...</td>\n      <td>1</td>\n      <td>( &lt; 100 M2 )</td>\n      <td>11</td>\n      <td>Otros Préstamos</td>\n      <td>1</td>\n      <td>Recursos Propios Personales</td>\n      <td>1</td>\n      <td>4000</td>\n      <td>1</td>\n      <td>Urbana</td>\n    </tr>\n  </tbody>\n</table>\n<p>2245 rows × 96 columns</p>\n</div>"
     },
     "metadata": {}
    }
   ]
  },
  {
   "cell_type": "code",
   "metadata": {
    "tags": [],
    "cell_id": "00052-ae636fb6-28db-4285-addc-717439eb9817",
    "deepnote_to_be_reexecuted": false,
    "source_hash": "2982b618",
    "execution_start": 1630173164894,
    "execution_millis": 6,
    "deepnote_cell_type": "code"
   },
   "source": "df_construction_2012['CNUVICAL'].describe()",
   "execution_count": null,
   "outputs": [
    {
     "output_type": "execute_result",
     "execution_count": 83,
     "data": {
      "text/plain": "count   29,050.00\nmean         3.66\nstd        128.90\nmin          0.00\n25%          1.00\n50%          1.00\n75%          1.00\nmax     15,561.00\nName: CNUVICAL, dtype: float64"
     },
     "metadata": {}
    }
   ]
  },
  {
   "cell_type": "code",
   "metadata": {
    "tags": [],
    "cell_id": "00053-093d03b9-4829-4121-8aa5-2a68c67c7272",
    "deepnote_to_be_reexecuted": false,
    "source_hash": "9aad71ca",
    "execution_start": 1630173233646,
    "execution_millis": 5,
    "deepnote_cell_type": "code"
   },
   "source": "df_construction_2012['CVAE'].describe()",
   "execution_count": null,
   "outputs": [
    {
     "output_type": "execute_result",
     "execution_count": 84,
     "data": {
      "text/plain": "count       29,050.00\nmean       106,550.18\nstd      1,224,565.94\nmin             74.00\n25%         15,715.75\n50%         30,275.50\n75%         59,676.50\nmax     98,325,000.00\nName: CVAE, dtype: float64"
     },
     "metadata": {}
    }
   ]
  },
  {
   "cell_type": "code",
   "metadata": {
    "tags": [],
    "cell_id": "00027-10999238-9721-4ee3-9f6f-670e4b374bef",
    "deepnote_to_be_reexecuted": false,
    "source_hash": "36b5106f",
    "execution_start": 1630121240379,
    "execution_millis": 6,
    "deepnote_cell_type": "code"
   },
   "source": "df_construction_2012.shape",
   "execution_count": null,
   "outputs": [
    {
     "output_type": "execute_result",
     "execution_count": 4,
     "data": {
      "text/plain": "(29050, 96)"
     },
     "metadata": {}
    }
   ]
  },
  {
   "cell_type": "code",
   "metadata": {
    "tags": [],
    "cell_id": "00059-88f1ee6a-c95d-47df-93e5-90187601bb1b",
    "deepnote_to_be_reexecuted": false,
    "source_hash": "b82ad51b",
    "execution_start": 1630377799909,
    "execution_millis": 11,
    "deepnote_cell_type": "code"
   },
   "source": "df_construction_2012['DESCAREAUR'].unique()",
   "execution_count": null,
   "outputs": [
    {
     "output_type": "execute_result",
     "execution_count": 49,
     "data": {
      "text/plain": "array(['Urbana', 'Rural'], dtype=object)"
     },
     "metadata": {}
    }
   ]
  },
  {
   "cell_type": "code",
   "metadata": {
    "tags": [],
    "cell_id": "00060-e51438ab-3c91-4050-a25e-6abd2da757ca",
    "deepnote_to_be_reexecuted": false,
    "source_hash": "9f7d9c47",
    "execution_start": 1630377472214,
    "execution_millis": 10,
    "deepnote_cell_type": "code"
   },
   "source": "df_construction_2012['DESCTIPOBR']",
   "execution_count": null,
   "outputs": [
    {
     "output_type": "execute_result",
     "execution_count": 38,
     "data": {
      "text/plain": "0        Nueva Construcción\n1                Ampliación\n2        Nueva Construcción\n3        Nueva Construcción\n4        Nueva Construcción\n                ...        \n29045    Nueva Construcción\n29046    Nueva Construcción\n29047    Nueva Construcción\n29048    Nueva Construcción\n29049    Nueva Construcción\nName: DESCTIPOBR, Length: 29050, dtype: object"
     },
     "metadata": {}
    }
   ]
  },
  {
   "cell_type": "code",
   "metadata": {
    "tags": [],
    "cell_id": "00059-504a480f-6199-482e-b5a0-084ed633dc35",
    "deepnote_to_be_reexecuted": false,
    "source_hash": "477f0aea",
    "execution_start": 1630378015075,
    "execution_millis": 3,
    "deepnote_cell_type": "code"
   },
   "source": "df_construction_2012.drop(\n    columns=[\n        'provin', \n        'canton', \n        'propie', \n        'tipbr', \n        'cimi', \n        'estru', \n        'pared', \n        'cubi', \n        'cres', \n        'coa11', \n        'nup11', \n        'are11', \n        'coa22', \n        'nup22', \n        'are22', \n        'coa33', \n        'nup33', \n        'are33', \n        'codte1', \n        'valte1', \n        'codte2', \n        'valte2', \n        'codte3', \n        'valte3', \n        'codur1', \n        'valur1', \n        'codur2', \n        'valur2', \n        'codur3', \n        'valur3', \n        'cove', \n        'vaede', \n        'cov2', \n        'vae22', \n        'cov3', \n        'vae33', \n        'COAMS', \n        'COVEMS', \n        'COVET5', \n        'CDISPRFI', \n        'CAREAUR'   \n        ], inplace=True\n    )",
   "execution_count": null,
   "outputs": []
  },
  {
   "cell_type": "code",
   "metadata": {
    "tags": [],
    "cell_id": "00063-7133dd82-6eb2-4353-b135-c4e928f52fbf",
    "deepnote_to_be_reexecuted": false,
    "source_hash": "703eb79",
    "execution_start": 1630378955489,
    "execution_millis": 579,
    "deepnote_cell_type": "code"
   },
   "source": "#I create a new csv file with cleaned data\ndf_construction_2012.to_csv('/work/data/df_cleaned.csv', index=False)",
   "execution_count": null,
   "outputs": []
  },
  {
   "cell_type": "markdown",
   "source": "Now that data is cleaned and understood we can go to analysis.ipynb, where the analysis will be performed. ",
   "metadata": {
    "tags": [],
    "cell_id": "00063-8bb9962e-fb92-4084-9357-e28983b7359c",
    "deepnote_cell_type": "markdown"
   }
  },
  {
   "cell_type": "markdown",
   "source": "<a style='text-decoration:none;line-height:16px;display:flex;color:#5B5B62;padding:10px;justify-content:end;' href='https://deepnote.com?utm_source=created-in-deepnote-cell&projectId=7486714e-3dca-42f0-bbb4-3b27fc0abd8f' target=\"_blank\">\n<img alt='Created in deepnote.com' style='display:inline;max-height:16px;margin:0px;margin-right:7.5px;' src='data:image/svg+xml;base64,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' > </img>\nCreated in <span style='font-weight:600;margin-left:4px;'>Deepnote</span></a>",
   "metadata": {
    "tags": [],
    "created_in_deepnote_cell": true,
    "deepnote_cell_type": "markdown"
   }
  }
 ],
 "nbformat": 4,
 "nbformat_minor": 2,
 "metadata": {
  "orig_nbformat": 2,
  "deepnote": {
   "is_reactive": false
  },
  "deepnote_notebook_id": "a703146f-0936-4dd6-9a33-8f2a848bbc58",
  "deepnote_execution_queue": []
 }
}